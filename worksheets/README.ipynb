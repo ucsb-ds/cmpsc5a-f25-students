{
 "cells": [
  {
   "cell_type": "markdown",
   "id": "ef2e8058-afde-4f5c-920f-d4cf6aa8e37a",
   "metadata": {
    "jp-MarkdownHeadingCollapsed": true
   },
   "source": [
    "# Worksheets\n",
    "\n",
    "In this directory, you'll find the Jupyter Notebooks for the worksheets for this course.\n",
    "\n",
    "Worksheets are typically not submitted; instead, they will guide you through a series of\n",
    "steps that help you determine the answers to problems posted on PrarieLearn.\n",
    "\n",
    "\n"
   ]
  }
 ],
 "metadata": {
  "kernelspec": {
   "display_name": "Python 3 (ipykernel)",
   "language": "python",
   "name": "python3"
  },
  "language_info": {
   "codemirror_mode": {
    "name": "ipython",
    "version": 3
   },
   "file_extension": ".py",
   "mimetype": "text/x-python",
   "name": "python",
   "nbconvert_exporter": "python",
   "pygments_lexer": "ipython3",
   "version": "3.12.8"
  }
 },
 "nbformat": 4,
 "nbformat_minor": 5
}
