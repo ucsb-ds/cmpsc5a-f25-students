{
 "cells": [
  {
   "cell_type": "code",
   "execution_count": 3,
   "id": "08d0518d",
   "metadata": {},
   "outputs": [],
   "source": [
    "%load_ext jupyter_ai_magics"
   ]
  },
  {
   "cell_type": "markdown",
   "id": "06fa0abf-5517-4f93-956d-74559c468bea",
   "metadata": {},
   "source": [
    "# CMPSC 5A, F25, lab00\n",
    "\n",
    "In this lab, you have six tasks to complete.  You should complete this lab using JupyterHub, and then submit on Gradescope.\n",
    "\n",
    "1. (25 points) You get the first 25 points  for downloading and submitting this file on your Gradescope (even with no modifications). \n",
    "    We encouage you to do this first, before you complete any other tasks, so that you know that you are sure how to submit on Gradescope, and if you run into any problems, you can ask for help during your assigned discussion section.\n",
    "\n",
    "    The instructions for this step are on Canvas; please refer to them there.\n",
    "        \n",
    "    Note that to get these 25 points, you must submit this as an `.ipynb` file.  If you submit as any other type of file, the most you can get on this lab is 10 points, and you cannot earn any of the rest of the points.  Please use the opportunity in lab to be sure that you know how to download the file from JupyterHub as an .ipynb file and submit it to Gradescope in that format. If you have trouble, please ask the course staff for assistance during discussion, and/or come to office hours and ask for help.\n",
    "\n",
    "    After you submit this initial version, you'll complete the rest of the steps, and then submit a second time on Gradescope.\n",
    "\n",
    "2. (10 points) Add a markdown cell with the heading `# About Me` in the cell indicated (see detailed instructions below.)\n",
    "2. (10 points) Add an AI cell with a prompt that asks about data sources for a subject you are interested in.\n",
    "3. (10 points) Add one more markdown cell with the heading `# AI Results` where you discuss the results you got from your prompt.\n",
    "4. (10 points) Add a code cell, and put the following code into it.\n",
    "\n",
    "   \n",
    "   ```\n",
    "   def squared(x):\n",
    "     return x * x\n",
    "   ```\n",
    "   <p></p>\n",
    "<p></p>\n",
    "   This code called a *function definition* in Python.   Function definitions were discussed in lecture on Tuesday 09/30.  You may also refer to the [introduction to Chapter 8 of the textbook](https://inferentialthinking.com/chapters/08/Functions_and_Tables.html) for an overview of function definitions.  Please let us resassure you though that while we hope you will read that material and try to understand it, for *this* lab, it is sufficient to just copy and paste the code.  We aim this week is just to be sure you understand the mechanics of working with code cells and markdown cells in a Jupyter Notebook.\n",
    "\n",
    "6. (10 points) Add five more code cells.  They should contain the following Python code (one line per cell):\n",
    "\n",
    "   \n",
    "   ```\n",
    "   squared(1)\n",
    "   squared(2)\n",
    "   squared(3)\n",
    "   squared(4)\n",
    "   squared(5)\n",
    "   ```\n",
    "   \n",
    "   Each of these is a Python *function call*, or what our textbook refers to as a *call expression*.  In each case, the function definition is referred to.  The variable `x` takes on the value in the function call (`1`, `2`, `3`, etc.) and the expression after the word `return` is used to calculate the result.  Since that expression is `x * x`, what we get back is the value in the call expression, squared.   So your results should show `1`, `4`, `9`, etc after you enter these code cells, and press `<shift><return>` to evaluate them (i.e. compute their value).\n",
    "7. (25 points) Now submit your `lab00.ipynb` file on Gradescope a second time, this time with all of the steps completed.\n",
    "\n",
    "\n"
   ]
  },
  {
   "cell_type": "markdown",
   "id": "4abc9f5a-7da2-42ec-bc8b-3c7de2e86344",
   "metadata": {},
   "source": []
  },
  {
   "cell_type": "markdown",
   "id": "9d8c7a67-2f8b-4efc-baaf-46d1f8c028a2",
   "metadata": {},
   "source": [
    "# Additional instructions for Task 2  (`# About Me`)\n",
    "\n",
    "1. Double click inside this cell (the one you are reading now).  You should see a set of buttons at top right; one of them looks like a rectangle with a plus under it.  Clicking this should add a new empty cell. Do that now.  If you end up with extra empty cells, don't worry about it; we won't penalize you for that.  We just need at least one new empty cell below this one.   After you do that, press shift-enter to turn this cell from raw Markdown back into formatted text.\n",
    "2. Now, find the menu item at the top, just under `Settings` and `Help` that allows you to switch the cell between `Code`, `Markdown` and `Raw`.  Click into the new blank cell you created, and change it's type to `Markdown`.\n",
    "3. Now, in your new Markdown cell, enter a heading `# About Me`.  Then press shift-enter; you should see a formatted header that says \"About Me\".\n",
    "4. Now, go back in the cell, and enter some information about yourself as a bulletted list, like this:\n",
    "   ```\n",
    "   # About Me\n",
    "\n",
    "   * Name: Chris Gaucho\n",
    "   * Pronouns: she/her\n",
    "   * Major: Political Science\n",
    "   * Section Start Time: noon\n",
    "   * Data Interest: Sports, specifically professional Tennis\n",
    "   ```\n",
    "Some additional instructions appear below."
   ]
  },
  {
   "cell_type": "markdown",
   "id": "780ec536-c431-488f-b515-d1b4dfe7b35d",
   "metadata": {},
   "source": [
    "# Additional Instructions for the About Me Section\n",
    "\n",
    "For the name, choose the name you'd like to be called (e.g. if your offical name is Christina but you go by Chris, put Chris.)\n",
    "\n",
    "For the section time, choose one of: `10am`, `11am`, `noon`, `1pm`.\n",
    "\n",
    "For the the `Data Interest` section, choose a kind of data that interests you that we could explroe in this course, just as we did in lecture; if you missed that, here are some examples. You can choose one of these if it appeals to you, but these are not the only choices. Feel free to suggest something that's not on the list.\n",
    "\n",
    "* Entertainment Data (movies, TV shows, Broadway shows)\n",
    "* Sports Data (team and individual performance)\n",
    "* Economic Data (income, debt, cost of living)\n",
    "* Weather Data\n",
    "* Earthquake Data\n",
    "* UCSB Enrollment Trends (which courses fill up the fastest?)\n",
    "* Transportation Data (which airline routes are most often delayed?)"
   ]
  },
  {
   "cell_type": "markdown",
   "id": "63dfa125-2aaa-466a-b275-a7f9946c97f6",
   "metadata": {},
   "source": [
    "# Additional Instructions for Task 3\n",
    "\n",
    "Below this cell, there is an example of an AI prompt cell. Click on that cell and press control-enter to run it and see the results.\n",
    "\n",
    "If you get the error `UsageError: Cell magic `%%ai` not found.`, it means that you need to scroll back to the top of the page and run the very top cell.  That's the cell that enables the AI cells in this workbook.\n",
    "\n",
    "Otherwise, you should get a ChatGPT generated response to your question; a basic definition of data science.\n",
    "\n",
    "Then, your task is to:\n",
    "* Create a new cell below that one\n",
    "* Change it's cell type to `Code`\n",
    "* Copy paste the contents of the existing AI prompt cell into the new code cell you create\n",
    "* Change the prompt to one that asks about the kind of data you are interested in, such as `Please provide me with links to some good source of data about (put your topic here) in CSV format`\n",
    "* Run the prompt."
   ]
  },
  {
   "cell_type": "code",
   "execution_count": 4,
   "id": "6058b5e2-8e40-4b9f-a382-85bd82a570bb",
   "metadata": {},
   "outputs": [
    {
     "data": {
      "text/markdown": [
       "Data Science is a multidisciplinary field that uses algorithms and techniques to extract knowledge and insights from data."
      ],
      "text/plain": [
       "<IPython.core.display.Markdown object>"
      ]
     },
     "execution_count": 4,
     "metadata": {
      "text/markdown": {
       "jupyter_ai": {
        "model_id": "gpt-3.5-turbo",
        "provider_id": "openai-chat"
       }
      }
     },
     "output_type": "execute_result"
    }
   ],
   "source": [
    "%%ai openai-chat:gpt-3.5-turbo\n",
    "\n",
    "\n",
    "In 20 words or fewer, what is Data Science?"
   ]
  },
  {
   "cell_type": "markdown",
   "id": "d3aae6db-ffe2-4b8f-b8ca-cf00e5820927",
   "metadata": {},
   "source": [
    "# Additional Instructions for Task 4: Add one more markdown cell with heading `# AI Results`\n",
    "\n",
    "Now, add one more markdown cell below this with with heading `# AI Results`.  \n",
    "\n",
    "Then look at the results you got from ChatGPT.  Explore the links.  Are they good links or dead links?  Do you find any files in CSV (Comma Separated Value) format that have data that looks interesting?  (Optionally: if you don't know what CSV format is, add another AI prompt and ask chatgpt to \"Please give me a simple explanation of what CSV format is and how it is useful for data science\".\n",
    "\n",
    "Once you've looked over the results, write a couple of sentences describing whether the results you got seem useful or not.\n",
    "\n",
    "It is not required, but if you didn't get good results, optionally, add additional prompts to try to refine the results.  For example, in lecture yesterday, the instructor asked for data about NFL football, but the first two results were dead links.  He then said to chatgpt: \"Dude, those were dead links.  Can you try again and give me some good links this time?\"  And, indeed, on the second try, we got some live links!\n",
    "\n"
   ]
  },
  {
   "cell_type": "markdown",
   "id": "61d815b1",
   "metadata": {},
   "source": [
    "# Put your code cells for Tasks 4 and 5 below this heading\n",
    "\n"
   ]
  },
  {
   "cell_type": "code",
   "execution_count": null,
   "id": "3d182636",
   "metadata": {},
   "outputs": [],
   "source": []
  },
  {
   "cell_type": "markdown",
   "id": "175efac2",
   "metadata": {},
   "source": [
    "# IMPORTANT: Remember to resubmit!\n",
    "\n",
    "After completing all steps be sure to do step 1 again to submit your revised `lab00.ipynb` to Gradescope!\n"
   ]
  },
  {
   "cell_type": "markdown",
   "id": "4b69b24b",
   "metadata": {},
   "source": []
  }
 ],
 "metadata": {
  "kernelspec": {
   "display_name": "Python 3 (ipykernel)",
   "language": "python",
   "name": "python3"
  },
  "language_info": {
   "codemirror_mode": {
    "name": "ipython",
    "version": 3
   },
   "file_extension": ".py",
   "mimetype": "text/x-python",
   "name": "python",
   "nbconvert_exporter": "python",
   "pygments_lexer": "ipython3",
   "version": "3.13.7"
  }
 },
 "nbformat": 4,
 "nbformat_minor": 5
}
