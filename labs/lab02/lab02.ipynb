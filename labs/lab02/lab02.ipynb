{
 "cells": [
  {
   "cell_type": "code",
   "execution_count": null,
   "id": "ceb5e963-1888-4d91-9f07-9e4b59f366e4",
   "metadata": {},
   "outputs": [],
   "source": [
    "# Click into this cell and press shift-enter before using this notebook.\n",
    "# This line loads the ability to use %%ai in your file\n",
    "%load_ext jupyter_ai_magics\n",
    "# These lines import the Python modules we commonly use in CMPSC 5A\n",
    "from datascience import *\n",
    "import numpy as np\n",
    "%matplotlib inline\n",
    "import matplotlib.pyplot as plots"
   ]
  },
  {
   "cell_type": "markdown",
   "id": "1c476d94-bb66-41da-91d6-81f3aba74904",
   "metadata": {},
   "source": [
    "# lab02, Student Starter Code, CMPSC 5A, F25"
   ]
  },
  {
   "cell_type": "markdown",
   "id": "3e7fb147-8b58-4e2b-adad-204508a19eb8",
   "metadata": {},
   "source": [
    "## Tables\n",
    "\n",
    "Tables are a structured representation of data and fundamental in viewing and analyzing data. "
   ]
  },
  {
   "cell_type": "markdown",
   "id": "68c871a5-d94a-403d-8963-c94b347d7f39",
   "metadata": {},
   "source": [
    "To get you up to speed with tables and all the functionality they bring with them, we'll be exploring the World University Rankings table. As you can guess, this dataset has the information of the world's top universities and their rank along with the scoring factors that their rank was computed from. You will be analyzing this dataset throughout this lab notebook. Lets begin!"
   ]
  },
  {
   "cell_type": "code",
   "execution_count": null,
   "id": "736b62d1-304a-4c5b-9bc3-38615083d0dd",
   "metadata": {},
   "outputs": [],
   "source": [
    "ranking = Table().read_table(\"data/world_university_rankings.csv\")"
   ]
  },
  {
   "cell_type": "code",
   "execution_count": null,
   "id": "0218648d-7ac4-4b3c-94d6-fa7a44ef7fe7",
   "metadata": {
    "scrolled": true
   },
   "outputs": [],
   "source": [
    "ranking.show(10)"
   ]
  },
  {
   "cell_type": "markdown",
   "id": "afac8792-c2a8-4ea1-80bf-09f40a60665e",
   "metadata": {},
   "source": [
    "**Q1:** To get started, print all column names of the university ranking table and the number of rows. *Hint:* Check out https://inferentialthinking.com/chapters/06/Tables.html\n",
    "\n",
    "There are some empty code cells you use (optionally) for intermediate results, or working out your answer.  When done, make sure your final answer goes in the cell below the comment `#SOLUTION`\n"
   ]
  },
  {
   "cell_type": "code",
   "execution_count": null,
   "id": "1e0c5bc7-f233-4acf-b56d-356717b2c925",
   "metadata": {},
   "outputs": [],
   "source": []
  },
  {
   "cell_type": "code",
   "execution_count": null,
   "id": "aa302bf2-65c0-48a5-83a6-c29cd8bbff64",
   "metadata": {},
   "outputs": [],
   "source": []
  },
  {
   "cell_type": "code",
   "execution_count": null,
   "id": "5ca9268d-96e8-42ed-9e8f-cc5c34962df9",
   "metadata": {},
   "outputs": [],
   "source": [
    "#SOLUTION"
   ]
  },
  {
   "cell_type": "markdown",
   "id": "1f411afe-dac8-40e0-8613-d77c668b56ba",
   "metadata": {},
   "source": [
    "### Prompt Below:\n",
    "You may ask AI for help here if you want.   There are two AI cells where you can\n",
    "ask ChatGPT questions to help you solve the problem.  You may add additional AI cells\n",
    "if you want; as many as you need.\n",
    "\n",
    "You are not required to use these, but it is allowed.\n",
    "\n",
    "However: if you do use AI, please leave your prompt(s) and the answers in the workbook,\n",
    "and explain how you used AI and what you learned in the \"Workflow\" cell below."
   ]
  },
  {
   "cell_type": "code",
   "execution_count": null,
   "id": "ad7e904a-5db1-49df-936d-0a508d7dee05",
   "metadata": {},
   "outputs": [],
   "source": [
    "%%ai openai-chat:gpt-4\n"
   ]
  },
  {
   "cell_type": "code",
   "execution_count": null,
   "id": "04e91a2a-d6f2-4e11-9f27-a7c472b50ba2",
   "metadata": {},
   "outputs": [],
   "source": [
    "%%ai openai-chat:gpt-4\n"
   ]
  },
  {
   "cell_type": "markdown",
   "id": "8b7519ab-f2ee-4fb2-90c0-0a7575690142",
   "metadata": {},
   "source": [
    "### Explain your workflow below:"
   ]
  },
  {
   "cell_type": "markdown",
   "id": "8bd00479-2f80-4c77-87b2-32f0899c9f37",
   "metadata": {},
   "source": [
    "*Type your answer here.  This is where you explain whether you used AI\n",
    "and if so, how you used it, and what you learned.  If you didn't use AI,\n",
    "explain how you came up with the answer.*"
   ]
  },
  {
   "cell_type": "markdown",
   "id": "89050bc5-1c16-4375-8db2-308a9672a93c",
   "metadata": {},
   "source": [
    "**Q2:** Filter your table to display the names of only the top 5 institutes by rank (i.e., no additional columns). \n",
    "*Hint:* https://inferentialthinking.com/chapters/06/2/Selecting_Rows.html and https://inferentialthinking.com/chapters/06/Tables.html might be helpful."
   ]
  },
  {
   "cell_type": "code",
   "execution_count": null,
   "id": "0df16abd-6a4d-4b18-92a6-172c0efb52cf",
   "metadata": {},
   "outputs": [],
   "source": [
    "#SOLUTION\n"
   ]
  },
  {
   "cell_type": "markdown",
   "id": "1bc77c01-8a5b-4eed-be47-95c4e2650369",
   "metadata": {},
   "source": [
    "### Prompt Below:"
   ]
  },
  {
   "cell_type": "code",
   "execution_count": null,
   "id": "e453ac89-58d3-46d2-9ef0-88b15c4349bd",
   "metadata": {},
   "outputs": [],
   "source": [
    "%%ai openai-chat:gpt-4\n"
   ]
  },
  {
   "cell_type": "markdown",
   "id": "0c867cdf-22cf-44f7-b981-a293e467f45d",
   "metadata": {},
   "source": [
    "### Explain your workflow below:"
   ]
  },
  {
   "cell_type": "markdown",
   "id": "4d85148a-284e-4614-8c15-e9a1ebe04e4f",
   "metadata": {},
   "source": [
    "*Type your answer here.  This is where you explain whether you used AI\n",
    "and if so, how you used it, and what you learned.  If you didn't use AI,\n",
    "explain how you came up with the answer.*"
   ]
  },
  {
   "cell_type": "markdown",
   "id": "4dfb3799-b841-4739-a60c-f9a2293ee977",
   "metadata": {},
   "source": [
    "**Q3:** How can display the rows of only the universities of rank 1, 5, 10, 50, 100, and 500?\n",
    "*Hint:* Think of a table function that can select individual rows. https://inferentialthinking.com/chapters/06/2/Selecting_Rows.html "
   ]
  },
  {
   "cell_type": "code",
   "execution_count": null,
   "id": "19ab66bc-2e05-4f3e-8c18-1b1277fdcdda",
   "metadata": {},
   "outputs": [],
   "source": [
    "#SOLUTION"
   ]
  },
  {
   "cell_type": "markdown",
   "id": "df6e488c-eb30-49f4-973a-1d3cd88534e6",
   "metadata": {},
   "source": [
    "### Prompt Below:"
   ]
  },
  {
   "cell_type": "code",
   "execution_count": 1,
   "id": "35a4e61a-1508-40ed-b407-f0087b0fddfa",
   "metadata": {},
   "outputs": [
    {
     "name": "stderr",
     "output_type": "stream",
     "text": [
      "UsageError: Cell magic `%%ai` not found.\n"
     ]
    }
   ],
   "source": [
    "%%ai openai-chat:gpt-4\n"
   ]
  },
  {
   "cell_type": "code",
   "execution_count": null,
   "id": "3bb9f31f-9c1b-4d8e-9aaa-5bb64612331e",
   "metadata": {},
   "outputs": [],
   "source": [
    "%%ai openai-chat:gpt-4\n"
   ]
  },
  {
   "cell_type": "markdown",
   "id": "2dc911c2-7469-4b34-8b09-d86eb7e95131",
   "metadata": {},
   "source": [
    "### Explain your workflow below:"
   ]
  },
  {
   "cell_type": "markdown",
   "id": "1ea973e6-1759-42fa-adce-107e6f3e3fbb",
   "metadata": {},
   "source": [
    "*Type your answer here.  This is where you explain whether you used AI\n",
    "and if so, how you used it, and what you learned.  If you didn't use AI,\n",
    "explain how you came up with the answer.*"
   ]
  },
  {
   "cell_type": "markdown",
   "id": "9e622e98-0036-4a4f-8cae-92e152e89cfb",
   "metadata": {},
   "source": [
    "*type your answer here*"
   ]
  },
  {
   "cell_type": "markdown",
   "id": "38aad16d-0e79-4590-b1f3-7eeaac10be63",
   "metadata": {},
   "source": [
    "**Q4:** The table has institutions from many different countries. Can you generate a table that only contains universities from the US?\n",
    "*Hint:* Is there a function that allows you to filter functions based on a condition? https://inferentialthinking.com/chapters/06/2/Selecting_Rows.html"
   ]
  },
  {
   "cell_type": "code",
   "execution_count": null,
   "id": "345db8a1-dc23-4f43-9c82-c2b108f3842f",
   "metadata": {},
   "outputs": [],
   "source": [
    "#SOLUTION"
   ]
  },
  {
   "cell_type": "markdown",
   "id": "a7bb7bf4-2f05-4ee8-9208-112f1492ef25",
   "metadata": {},
   "source": [
    "**Q4.1:** Lets take it up a notch. Can you generate a table that only contains universities from the US that have a research quality score above 90?\n",
    "*Hint:* Work through the problem one step at a time"
   ]
  },
  {
   "cell_type": "code",
   "execution_count": null,
   "id": "4a37e503-ade4-4da1-a34d-e96367071336",
   "metadata": {},
   "outputs": [],
   "source": [
    "#SOLUTION"
   ]
  },
  {
   "cell_type": "markdown",
   "id": "a4d962f1-199f-4b97-a674-9a3719c9a631",
   "metadata": {},
   "source": [
    "### Prompt Below:"
   ]
  },
  {
   "cell_type": "code",
   "execution_count": 2,
   "id": "ef60557a-dfc1-44af-8e7f-e86b05a12f9d",
   "metadata": {},
   "outputs": [
    {
     "name": "stderr",
     "output_type": "stream",
     "text": [
      "UsageError: Cell magic `%%ai` not found.\n"
     ]
    }
   ],
   "source": [
    "%%ai openai-chat:gpt-4\n"
   ]
  },
  {
   "cell_type": "code",
   "execution_count": null,
   "id": "e5ecfabf-e2f0-4b58-8b17-46110899e9e1",
   "metadata": {},
   "outputs": [],
   "source": [
    "%%ai openai-chat:gpt-4\n"
   ]
  },
  {
   "cell_type": "markdown",
   "id": "6f8fe20b-eec0-4580-8ccf-78bb51a58e7a",
   "metadata": {},
   "source": [
    "### Explain your workflow below:"
   ]
  },
  {
   "cell_type": "markdown",
   "id": "c1fe800c-e705-4af5-a0c5-36687a87fef9",
   "metadata": {},
   "source": [
    "*Type your answer here.  This is where you explain whether you used AI\n",
    "and if so, how you used it, and what you learned.  If you didn't use AI,\n",
    "explain how you came up with the answer.*"
   ]
  },
  {
   "cell_type": "markdown",
   "id": "ef2aedcc-d9dd-4fd7-b0f1-a2adfd374975",
   "metadata": {},
   "source": [
    "*type your answer here*"
   ]
  },
  {
   "cell_type": "markdown",
   "id": "0cfcf8e9-8a91-42ed-8c88-afa4e058222d",
   "metadata": {},
   "source": [
    "**Q5:** How can you add a column to the table of US universities that shows the rank of each university considering only US universities? *Hint:* Check out https://inferentialthinking.com/chapters/06/Tables.html.\n",
    "\n",
    "*Hint:* Remember, if you need a new column for your table, you need an array first"
   ]
  },
  {
   "cell_type": "code",
   "execution_count": null,
   "id": "fec02b66-97e9-4daa-872e-d85884b7dfcb",
   "metadata": {},
   "outputs": [],
   "source": [
    "#SOLUTION"
   ]
  },
  {
   "cell_type": "markdown",
   "id": "f403e69c-6d54-44f9-ac96-5d2e38381ecc",
   "metadata": {},
   "source": [
    "### Prompt Below:"
   ]
  },
  {
   "cell_type": "code",
   "execution_count": null,
   "id": "18abf03e-7f32-42b1-a53b-c0477f23b2b1",
   "metadata": {},
   "outputs": [],
   "source": [
    "%%ai openai-chat:gpt-4\n"
   ]
  },
  {
   "cell_type": "code",
   "execution_count": null,
   "id": "6c29b774-a1da-41dc-8e53-070b1a3074b2",
   "metadata": {},
   "outputs": [],
   "source": [
    "%%ai openai-chat:gpt-4\n"
   ]
  },
  {
   "cell_type": "markdown",
   "id": "fa03e877-2d6e-40ac-949b-9a97a6d636ab",
   "metadata": {},
   "source": [
    "### Explain your workflow below:"
   ]
  },
  {
   "cell_type": "markdown",
   "id": "473b8284-7c9a-4d6c-b01d-4c2ce1ef4132",
   "metadata": {},
   "source": [
    "*Type your answer here.  This is where you explain whether you used AI\n",
    "and if so, how you used it, and what you learned.  If you didn't use AI,\n",
    "explain how you came up with the answer.*"
   ]
  },
  {
   "cell_type": "markdown",
   "id": "777da540-749c-465f-b4d7-3a1e01589fb3",
   "metadata": {},
   "source": [
    "*type your answer here*"
   ]
  },
  {
   "cell_type": "markdown",
   "id": "59d56e16-2217-4084-b456-597bd69bb0a4",
   "metadata": {},
   "source": [
    "**Q6:** What is the rank of the University of Florida internationally and in the US? Show only the name of the university and the two ranks. *Hint:* https://inferentialthinking.com/chapters/06/2/Selecting_Rows.html might give you an idea."
   ]
  },
  {
   "cell_type": "code",
   "execution_count": null,
   "id": "8aed707d-6e62-4a91-b36c-b73d620c299c",
   "metadata": {},
   "outputs": [],
   "source": [
    "#SOLUTION"
   ]
  },
  {
   "cell_type": "markdown",
   "id": "c98d7672-5bba-4038-ae66-6700d6f1f9c8",
   "metadata": {},
   "source": [
    "### Prompt Below:"
   ]
  },
  {
   "cell_type": "code",
   "execution_count": null,
   "id": "e3831abd-a0de-49b3-acf1-5523379842b1",
   "metadata": {},
   "outputs": [],
   "source": [
    "%%ai openai-chat:gpt-4\n"
   ]
  },
  {
   "cell_type": "code",
   "execution_count": null,
   "id": "d33639b1-230d-4318-917a-f17fb6db59fc",
   "metadata": {},
   "outputs": [],
   "source": [
    "%%ai openai-chat:gpt-4\n"
   ]
  },
  {
   "cell_type": "markdown",
   "id": "23e57857-5f0c-48fb-a12f-bf5d0a8b4b74",
   "metadata": {},
   "source": [
    "### Explain your workflow below:"
   ]
  },
  {
   "cell_type": "markdown",
   "id": "9e9741c3-3a7d-4e12-9019-36cc90a6223b",
   "metadata": {},
   "source": [
    "*type your answer here*"
   ]
  },
  {
   "cell_type": "markdown",
   "id": "ce0b305f-2c68-4f4e-8a71-dd145a7f65d8",
   "metadata": {},
   "source": [
    "**Q7:** How many countries have at least 1 university in your rankings table? You need to get the count and a table with just the names of the countries *Hint:* Are there any table methods you might use to group information?"
   ]
  },
  {
   "cell_type": "code",
   "execution_count": null,
   "id": "31bfc3d9-a700-438f-8ed3-ad17e4f500e5",
   "metadata": {},
   "outputs": [],
   "source": [
    "#SOLUTION"
   ]
  },
  {
   "cell_type": "markdown",
   "id": "fdddfb3d-7b1d-42fc-b48e-9bd8c2ae22d5",
   "metadata": {},
   "source": [
    "### Prompt Below:"
   ]
  },
  {
   "cell_type": "code",
   "execution_count": null,
   "id": "e84f4f27-5749-4528-bd9d-6c8d80ca4eeb",
   "metadata": {},
   "outputs": [],
   "source": [
    "%%ai openai-chat:gpt-4"
   ]
  },
  {
   "cell_type": "markdown",
   "id": "3b9e8dd9-d337-4109-ac9a-c0185d8884ae",
   "metadata": {},
   "source": [
    "### Explain your workflow below:"
   ]
  },
  {
   "cell_type": "markdown",
   "id": "0d9699b5-8c9d-43f0-b8d8-6159e034e721",
   "metadata": {},
   "source": [
    "*Type your answer here.  This is where you explain whether you used AI\n",
    "and if so, how you used it, and what you learned.  If you didn't use AI,\n",
    "explain how you came up with the answer.*"
   ]
  },
  {
   "cell_type": "markdown",
   "id": "b45aa323-b8e7-406d-a0aa-736abc1fd0cc",
   "metadata": {},
   "source": [
    "*type your answer here*"
   ]
  },
  {
   "cell_type": "markdown",
   "id": "18176f22-be57-4faa-ba6c-9fdd4ed7de6a",
   "metadata": {},
   "source": [
    "**Q8:** What is the best university in teaching in the US? What is it worldwide? *Hint*: Check out https://inferentialthinking.com/chapters/06/1/Sorting_Rows.html."
   ]
  },
  {
   "cell_type": "code",
   "execution_count": null,
   "id": "005c6a62-9c8a-4282-8dd5-46ae5c95bd6c",
   "metadata": {},
   "outputs": [],
   "source": [
    "#SOLUTION"
   ]
  },
  {
   "cell_type": "markdown",
   "id": "784b4e20-8f93-4583-aeb8-1ffedc00d067",
   "metadata": {},
   "source": [
    "### Prompt Below:"
   ]
  },
  {
   "cell_type": "code",
   "execution_count": null,
   "id": "430109f2-dda0-4e86-8b0b-2ce24518c0ed",
   "metadata": {},
   "outputs": [],
   "source": [
    "%%ai openai-chat:gpt-4\n"
   ]
  },
  {
   "cell_type": "code",
   "execution_count": null,
   "id": "a7464877-1690-4979-b40b-bd981c302aac",
   "metadata": {},
   "outputs": [],
   "source": [
    "%%ai openai-chat:gpt-4\n"
   ]
  },
  {
   "cell_type": "markdown",
   "id": "9d18d83c-4f20-4ff2-9a49-4f4dd2b875db",
   "metadata": {},
   "source": [
    "### Explain your workflow below:"
   ]
  },
  {
   "cell_type": "markdown",
   "id": "cb347421-2bdb-483f-912e-b04cdb600c5d",
   "metadata": {},
   "source": [
    "*Type your answer here.  This is where you explain whether you used AI\n",
    "and if so, how you used it, and what you learned.  If you didn't use AI,\n",
    "explain how you came up with the answer.*"
   ]
  },
  {
   "cell_type": "markdown",
   "id": "2622e438-c8b2-4ddd-aca4-4d312ddb994b",
   "metadata": {},
   "source": [
    "*type your answer here*"
   ]
  },
  {
   "cell_type": "markdown",
   "id": "e8c5ca32-5c00-4166-b5bc-43c154bf43ad",
   "metadata": {},
   "source": [
    "**Q9:** How many universities have a research quality score below the average score? *Hint:* Think array operations on columns."
   ]
  },
  {
   "cell_type": "code",
   "execution_count": null,
   "id": "94e3b719-a48b-40ae-9642-91fdc8d98490",
   "metadata": {},
   "outputs": [],
   "source": [
    "#SOLUTION"
   ]
  },
  {
   "cell_type": "markdown",
   "id": "68cc9aa9-fe29-4578-9e92-8c75b75380a4",
   "metadata": {},
   "source": [
    "### Prompt Below:"
   ]
  },
  {
   "cell_type": "code",
   "execution_count": null,
   "id": "8c81867e-ae67-4cf1-9f7d-72ca8e275199",
   "metadata": {},
   "outputs": [],
   "source": [
    "%%ai openai-chat:gpt-4\n"
   ]
  },
  {
   "cell_type": "code",
   "execution_count": null,
   "id": "72e8f531-8b0b-4890-9ad3-4abe5e62a386",
   "metadata": {},
   "outputs": [],
   "source": [
    "%%ai openai-chat:gpt-4\n"
   ]
  },
  {
   "cell_type": "markdown",
   "id": "d3e3cb3b-bb45-4594-87de-9f482f439402",
   "metadata": {},
   "source": [
    "### Explain your workflow below:"
   ]
  },
  {
   "cell_type": "markdown",
   "id": "1828a014-f850-4abb-a138-5987d1d5bb52",
   "metadata": {},
   "source": [
    "*Type your answer here.  This is where you explain whether you used AI\n",
    "and if so, how you used it, and what you learned.  If you didn't use AI,\n",
    "explain how you came up with the answer.*"
   ]
  },
  {
   "cell_type": "markdown",
   "id": "6bc354a9-4bc4-428c-a565-df7e55f8f8f7",
   "metadata": {},
   "source": [
    "*type your answer here*"
   ]
  },
  {
   "cell_type": "markdown",
   "id": "a8cc87e5-f464-4d74-9bc1-7cb8f0991f87",
   "metadata": {},
   "source": [
    "**Q10:** Is there a university that is in the top 20% according to the industry score but in the bottom 20% according to the research quality score? *Hint:* Divide this task into steps and solve it piece by piece. Dont forget to store important information in different variables! You might just need to access it later"
   ]
  },
  {
   "cell_type": "code",
   "execution_count": null,
   "id": "e245f6fd-b580-40cc-83be-73d94f593275",
   "metadata": {},
   "outputs": [],
   "source": [
    "#SOLUTION"
   ]
  },
  {
   "cell_type": "markdown",
   "id": "fc4fdc58-69ef-4631-90df-7b086be9ae82",
   "metadata": {},
   "source": [
    "### Prompt Below:"
   ]
  },
  {
   "cell_type": "code",
   "execution_count": null,
   "id": "84977801-ec74-4962-bf00-82df8dc85ed9",
   "metadata": {},
   "outputs": [],
   "source": [
    "%%ai openai-chat:gpt-4"
   ]
  },
  {
   "cell_type": "markdown",
   "id": "0ae1d9eb-2b3d-434e-9e3d-0fafed8c9a1e",
   "metadata": {},
   "source": [
    "### Explain your workflow below:"
   ]
  },
  {
   "cell_type": "markdown",
   "id": "3e03e062-8a06-4e80-8e9c-ff5d1f333696",
   "metadata": {},
   "source": [
    "*Type your answer here.  This is where you explain whether you used AI\n",
    "and if so, how you used it, and what you learned.  If you didn't use AI,\n",
    "explain how you came up with the answer.*"
   ]
  },
  {
   "cell_type": "markdown",
   "id": "3d7d43cf-f891-44ce-897f-6e426a959161",
   "metadata": {},
   "source": [
    "*type your answer here*"
   ]
  },
  {
   "cell_type": "markdown",
   "id": "b0243889-01ac-44aa-b08c-5a4a953f8517",
   "metadata": {},
   "source": [
    "**Q11:** From which country is the university with the lowest ranking in research environment? Print only the country. *Hint:* https://inferentialthinking.com/chapters/06/1/Sorting_Rows.html might give you an idea."
   ]
  },
  {
   "cell_type": "code",
   "execution_count": null,
   "id": "832739a1-a7b1-4f0b-9683-91fcaeade82f",
   "metadata": {},
   "outputs": [],
   "source": [
    "#SOLUTION"
   ]
  },
  {
   "cell_type": "markdown",
   "id": "0a0b19dc-a26f-4078-b625-764ae706899d",
   "metadata": {},
   "source": [
    "### Prompt Below:"
   ]
  },
  {
   "cell_type": "code",
   "execution_count": null,
   "id": "d3b3a616-a94a-4db1-ada0-6f9e7e736f4e",
   "metadata": {},
   "outputs": [],
   "source": [
    "%%ai openai-chat:gpt-4\n"
   ]
  },
  {
   "cell_type": "code",
   "execution_count": null,
   "id": "ab8af28d-8658-4204-9b5b-4a47bf39ab1e",
   "metadata": {},
   "outputs": [],
   "source": [
    "%%ai openai-chat:gpt-4\n"
   ]
  },
  {
   "cell_type": "markdown",
   "id": "98db92b0-69bb-4077-ad8c-b866bf67b4b9",
   "metadata": {},
   "source": [
    "### Explain your workflow below:"
   ]
  },
  {
   "cell_type": "markdown",
   "id": "fa7382b1-6fb6-4901-aeab-1468dda3ed0b",
   "metadata": {},
   "source": [
    "*Type your answer here.  This is where you explain whether you used AI\n",
    "and if so, how you used it, and what you learned.  If you didn't use AI,\n",
    "explain how you came up with the answer.*"
   ]
  },
  {
   "cell_type": "markdown",
   "id": "eec44054-7c68-435b-9da7-a00be40669da",
   "metadata": {},
   "source": [
    "**Q12: Challenge Question - UNGRADED**\n",
    "You are a data analyst at Times Higher Education , one of the companies that releases the worldwide university ranking list every year. As an alternative list, your company wants to release a research focused university ranking list. The current ranking is decided by the Overall Score, which is a mean of all 5 factor scores. For a research focused ranking, your manager has asked you to make the following changes to how the score is calculated:\n",
    "1. Research Quality Score and Research Environment Score are worth **1.5** times what they currently are\n",
    "2. Industry Score and International Outlook are worth **half** of their current value.\n",
    "\n",
    "Using these new weighing schemes. Calculate the new overall score and return the top 5 research universities.\n",
    "\n",
    "This question can be solved by using the techniques taught in lectures and labs so far.\n",
    "\n",
    "*Hint:* Look up array broadcasting https://numpy.org/doc/stable/user/basics.broadcasting.html and arithmetic operations with numpy arrays https://www.geeksforgeeks.org/numpy-arithmetic-operations/\n",
    "\n",
    "This question will not be graded but you are strongly encouraged to give it a try. This question gives a good example of the level of problems you will be expected to solve in your project assignments (Midterm and Final). If you cannot solve it, try to write down the steps you would take to solve the problem. See if chatgpt can solve it for you with the right prompts."
   ]
  },
  {
   "cell_type": "code",
   "execution_count": null,
   "id": "25ec40d0-f79b-4eaf-ba2e-e9dd6395c322",
   "metadata": {},
   "outputs": [],
   "source": []
  },
  {
   "cell_type": "code",
   "execution_count": null,
   "id": "de2c40bf-c43c-4d06-8de1-780e5a9f2695",
   "metadata": {},
   "outputs": [],
   "source": []
  },
  {
   "cell_type": "code",
   "execution_count": null,
   "id": "c1df5eb2-a2fb-4029-9040-628ed9a2c549",
   "metadata": {},
   "outputs": [],
   "source": []
  },
  {
   "cell_type": "code",
   "execution_count": null,
   "id": "26f40bf0-255f-4212-97ce-a1e9f2b4a068",
   "metadata": {},
   "outputs": [],
   "source": []
  },
  {
   "cell_type": "code",
   "execution_count": null,
   "id": "8b3f8038-168f-4297-92dd-8ae7f6d12e69",
   "metadata": {},
   "outputs": [],
   "source": [
    "#SOLUTION"
   ]
  },
  {
   "cell_type": "markdown",
   "id": "ff9568b7-78ef-424c-8dce-1a677cc0a351",
   "metadata": {},
   "source": [
    "### Prompt Below:"
   ]
  },
  {
   "cell_type": "code",
   "execution_count": null,
   "id": "a037d731-8b94-44c8-a81b-623bd91e3afb",
   "metadata": {},
   "outputs": [],
   "source": [
    "%%ai openai-chat:gpt-4\n"
   ]
  },
  {
   "cell_type": "code",
   "execution_count": null,
   "id": "9ebb1f90-9ea2-4ba5-aca6-b57c5e948fca",
   "metadata": {},
   "outputs": [],
   "source": [
    "%%ai openai-chat:gpt-4\n"
   ]
  },
  {
   "cell_type": "markdown",
   "id": "68c5b149-7d9c-44a8-94a4-3175e1bc3052",
   "metadata": {},
   "source": [
    "### Explain your workflow below:"
   ]
  },
  {
   "cell_type": "markdown",
   "id": "0636d5a2-f18b-486c-94d7-d56552fcf678",
   "metadata": {},
   "source": [
    "*Type your answer here.  This is where you explain whether you used AI\n",
    "and if so, how you used it, and what you learned.  If you didn't use AI,\n",
    "explain how you came up with the answer.*"
   ]
  },
  {
   "cell_type": "markdown",
   "id": "cd2f088e",
   "metadata": {},
   "source": [
    "**Congratulations! You have completed Lab 2. Please ensure all your code cells have been run, but do not rerun your ChatGPT cells. Please download the file in .ipynb format and submit it to Gradescope.** "
   ]
  }
 ],
 "metadata": {
  "kernelspec": {
   "display_name": "Python 3 (ipykernel)",
   "language": "python",
   "name": "python3"
  },
  "language_info": {
   "codemirror_mode": {
    "name": "ipython",
    "version": 3
   },
   "file_extension": ".py",
   "mimetype": "text/x-python",
   "name": "python",
   "nbconvert_exporter": "python",
   "pygments_lexer": "ipython3",
   "version": "3.13.7"
  }
 },
 "nbformat": 4,
 "nbformat_minor": 5
}
