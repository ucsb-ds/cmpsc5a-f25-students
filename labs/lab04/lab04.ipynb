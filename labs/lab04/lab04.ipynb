{
 "cells": [
  {
   "cell_type": "code",
   "execution_count": null,
   "id": "5ea6ab15-a465-4faa-8501-8d4e45caf6d9",
   "metadata": {},
   "outputs": [],
   "source": [
    "# Click into this cell and press shift-enter before using this notebook.\n",
    "# This line loads the ability to use %%ai in your file\n",
    "%load_ext jupyter_ai_magics\n",
    "# These lines import the Python modules we commonly use in CMPSC 5A\n",
    "from datascience import *\n",
    "import numpy as np\n",
    "%matplotlib inline\n",
    "import matplotlib.pyplot as plots\n",
    "\n",
    "from IPython.display import display, Image"
   ]
  },
  {
   "cell_type": "markdown",
   "id": "35079670-768a-4ee2-ae51-5bbc83164cd8",
   "metadata": {},
   "source": [
    "# lab04, CMPSC 5A, F25"
   ]
  },
  {
   "cell_type": "markdown",
   "id": "f5451b45-add8-4f51-811d-244efbc87dd4",
   "metadata": {},
   "source": [
    "### Data Analysis and Visualization\n",
    "Let us continue analyzing the World University Rankings dataset. \n",
    "\n",
    "We will learn how to ask analytical questions and visualize data."
   ]
  },
  {
   "cell_type": "markdown",
   "id": "2257742d-fe50-4aeb-83eb-fd4999e79b00",
   "metadata": {},
   "source": [
    "Here's the code that loads the dataset into the variable `ranking`, like we did in lab02."
   ]
  },
  {
   "cell_type": "code",
   "execution_count": null,
   "id": "1d6ae400-f2a0-4f5b-8e27-0813879383f8",
   "metadata": {},
   "outputs": [],
   "source": [
    "ranking = Table().read_table(\"data/world_university_rankings.csv\")\n",
    "ranking"
   ]
  },
  {
   "cell_type": "markdown",
   "id": "1427486a-939b-432b-8a7c-5148d874f94a",
   "metadata": {},
   "source": [
    "## A request from your staff\n",
    "\n",
    "The `.show()` command is handy when you are trying things out, and you are free to use it while experimenting with your answers.\n",
    "\n",
    "However, the staff have noted that when grading your work, the `.show()` command is hard to work with.  \n",
    "\n",
    "Ironically, on Gradescope, the output of the `show()` command doesn't, um \"show up\".  This makes it harder to grade your work, which means you get back your graded work later than you might prefer.\n",
    "\n",
    "So:\n",
    "\n",
    "| If you want to do this | please use this ✅ | instead of this ❌|\n",
    "|-|-|-\n",
    "| Show the table `ranking` | `ranking` | `ranking.show()` |\n",
    "| Show the first 5 rows of `sortedRankings` | `sortedRankings.take(np.arange(5))` | `sortedRankings.show(5)` |\n",
    "\n",
    "For example, to show the `ranking` table:"
   ]
  },
  {
   "cell_type": "code",
   "execution_count": null,
   "id": "f96f393f-02ad-4656-9a12-7a1872f432eb",
   "metadata": {},
   "outputs": [],
   "source": [
    "ranking  # ✅  instead of ranking.show()"
   ]
  },
  {
   "cell_type": "markdown",
   "id": "c0800073-4f81-4d25-8836-0a7eac9768d8",
   "metadata": {},
   "source": [
    "To show just the first five rows of `ranking`"
   ]
  },
  {
   "cell_type": "code",
   "execution_count": null,
   "id": "5a17fb88-a518-427f-83d4-e7cd0c209e2d",
   "metadata": {},
   "outputs": [],
   "source": [
    "ranking.take(np.arange(5)) # ✅  instead of ranking.show(5)"
   ]
  },
  {
   "cell_type": "markdown",
   "id": "fc987ab4-7b75-41d4-a014-1538de78468d",
   "metadata": {},
   "source": [
    "The difference is minor when you see it in the Jupyter Notebook environment, but on Gradescope, it's a big difference.  The folks grading your work will appreciate this!"
   ]
  },
  {
   "cell_type": "markdown",
   "id": "3d2c8b7d-bb13-48b8-b38d-4a03b8c8986c",
   "metadata": {},
   "source": [
    "# This week's questions\n",
    "\n",
    "Now, let's explore some of the questions we can ask about this data set."
   ]
  },
  {
   "cell_type": "markdown",
   "id": "db47ab26-182d-4363-8a4e-a9b2692a9b4d",
   "metadata": {},
   "source": [
    "**Q1**. What are the average Overall scores for each of the countries in the given array below? How can we compare them (visualize them)? \n",
    "\n",
    "(a) Compute a final result table for this question that has just two columns: `location` and `Overall scores mean`.\n",
    "\n",
    "(b) Then, add a visualization of this table.\n",
    "\n",
    "Hints: \n",
    "* Consdier the `are.contained_in` where predciate\n",
    "* Group by country with a function that computes averages\n",
    "* `barh` may be useful."
   ]
  },
  {
   "cell_type": "code",
   "execution_count": null,
   "id": "5c5255e1-9514-432e-9ab1-5c51c595ba66",
   "metadata": {},
   "outputs": [],
   "source": [
    "countries = make_array(\"Australia\", \"Canada\", \"China\",\"India\", \"Switzerland\", \"Singapore\", \"United States\")"
   ]
  },
  {
   "cell_type": "code",
   "execution_count": null,
   "id": "1a218e98-8a5b-4c73-a213-b948c108e94e",
   "metadata": {},
   "outputs": [],
   "source": []
  },
  {
   "cell_type": "code",
   "execution_count": null,
   "id": "157435c7-f6fe-4109-9476-84c9b2573627",
   "metadata": {},
   "outputs": [],
   "source": [
    "#SOLUTION to part (a)\n"
   ]
  },
  {
   "cell_type": "code",
   "execution_count": null,
   "id": "7f6292f9-e7cf-4153-b31b-460a7e94e0b4",
   "metadata": {},
   "outputs": [],
   "source": [
    "#SOLUTION to part (b)\n"
   ]
  },
  {
   "cell_type": "code",
   "execution_count": null,
   "id": "7edb68ad-dbc9-4562-bca5-216fd695c121",
   "metadata": {},
   "outputs": [],
   "source": []
  },
  {
   "cell_type": "markdown",
   "id": "2bf6d41d-61be-46b5-8579-173737e6fe69",
   "metadata": {},
   "source": [
    "#### AI Prompt Below (optional)\n",
    "\n",
    "To use the AI prompt, remove the `#` and put a question\n",
    "below the line that says `%%ai openai-chat:gpt-3.5-turbo`.\n",
    "\n",
    "You may add additional cells with `%%ai openai-chat:gpt-3.5-turbo` if you need them."
   ]
  },
  {
   "cell_type": "code",
   "execution_count": null,
   "id": "bbe981ce-26fd-4f0c-9550-fc0c1e591091",
   "metadata": {},
   "outputs": [],
   "source": [
    "# %%ai openai-chat:gpt-3.5-turbo\n"
   ]
  },
  {
   "cell_type": "markdown",
   "id": "d69d1cec-0bc5-4d19-bbfb-fa175e8cba9a",
   "metadata": {},
   "source": [
    "#### Explain workflow here\n",
    "\n",
    "As a reminder: you are permitted to use AI; you are not required to use AI.\n",
    "\n",
    "But you are *always* required to:\n",
    "* Tell use whether you used AI or not\n",
    "* If you did not use AI, briefly tell us how you came up with the answer (e.g. I learned it in lecture, I read it in the book, I got help from a TA/ULA, etc.)\n",
    "* If you did use AI, include your prompt and the response from the AI, and tell us what parts of the AI were helpful, and what parts were not helpful.\n",
    "\n",
    "These instructions apply to **all** \"Explain workflow here\" cells in this lab."
   ]
  },
  {
   "cell_type": "markdown",
   "id": "3a3b8b0f-9071-447e-9bbf-7a6e265fede1",
   "metadata": {},
   "source": [
    "*Type your answer here for the workflow explanation*"
   ]
  },
  {
   "cell_type": "markdown",
   "id": "5f29d1f4-88d6-48ee-b433-e5be696c7e19",
   "metadata": {},
   "source": [
    "**Q2.1**. (a) Make a visual comparison of the Overall Scores as compare to Research Quality scores.   Consider the fact that both are numerical, and choose an appropriate visualization.\n",
    "\n",
    "(b) Based on what you see there, how would you describe the relationship between these two scores?  (Your answer should go in a Markdown/Text cell). Before you answer, review the discussion of causality and association from Chapter 2 of the textbook.)  Also, consider [this description](https://www.timeshighereducation.com/world-university-rankings/methodology) of how the overall score is calculated, especially the part under \"Getting to the final result\".  Note that the discussion on that page may contain some discussion of statistics that is beyond what we've covered in this class (e.g. *cumulative probability function*, and *Z-scoring*), but there's enough there that you should be able to get the general idea.\n"
   ]
  },
  {
   "cell_type": "code",
   "execution_count": null,
   "id": "b43b62b7-9517-448b-8872-47e3f9d71da1",
   "metadata": {},
   "outputs": [],
   "source": []
  },
  {
   "cell_type": "code",
   "execution_count": null,
   "id": "496939ea-30fa-405f-ada2-056937ddc42a",
   "metadata": {},
   "outputs": [],
   "source": [
    "#SOLUTION to part (a), i.e. code to make a visualization"
   ]
  },
  {
   "cell_type": "code",
   "execution_count": null,
   "id": "ffa60a04-1346-4390-807f-aaca2aa7c3e5",
   "metadata": {},
   "outputs": [],
   "source": []
  },
  {
   "cell_type": "markdown",
   "id": "6b74a282-8bf4-4e21-a882-1f8ef07d1bdd",
   "metadata": {},
   "source": [
    "### SOLUTION to part (b), i.e. text answer to the question\n",
    "\n",
    "*Answer question b here*"
   ]
  },
  {
   "cell_type": "markdown",
   "id": "f5e871b2-c344-4ad9-9c4c-fd078e8a8d08",
   "metadata": {},
   "source": [
    "#### AI Prompt (optional)"
   ]
  },
  {
   "cell_type": "code",
   "execution_count": null,
   "id": "9268cae9-ce55-40dd-a43e-9ca2d170af47",
   "metadata": {},
   "outputs": [],
   "source": [
    "# %%ai openai-chat:gpt-4o"
   ]
  },
  {
   "cell_type": "code",
   "execution_count": null,
   "id": "8ae6c943-6b44-49af-843a-abd7a6677017",
   "metadata": {},
   "outputs": [],
   "source": []
  },
  {
   "cell_type": "markdown",
   "id": "85d6ab15-f5ad-48c5-98b7-2b61522542f8",
   "metadata": {},
   "source": [
    "#### Explain workflow here:"
   ]
  },
  {
   "cell_type": "markdown",
   "id": "538fe376-448d-44c2-bd93-d9b7d197c8b4",
   "metadata": {},
   "source": [
    "*Type your answer here*"
   ]
  },
  {
   "cell_type": "markdown",
   "id": "d0638d6d-3d13-4f62-987b-245b76d2096e",
   "metadata": {},
   "source": [
    "**Q2.2**. Similarly, how do the Overall scores relate to Industry Scores? How can you compare them? What can we say about their relationship?\n",
    "\n",
    "Use the same approach that you used for the previous problem."
   ]
  },
  {
   "cell_type": "code",
   "execution_count": null,
   "id": "98637ffa-20f9-4a2f-992a-ff6c050945d6",
   "metadata": {},
   "outputs": [],
   "source": [
    "#SOLUTION (code part)"
   ]
  },
  {
   "cell_type": "markdown",
   "id": "1dad34ad-de5a-438a-9986-cb7538b177eb",
   "metadata": {},
   "source": [
    "### SOLUTION (text part)"
   ]
  },
  {
   "cell_type": "markdown",
   "id": "e6580139-df8c-47aa-a68b-46fabbd62ab9",
   "metadata": {},
   "source": [
    "#### AI Prompt (optional)"
   ]
  },
  {
   "cell_type": "code",
   "execution_count": null,
   "id": "b1bdb02f-542b-4a38-8626-033ae02ea236",
   "metadata": {},
   "outputs": [],
   "source": [
    "# %%ai openai-chat:gpt-4o"
   ]
  },
  {
   "cell_type": "markdown",
   "id": "00ee6170-27dd-49d2-96e0-1dc6e4ec7555",
   "metadata": {},
   "source": [
    "#### Explain workflow here:"
   ]
  },
  {
   "cell_type": "markdown",
   "id": "ad67f3db-fd4a-424b-920d-2447d6ee1212",
   "metadata": {},
   "source": [
    "*Type your answer here*"
   ]
  },
  {
   "cell_type": "markdown",
   "id": "be664af1-c60d-47ea-913f-feab99821980",
   "metadata": {},
   "source": []
  },
  {
   "cell_type": "code",
   "execution_count": null,
   "id": "993f1e03-1eae-4e33-b819-188c1538aeeb",
   "metadata": {},
   "outputs": [],
   "source": [
    "# SOLUTION "
   ]
  },
  {
   "cell_type": "markdown",
   "id": "27a60a1d-9f36-4d5d-917f-707955132fc4",
   "metadata": {},
   "source": [
    "**Q3.1**. Here is a calculation of the *range*, i.e. the mix and max values for the \"Overall scores\" data:"
   ]
  },
  {
   "cell_type": "code",
   "execution_count": null,
   "id": "4590ad0e-6c02-4a01-ae03-057d73a3c85a",
   "metadata": {},
   "outputs": [],
   "source": [
    "# range of Overall scores\n",
    "col = ranking.column('Overall scores')\n",
    "print(f\"Overall scores, min: {col.min()}  max: {col.max()}\")"
   ]
  },
  {
   "cell_type": "markdown",
   "id": "24ad32c6-d1cd-4511-b00c-7158e835d18c",
   "metadata": {},
   "source": [
    "As we discussed in lecture, we can make a table of the min and max of all of the numeric columns\n",
    "by doing this:"
   ]
  },
  {
   "cell_type": "code",
   "execution_count": null,
   "id": "ce896eae-b9e5-43ef-bbd5-2a90a47c7586",
   "metadata": {},
   "outputs": [],
   "source": [
    "numeric_columns = ranking.labels[3:]"
   ]
  },
  {
   "cell_type": "code",
   "execution_count": null,
   "id": "39f59064-7d9b-439b-b0a8-44dac6234383",
   "metadata": {},
   "outputs": [],
   "source": [
    "ranking_stats = Table([\"Column name\",\"min\",\"max\"])\n",
    "for column_name in ranking.labels[3:]:\n",
    "    col = ranking.column(column_name) # Not in quotes because we want the value\n",
    "    ranking_stats = ranking_stats.with_row([column_name, col.min(), col.max()])\n",
    "ranking_stats"
   ]
  },
  {
   "cell_type": "markdown",
   "id": "8b80fb64-6d97-4cc8-bc84-507bfa3c50de",
   "metadata": {},
   "source": [
    "Your task: please add `mean` and `median` to this table.\n",
    "\n",
    "Hint: there is a `.mean()` method for the `numpy.ndarray` data type, which is what we get from the `.column` method of the `Table` object.  But there isn't a `.median()` method.  Instead, you need to use `np.median(col)`."
   ]
  },
  {
   "cell_type": "code",
   "execution_count": null,
   "id": "b587b877-91e9-4cd3-88c9-88c415e89586",
   "metadata": {},
   "outputs": [],
   "source": [
    "#SOLUTION "
   ]
  },
  {
   "cell_type": "code",
   "execution_count": null,
   "id": "c1888ee9-ae63-445e-8600-6d589a49b79f",
   "metadata": {},
   "outputs": [],
   "source": []
  },
  {
   "cell_type": "markdown",
   "id": "3d1f551e-109c-42bf-9282-04f11ba97572",
   "metadata": {},
   "source": [
    "**Q3.2**. To better understand the distribution of the \"Overall scores\" data, make a histogram of the data.  For full credit, choose an appropriate bin size, and discuss why you chose that bin size."
   ]
  },
  {
   "cell_type": "code",
   "execution_count": null,
   "id": "aa4c4d1a-b148-4139-b9cc-c125ca72a22d",
   "metadata": {},
   "outputs": [],
   "source": []
  },
  {
   "cell_type": "code",
   "execution_count": null,
   "id": "77e2901f-1464-4a78-90a1-e7b128bda95a",
   "metadata": {},
   "outputs": [],
   "source": [
    "#SOLUTION (code part)"
   ]
  },
  {
   "cell_type": "code",
   "execution_count": null,
   "id": "a9b36033-4400-4f19-a682-c59da48ad782",
   "metadata": {},
   "outputs": [],
   "source": []
  },
  {
   "cell_type": "markdown",
   "id": "1f458bdd-a6ba-4627-9235-d9030b206748",
   "metadata": {},
   "source": [
    "### SOLUTION (explanation of your choice of bin size)\n",
    "\n",
    "*Here, fill in a brief explanation of what bin size you chose, and why*"
   ]
  },
  {
   "cell_type": "markdown",
   "id": "aa5f3177-21e4-4e0c-a070-d1494f235455",
   "metadata": {},
   "source": [
    "#### AI Prompt (optional)"
   ]
  },
  {
   "cell_type": "code",
   "execution_count": null,
   "id": "48b44d47-98a3-4ac2-a223-8a7525461fb3",
   "metadata": {},
   "outputs": [],
   "source": [
    "# %%ai openai-chat:gpt-4o"
   ]
  },
  {
   "cell_type": "markdown",
   "id": "5db952f8-66f0-415a-a32b-810dea8e11b6",
   "metadata": {},
   "source": [
    "#### Explain workflow here:"
   ]
  },
  {
   "cell_type": "markdown",
   "id": "ada44a8d-2c9c-4969-9fad-c08a3e6b14c4",
   "metadata": {},
   "source": [
    "*Type your answer here*"
   ]
  },
  {
   "cell_type": "markdown",
   "id": "7b4e0602-79ac-4ce8-a45f-0b2643ca66f7",
   "metadata": {},
   "source": [
    "### **Q3.3**. What does the plot from the previous question tell you about the overall scores distribution - how is the shape (bell, uniform, etc.)? \n",
    "\n",
    "1. Are the scores concentrated within a small range or spread out across a wider range?\n",
    "2. Is it centered around a particular score range (i.e., mode of the values)?\n",
    "3. Is it skewed (right or left skewed)?  Recall that *skew* isn't necessarily what you think it is:\n",
    "  * Skew isn't which way the graph is leaning\n",
    "  * It's where the *tail* is\n",
    "  * Left skew means the *tail* is on the left\n",
    "  * Right skew means the *tail* is on the right\n",
    "  * See: <https://en.wikipedia.org/wiki/Skewness#Introduction>\n",
    "  * And: <https://www.reddit.com/r/math/comments/1dme8pw/am_i_stupid_or_is_skewness_in_statistics_backwards/>\n",
    "\n",
    "Also see: <https://mathworld.wolfram.com/Mode.html> for a definition of *mode*. Ask your TAs and ULAs for help if you are confused about these concepts."
   ]
  },
  {
   "cell_type": "markdown",
   "id": "f740987a-f535-4f1a-add4-eff9e9c99aeb",
   "metadata": {},
   "source": [
    "### SOLUTION (text)\n",
    "\n",
    "*Write your answer here to the three questions above*"
   ]
  },
  {
   "cell_type": "markdown",
   "id": "d9b59b2c-e606-4d05-bfde-0fe1e3e2265d",
   "metadata": {},
   "source": [
    "#### AI Prompt (optional)"
   ]
  },
  {
   "cell_type": "code",
   "execution_count": null,
   "id": "abcc71a2-5659-4b0a-b520-aa40f03dd8ec",
   "metadata": {},
   "outputs": [],
   "source": [
    "# %%ai openai-chat:gpt-4o"
   ]
  },
  {
   "cell_type": "markdown",
   "id": "9b38e5c7-3c5f-4680-82d0-aba8deecc33c",
   "metadata": {},
   "source": [
    "#### Explain workflow here:"
   ]
  },
  {
   "cell_type": "markdown",
   "id": "4e581f3b-22f7-4743-9eb9-a12389ca64ce",
   "metadata": {},
   "source": [
    "*Type your answer here*"
   ]
  },
  {
   "cell_type": "markdown",
   "id": "87448cb1-c299-426e-bef6-3010d26cb36e",
   "metadata": {},
   "source": [
    "**Q4**. Please create a visualization that shows which countries are most represented among the top 20 universities by Overall Score. \n",
    "\n",
    "Order your visualization in descending order (The country with the most universities in the top 20 needs to be at the top).\n",
    "\n",
    "Hints:\n",
    "* Proceed one step at a time.  First make a table with just the top 20 universities by Overall Score.\n",
    "  * There are a couple of ways to do this; you might use `where` or you might use `take`, or you might use a combination of both.\n",
    "* Then group that table by location so that you have a count of how many universities are in that group for each country.\n",
    "* Then sort that table in descending order, and make a bar graph of the counts. "
   ]
  },
  {
   "cell_type": "code",
   "execution_count": null,
   "id": "d8754b49-bfe7-4079-a05c-a594e91b7d2f",
   "metadata": {},
   "outputs": [],
   "source": [
    "#SOLUTION"
   ]
  },
  {
   "cell_type": "markdown",
   "id": "fc3e82c2-9a49-4405-9a2e-30a71c5d0712",
   "metadata": {},
   "source": [
    "#### AI Prompt (optional)"
   ]
  },
  {
   "cell_type": "code",
   "execution_count": null,
   "id": "edf0a5d8-a183-4e0c-a0da-d9f623a14a58",
   "metadata": {},
   "outputs": [],
   "source": [
    "# %%ai openai-chat:gpt-4o"
   ]
  },
  {
   "cell_type": "markdown",
   "id": "6895667c-2519-4e49-958c-ca261669ae95",
   "metadata": {},
   "source": [
    "#### Explain workflow here:"
   ]
  },
  {
   "cell_type": "markdown",
   "id": "2d4697c4-193c-4ca1-8d1e-62243e8a6a79",
   "metadata": {},
   "source": [
    "*Type your answer here*"
   ]
  },
  {
   "cell_type": "markdown",
   "id": "60dc2544-794c-4a6c-8fed-14c23e1f2c3a",
   "metadata": {},
   "source": [
    "**Q5.1**. You are at University of California, Santa Barbara. Can you find it in the table (state your answer and show the code)? What are the different UCs present in the dataset (show the code and the table)? Hint: You may benefit from looking at the documentation https://www.data8.org/datascience/predicates.html#datascience.predicates.are.containing. "
   ]
  },
  {
   "cell_type": "code",
   "execution_count": null,
   "id": "88d09956-25e9-48f5-9f32-24db98000d42",
   "metadata": {},
   "outputs": [],
   "source": [
    "#SOLUTION"
   ]
  },
  {
   "cell_type": "markdown",
   "id": "58209d3f-2e9c-46cf-9907-ff91c2f80060",
   "metadata": {},
   "source": [
    "#### AI Prompt (optional)"
   ]
  },
  {
   "cell_type": "code",
   "execution_count": null,
   "id": "0a94a346-2092-4c65-8f1a-6e6ff70e80c4",
   "metadata": {},
   "outputs": [],
   "source": [
    "# %%ai openai-chat:gpt-3.5-turbo"
   ]
  },
  {
   "cell_type": "markdown",
   "id": "28087330-2ab1-4b8c-9d5c-d7456431df61",
   "metadata": {},
   "source": [
    "#### Explain workflow here:"
   ]
  },
  {
   "cell_type": "markdown",
   "id": "37f87f2a-8226-4b59-8afa-0934f1b9df01",
   "metadata": {},
   "source": [
    "*Type your answer here*"
   ]
  },
  {
   "cell_type": "markdown",
   "id": "a4f42511-864c-4037-9825-09c4f2801b62",
   "metadata": {},
   "source": [
    "**Q5.2**. Create a visualization that makes it easy to see how the different UCs rank by Overall Score.\n",
    "\n",
    "For this question, we are deliberately not giving as many hints as before, but if you look at the step-by-step approach we suggested for a previous question, you should be able to do something very similar here."
   ]
  },
  {
   "cell_type": "code",
   "execution_count": null,
   "id": "b4deac11-e9e1-4f2c-a73f-ee510b8adf89",
   "metadata": {},
   "outputs": [],
   "source": [
    "#SOLUTION"
   ]
  },
  {
   "cell_type": "markdown",
   "id": "7da686b6-49a7-43ea-a4e8-c82b47e03056",
   "metadata": {},
   "source": [
    "#### AI Prompt (optional)"
   ]
  },
  {
   "cell_type": "code",
   "execution_count": null,
   "id": "ad6ed214-8ed4-43f9-bba6-a9655b613b69",
   "metadata": {},
   "outputs": [],
   "source": [
    "# %%ai openai-chat:gpt-4o"
   ]
  },
  {
   "cell_type": "markdown",
   "id": "df29428e-a2a7-4575-a9de-a2c4ecc41d52",
   "metadata": {},
   "source": [
    "#### Explain workflow here:"
   ]
  },
  {
   "cell_type": "markdown",
   "id": "1ef4bb10-4928-4a77-b20d-8cb8b7017640",
   "metadata": {},
   "source": [
    "*Type your answer here*"
   ]
  },
  {
   "cell_type": "markdown",
   "id": "ab52c221-adfa-4450-800b-d893370aa575",
   "metadata": {},
   "source": [
    "**Q5.3**. Do the rankings among different UCs change if we look at Research Quality instead? Show your results."
   ]
  },
  {
   "cell_type": "code",
   "execution_count": null,
   "id": "22265c41-ecea-44d4-8747-c83243a2c627",
   "metadata": {},
   "outputs": [],
   "source": [
    "#SOLUTION"
   ]
  },
  {
   "cell_type": "markdown",
   "id": "400b0457-ac6b-4d2f-a429-4018a7c9a414",
   "metadata": {},
   "source": [
    "#### AI Prompt (optional)"
   ]
  },
  {
   "cell_type": "code",
   "execution_count": null,
   "id": "0fb59265-52fd-4364-9fd0-19541651568f",
   "metadata": {},
   "outputs": [],
   "source": [
    "# %%ai openai-chat:gpt-4o"
   ]
  },
  {
   "cell_type": "markdown",
   "id": "8e9dbfff-4b3b-495c-82b5-ea0a80bf2228",
   "metadata": {},
   "source": [
    "#### Explain workflow here:"
   ]
  },
  {
   "cell_type": "markdown",
   "id": "f88816f1-7467-47e7-af0c-ff25b4471eaf",
   "metadata": {},
   "source": [
    "*Type your answer here*"
   ]
  },
  {
   "cell_type": "markdown",
   "id": "d82fd7f2-fe9f-4b99-b819-e7f7df2cf502",
   "metadata": {},
   "source": [
    "**Q5.4**. How do the rankings among different UCs compare if we look at Industry Score? Show your results."
   ]
  },
  {
   "cell_type": "code",
   "execution_count": null,
   "id": "98091035-a044-4bce-add3-c38df8eb153c",
   "metadata": {},
   "outputs": [],
   "source": [
    "#SOLUTION"
   ]
  },
  {
   "cell_type": "markdown",
   "id": "54e6b9db-b9ad-4530-b70d-49c1561a9904",
   "metadata": {},
   "source": [
    "#### AI Prompt (optional)"
   ]
  },
  {
   "cell_type": "code",
   "execution_count": null,
   "id": "a66db6c4-eff2-4861-ac5e-7ec9d3cc1c00",
   "metadata": {},
   "outputs": [],
   "source": [
    "# %%ai openai-chat:gpt-4o"
   ]
  },
  {
   "cell_type": "markdown",
   "id": "1cb51e73-0003-41d4-baf8-8df25856dcaf",
   "metadata": {},
   "source": [
    "#### Explain workflow here:"
   ]
  },
  {
   "cell_type": "markdown",
   "id": "29b1973b-8d42-4796-b0ee-a5312612d9bc",
   "metadata": {},
   "source": [
    "*Type your answer here*"
   ]
  },
  {
   "cell_type": "markdown",
   "id": "2e49966d-2b48-45dc-bd6d-5d9e769fa277",
   "metadata": {},
   "source": [
    "**Q6.1**. Now, you have a better hold of the data, suppose you are helping a friend choose a school. They tell you they are more inclined towards schools with high \"Industry\" scores, and they want you to help them calculate an \"Industry Rank\", i.e. a number from 1 to the number of rows in the table that shows the rank of the school by Industry score.\n",
    "\n",
    "**Add a column** that shows the new rank of every university if it was ranked by Industry Score. \n",
    "\n",
    "Hints: _sort()_, _take()_, _with_column()_, _np.arange()_, _.num_rows_"
   ]
  },
  {
   "cell_type": "code",
   "execution_count": null,
   "id": "75cd8f9e-2a0d-4820-ab99-e6d3698c9269",
   "metadata": {},
   "outputs": [],
   "source": [
    "#SOLUTION"
   ]
  },
  {
   "cell_type": "markdown",
   "id": "178b1ab0-7c9c-4862-8eeb-d44b95ef9a4a",
   "metadata": {},
   "source": [
    "#### AI Prompt (optional)"
   ]
  },
  {
   "cell_type": "code",
   "execution_count": null,
   "id": "7c4049fd-303e-4e59-b840-9a35079953e7",
   "metadata": {},
   "outputs": [],
   "source": [
    "# %%ai openai-chat:gpt-4o"
   ]
  },
  {
   "cell_type": "markdown",
   "id": "d2fee92b-280b-483f-833d-04253088bd47",
   "metadata": {},
   "source": [
    "#### Explain workflow here:"
   ]
  },
  {
   "cell_type": "markdown",
   "id": "171e41b1-fcfb-4e5a-b623-87bf9df6e83e",
   "metadata": {},
   "source": [
    "*Type your answer here*"
   ]
  },
  {
   "cell_type": "markdown",
   "id": "0d84c94a-65c1-420a-94b2-c65a39ab8755",
   "metadata": {},
   "source": [
    "**Q6.2**. Now that you have helped your friend rank these schools by Industry score, suppose they want to narrow it down to schools only in the US. \n",
    "\n",
    "Create a table and/or a visualization that will help your friend choose a school.   In addition to the table or visualization, explain why chose the table or visualization that you did, and how you think it will help your friend to choose schools to apply to."
   ]
  },
  {
   "cell_type": "code",
   "execution_count": null,
   "id": "5c6b7a6e-921f-42bb-bad2-eaa3e31628b8",
   "metadata": {},
   "outputs": [],
   "source": [
    "#SOLUTION (code)"
   ]
  },
  {
   "cell_type": "markdown",
   "id": "3d6e8548-9798-4102-8fbc-0ee85bf6b865",
   "metadata": {},
   "source": [
    "### Solution (answer to the text question)\n",
    "\n",
    "*Here, write some text explaining why you chose the visualization that you chose and how it will help your friend choose a school*"
   ]
  },
  {
   "cell_type": "markdown",
   "id": "b8e7ab4b-5ece-4941-8927-48743c34fec9",
   "metadata": {},
   "source": [
    "#### AI Prompt (optional)"
   ]
  },
  {
   "cell_type": "code",
   "execution_count": null,
   "id": "a5c588af-6aa5-4526-85a7-8d1633e79b80",
   "metadata": {},
   "outputs": [],
   "source": [
    "# %%ai openai-chat:gpt-4o"
   ]
  },
  {
   "cell_type": "markdown",
   "id": "822cc746-05b3-40bf-af5e-19358e69a4e0",
   "metadata": {},
   "source": [
    "#### Explain workflow here:"
   ]
  },
  {
   "cell_type": "markdown",
   "id": "8bc089e4-ed04-4024-8827-5563563b3e86",
   "metadata": {},
   "source": [
    "*Type your answer here*"
   ]
  },
  {
   "cell_type": "markdown",
   "id": "e0417661-9f51-4a5b-99ad-4520a71dfc84",
   "metadata": {},
   "source": [
    "Congratulations, you're done with Lab 4!  Be sure to \n",
    "- **Keep all your prompts** . \n",
    "- **Save and Download** from the `File` menu.\n",
    "- **Ensure every cell has been run (has a number Ex:[34] beside the cell)**.\n",
    "- Submit to Gradescope!"
   ]
  }
 ],
 "metadata": {
  "kernelspec": {
   "display_name": "Python 3 (ipykernel)",
   "language": "python",
   "name": "python3"
  },
  "language_info": {
   "codemirror_mode": {
    "name": "ipython",
    "version": 3
   },
   "file_extension": ".py",
   "mimetype": "text/x-python",
   "name": "python",
   "nbconvert_exporter": "python",
   "pygments_lexer": "ipython3",
   "version": "3.13.7"
  }
 },
 "nbformat": 4,
 "nbformat_minor": 5
}
