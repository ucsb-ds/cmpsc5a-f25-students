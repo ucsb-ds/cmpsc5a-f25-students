{
 "cells": [
  {
   "cell_type": "code",
   "execution_count": null,
   "id": "7fe126dd-7133-4288-a6ab-9d6507507788",
   "metadata": {},
   "outputs": [],
   "source": [
    "# Click into this cell and press shift-enter before using this notebook.\n",
    "# This line loads the ability to use %%ai in your file\n",
    "%load_ext jupyter_ai_magics\n",
    "# These lines import the Python modules we commonly use in CMPSC 5A\n",
    "from datascience import *\n",
    "import numpy as np\n",
    "%matplotlib inline\n",
    "import matplotlib.pyplot as plots"
   ]
  },
  {
   "cell_type": "markdown",
   "id": "6cb1d3a8-483c-4a6e-b62e-376ab45d7505",
   "metadata": {},
   "source": [
    "# Code examples to help with lab03"
   ]
  },
  {
   "cell_type": "markdown",
   "id": "91ca6301-0e3e-4bb0-af13-bea625cfe0e3",
   "metadata": {},
   "source": [
    "Note that the data file used in the examples in *this* file is the same data file\n",
    "we used in lab02; that's where you can find the actual data file.\n",
    "\n",
    "This is a different data file from the one you are using in lab03 (which is a data file\n",
    "about fatal traffic accidents in the city of Los Angeles.)"
   ]
  },
  {
   "cell_type": "code",
   "execution_count": null,
   "id": "8a683ed2-427e-4afb-8af5-8289359f0f92",
   "metadata": {},
   "outputs": [],
   "source": [
    "ranking = Table.read_table(\"../lab02/data/world_university_rankings.csv\")"
   ]
  },
  {
   "cell_type": "code",
   "execution_count": null,
   "id": "5f38acfe-ab29-49ce-a186-33a3ae0bbfa2",
   "metadata": {},
   "outputs": [],
   "source": [
    "ranking"
   ]
  },
  {
   "cell_type": "markdown",
   "id": "a2dd787e-cc01-4081-b19d-3bbcda771067",
   "metadata": {},
   "source": [
    "### `are.contained_in` and `are.containing`"
   ]
  },
  {
   "cell_type": "code",
   "execution_count": null,
   "id": "74e23651-226b-4f9f-b0ec-83618d5396d4",
   "metadata": {},
   "outputs": [],
   "source": [
    "# lists everything that has \"United\" in it\n",
    "ranking.where(\"location\", are.containing(\"United\"))"
   ]
  },
  {
   "cell_type": "code",
   "execution_count": null,
   "id": "69f644b1-b538-4dd1-b690-8cda42a99bd0",
   "metadata": {},
   "outputs": [],
   "source": [
    "ivies = [\"Harvard University\", \"Yale University\", \"Columbia University\"]"
   ]
  },
  {
   "cell_type": "code",
   "execution_count": null,
   "id": "287214fa-fed1-44a9-859d-bec684df11fe",
   "metadata": {},
   "outputs": [],
   "source": [
    "# lists everything that's in ivies\n",
    "ranking.where(\"ranking-institution-title\", are.contained_in(ivies))"
   ]
  },
  {
   "cell_type": "markdown",
   "id": "dfcb3445-e7bd-495f-be7d-36c60f6fc43e",
   "metadata": {},
   "source": [
    "### `tbl.group(column_or_columns, func)`\n",
    "\n",
    "`func` is how you want to aggregate values"
   ]
  },
  {
   "cell_type": "code",
   "execution_count": null,
   "id": "666f7ada-b686-4acb-909f-7de1153bac79",
   "metadata": {},
   "outputs": [],
   "source": [
    "teaching = ranking.select(\"location\", \"Teaching Score\")\n",
    "teaching"
   ]
  },
  {
   "cell_type": "code",
   "execution_count": null,
   "id": "f12df2e9-70e0-4bc0-9023-e7c10000a065",
   "metadata": {},
   "outputs": [],
   "source": [
    "# group gives counts by default\n",
    "teaching.group(\"location\")"
   ]
  },
  {
   "cell_type": "code",
   "execution_count": null,
   "id": "52a065c5-1b3b-4eb8-8381-62ba961cb276",
   "metadata": {},
   "outputs": [],
   "source": [
    "# it can do other things, like get the max of all scores for a single location\n",
    "teaching.group(\"location\", max)"
   ]
  },
  {
   "cell_type": "code",
   "execution_count": null,
   "id": "9ecafdc7-11ba-4063-ac99-c65ac8c340be",
   "metadata": {},
   "outputs": [],
   "source": [
    "teaching.group(\"location\", min)"
   ]
  },
  {
   "cell_type": "markdown",
   "id": "bdcf851c",
   "metadata": {},
   "source": [
    "Let's verify the min max result!"
   ]
  },
  {
   "cell_type": "code",
   "execution_count": null,
   "id": "f9a25bb4-1d4a-4629-8774-d1850e192455",
   "metadata": {},
   "outputs": [],
   "source": [
    "# here are the teaching scores for the 5 Austrian universities\n",
    "teaching.where(\"location\", \"Austria\")"
   ]
  },
  {
   "cell_type": "code",
   "execution_count": null,
   "id": "526f0bb5-125f-4298-89f4-77c746499dd7",
   "metadata": {},
   "outputs": [],
   "source": [
    "min(41.6, 26.1, 25.4, 19.9, 25.1)"
   ]
  },
  {
   "cell_type": "code",
   "execution_count": null,
   "id": "06b41b85-2534-4db8-a67e-8033a13650fe",
   "metadata": {},
   "outputs": [],
   "source": [
    "max(41.6, 26.1, 25.4, 19.9, 25.1)"
   ]
  },
  {
   "cell_type": "code",
   "execution_count": null,
   "id": "d156e7d2-59be-463d-a24a-c107121a8a55",
   "metadata": {},
   "outputs": [],
   "source": [
    "# This will work for any function!!!"
   ]
  },
  {
   "cell_type": "markdown",
   "id": "106488be-e6b3-45f2-bb58-a692a9017d42",
   "metadata": {},
   "source": [
    "### `tbl.barh(categories, values)`\n",
    "#### Bar chart, good for labels that have numerical values"
   ]
  },
  {
   "cell_type": "code",
   "execution_count": null,
   "id": "14112b07-7445-48f8-9642-281123494c0e",
   "metadata": {},
   "outputs": [],
   "source": [
    "ireland = ranking.where(\"location\", \"Ireland\")\n",
    "ireland"
   ]
  },
  {
   "cell_type": "code",
   "execution_count": null,
   "id": "0ae9a7f0-2a59-4123-b9b0-6709c1741522",
   "metadata": {},
   "outputs": [],
   "source": [
    "# plot ranking-institution-title on the y-axis and teaching score on the x-axis\n",
    "ireland.barh(\"ranking-institution-title\", \"Teaching Score\")"
   ]
  },
  {
   "cell_type": "markdown",
   "id": "e42af1e5-3f84-4217-b233-5d3377d350db",
   "metadata": {},
   "source": [
    "### `tbl.scatter(x_column, y_column)`\n",
    "#### Good for two columns of numerical data"
   ]
  },
  {
   "cell_type": "code",
   "execution_count": null,
   "id": "a24701b7-8dbd-4f10-a29c-7dfcc68b94e2",
   "metadata": {},
   "outputs": [],
   "source": [
    "two_cols = ranking.select(\"rank\", \"Teaching Score\")"
   ]
  },
  {
   "cell_type": "code",
   "execution_count": null,
   "id": "6c4f61a0-b139-4a91-ad37-db1b8a464548",
   "metadata": {},
   "outputs": [],
   "source": [
    "# rank on x-axis, teaching score on y-axis\n",
    "two_cols.scatter(\"rank\", \"Teaching Score\") "
   ]
  },
  {
   "cell_type": "markdown",
   "id": "b715e3d8-a913-47c1-93cb-2753817add81",
   "metadata": {},
   "source": [
    "# Not needed for lab03, but still good to know about\n",
    "\n",
    "The methods below are not used in lab03, but we may need them in the future, so they are good to know about!\n"
   ]
  },
  {
   "cell_type": "markdown",
   "id": "4a8ea7f5-f9bb-4ada-9c23-9f4fd7602e81",
   "metadata": {},
   "source": [
    "### `tbl.hist(column, bins)`\n",
    "#### Good for one column of numerical data\n",
    "- `column`: string \\\n",
    "    name of the column with categories\n",
    "- `bins`: (Optional) list or int\\\n",
    "    Lower bound for each bin in the histogram or number of bins. If None, bins will be chosen automatically."
   ]
  },
  {
   "cell_type": "code",
   "execution_count": null,
   "id": "da803d30-58ab-4946-9e09-be817e1db289",
   "metadata": {},
   "outputs": [],
   "source": [
    "ranking.hist(\"Teaching Score\", bins=np.arange(0, 100, 5)) # bins from 0-100, every 5"
   ]
  },
  {
   "cell_type": "code",
   "execution_count": null,
   "id": "23ee1068-bac6-44b5-8c6e-ee1a6691b7c2",
   "metadata": {},
   "outputs": [],
   "source": [
    "ranking.hist(\"Teaching Score\", bins=10) # 10 bins over the range of the data"
   ]
  },
  {
   "cell_type": "code",
   "execution_count": null,
   "id": "038b6b5a-7c70-4849-8676-acfc59f37b03",
   "metadata": {},
   "outputs": [],
   "source": []
  }
 ],
 "metadata": {
  "kernelspec": {
   "display_name": "Python 3 (ipykernel)",
   "language": "python",
   "name": "python3"
  },
  "language_info": {
   "codemirror_mode": {
    "name": "ipython",
    "version": 3
   },
   "file_extension": ".py",
   "mimetype": "text/x-python",
   "name": "python",
   "nbconvert_exporter": "python",
   "pygments_lexer": "ipython3",
   "version": "3.13.7"
  }
 },
 "nbformat": 4,
 "nbformat_minor": 5
}
