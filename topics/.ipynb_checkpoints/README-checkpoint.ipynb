{
 "cells": [
  {
   "cell_type": "markdown",
   "id": "64d7ab7c-4336-4dc0-93de-bd2575d81cb6",
   "metadata": {},
   "source": [
    "# Topics\n",
    "\n",
    "In this directory, you'll find Jupyter Notebooks related to various topics---typically topics that are not covered in the textbook.\n",
    "\n",
    "Your instructor will let you know which, if any, of these are:\n",
    "* required:, that is, required reading that you need to study in order to complete the work in this class\n",
    "* optional: additional material in case you are interested to learn more about how you can apply what you've learned in this class to various kinds of problems."
   ]
  }
 ],
 "metadata": {
  "kernelspec": {
   "display_name": "Python 3 (ipykernel)",
   "language": "python",
   "name": "python3"
  },
  "language_info": {
   "codemirror_mode": {
    "name": "ipython",
    "version": 3
   },
   "file_extension": ".py",
   "mimetype": "text/x-python",
   "name": "python",
   "nbconvert_exporter": "python",
   "pygments_lexer": "ipython3",
   "version": "3.13.7"
  }
 },
 "nbformat": 4,
 "nbformat_minor": 5
}
