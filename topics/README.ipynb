{
 "cells": [
  {
   "cell_type": "markdown",
   "id": "ef2e8058-afde-4f5c-920f-d4cf6aa8e37a",
   "metadata": {
    "jp-MarkdownHeadingCollapsed": true
   },
   "source": [
    "# Topics\n",
    "\n",
    "In this directory, you'll find Jupyter Notebooks related to various topics, typically topics that are not found in the textbook.\n",
    "\n",
    "Your instru\n"
   ]
  }
 ],
 "metadata": {
  "kernelspec": {
   "display_name": "Python 3 (ipykernel)",
   "language": "python",
   "name": "python3"
  },
  "language_info": {
   "codemirror_mode": {
    "name": "ipython",
    "version": 3
   },
   "file_extension": ".py",
   "mimetype": "text/x-python",
   "name": "python",
   "nbconvert_exporter": "python",
   "pygments_lexer": "ipython3",
   "version": "3.12.8"
  }
 },
 "nbformat": 4,
 "nbformat_minor": 5
}
