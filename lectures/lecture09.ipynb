{
 "cells": [
  {
   "cell_type": "code",
   "execution_count": null,
   "id": "c69335b4-90c3-42d1-a0dd-45dca880c5bb",
   "metadata": {},
   "outputs": [],
   "source": [
    "# Click into this cell and press shift-enter before using this notebook.\n",
    "# This line loads the ability to use %%ai in your file\n",
    "%load_ext jupyter_ai_magics\n",
    "# These lines import the Python modules we commonly use in CMPSC 5A\n",
    "from datascience import *\n",
    "import numpy as np\n",
    "%matplotlib inline\n",
    "import matplotlib.pyplot as plots"
   ]
  },
  {
   "cell_type": "markdown",
   "id": "a5307c6f-b955-4df2-b497-dce5867d6e4b",
   "metadata": {},
   "source": [
    "# Lecture 9, CMPSC 5A, F25\n",
    "\n",
    "10/21/2025, Thursday of Week 4"
   ]
  },
  {
   "cell_type": "markdown",
   "id": "df90ceb9-7529-4090-902f-add9bdac821b",
   "metadata": {},
   "source": [
    "# Notes to self \n",
    "* Check font size\n",
    "* Check that you are sharing the screen on the zoom session\n",
    "* Ask staff to help monitor the zoom chat\n",
    "* Remind students to run the top cell"
   ]
  },
  {
   "cell_type": "markdown",
   "id": "e7cf2850-3f72-490c-8ea5-6273d382bbc6",
   "metadata": {},
   "source": [
    "## Where are we in the reading?\n",
    "\n",
    "You should have already read:\n",
    "* [Chapter 1: What is Data Science](https://inferentialthinking.com/chapters/01/what-is-data-science.html)\n",
    "* [Chapter 2 (Causality and Experiments)](https://inferentialthinking.com/chapters/02/causality-and-experiments.html)\n",
    "* [Chapter 3: Programming in Python](https://inferentialthinking.com/chapters/03/programming-in-python.html)\n",
    "* [Chapter 4: Data Types](https://inferentialthinking.com/chapters/04/Data_Types.html)\n",
    "* [Chapter 5 (Sequences)](https://inferentialthinking.com/chapters/05/Sequences.html)\n",
    "* [Chapter 6 (Tables)](https://inferentialthinking.com/chapters/06/Tables.html)\n",
    "* [Chapter 7 (Visualizations)](https://inferentialthinking.com/chapters/07/Visualization.html)\n",
    "* [Chapter 8 (Functions and Tables: Intro)](https://inferentialthinking.com/chapters/08/Functions_and_Tables.html)\n",
    "* [Section 8.1 (Applying a Function to a Column)](https://inferentialthinking.com/chapters/08/1/Applying_a_Function_to_a_Column.html)\n"
   ]
  },
  {
   "cell_type": "markdown",
   "id": "c1878d27-e148-4f8c-82e4-fb17ebb524e1",
   "metadata": {},
   "source": [
    "## Upcoming Quiz, Midterm\n",
    "\n",
    "As a reminder, here are the dates for the next quiz and the next midterm:\n",
    "\n",
    "| Item | % of grade | Dates | Week(s) |\n",
    "|-|-|-|-|\n",
    "|Quiz2 | approx 2.5% | Friday Oct 24, and Monday Oct 27 | Week 4/5|\n",
    "|Exam1 (midterm) | 15% |Friday Oct 31, and Monday Nov 3 | Week 5/6|\n",
    "|Exam2 (final*) | 15% | Mon Dec 8, Tue Dec 9, Wed Dec 10 | Finals Week|\n",
    "\n",
    "\\*Also, during the official final exam slot, Tue Dec 9, 4-7pm, times tbd\n",
    "\n",
    "## Register now:\n",
    "\n",
    "* Go to <https://us.prarietest.com>\n",
    "* Find `CMPSC 5A`\n",
    "* Find `Exams available for reservation`\n",
    "* Quiz1 and Exam1 are available for making reservations *now*.\n",
    "* Please make your reservations early.\n",
    "\n",
    "**Please watch your email over the next few days** for information about practice quizzes.\n"
   ]
  },
  {
   "cell_type": "markdown",
   "id": "56ae8e7f-e8e3-4bfa-b537-2ba02baa42f3",
   "metadata": {},
   "source": [
    "# ic12-10.23\n",
    "\n",
    "* <https://www.gradescope.com/courses/1150376/assignments/7036408>"
   ]
  },
  {
   "cell_type": "markdown",
   "id": "763f7989-f203-40b9-be88-29c1e693713d",
   "metadata": {},
   "source": [
    "## Reminder to practice for Quiz2\n",
    "\n",
    "PracticeQuiz2 at <https://us.prairielearn.com> has five questions on it.\n",
    "\n",
    "* Then, Friday Oct 24/Monday Oct 27, Quiz 2 will be structured the same\n",
    "  * The problems are the same; you'll just get different variants\n",
    "  * Just one attempt per problem.\n",
    "  * So make them count!\n",
    "  * Quiz 2 will count the same as a lab; about 2.5% of your course grade.\n",
    "* Then, Friday Oct 31/Monday Nov 3, Exam 1 (Midterm) will include all of these questions, plus more\n",
    "  * There will be a second practice quiz next week for the additional question types for the Midterm\n",
    "  * The midterm will have at least 10 question types (including the five from Quiz2), but no more than 20.\n",
    "  * The midterm is 15% of your course grade.\n",
    "\n",
    "So: practice, practice, practice!"
   ]
  },
  {
   "cell_type": "markdown",
   "id": "d69c9819-9db2-44ac-b427-1f85173ca8c6",
   "metadata": {},
   "source": [
    "## Tables we'll use in today's lecture\n",
    "\n",
    "Let's load these two tables first, since the examples we'll review below need them"
   ]
  },
  {
   "cell_type": "code",
   "execution_count": null,
   "id": "cdacf410-2989-4d33-bedd-2b3c58852204",
   "metadata": {},
   "outputs": [],
   "source": [
    "courseTable = Table.read_table(\"data/ucsb-s25-courses.csv\")\n",
    "movies = Table.read_table(\"data/movies_by_year_with_ticket_price.csv\")"
   ]
  },
  {
   "cell_type": "markdown",
   "id": "3371475f-62ed-47d7-9049-a0cac8d54394",
   "metadata": {},
   "source": [
    "## Review of lecture08\n",
    "\n",
    "* We reviewed a handy function for randomly sampling a table"
   ]
  },
  {
   "cell_type": "code",
   "execution_count": null,
   "id": "9d122094-fbf8-4adc-867a-4847d6bf1b56",
   "metadata": {},
   "outputs": [],
   "source": [
    "def randomSample(myTable, size):\n",
    "    n = myTable.num_rows \n",
    "    allRowIndexes = np.arange(n) \n",
    "    randomIndexes = \\\n",
    "      np.random.choice(\n",
    "        allRowIndexes, size, replace=False\n",
    "      )\n",
    "    randomRows = myTable.take(randomIndexes)\n",
    "    return randomRows"
   ]
  },
  {
   "cell_type": "markdown",
   "id": "7ace753c-524c-4afc-adfe-5720cdedec8a",
   "metadata": {},
   "source": [
    "* We reviewed how we can break the COURSEID field from the courses table apart into it's different parts using functions such as these:"
   ]
  },
  {
   "cell_type": "code",
   "execution_count": null,
   "id": "452a4b4b-7874-46ba-9bc8-e5114038fead",
   "metadata": {},
   "outputs": [],
   "source": [
    "def courseIdToDept(courseId):\n",
    "    return courseId[0:8].strip()\n",
    "\n",
    "def courseIdToCourseNum(courseId):\n",
    "    return courseId[8:13].strip()\n",
    "\n",
    "def courseIdToSuffix(courseId):\n",
    "    return courseId[14:].strip()"
   ]
  },
  {
   "cell_type": "markdown",
   "id": "83eb0104-0ea1-43be-91e4-f1cd5b5675d4",
   "metadata": {},
   "source": [
    "We reviewed how we can use a for loop and a call to the print function \n",
    "with a Python format string to demonstrate these functions working:"
   ]
  },
  {
   "cell_type": "code",
   "execution_count": null,
   "id": "f42fd3da-3f88-46f9-ae38-af21de243993",
   "metadata": {},
   "outputs": [],
   "source": [
    "courseIds = randomSample(courseTable,5).column(\"COURSEID\")\n",
    "\n",
    "for courseId in courseIds:\n",
    "   dept = courseIdToDept(courseId)\n",
    "   courseNum = courseIdToCourseNum(courseId)\n",
    "   suffix = courseIdToSuffix(courseId)\n",
    "   print(f\"courseId={courseId:15} dept={dept:9} courseNum={courseNum:6} suffix={suffix:3}\")\n"
   ]
  },
  {
   "cell_type": "markdown",
   "id": "1aa867c5-4a89-491c-b1fa-49c5c3df7c2b",
   "metadata": {},
   "source": [
    "* We reviewed how to add a column to a table using `apply`\n",
    "  * Option 1: `table.apply(function, \"Column Name\")`\n",
    "  * Option 2: `table.apply(function, 0 )   # 0 is a column number `\n",
    "  * This makes a new `numpy.ndarray` that we can add to a table using `with_column`"
   ]
  },
  {
   "cell_type": "markdown",
   "id": "0cdb9a1e-29c8-452f-b784-c7430367fbec",
   "metadata": {},
   "source": [
    "Here's an example of using apply to add columns to a table"
   ]
  },
  {
   "cell_type": "code",
   "execution_count": null,
   "id": "2d638800-6ea5-4e82-a233-7c1f28455e9a",
   "metadata": {},
   "outputs": [],
   "source": [
    "departments = courseTable.apply(courseIdToDept, 0)\n",
    "courseNums = courseTable.apply(courseIdToCourseNum, 0)\n",
    "suffixes = courseTable.apply(courseIdToSuffix, 0)\n",
    "courses = courseTable.with_columns(\"dept\",departments,\"courseNum\",courseNums,\"suffix\",suffixes)"
   ]
  },
  {
   "cell_type": "code",
   "execution_count": null,
   "id": "2b1edfff-3b03-4d22-a8f6-8335e7b924c2",
   "metadata": {},
   "outputs": [],
   "source": [
    "courses"
   ]
  },
  {
   "cell_type": "markdown",
   "id": "c4b2d917-5f43-4bf7-9694-07373dec2499",
   "metadata": {},
   "source": [
    "* We reviewed using the `where` clause to create smaller tables from a larger one that choose specific rows based on criteria"
   ]
  },
  {
   "cell_type": "code",
   "execution_count": null,
   "id": "e2f5ce78-568f-4d3a-a204-278f8d6fab9c",
   "metadata": {},
   "outputs": [],
   "source": [
    "csCourses = courses.where(\"dept\",are.equal_to(\"CMPSC\"))\n",
    "pstatCourses = courses.where(\"dept\",are.equal_to(\"PSTAT\"))\n",
    "artHistory = courses.where(\"dept\",are.equal_to(\"ARTHI\"))"
   ]
  },
  {
   "cell_type": "code",
   "execution_count": null,
   "id": "15176041-c6af-46be-a17b-e2414b7e5569",
   "metadata": {
    "scrolled": true
   },
   "outputs": [],
   "source": [
    "csCourses"
   ]
  },
  {
   "cell_type": "code",
   "execution_count": null,
   "id": "26c99c52-a7a9-406d-b5b3-88b7a1c58b80",
   "metadata": {},
   "outputs": [],
   "source": [
    "pstatCourses"
   ]
  },
  {
   "cell_type": "markdown",
   "id": "8c7fc22d-3fa2-4c3b-a29d-453e81748ad4",
   "metadata": {},
   "source": [
    "* We reviewed bar graphs, where you first group data to find counts:"
   ]
  },
  {
   "cell_type": "code",
   "execution_count": null,
   "id": "7f59ce34-ebe4-4a86-9b3b-99465de523fb",
   "metadata": {},
   "outputs": [],
   "source": [
    "desired_departments = make_array(\"CMPSC\", \"PSTAT\", \"MATH\")\n",
    "coursesSubset = courses.where(\"dept\", are.contained_in(desired_departments))\n",
    "coursesSubset.num_rows\n",
    "selectedCoursesGroupedByDepartment = coursesSubset.group(\"dept\")\n",
    "selectedCoursesGroupedByDepartment"
   ]
  },
  {
   "cell_type": "markdown",
   "id": "15e101e1-d531-4888-aacf-999117093621",
   "metadata": {},
   "source": [
    "Then make a bar graph of the resulting counts:"
   ]
  },
  {
   "cell_type": "code",
   "execution_count": null,
   "id": "1e30e598-ed3e-4c9e-a690-a425dd02aa9a",
   "metadata": {},
   "outputs": [],
   "source": [
    "selectedCoursesGroupedByDepartment.barh(\"dept\")"
   ]
  },
  {
   "cell_type": "code",
   "execution_count": null,
   "id": "7fbfcdbd-baa4-42a5-8fd2-dd0112fe7f8e",
   "metadata": {},
   "outputs": [],
   "source": [
    "* We mentioned that `help(are)` can be used to look up the *where predicates*"
   ]
  },
  {
   "cell_type": "markdown",
   "id": "9916e7f1-979b-4d87-ac7b-69cc73e5501c",
   "metadata": {},
   "source": [
    "* We reviewed what a *predicate* is (a function that returns True or False)"
   ]
  },
  {
   "cell_type": "markdown",
   "id": "2ea6e4ec-d8a2-4bb3-87ce-9b31b5fe5097",
   "metadata": {},
   "source": [
    "* We reviewed how to use the where method, for example: `table.where(\"column\", are.equal(value)`"
   ]
  },
  {
   "cell_type": "markdown",
   "id": "f65161bd-5c1e-4b35-bea3-ee33d323ac45",
   "metadata": {},
   "source": [
    "* We talked about *data cleaning*, where we remove data that\n",
    "  * Contains errors\n",
    "  * Is inconsistent\n",
    "  * DOES NOT accurately gives us answer to the question(s) we are asking (note typo in last class' notes)\n"
   ]
  },
  {
   "cell_type": "markdown",
   "id": "6982f3ec-1e78-43f3-bed5-7620e81ddd05",
   "metadata": {},
   "source": [
    "## Some functions from last time\n",
    "\n",
    "Last time, we defined a few functions we'll need again today, so let's define those again now"
   ]
  },
  {
   "cell_type": "code",
   "execution_count": null,
   "id": "b6720f1f-5805-423c-acd5-529314b848f9",
   "metadata": {},
   "outputs": [],
   "source": [
    "def is_undergrad(courseid):\n",
    "    \"\"\" returns true if course is undergrad, otherwise returns false \"\"\"\n",
    "    return courseid[8]==' ' or courseid[8]=='1'\n",
    "\n",
    "def isGraduate(courseNum):\n",
    "    \"\"\" True if courseNum isn't a space and it isn't a 1 (so it must be a graduate course) \"\"\"\n",
    "    return courseNum[8] != ' ' and courseNum[8] != '1'\n",
    "\n",
    "def is_lecture(sectionNum):\n",
    "    # if section number is divisible by 100, it's a lecture\n",
    "    return sectionNum % 100 == 0\n",
    "\n",
    "def tenOrMoreStudents(enrollment):\n",
    "    return enrollment > 10"
   ]
  },
  {
   "cell_type": "markdown",
   "id": "966d1a3e-10d7-49f0-9756-ca040ac83e3b",
   "metadata": {},
   "source": [
    "Once we have this method, we can use it like this:"
   ]
  },
  {
   "cell_type": "code",
   "execution_count": null,
   "id": "25419107-c811-43ec-be3e-ed9233d7dcf1",
   "metadata": {},
   "outputs": [],
   "source": [
    "courses.where(\"COURSEID\", is_undergrad)"
   ]
  },
  {
   "cell_type": "markdown",
   "id": "04952b60-0bd4-49d4-a407-55c26dc1810c",
   "metadata": {},
   "source": [
    "Now we can pull out all of the graduate courses:\n"
   ]
  },
  {
   "cell_type": "code",
   "execution_count": null,
   "id": "ae009f16-e5cb-4a32-a648-7d2ff7bf2791",
   "metadata": {},
   "outputs": [],
   "source": [
    "undergrad_courses = courses.where(\"COURSEID\", isGraduate)\n",
    "graduate_courses = courses.where(\"COURSEID\", isGraduate)"
   ]
  },
  {
   "cell_type": "code",
   "execution_count": null,
   "id": "73e665d2-735c-4f10-ac30-f4a82bc3dc0d",
   "metadata": {},
   "outputs": [],
   "source": [
    "print(f\"courses.num_rows = {courses.num_rows}\")\n",
    "print(f\"undergrad_courses.num_rows = {undergrad_courses.num_rows}\")\n",
    "print(f\"graduate_courses.num_rows = {graduate_courses.num_rows}\")\n",
    "print(f\"undergrad_courses.num_rows + graduate_courses.num_rows = {undergrad_courses.num_rows + graduate_courses.num_rows}\")"
   ]
  },
  {
   "cell_type": "markdown",
   "id": "07502f51-c34e-4850-82b0-f7888aed68f5",
   "metadata": {},
   "source": [
    "This gives us much more confidence that our functions are calculating correctly!\n",
    "\n",
    "We can also check random rows from our `graduate_courses` table:"
   ]
  },
  {
   "cell_type": "code",
   "execution_count": null,
   "id": "0ed6e2c1-67bb-429b-b9a1-12f5ad201e12",
   "metadata": {},
   "outputs": [],
   "source": [
    "randomSample(graduate_courses, 5)"
   ]
  },
  {
   "cell_type": "markdown",
   "id": "bc6b35e6-2b54-49a0-b0af-7513b545d332",
   "metadata": {},
   "source": [
    "Now we can apply all of these predicates to our dataset to get the courses\n",
    "we want to count:\n",
    "* Only undergrad courses\n",
    "* Only lectures\n",
    "* Only courses with 10 or more students"
   ]
  },
  {
   "cell_type": "code",
   "execution_count": null,
   "id": "5acd75fd-6be9-42b5-b0ed-ed5de2352f4c",
   "metadata": {},
   "outputs": [],
   "source": [
    "coursesToCount = courses \\\n",
    "    .where(\"COURSEID\", is_undergrad) \\\n",
    "    .where(\"SECTION\", is_lecture) \\\n",
    "    .where(\"ENROLLED\", tenOrMoreStudents)\n",
    "coursesToCount"
   ]
  },
  {
   "cell_type": "markdown",
   "id": "ea3dfeac-9388-47de-8210-7c9d63594497",
   "metadata": {},
   "source": [
    "# Using `group` for things other than counting\n",
    "\n",
    "The most basic use of the `group` function is to group rows in a table based on a particular column, \n",
    "and then count up the values.\n",
    "\n",
    "However, we can take it a step further using functions such as `sum`, `min`, `max`, and others; basically any function that can take a `numpy.ndarray` as it's argument.\n",
    "\n",
    "First, we'll show what this looks like.  Then we'll dive in a bit deeper.\n",
    "\n",
    "Here's: `coursesToCount.group(\"dept\",sum)`\n"
   ]
  },
  {
   "cell_type": "code",
   "execution_count": null,
   "id": "59ada041-9203-482b-8176-5b1f6c81a2f8",
   "metadata": {},
   "outputs": [],
   "source": [
    "coursesToCount.group(\"dept\",sum)"
   ]
  },
  {
   "cell_type": "markdown",
   "id": "58088bd3-8290-4e0f-aeb4-01df0118ef14",
   "metadata": {},
   "source": [
    "What we get back is the 'sum' function applied to each column of data.\n",
    "* The numbers in `ENROLLED sum` show the total of the enrollment\n",
    "* The numbers in `MAXRENROLL sum` show the total of the max enrollment, i.e. how big the class could be if full\n",
    "* The numbers if `QUARTER sum` and `SECTION sum` are not really meaningful; they are adding up numbers that are really just identifiers.  We might have done well to exclude those columns before doing our grouping.\n",
    "* Lecture sum shows us the number of rows for which that field is True.  Since that's every row of data, this actually shows us the same as the counts from the original `.group()` call."
   ]
  },
  {
   "cell_type": "markdown",
   "id": "6ec49b91-b09c-4b49-8291-e0e83858ce98",
   "metadata": {},
   "source": [
    "So really, a better way to use `group` with the `sum` function is to first use `select` so that we only have columns on which \n",
    "finding a sum is meaningful.  \n",
    "    \n",
    "For example, consider this table:"
   ]
  },
  {
   "cell_type": "code",
   "execution_count": null,
   "id": "d1042d4a-b590-4afd-b931-a1709f8c9efb",
   "metadata": {},
   "outputs": [],
   "source": [
    "coursesToCount.select(\"COURSEID\", \"dept\",\"ENROLLED\",\"MAXENROLL\")"
   ]
  },
  {
   "cell_type": "markdown",
   "id": "34a130b0-38b2-43a1-ae06-ded735bfab58",
   "metadata": {},
   "source": [
    "If we take this table, and group by dept and take the sum, we get this:"
   ]
  },
  {
   "cell_type": "code",
   "execution_count": null,
   "id": "c1c06abd-7ae3-42b2-bf43-e643d2e68374",
   "metadata": {},
   "outputs": [],
   "source": [
    "coursesToCount.select(\"COURSEID\", \"dept\",\"ENROLLED\",\"MAXENROLL\").group(\"dept\",sum)"
   ]
  },
  {
   "cell_type": "markdown",
   "id": "6d4d2495-ed41-4db6-8af6-161f785725fe",
   "metadata": {},
   "source": [
    "You can see that the COURSEID sum column is blank, because it doesn't make any sense to find the \"sum\" of the courseid values.   So, in the next example, we'll omit it.  Here is how we can find the subject areas with the most students enrolled."
   ]
  },
  {
   "cell_type": "code",
   "execution_count": null,
   "id": "457ea51a-74ec-4743-9ff1-6e82edc619cb",
   "metadata": {},
   "outputs": [],
   "source": [
    "coursesToCount \\\n",
    "    .select(\"COURSEID\", \"dept\",\"ENROLLED\",\"MAXENROLL\") \\\n",
    "    .group(\"dept\",sum).sort(\"ENROLLED sum\",descending=True)"
   ]
  },
  {
   "cell_type": "markdown",
   "id": "cd505f5e-229f-42f8-9622-6d2e6eed488a",
   "metadata": {},
   "source": [
    "We can also use the `max` function to determine which subject area has a single class with the largest enrollment.  This is applying the `max` function across all of the ENROLLED values in each group by subject area."
   ]
  },
  {
   "cell_type": "code",
   "execution_count": null,
   "id": "b3bad1a2-b32f-4888-9232-3b7a9cbb10b3",
   "metadata": {},
   "outputs": [],
   "source": [
    "coursesToCount \\\n",
    "    .select(\"dept\",\"ENROLLED\",\"MAXENROLL\") \\\n",
    "    .group(\"dept\",max).sort(\"ENROLLED max\",descending=True)"
   ]
  },
  {
   "cell_type": "markdown",
   "id": "c87da726-0b73-465e-9349-fd5923b4b96c",
   "metadata": {},
   "source": [
    "Let's give this table a name with an assignment statement"
   ]
  },
  {
   "cell_type": "code",
   "execution_count": null,
   "id": "d2ed5edf-e926-4f27-ba76-6f67b06e6bce",
   "metadata": {},
   "outputs": [],
   "source": [
    "largestCourseSizes = coursesToCount \\\n",
    "    .select(\"dept\",\"ENROLLED\",\"MAXENROLL\") \\\n",
    "    .group(\"dept\",max).sort(\"ENROLLED max\",descending=True)"
   ]
  },
  {
   "cell_type": "code",
   "execution_count": null,
   "id": "aaca8df6-ee86-4c76-847a-9446518d6310",
   "metadata": {},
   "outputs": [],
   "source": [
    "largestCourseSizes"
   ]
  },
  {
   "cell_type": "markdown",
   "id": "bc6a7430-e25a-4ff7-a1cb-b2dc25671925",
   "metadata": {},
   "source": [
    "Suppose we wanted to add to this table the actual name of the course that is the largest one in each subject area.\n",
    "\n",
    "First, here's an *incorrect* answer:"
   ]
  },
  {
   "cell_type": "code",
   "execution_count": null,
   "id": "6fdb5d80-d7a7-45d7-a8d9-37554fa9ef26",
   "metadata": {},
   "outputs": [],
   "source": [
    "largestCourseSizes = coursesToCount \\\n",
    "    .select(\"COURSEID\", \"dept\",\"ENROLLED\",\"MAXENROLL\") \\\n",
    "    .group(\"dept\",max).sort(\"ENROLLED max\",descending=True)\n",
    "largestCourseSizes"
   ]
  },
  {
   "cell_type": "markdown",
   "id": "e9198899-76c5-4b26-b4d7-a0c143e036c3",
   "metadata": {},
   "source": [
    "We might think this is saying that ECON 199RA-2 is the largest class offered by ECON. But that is not the case. \n",
    "\n",
    "Instead, `ECON 199RA-2` is the `max` of the `COURSEID` column *lexigographically*, i.e. the one that would occur last if we sorted by this column!  That's not really meaningful if we are looking to identify the largest course (by enrollment) taught by ECON.\n",
    "\n",
    "Instead, we can write a function that takes the `dept` as a parameter, and returns as it's value, the course id of the largest course in that department.  Then we can use `apply` to make a new `numpy.ndarray` of those values, and then we can add that column to the table.\n",
    "\n",
    "Here's how that looks. First let's do it by hand for just `ECON`\n"
   ]
  },
  {
   "cell_type": "markdown",
   "id": "420e2724-6266-4af9-9971-191bc3a810f2",
   "metadata": {},
   "source": [
    "Here are all of the ECON courses, in descending order by enrollment:"
   ]
  },
  {
   "cell_type": "code",
   "execution_count": null,
   "id": "f71fc4f3-84d0-4256-9810-e58c2716ea56",
   "metadata": {},
   "outputs": [],
   "source": [
    "coursesToCount.where(\"dept\", are.equal_to(\"ECON\")).sort(\"ENROLLED\",descending=True).show(5)"
   ]
  },
  {
   "cell_type": "code",
   "execution_count": null,
   "id": "a8ed27bd-dbf7-46dc-a7fe-c2516e4e4073",
   "metadata": {},
   "outputs": [],
   "source": [
    "What we want is the `COURSEID` field from the top row.  So that's this:\n"
   ]
  },
  {
   "cell_type": "code",
   "execution_count": null,
   "id": "8627cba8-acf0-410f-af1f-2a4ecc52497f",
   "metadata": {},
   "outputs": [],
   "source": [
    "coursesToCount.where(\"dept\", are.equal_to(\"ECON\")).sort(\"ENROLLED\",descending=True).column('COURSEID').item(0)"
   ]
  },
  {
   "cell_type": "markdown",
   "id": "3fed1658-9b1f-40c4-8ba4-89831da994fc",
   "metadata": {},
   "source": [
    "**This doesn't work if there are ties**.  Note that if there are ties for the largest course, this method won't work; we'll only pull out one of the courses that has that many students.  Maybe we'll come back later and show how we'd solve the problem if there were ties.  But it's a good start!"
   ]
  },
  {
   "cell_type": "markdown",
   "id": "36706685-12cd-4cc8-b1e0-ca71b3f1f304",
   "metadata": {},
   "source": [
    "Let's turn this into a function.  Instead of hard coding `\"ECON\"`, we replace this with a parameter."
   ]
  },
  {
   "cell_type": "code",
   "execution_count": null,
   "id": "064b4eab-d169-4fd8-aa25-9083ceaa626e",
   "metadata": {},
   "outputs": [],
   "source": [
    "def deptToLargestCourse(dept):\n",
    "    return coursesToCount.where(\"dept\", are.equal_to(dept)).sort(\"ENROLLED\",descending=True).column('COURSEID').item(0)"
   ]
  },
  {
   "cell_type": "markdown",
   "id": "5dd29918-33ae-4eab-af9b-e8955d5d4553",
   "metadata": {},
   "source": [
    "Now lets test this on a few departments:"
   ]
  },
  {
   "cell_type": "code",
   "execution_count": null,
   "id": "f909c24e-65eb-4f07-a4d0-786f4daf0a7a",
   "metadata": {},
   "outputs": [],
   "source": [
    "deptToLargestCourse(\"ECON\")"
   ]
  },
  {
   "cell_type": "code",
   "execution_count": null,
   "id": "5b3a4f0e-0629-4f38-bb47-d69533b9fbcf",
   "metadata": {},
   "outputs": [],
   "source": [
    "deptToLargestCourse(\"CMPSC\")"
   ]
  },
  {
   "cell_type": "code",
   "execution_count": null,
   "id": "8069550c-829d-44cf-888f-7d5272ff6d06",
   "metadata": {},
   "outputs": [],
   "source": [
    "deptToLargestCourse(\"CLASS\")"
   ]
  },
  {
   "cell_type": "markdown",
   "id": "ac94e899-be1a-4839-a4d4-d6a04781b89a",
   "metadata": {},
   "source": [
    "Seems to be working.  Let's try the apply function now."
   ]
  },
  {
   "cell_type": "code",
   "execution_count": null,
   "id": "fbe6e22c-9251-40d8-bfa0-ef76d0f9a5d3",
   "metadata": {},
   "outputs": [],
   "source": [
    "largestCourseSizes = coursesToCount \\\n",
    "    .select(\"dept\",\"ENROLLED\") \\\n",
    "    .group(\"dept\",max).sort(\"ENROLLED max\",descending=True) \\\n",
    "    .with_column(\"Largest Enrollment Course\", largestCourseSizes.apply(deptToLargestCourse, \"dept\"))\n",
    "largestCourseSizes.show()"
   ]
  },
  {
   "cell_type": "code",
   "execution_count": null,
   "id": "67ffbfeb-7822-4f29-b225-c2b56e4b8a31",
   "metadata": {},
   "outputs": [],
   "source": []
  },
  {
   "cell_type": "markdown",
   "id": "77d88292-8e65-4225-81a1-e066562979c5",
   "metadata": {},
   "source": [
    "## Bar Graphs"
   ]
  },
  {
   "cell_type": "markdown",
   "id": "a1955411-b4e9-4e6d-a82b-fc2e356f332a",
   "metadata": {},
   "source": [
    "We can now make some bar graphs with this data.\n",
    "\n",
    "Here's a bar graph of the number of courses offered by each department:\n"
   ]
  },
  {
   "cell_type": "code",
   "execution_count": null,
   "id": "f91a4419-a857-496c-a3a3-7d7884d33e51",
   "metadata": {},
   "outputs": [],
   "source": [
    "counts = coursesToCount.group(\"dept\")\n",
    "counts"
   ]
  },
  {
   "cell_type": "code",
   "execution_count": null,
   "id": "7b9e4418-51c8-4fa1-969e-0c20c75f8cff",
   "metadata": {},
   "outputs": [],
   "source": [
    "counts.barh(\"dept\") # Bar graph of count, by department"
   ]
  },
  {
   "cell_type": "markdown",
   "id": "a4793aa8-c087-4225-9034-fce072739ad9",
   "metadata": {},
   "source": [
    "Or we can make a bar graph by enrollment:"
   ]
  },
  {
   "cell_type": "code",
   "execution_count": null,
   "id": "9a2f9de4-a272-46a2-851a-5d0899f42656",
   "metadata": {},
   "outputs": [],
   "source": [
    "enrollment = coursesToCount.select(\"dept\",\"ENROLLED\").group(\"dept\",sum).sort(\"ENROLLED sum\",descending=True)\n",
    "enrollment.show(10)"
   ]
  },
  {
   "cell_type": "code",
   "execution_count": null,
   "id": "2f2669a4-caaa-4e05-bf71-25140669f8e2",
   "metadata": {},
   "outputs": [],
   "source": [
    "enrollment.barh(\"dept\",\"ENROLLED sum\")"
   ]
  },
  {
   "cell_type": "code",
   "execution_count": null,
   "id": "616b5e8c-1dad-40e7-93d6-4e898f2f3792",
   "metadata": {},
   "outputs": [],
   "source": []
  },
  {
   "cell_type": "markdown",
   "id": "b9109000-25ea-4322-b5f5-971c4f4e6888",
   "metadata": {
    "jp-MarkdownHeadingCollapsed": true
   },
   "source": [
    "\n",
    "## The rest of lecture\n",
    "\n",
    "* A weird bug with `.show()`\n",
    "* `print` vs. `return`\n",
    "* `list` vs. `numpy.ndarray`\n",
    "* Some slides about group, pivot and join\n",
    "* Some Time to work on ic13 and ic14\n"
   ]
  },
  {
   "cell_type": "markdown",
   "id": "7d1c0155-dc2d-4c2e-9b2d-728acec946b6",
   "metadata": {},
   "source": [
    "## A weird bug!\n",
    "\n",
    "Here's a weird bug that someone had with their code during office hours.\n",
    "\n",
    "It came up in the context of lab02, so I've changed some of the details to not give away answers, but it's pretty similar.\n",
    "\n"
   ]
  },
  {
   "cell_type": "code",
   "execution_count": null,
   "id": "6f8a7d12-2e31-40ae-b4b0-0dfad054d9b1",
   "metadata": {},
   "outputs": [],
   "source": [
    "courseTable = Table.read_table(\"data/ucsb-s25-courses.csv\")"
   ]
  },
  {
   "cell_type": "code",
   "execution_count": null,
   "id": "d510a348-b01a-467e-8adb-29fb34c7ea2a",
   "metadata": {},
   "outputs": [],
   "source": [
    "def courseIdToDept(courseId):\n",
    "    return courseId[0:8].strip()\n",
    "\n",
    "def courseIdToCourseNum(courseId):\n",
    "    return courseId[8:13].strip()\n",
    "\n",
    "def courseIdToSuffix(courseId):\n",
    "    return courseId[14:].strip()\n",
    "\n",
    "def isLecture(sectionNum):\n",
    "    # if section number is divisible by 100, it's a lecture\n",
    "    return sectionNum % 100 == 0"
   ]
  },
  {
   "cell_type": "code",
   "execution_count": null,
   "id": "15a51750-327d-4aee-b7e8-2384da69a316",
   "metadata": {},
   "outputs": [],
   "source": [
    "courses = courseTable.with_columns(\n",
    "    \"dept\", courseTable.apply(courseIdToDept, 0),\n",
    "    \"courseNum\", courseTable.apply(courseIdToCourseNum, 0),\n",
    "    \"suffix\", courseTable.apply(courseIdToSuffix, 0),\n",
    "    \"isLecture\", courseTable.apply(isLecture, \"SECTION\")\n",
    ")\n"
   ]
  },
  {
   "cell_type": "code",
   "execution_count": null,
   "id": "45e17ba5-66a8-47c3-b05b-402def01e0f5",
   "metadata": {},
   "outputs": [],
   "source": [
    "csLectures = courses \\\n",
    "   .where(\"dept\",are.equal_to(\"CMPSC\")) \\\n",
    "   .where(\"isLecture\",are.equal_to(True)) \\\n",
    "   .where(\"STATUS\",are.not_equal_to(\"Closed\")).show(4) "
   ]
  },
  {
   "cell_type": "code",
   "execution_count": null,
   "id": "03ae0973-35ba-4e06-bdee-c086e16ee93b",
   "metadata": {},
   "outputs": [],
   "source": [
    "csLectures.group(\"INSTRUCTOR\")"
   ]
  },
  {
   "cell_type": "code",
   "execution_count": null,
   "id": "2167bff8-c624-4a67-b16c-12d9f8a4582a",
   "metadata": {},
   "outputs": [],
   "source": [
    "csLectures"
   ]
  },
  {
   "cell_type": "markdown",
   "id": "eeef159e-a6bb-452f-917e-51030ff79ae0",
   "metadata": {},
   "source": [
    "Wait what?  What happened?"
   ]
  },
  {
   "cell_type": "markdown",
   "id": "50a82761-6cd1-4ae3-a4c7-b686924e2fc5",
   "metadata": {},
   "source": [
    "Here's what we had before:"
   ]
  },
  {
   "cell_type": "code",
   "execution_count": null,
   "id": "06a8d323-f1c1-4fce-9e28-027a1f750289",
   "metadata": {},
   "outputs": [],
   "source": [
    "csLectures = courses \\\n",
    "   .where(\"dept\",are.equal_to(\"CMPSC\")) \\\n",
    "   .where(\"isLecture\",are.equal_to(True)) \\\n",
    "   .where(\"STATUS\",are.not_equal_to(\"Closed\")).show(4) "
   ]
  },
  {
   "cell_type": "code",
   "execution_count": null,
   "id": "555662ff-bddb-42a1-acea-e2df6485e87d",
   "metadata": {},
   "outputs": [],
   "source": [
    "csLectures"
   ]
  },
  {
   "cell_type": "markdown",
   "id": "2bb31a68-8912-4047-9383-b00f91bda142",
   "metadata": {},
   "source": [
    "Why?!!  This leads us to explore \"print\" vs. \"return\""
   ]
  },
  {
   "cell_type": "markdown",
   "id": "3f48878c-d0d5-4920-9d7a-ee6033803900",
   "metadata": {},
   "source": [
    "## Print vs. Return\n",
    "\n",
    "Let's look at two function definitions:"
   ]
  },
  {
   "cell_type": "code",
   "execution_count": null,
   "id": "c4f8d15a-a920-4619-bb40-6e96853e2e12",
   "metadata": {},
   "outputs": [],
   "source": [
    "def addNumbers(a, b):\n",
    "    return a + b\n",
    "\n",
    "def sumNumbers(a, b):\n",
    "    print(a + b)"
   ]
  },
  {
   "cell_type": "markdown",
   "id": "0a9f12bd-7d9a-4ac9-a930-7bcad51ba0cb",
   "metadata": {},
   "source": [
    "Suppose we use call expressions with each of these:"
   ]
  },
  {
   "cell_type": "code",
   "execution_count": null,
   "id": "e61a99e7-92be-489b-8793-864b1592048e",
   "metadata": {},
   "outputs": [],
   "source": [
    "addNumbers(3, 5)"
   ]
  },
  {
   "cell_type": "code",
   "execution_count": null,
   "id": "05ff6572-d95b-4623-96ad-e977ddfb380e",
   "metadata": {},
   "outputs": [],
   "source": [
    "sumNumbers(3, 5)"
   ]
  },
  {
   "cell_type": "markdown",
   "id": "9d6bdadb-691b-4b1e-a76e-54fb592c4d24",
   "metadata": {},
   "source": [
    "It looks like they are the same!  But they are not!"
   ]
  },
  {
   "cell_type": "markdown",
   "id": "f8a67ccb-aea6-470c-9087-c96098d1e153",
   "metadata": {},
   "source": [
    "One way to see the difference is what happens when we assign the result.  Let's look at the values, and the types we get back:"
   ]
  },
  {
   "cell_type": "code",
   "execution_count": null,
   "id": "80fc6816-cd74-47b8-b5e3-13b22c37d867",
   "metadata": {},
   "outputs": [],
   "source": [
    "result1 = addNumbers(3,5)\n",
    "result1"
   ]
  },
  {
   "cell_type": "code",
   "execution_count": null,
   "id": "c34fe432-3df0-4bad-a0f8-2de3fd4d5a49",
   "metadata": {},
   "outputs": [],
   "source": [
    "type(result1)"
   ]
  },
  {
   "cell_type": "code",
   "execution_count": null,
   "id": "b2addc2c-b706-4ed4-b761-208f2616849e",
   "metadata": {},
   "outputs": [],
   "source": [
    "result2 = sumNumbers(3,5)"
   ]
  },
  {
   "cell_type": "code",
   "execution_count": null,
   "id": "b2e1bb5c-b58e-476d-8274-64798dd97b01",
   "metadata": {},
   "outputs": [],
   "source": [
    "result2"
   ]
  },
  {
   "cell_type": "code",
   "execution_count": null,
   "id": "055932fb-a09c-40f6-a36a-16ca30146209",
   "metadata": {},
   "outputs": [],
   "source": [
    "type(result2)"
   ]
  },
  {
   "cell_type": "markdown",
   "id": "03b9a593-3e1a-490a-bd8e-3995de2dde3b",
   "metadata": {},
   "source": [
    "Let's summarize that so we don't have to keep scrolling up and down to see the results:\n",
    "\n",
    "<table>\n",
    "    <thead>\n",
    "        <tr>\n",
    "            <th>With Return</th>\n",
    "            <th>With Print</th>\n",
    "        </tr>\n",
    "    </thead>\n",
    "    <tbody>\n",
    "        <tr>\n",
    "            <td markdown=\"1\">\n",
    "<pre>\n",
    "def addNumbers(a, b):            \n",
    "    return a + b\n",
    "</pre>\n",
    "            </td>\n",
    "            <td markdown=\"1\">\n",
    "<pre>\n",
    "def sumNumbers(a, b):         \n",
    "    print(a + b)\n",
    "</pre>\n",
    "            </td>\n",
    "        </tr>\n",
    "        <tr>\n",
    "            <td>return doesn't require ( ) </td>\n",
    "            <td>print requires ( ) </td>\n",
    "        </tr>\n",
    "          <tr>\n",
    "            <td>Assigning to variable <em>works</em>; the sum is <em>returned</em></td>\n",
    "            <td>Assigning to a variable <em>doesn't work</em>; <code>None</code> is returned</td>\n",
    "        </tr>\n",
    "    </tbody>\n",
    "</table>"
   ]
  },
  {
   "cell_type": "markdown",
   "id": "4cbd1ea2-4224-4db3-8f2b-1622bdece379",
   "metadata": {},
   "source": [
    "## *Every* function returns a value, but it's sometimes `None`\n",
    "\n"
   ]
  },
  {
   "cell_type": "markdown",
   "id": "83cbdfd0-bb6f-4f7c-88cd-ee0d4b4a03be",
   "metadata": {},
   "source": [
    "One way to understand this more easily is if you memorize this rule:\n",
    "* If a function encounters a `return` statement, the expression after the `return` is what we *get* as the *result* of the function call, i.e. the value we can assign to a variable.\n",
    "* If a function *has not return* statement, then at the end, there is an implied statement like this:\n",
    "  ```\n",
    "  return None\n",
    "  ```\n",
    "\n",
    "\n",
    "As a result, this is what happens:\n",
    "<table>\n",
    "    <thead>\n",
    "        <tr>\n",
    "            <th>If you write this function:</th>\n",
    "            <th>What you get is actually this function:</th>\n",
    "        </tr>\n",
    "    </thead>\n",
    "    <tbody>\n",
    "        <tr>\n",
    "            <td markdown=\"1\">\n",
    "<pre>\n",
    "def sumNumbers(a, b):         \n",
    "    print(a + b)\n",
    "</pre>\n",
    "            </td>\n",
    "            <td markdown=\"1\">\n",
    "<pre>\n",
    "def sumNumbers(a, b):         \n",
    "    print(a + b)\n",
    "    return None\n",
    "</pre>\n",
    "            </td>\n",
    "        </tr>\n",
    "        <tr>\n",
    "            <td>A function with no explicit <code>return</code> statement... </td>\n",
    "            <td>... turns into one with <code>return None</code> as the last line </td>\n",
    "        </tr>\n",
    "    </tbody>\n",
    "</table>\n",
    "\n",
    "\n",
    "That doesn't mean that functions that `return None` are bad, or useless!  \n",
    "\n",
    "It just means we have to be aware of this behavior.\n",
    "\n",
    "    \n",
    "\n"
   ]
  },
  {
   "cell_type": "markdown",
   "id": "48ad9712-5f9f-4139-ac10-6e1e37e5526d",
   "metadata": {},
   "source": [
    "### The `.show()` function of the `Table()` object returns `None`"
   ]
  },
  {
   "cell_type": "markdown",
   "id": "f3cede09-fc35-49ee-94e4-b9696bd4c920",
   "metadata": {},
   "source": [
    "That's why this doesn't do what we want:"
   ]
  },
  {
   "cell_type": "code",
   "execution_count": null,
   "id": "a0fd9e19-6498-481a-bb05-bd3b1616063e",
   "metadata": {},
   "outputs": [],
   "source": [
    "csLectures = courses \\\n",
    "   .where(\"dept\",are.equal_to(\"CMPSC\")) \\\n",
    "   .where(\"isLecture\",are.equal_to(True)) \\\n",
    "   .where(\"STATUS\",are.not_equal_to(\"Closed\")).show(4) \n",
    "csLectures.barh(\"COURSEID\",\"ENROLLED\")"
   ]
  },
  {
   "cell_type": "markdown",
   "id": "c127b850-90a3-4ca5-97fa-618127257cec",
   "metadata": {},
   "source": [
    "## What's the fix?\n",
    "\n",
    "The fix is to remove the `.show(4)` method from the end of the chain.\n",
    "\n",
    "We can chain the `.where(...)` method calls because each of them *returns* a new Table object.\n",
    "\n",
    "But show(4) returns `None` so that's why we get the error `'NoneType' object has no attribute 'barh'`\n",
    "\n",
    "Here's that code where we remove the `show(4)` from the end of the chain, and\n",
    "put it on a separate line.\n",
    "\n",
    "Now the bar graph works!"
   ]
  },
  {
   "cell_type": "code",
   "execution_count": null,
   "id": "a645d91c-4d9c-4f55-99bd-f5758616eee9",
   "metadata": {},
   "outputs": [],
   "source": [
    "csLectures = courses \\\n",
    "   .where(\"dept\",are.equal_to(\"CMPSC\")) \\\n",
    "   .where(\"isLecture\",are.equal_to(True)) \\\n",
    "   .where(\"STATUS\",are.not_equal_to(\"Closed\"))\n",
    "csLectures.show(4)\n",
    "csLectures.barh(\"COURSEID\",\"ENROLLED\")"
   ]
  },
  {
   "cell_type": "markdown",
   "id": "21172ad3-dde8-41e9-8e24-dddbf1d6c9d9",
   "metadata": {},
   "source": [
    "# What if I wanted just a bar graph for first four courses?\n",
    "\n",
    "So we had this code, and it worked, but what we got was:\n",
    "\n",
    "* A display of the top four rows in the table\n",
    "* A bar graph of ALL of the courses in the table"
   ]
  },
  {
   "cell_type": "code",
   "execution_count": null,
   "id": "2b974366-bb1f-4983-b68f-4a0594d1578f",
   "metadata": {},
   "outputs": [],
   "source": [
    "coursesToCount.labels"
   ]
  },
  {
   "cell_type": "code",
   "execution_count": null,
   "id": "9e0ac6c0-c5f9-4a12-b39d-03bb5b63bb1b",
   "metadata": {},
   "outputs": [],
   "source": [
    "csLectures = coursesToCount \\\n",
    "   .where(\"dept\",are.equal_to(\"CMPSC\")) \\\n",
    "   .where(\"SECTION\",is_lecture) \\\n",
    "   .where(\"STATUS\",are.not_equal_to(\"Closed\"))\n",
    "csLectures.show(4)\n",
    "csLectures.barh(\"COURSEID\",\"ENROLLED\")\n"
   ]
  },
  {
   "cell_type": "markdown",
   "id": "e5ed0ad2-5eaf-4f26-b5a6-9ef2cc2c02cb",
   "metadata": {},
   "source": [
    "What if we wanted a bar graph of just the first four rows in the table?\n",
    "\n",
    "That's where we need to understand the difference between `show(4)` and `take([0,1,2,3])`\n",
    "\n",
    "* `.show(4)` means \"show me the first four rows in the table, but leave the table unchanged\".\n",
    "  - It's similar to `print` in that it just *displays* something on the *screen* but that's *all* it does.\n",
    "  - And, after it displays, we get *nothing* back that we can assign or work with.\n",
    "* `take([0,1,2,3])` by contrast, *gives us something back*: a new table with the rows 0, 1, 2 and 3.\n",
    "  - Remember that the row numbers start at 0, not at 1.\n",
    "  - So, the row numbers of the first four rows are 0,1,2,3\n",
    "\n",
    "Here's what that looks like; notice a few things:\n",
    "* Note that we *can* chain the take to the end of the chain of where's\n",
    "* Note that we can assign the result to the variable `csLectures`\n",
    "* And notice that when we use that variable with the `barh`, we get only the first four courses."
   ]
  },
  {
   "cell_type": "code",
   "execution_count": null,
   "id": "5d1dde85-68a1-4493-b1e3-f5de38619c82",
   "metadata": {},
   "outputs": [],
   "source": [
    "csLectures = coursesToCount \\\n",
    "   .where(\"dept\",are.equal_to(\"CMPSC\")) \\\n",
    "   .where(\"SECTION\", is_lecture) \\\n",
    "   .where(\"STATUS\",are.not_equal_to(\"Closed\")) \\\n",
    "   .take([0,1,2,3])\n",
    "csLectures.barh(\"COURSEID\",\"ENROLLED\")"
   ]
  },
  {
   "cell_type": "markdown",
   "id": "035e88e3-012e-4d5d-b058-a4aa813b22e2",
   "metadata": {},
   "source": [
    "## We often use `np.arange(...)` instead of a list of specific numbers\n",
    "\n",
    "In this code, we used `[0,1,2,3]`, a list of four integers, to specify the row numbers."
   ]
  },
  {
   "cell_type": "markdown",
   "id": "716d992b-067a-4862-b09e-f45f8771982e",
   "metadata": {},
   "source": [
    "#### But, it's more common to use `np.arange(4)` which gives us this automatically:"
   ]
  },
  {
   "cell_type": "code",
   "execution_count": null,
   "id": "582b6ff7-1d20-43be-934e-ffe12c42ee1d",
   "metadata": {},
   "outputs": [],
   "source": [
    "np.arange(4)"
   ]
  },
  {
   "cell_type": "markdown",
   "id": "fab33cf3-cef8-4a5a-9c7b-de595c6245cc",
   "metadata": {},
   "source": [
    "Compare these two ways of specifying *take the first four rows*:\n",
    "\n",
    "<table>\n",
    "    <thead>\n",
    "        <tr>\n",
    "            <th><code>take()</code> argument is <code>[0,1,2,3]</code></th>\n",
    "            <th><code>take()</code> argument is <code>np.arange(4)</code></th>\n",
    "        </tr>\n",
    "    </thead>\n",
    "    <tbody>\n",
    "        <tr>\n",
    "            <td >\n",
    "<pre>\n",
    "csLectures = courses \\\n",
    "   .where(\"dept\",are.equal_to(\"CMPSC\")) \\\n",
    "   .where(\"isLecture\",are.equal_to(True)) \\\n",
    "   .where(\"STATUS\",are.not_equal_to(\"Closed\")) \\\n",
    "   .take([0,1,2,3])\n",
    "csLectures.barh(\"COURSEID\",\"ENROLLED\")\n",
    "</pre>\n",
    "            </td>\n",
    "            <td>\n",
    "<pre>\n",
    "csLectures = courses \\\n",
    "   .where(\"dept\",are.equal_to(\"CMPSC\")) \\\n",
    "   .where(\"isLecture\",are.equal_to(True)) \\\n",
    "   .where(\"STATUS\",are.not_equal_to(\"Closed\")) \\\n",
    "   .take(np.arange(4))\n",
    "csLectures.barh(\"COURSEID\",\"ENROLLED\")\n",
    "</pre>\n",
    "</td>\n",
    "</tr>\n",
    "</tbody>\n",
    "</table>\n",
    "\n"
   ]
  },
  {
   "cell_type": "markdown",
   "id": "034ad178-a1c7-4c55-a311-d94521771d6e",
   "metadata": {},
   "source": [
    "Though this both do the same thing:\n",
    "* The `np.arange(4)` is preferred because it gets right to the point: we want the first four rows.\n",
    "* Coding is about ore than just getting the right result; it's about writing the code in a way that in the future, both *you* and *other people* can read the code and understand it.\n"
   ]
  },
  {
   "cell_type": "markdown",
   "id": "4c8800d7-bdbf-4270-a650-c995b3da7fd4",
   "metadata": {},
   "source": [
    "## Why it is important to be able to understand the code\n",
    "\n",
    "It's understandable that at first, you may just be focused on *getting the result* and not on whether code is readable/understandable.\n",
    "\n",
    "But, readability/understandability are important for many reasons; here are two:\n",
    "* _Reliability_: If people will be relying on your data, tables, and visualizations (charts and graphs), you want to be sure they are accurate. That means you need to be able to read the code to be *sure* it's working as intended.\n",
    "* _Reuse_: You, or others, may need to do similar data analysis in the future, and you may want to look back at code you've already written to use it as a model for some new code.   If the code is hard to understand, that will be harder to accomplish."
   ]
  },
  {
   "cell_type": "markdown",
   "id": "454110c6-5292-4cae-8ea0-60d2d594342d",
   "metadata": {},
   "source": [
    "### Back to print vs return\n",
    "\n"
   ]
  },
  {
   "cell_type": "markdown",
   "id": "95968442-2e61-491b-b331-98b7a1812752",
   "metadata": {},
   "source": [
    "One of the advantages of functions that return values is that we can use the values they return in a new expression.\n",
    "\n",
    "For example:"
   ]
  },
  {
   "cell_type": "code",
   "execution_count": null,
   "id": "e93b0f87-6b37-40bc-9d3c-5c04d2fd0526",
   "metadata": {},
   "outputs": [],
   "source": [
    "def addNumbers(a, b):\n",
    "    return a + b\n",
    "\n",
    "# Multiplies 2+3 times 3+4\n",
    "# That is 5 times 7, giving 35\n",
    "x = addNumbers(2,3) * addNumbers(3,4)\n",
    "x"
   ]
  },
  {
   "cell_type": "markdown",
   "id": "001251a3-b4e6-45a3-bee5-8c2d79d598e2",
   "metadata": {},
   "source": [
    "BUT this doesn't work if you try it with functions that just *print* the sum:"
   ]
  },
  {
   "cell_type": "code",
   "execution_count": null,
   "id": "156613d4-64c5-4e5f-9adf-5df8f8dbae4b",
   "metadata": {},
   "outputs": [],
   "source": [
    "def sumNumbers(a, b):\n",
    "    print(a + b)\n",
    "\n",
    "# This does *not* multiply 2+3 times 3+4\n",
    "# It prints 5 and prints 7\n",
    "# But each part returns None and you can't multiply None * None\n",
    "x = sumNumbers(2,3) * sumNumbers(3,4)\n",
    "x"
   ]
  },
  {
   "cell_type": "markdown",
   "id": "123d2bd3-53df-4025-8b7b-e51c4ea17e6d",
   "metadata": {},
   "source": [
    "### Functions that return values can be nested:"
   ]
  },
  {
   "cell_type": "code",
   "execution_count": null,
   "id": "659c9745-bb7e-437a-b6b4-e54050cad857",
   "metadata": {},
   "outputs": [],
   "source": [
    "x   = addNumbers(addNumbers(1,2), addNumbers(3,4))\n",
    "# x = addNumbers(        3      ,       7.       )\n",
    "# x =                     10\n",
    "x"
   ]
  },
  {
   "cell_type": "markdown",
   "id": "7566394b-6159-4f8a-9a8c-0bdc246d4c06",
   "metadata": {},
   "source": [
    "## Lists vs. Arrays"
   ]
  },
  {
   "cell_type": "markdown",
   "id": "33e7ded4-8be6-4113-9fd3-0e3d7c4ebd7d",
   "metadata": {},
   "source": [
    "Let's compare two ways of grouping things in Python: lists and arrays\n",
    "\n",
    "| Lists | Arrays |\n",
    "|-------|--------|\n",
    "| Built in to Python | Requires `import numpy as np` | \n",
    "| Create with `[2, 3, 4]` |  Create with `make_array(2, 3, 4) `\n",
    "| `type` returns `list`      | `type` returns `np.ndarray` |\n",
    "| Can contain things of different types | Must all be the same type; will be coerced to string if you try different types |\n",
    "\n"
   ]
  },
  {
   "cell_type": "code",
   "execution_count": null,
   "id": "09282b31-a077-4641-9696-5b448d7a9b83",
   "metadata": {},
   "outputs": [],
   "source": [
    "# Example of lists\n",
    "\n",
    "things = [\"UCSB\", True, 1944, 10.0]\n",
    "type(things)"
   ]
  },
  {
   "cell_type": "code",
   "execution_count": null,
   "id": "7f2e5b4d-63cd-4cfe-b060-bd6d2f23bc2c",
   "metadata": {},
   "outputs": [],
   "source": [
    "print(f\"type(things[0])={type(things[0])}\")\n",
    "print(f\"type(things[1])={type(things[1])}\")\n",
    "print(f\"type(things[2])={type(things[2])}\")\n",
    "print(f\"type(things[3])={type(things[3])}\")"
   ]
  },
  {
   "cell_type": "code",
   "execution_count": null,
   "id": "e9d57dd4-efa4-4404-a3a6-45cc903e756c",
   "metadata": {},
   "outputs": [],
   "source": [
    "nums = [4, 6, 23, 9]\n",
    "nums"
   ]
  },
  {
   "cell_type": "code",
   "execution_count": null,
   "id": "eff67587-3a52-4f1e-9efe-b23b7e1b6104",
   "metadata": {},
   "outputs": [],
   "source": [
    "schools = [\"UCSB\", \"UCSD\", \"UCLA\"]\n",
    "schools"
   ]
  },
  {
   "cell_type": "code",
   "execution_count": null,
   "id": "a0d67528-cd71-495f-8e17-56bde8d94095",
   "metadata": {},
   "outputs": [],
   "source": [
    "# Examples of arrays\n",
    "\n",
    "schools_array = make_array(\"UCSB\", \"UCSD\", \"UCLA\")\n",
    "type(schools_array)"
   ]
  },
  {
   "cell_type": "code",
   "execution_count": null,
   "id": "c477973c-08c6-4232-9fc5-900b547778fb",
   "metadata": {},
   "outputs": [],
   "source": [
    "# If you try to make a numpy.ndarray with things of different types\n",
    "# they all become strings\n",
    "things_array = make_array(\"UCSB\", True, 1944, 10.0)\n",
    "things_array"
   ]
  },
  {
   "cell_type": "code",
   "execution_count": null,
   "id": "042c57c9-1f20-4b2f-961d-ae1770e6ec6c",
   "metadata": {},
   "outputs": [],
   "source": [
    "print(f\"type(things_array[0])={type(things_array[0])}\")\n",
    "print(f\"type(things_array[1])={type(things_array[1])}\")\n",
    "print(f\"type(things_array[2])={type(things_array[2])}\")\n",
    "print(f\"type(things_array[3])={type(things_array[3])}\")"
   ]
  },
  {
   "cell_type": "markdown",
   "id": "2060eeab-6992-48d2-b8b5-a1a5310231b3",
   "metadata": {},
   "source": [
    "## What lists and arrays have in common\n",
    "\n",
    "You can use either one to make a new column in a table. \n",
    "\n",
    "You can even mix and match:\n"
   ]
  },
  {
   "cell_type": "code",
   "execution_count": null,
   "id": "93ba8535-8a2d-42ef-a9d5-c06912c8ea21",
   "metadata": {},
   "outputs": [],
   "source": [
    "abbreviations = [\"UCSB\",\"UCSD\",\"UCLA\"]\n",
    "official_towns = make_array(\"Santa Barbara\", \"San Diego\", \"Los Angeles\")\n",
    "real_towns = [\"Goleta\", \"La Jolla\", \"Westwood\" ]\n",
    "\n",
    "schools = Table().with_columns(\"Abbreviations\",abbreviations,\"Official\",official_towns,\"Real\",real_towns)\n",
    "schools"
   ]
  },
  {
   "cell_type": "markdown",
   "id": "fa4c6682-b960-45d5-9d0e-3922eb0a4464",
   "metadata": {},
   "source": [
    "The main advantage of a numpy.ndarray is the math you can do with it"
   ]
  },
  {
   "cell_type": "code",
   "execution_count": null,
   "id": "b0c24c5a-6f59-430b-a72d-434d1294ef8a",
   "metadata": {},
   "outputs": [],
   "source": [
    "# This works\n",
    "distances_in_miles = make_array(40, 28, 104)\n",
    "times_in_minutes = make_array(60, 75, 98)\n",
    "times_in_hours = times_in_minutes/60\n",
    "times_in_hours"
   ]
  },
  {
   "cell_type": "code",
   "execution_count": null,
   "id": "ed922463-fa72-4193-913a-e2ebf87dd552",
   "metadata": {},
   "outputs": [],
   "source": [
    "speeds_in_miles_per_hour = distances_in_miles / times_in_hours\n",
    "speeds_in_miles_per_hour"
   ]
  },
  {
   "cell_type": "markdown",
   "id": "ec06e35a-561f-4501-99e7-80cdbfa9ab93",
   "metadata": {},
   "source": [
    "### Divide a numpy.ndarray times a scalar\n",
    "\n",
    "As you can see, we can treat numpy.ndarrays as *vectors*, i.e. a one-dimensional list of numbers.\n",
    "\n",
    "A single number like `60` above is called a *scalar*.\n",
    "\n",
    "When we divide a numpy.ndarray (vector) by a scalar, it \"scales\" the numbers like this:\n",
    "\n",
    "```python\n",
    "times_in_hours = times_in_minutes/60\n",
    "```\n",
    "\n",
    "So each element in `times_in_hours` is one of the elements of `times_in_minutes` divided by 60.\n",
    "\n",
    "This also works with addition, subtraction and mutiplication:"
   ]
  },
  {
   "cell_type": "code",
   "execution_count": null,
   "id": "af3acf4c-6be3-4e4f-b862-df3bb2d07770",
   "metadata": {},
   "outputs": [],
   "source": [
    "nums = make_array(1, 2, 4)\n",
    "bigger_nums = nums + 1\n",
    "bigger_nums"
   ]
  },
  {
   "cell_type": "code",
   "execution_count": null,
   "id": "567facaf-20cb-4d2e-b9b6-e121b0c18ab9",
   "metadata": {},
   "outputs": [],
   "source": [
    "smaller_nums = nums - 1\n",
    "smaller_nums"
   ]
  },
  {
   "cell_type": "code",
   "execution_count": null,
   "id": "baafe63a-c912-46bc-99aa-7e1d5142999f",
   "metadata": {},
   "outputs": [],
   "source": [
    "much_bigger_nums = nums * 100\n",
    "much_bigger_nums"
   ]
  },
  {
   "cell_type": "code",
   "execution_count": null,
   "id": "d49969b0-c4a6-434e-b2b2-20a3bc06d9e1",
   "metadata": {},
   "outputs": [],
   "source": [
    "### These same tricks do NOT work on plain old python lists"
   ]
  },
  {
   "cell_type": "code",
   "execution_count": null,
   "id": "b961bf4a-eea9-4cf9-bdbd-c78970431752",
   "metadata": {},
   "outputs": [],
   "source": [
    "nums_list = [1, 2, 4]\n",
    "bigger_nums_list = nums_list + 1\n",
    "bigger_nums_list"
   ]
  },
  {
   "cell_type": "code",
   "execution_count": null,
   "id": "ce43dd14-11f2-4bf3-a9d7-130d2f72505f",
   "metadata": {},
   "outputs": [],
   "source": [
    "# This works, but it doesn't do what you think it does\n",
    "# (at least not if you expect to get back [3,6,13]\n",
    "nums_list = [1, 2, 4]\n",
    "bigger_nums_list = nums_list * 3\n",
    "bigger_nums_list"
   ]
  },
  {
   "cell_type": "markdown",
   "id": "ca20a3c7-7f0b-4bd0-b218-ade79fe8e606",
   "metadata": {},
   "source": [
    "That's right, multiplying a list by an integer just repeats the list multiple times."
   ]
  },
  {
   "cell_type": "markdown",
   "id": "800365fc-ff32-43cb-ba76-d59bfe4cf386",
   "metadata": {},
   "source": [
    "So, lists are fine, but for doing math and calculations, `numpy.ndarrays` are often more convenient."
   ]
  }
 ],
 "metadata": {
  "kernelspec": {
   "display_name": "Python 3 (ipykernel)",
   "language": "python",
   "name": "python3"
  },
  "language_info": {
   "codemirror_mode": {
    "name": "ipython",
    "version": 3
   },
   "file_extension": ".py",
   "mimetype": "text/x-python",
   "name": "python",
   "nbconvert_exporter": "python",
   "pygments_lexer": "ipython3",
   "version": "3.13.7"
  }
 },
 "nbformat": 4,
 "nbformat_minor": 5
}
