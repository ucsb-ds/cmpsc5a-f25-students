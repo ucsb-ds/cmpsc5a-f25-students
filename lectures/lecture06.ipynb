{
 "cells": [
  {
   "cell_type": "code",
   "execution_count": 3,
   "id": "c69335b4-90c3-42d1-a0dd-45dca880c5bb",
   "metadata": {},
   "outputs": [],
   "source": [
    "# Click into this cell and press shift-enter before using this notebook.\n",
    "# This line loads the ability to use %%ai in your file\n",
    "%load_ext jupyter_ai_magics\n",
    "# These lines import the Python modules we commonly use in CMPSC 5A\n",
    "from datascience import *\n",
    "import numpy as np\n",
    "%matplotlib inline\n",
    "import matplotlib.pyplot as plots"
   ]
  },
  {
   "cell_type": "markdown",
   "id": "a5307c6f-b955-4df2-b497-dce5867d6e4b",
   "metadata": {},
   "source": [
    "# Lecture 6, CMPSC 5A, F25\n",
    "\n",
    "10/14/2025, Tuesday of Week 3"
   ]
  },
  {
   "cell_type": "markdown",
   "id": "df90ceb9-7529-4090-902f-add9bdac821b",
   "metadata": {},
   "source": [
    "# Notes to self \n",
    "* Check font size\n",
    "* Check that you are sharing the screen on the zoom session\n",
    "* Ask staff to help monitor the zoom chat\n",
    "* Remind students to run the top cell"
   ]
  },
  {
   "cell_type": "markdown",
   "id": "d40db6c8-4981-47c5-b279-311fef338263",
   "metadata": {},
   "source": [
    "## Today's Jupyter Notebook is more than 1 lecture's worth\n",
    "\n",
    "Today's Jupyter Notebook is probably two lectures' worth of material.\n",
    "\n",
    "We'll keep track of where we get to, and we'll start from that place next lecture."
   ]
  },
  {
   "cell_type": "markdown",
   "id": "e7cf2850-3f72-490c-8ea5-6273d382bbc6",
   "metadata": {
    "jp-MarkdownHeadingCollapsed": true
   },
   "source": [
    "## Where are we in the reading?\n",
    "\n",
    "You should have already read:\n",
    "* [Chapter 1: What is Data Science](https://inferentialthinking.com/chapters/01/what-is-data-science.html)\n",
    "* [Chapter 2 (Causality and Experiments)](https://inferentialthinking.com/chapters/02/causality-and-experiments.html)\n",
    "* [Chapter 3: Programming in Python](https://inferentialthinking.com/chapters/03/programming-in-python.html)\n",
    "* [Chapter 4: Data Types](https://inferentialthinking.com/chapters/04/Data_Types.html)\n",
    "\n",
    "The new reading for today was:\n",
    "\n",
    "* [Chapter 5 (Sequences)](https://inferentialthinking.com/chapters/05/Sequences.html)\n",
    "  \n",
    "For Tuesday of week 4:\n",
    "\n",
    "* [Chapter 6 (Tables)](https://inferentialthinking.com/chapters/06/Tables.html)\n",
    "\n",
    "For Thursday of week 4:\n",
    "\n",
    "* [Chapter 7 (Visualizations)](https://inferentialthinking.com/chapters/07/Visualization.html)\n",
    "\n",
    "I realize this is a lot.  But we need a lot of basic tools in our toolbox before we can really start *doing* Data Science and not just learning about the individual pieces."
   ]
  },
  {
   "cell_type": "markdown",
   "id": "7ace753c-524c-4afc-adfe-5720cdedec8a",
   "metadata": {},
   "source": [
    "## Last time\n",
    "\n",
    "Here's a summary of what we covered in lecture05\n",
    "\n",
    "* We reviewed the difference between backslash: (`\\`) and forward slash: (`/`)\n",
    "  \n",
    "* We noted that you can use backslash to continue lines in Python if a line of code is getting too long, like this:\n",
    "  ```\n",
    "  ucLocationsNew = ucLocations \\ \n",
    "     .relabeled(\"Campus\",\"name\") \\\n",
    "     .relabeled(\"Latitude\",\"lat\") \\\n",
    "     .relabeled(\"Longitude\",\"long\")\n",
    "  ```\n",
    "\n",
    "<p/>\n",
    "  \n",
    "* CSV Files are \"comma separated values\"\n",
    "\n",
    "* If you use `table.show()` on a large table in a Jupyter Notebook, use `Edit/Clear Cell Output` on that cell before you turn in your notebook.  Or remove the call.   It makes your notebook \"bloated\" in size which makes it hard to grade.\n",
    "\n",
    "* We covered these table properties\n",
    "  * `table.num_columns`\n",
    "  * `table.num_rows`\n",
    "  * `table.labels`\n",
    "\n",
    "<p/>\n",
    "    \n",
    "* We covered these table *methods*\n",
    "  * `table.select(\"Column1\",\"Column2\",\"Column3\")` will make a new table object with just the columns indicated.\n",
    "  * The method `table.relabeled(\"old name\",\"new name\")` can be used to make a new table with the labels changed.\n",
    "\n",
    "\n",
    "We reviewed how we can make a table with specific columns and data using the `with_columns` method, and the `make_array` function:"
   ]
  },
  {
   "cell_type": "code",
   "execution_count": null,
   "id": "78343b0a-8d39-4d14-b4a4-a0d168288060",
   "metadata": {},
   "outputs": [],
   "source": [
    "coursesAndUnits = Table().with_columns(\n",
    "    \"courses\",make_array(\"CMPSC 5A\",\"MATH 8\",\"ARTHI 101\"),\n",
    "    \"units\", make_array(4, 5, 4))\n",
    "coursesAndUnits"
   ]
  },
  {
   "cell_type": "markdown",
   "id": "71d4a371-5ced-4459-b659-f0b4a0f9d5f9",
   "metadata": {},
   "source": [
    "We noted that the `relabeled` method calls can be *chained* to rename multiple columns:"
   ]
  },
  {
   "cell_type": "code",
   "execution_count": null,
   "id": "888a7c53-1524-4b84-9d15-e07ac54f7761",
   "metadata": {},
   "outputs": [],
   "source": [
    "coursesAndUnits.relabeled(\"units\",\"credits\").relabeled(\"courses\",\"classes\")"
   ]
  },
  {
   "cell_type": "markdown",
   "id": "6babd5d8-ff2a-42de-b93a-fa150d82483f",
   "metadata": {},
   "source": [
    "\n",
    "## New material: let's take another look at the `.column()` method\n",
    "\n",
    "And to do that, we'll need the table from last lecture, which we built from CSV data in a string,\n",
    "like this:\n"
   ]
  },
  {
   "cell_type": "code",
   "execution_count": null,
   "id": "265415c2-99c1-48a1-bc60-44831c4df7f1",
   "metadata": {},
   "outputs": [],
   "source": [
    "# Note that this CSV data came from ChatGPT and is not necessarily accurate.\n",
    "# It's good enough for a demonstration of Python code, \n",
    "# but should not be used for decision making\n",
    "\n",
    "uc_csv_data = \"\"\"\n",
    "Campus,Location,Undergrad Enrollment,Grad Enrollment,Total Enrollment,Year Founded,Latitude,Longitude\n",
    "UCLA,Los Angeles,31600,13100,44700,1919,34.0689,-118.4439\n",
    "UC Berkeley,Berkeley,30800,11700,42500,1868,37.8719,-122.2585\n",
    "UC San Diego,San Diego,30200,9700,39900,1960,32.8801,-117.2340\n",
    "UC Davis,Davis,30300,7500,37800,1905,38.5382,-121.7617\n",
    "UC Santa Barbara,Santa Barbara,22000,3600,25600,1944,34.4133,-119.8489\n",
    "UC Irvine,Irvine,29600,5800,35400,1965,33.6405,-117.8443\n",
    "UC Santa Cruz,Santa Cruz,17300,1800,19100,1965,36.9914,-122.0588\n",
    "UC Riverside,Riverside,23900,5400,29300,1954,33.9737,-117.3281\n",
    "UC Merced,Merced,7700,1100,8800,2005,37.3646,-120.4244\n",
    "\"\"\"\n",
    "\n",
    "from io import StringIO\n",
    "ucTable = Table.read_table(StringIO(uc_csv_data))"
   ]
  },
  {
   "cell_type": "code",
   "execution_count": null,
   "id": "ad996740-e112-4d35-a068-c14dda774389",
   "metadata": {},
   "outputs": [],
   "source": [
    "ucTable"
   ]
  },
  {
   "cell_type": "markdown",
   "id": "cf8022ba-b7d7-470d-9995-a96889197d55",
   "metadata": {},
   "source": [
    "Here's a table about the column method:\n",
    "\n",
    "| Code | Explanation |\n",
    "|-|-|\n",
    "| `table.column(column_name)` | If `column_name` is a string, return data from the column with that name as an array, not as a table |\n",
    "| `table.column(column_num)` | If `column_num` is an integer, return data from that column (columns numbered 0, 1, 2 ... etc. |\n",
    "| `table.column(column_num).item(row_num)` | Return data item from column and row |"
   ]
  },
  {
   "cell_type": "markdown",
   "id": "329597ec-964c-4480-9c61-5be4a8d6102c",
   "metadata": {},
   "source": [
    "We can pull out any of the columns with `.column`.  For example, Undergrad Enrollment:"
   ]
  },
  {
   "cell_type": "code",
   "execution_count": null,
   "id": "64f6f6c9-0524-4afe-bad4-3583cf57ecb6",
   "metadata": {},
   "outputs": [],
   "source": [
    "ucTable.column(\"Undergrad Enrollment\")"
   ]
  },
  {
   "cell_type": "markdown",
   "id": "78b2466e-2242-41ce-a634-5a17d36172dd",
   "metadata": {},
   "source": [
    "What we get back is a `numpy.ndarray`\n",
    "* This means we are using the *numeric python* module (`numpy`) to make an *n-dimensional array* (`ndarray`)\n",
    "* This is what we get when we use the `make_array` function from `datascience` like this:"
   ]
  },
  {
   "cell_type": "code",
   "execution_count": null,
   "id": "4d785f0f-2988-46de-afc8-bf72daeb1e79",
   "metadata": {},
   "outputs": [],
   "source": [
    "numbers = make_array(200, 500, 800)\n",
    "numbers"
   ]
  },
  {
   "cell_type": "code",
   "execution_count": null,
   "id": "23685e74-f1ef-4a86-9437-a96dc333569f",
   "metadata": {},
   "outputs": [],
   "source": [
    "type(numbers)"
   ]
  },
  {
   "cell_type": "code",
   "execution_count": null,
   "id": "e4554572-3a7e-415b-9f08-3c5ae6e419ef",
   "metadata": {},
   "outputs": [],
   "source": [
    "ugrads = ucTable.column(\"Undergrad Enrollment\")\n",
    "ugrads"
   ]
  },
  {
   "cell_type": "code",
   "execution_count": null,
   "id": "e9183919-cef3-455d-be4e-75fd0e4869ca",
   "metadata": {},
   "outputs": [],
   "source": [
    "type(ugrads)"
   ]
  },
  {
   "cell_type": "markdown",
   "id": "33412230-a2b3-4de8-9e30-c6a0bafe3c78",
   "metadata": {},
   "source": [
    "# What can we do with a numpy.ndarray? (Chapter 5)\n",
    "\n",
    "Now, let's go back into Chapter 5 for a moment.\n",
    "\n",
    "What can we do with a numpy array?  Lots of things, as it turns out!\n",
    "\n",
    "We can find the sum, for example:\n"
   ]
  },
  {
   "cell_type": "code",
   "execution_count": null,
   "id": "0d9dc4b4-3ad3-4378-ac3b-3e6bf8a08720",
   "metadata": {},
   "outputs": [],
   "source": [
    "ugrads"
   ]
  },
  {
   "cell_type": "code",
   "execution_count": null,
   "id": "b1004a44-2ad5-4ad0-a809-5dabc418a171",
   "metadata": {},
   "outputs": [],
   "source": [
    "sum(ugrads)"
   ]
  },
  {
   "cell_type": "code",
   "execution_count": null,
   "id": "4cd38ade-17d4-44b0-be57-8ad8417cb32d",
   "metadata": {},
   "outputs": [],
   "source": [
    "numbers"
   ]
  },
  {
   "cell_type": "code",
   "execution_count": null,
   "id": "78d3876c-75ea-4123-8d3b-1f513f8413c2",
   "metadata": {},
   "outputs": [],
   "source": [
    "sum(numbers)"
   ]
  },
  {
   "cell_type": "markdown",
   "id": "b9cb4447-2c9e-4d97-a8e4-046d79e1a0aa",
   "metadata": {},
   "source": [
    "Applying that to our ucTable:"
   ]
  },
  {
   "cell_type": "code",
   "execution_count": null,
   "id": "13d81133-7dca-4e6b-8671-f3b1db0eee50",
   "metadata": {},
   "outputs": [],
   "source": [
    "ucTable"
   ]
  },
  {
   "cell_type": "markdown",
   "id": "0cc13e69-5f97-4a42-adea-314f8cb6267e",
   "metadata": {},
   "source": [
    "We can compute the total number of undergrads, grads, and total enrollment:"
   ]
  },
  {
   "cell_type": "code",
   "execution_count": null,
   "id": "5df07c7f-0cee-4876-96e4-3c717f857195",
   "metadata": {},
   "outputs": [],
   "source": [
    "total_ugrads = sum(ucTable.column(\"Undergrad Enrollment\"))\n",
    "total_ugrads"
   ]
  },
  {
   "cell_type": "code",
   "execution_count": null,
   "id": "f306660f-291b-4281-b70f-678f58257e77",
   "metadata": {},
   "outputs": [],
   "source": [
    "total_grads = sum(ucTable.column(\"Grad Enrollment\"))\n",
    "total_grads"
   ]
  },
  {
   "cell_type": "markdown",
   "id": "8affd2c2-a33c-437b-b45d-0fc0a283a18e",
   "metadata": {},
   "source": [
    "We can also do a sanity check on the Total Enrollment column.  We can try adding the two colums directly and see if it matches the column in the table.  First let's pull out three variables for the separate columns:"
   ]
  },
  {
   "cell_type": "code",
   "execution_count": null,
   "id": "55905c5f-1546-4532-be8b-83387e3fc55c",
   "metadata": {},
   "outputs": [],
   "source": [
    "ugradsColumn = ucTable.column(\"Undergrad Enrollment\")\n",
    "gradsColumn = ucTable.column(\"Grad Enrollment\")\n",
    "totalColumn = ucTable.column(\"Total Enrollment\")"
   ]
  },
  {
   "cell_type": "code",
   "execution_count": null,
   "id": "eb1ad017-1bd7-4c5a-8a51-a3bd0eea4c1c",
   "metadata": {},
   "outputs": [],
   "source": [
    "ugradsColumn"
   ]
  },
  {
   "cell_type": "code",
   "execution_count": null,
   "id": "675ad55f-0732-4bd6-b95c-881ece9d9a4a",
   "metadata": {},
   "outputs": [],
   "source": [
    "gradsColumn"
   ]
  },
  {
   "cell_type": "markdown",
   "id": "bd804bf5-9539-43e2-ad76-7a2030bc84d9",
   "metadata": {},
   "source": [
    "Now, we can form a new `numpy.ndarray` by adding these two together.  "
   ]
  },
  {
   "cell_type": "code",
   "execution_count": null,
   "id": "1b70ac8f-afbf-40a4-8ca1-af7c60d72bf4",
   "metadata": {},
   "outputs": [],
   "source": [
    "sumColumn = ugradsColumn + gradsColumn"
   ]
  },
  {
   "cell_type": "markdown",
   "id": "591f447d-a008-4236-b61d-18827cedae0e",
   "metadata": {},
   "source": [
    "Let's see what the value and type of that variable is:"
   ]
  },
  {
   "cell_type": "code",
   "execution_count": null,
   "id": "3c1ed90f-69d9-4379-9c72-f9e44c63c6b2",
   "metadata": {},
   "outputs": [],
   "source": [
    "sumColumn"
   ]
  },
  {
   "cell_type": "code",
   "execution_count": null,
   "id": "9deae85c-591b-4347-b13c-a9e4e2cd5112",
   "metadata": {},
   "outputs": [],
   "source": [
    "type(sumColumn)"
   ]
  },
  {
   "cell_type": "markdown",
   "id": "15952643-1a4d-4c4e-b373-6f8d9066dc5e",
   "metadata": {},
   "source": [
    "Now let's compare the totalColumn, which are the values from the table:"
   ]
  },
  {
   "cell_type": "code",
   "execution_count": null,
   "id": "9c14d16e-22d0-4826-9933-981fa1e0f0d6",
   "metadata": {},
   "outputs": [],
   "source": [
    "totalColumn"
   ]
  },
  {
   "cell_type": "markdown",
   "id": "f850a551-913f-4702-bd49-ebb6f35b8fb9",
   "metadata": {},
   "source": [
    "It appears to be the same values!  But just in case, let's subtract; if they are equal, all of the values in the difference array should be zero:"
   ]
  },
  {
   "cell_type": "code",
   "execution_count": null,
   "id": "16e24391-c73f-41d2-868c-75b74f0a1e9e",
   "metadata": {},
   "outputs": [],
   "source": [
    "sumColumn - totalColumn"
   ]
  },
  {
   "cell_type": "markdown",
   "id": "89d8a73a-e36c-4aa2-9cfa-e08c92c79ae0",
   "metadata": {},
   "source": [
    "In this case, since there are only nine values in the array, we can just look at them.  But if there were hundreds, or thousands of values, we might want to ask the computer to check that for us.  \n",
    "\n",
    "There's a way to do that using a function from the `numpy` package.\n",
    "\n",
    "And *this will end up being an important technique* later in the class, so even if it seems silly, now, let's take a look:\n",
    "\n",
    "First, let's give the difference a name:\n"
   ]
  },
  {
   "cell_type": "code",
   "execution_count": null,
   "id": "cb48d1d8-4c22-41b5-8e0a-81f9eb7dd57c",
   "metadata": {},
   "outputs": [],
   "source": [
    "difference = sumColumn - totalColumn"
   ]
  },
  {
   "cell_type": "code",
   "execution_count": null,
   "id": "efe42f66-8012-4659-8821-efedcf11bc8c",
   "metadata": {},
   "outputs": [],
   "source": [
    "difference"
   ]
  },
  {
   "cell_type": "code",
   "execution_count": null,
   "id": "2caa3ed5-5e9a-494a-bad8-102fef7e84fc",
   "metadata": {},
   "outputs": [],
   "source": [
    "type(difference)"
   ]
  },
  {
   "cell_type": "markdown",
   "id": "1aa8e0e4-0d73-4aee-93cf-95e0bcf753f5",
   "metadata": {},
   "source": [
    "Now, let's use the `numpy.nonzero()` function.   Since we have `import numpy as np` in the top of our notebook, we use `np` instead of `numpy` to refer to this function:"
   ]
  },
  {
   "cell_type": "code",
   "execution_count": null,
   "id": "f50735c4-b213-41f7-b966-bef5f1c06d81",
   "metadata": {},
   "outputs": [],
   "source": [
    "np.nonzero(difference)"
   ]
  },
  {
   "cell_type": "markdown",
   "id": "28fa14e1-ffb7-477f-bfff-60b981d9bece",
   "metadata": {},
   "source": [
    "What we get back is an empty array, `[]`.   This tells us that there are no elements in this array that are non-zero."
   ]
  },
  {
   "cell_type": "markdown",
   "id": "ee665377-896d-4986-9a66-d82d623f7e94",
   "metadata": {},
   "source": [
    "If we did have one or more zeros, we'd be given the indexes of those values (some people say \"indices\" instead of \"indexes\").  Here's an example:"
   ]
  },
  {
   "cell_type": "code",
   "execution_count": null,
   "id": "4c382456-780c-4983-bd68-c2134d1cbf6f",
   "metadata": {},
   "outputs": [],
   "source": [
    "firstArray  = make_array(200, 500, 800, 1000, 1250, 5000)\n",
    "secondArray = make_array(200, 600, 800, 1000, 1350, 5000)\n",
    "diffs = firstArray - secondArray\n",
    "diffs"
   ]
  },
  {
   "cell_type": "code",
   "execution_count": null,
   "id": "cef57521-60ab-4eb0-b312-30f018a33794",
   "metadata": {},
   "outputs": [],
   "source": [
    "np.nonzero(diffs)"
   ]
  },
  {
   "cell_type": "markdown",
   "id": "5501a6ce-6b20-4be1-879f-a9b24db3b037",
   "metadata": {},
   "source": [
    "What the `1` and `4` signify here is that the two arrays differ at index `1` and at index `4`.\n",
    "\n",
    "When the arrays are small like this, we don't really need this techinque, but when the arrays get\n",
    "huge (10s, 100s, or 1000s of rows), it will be very handy.  So we'll definitely see this again\n",
    "before the course is over!"
   ]
  },
  {
   "cell_type": "markdown",
   "id": "af332267-cccb-42a7-99e3-45fc199d07ea",
   "metadata": {},
   "source": [
    "### Review: Compare `.column(\"Column Name\")` vs. `.select(\"Column Name\")`\n",
    "\n",
    "These both select out a column, but with different results.\n",
    "\n",
    "We can get a specfic column as an `array` like this:"
   ]
  },
  {
   "cell_type": "code",
   "execution_count": null,
   "id": "b7aef175-b2d9-4a9f-b902-20c2f650948d",
   "metadata": {},
   "outputs": [],
   "source": [
    "ucTable.column(\"Campus\")"
   ]
  },
  {
   "cell_type": "markdown",
   "id": "5a8a1ddd-a7e8-44e7-9fe9-1993423e4a7a",
   "metadata": {},
   "source": [
    "Using `.column` gives us the specified column as an `array`, not as a table.  \n",
    "\n",
    "Compare `.column` vs. `.select`:"
   ]
  },
  {
   "cell_type": "code",
   "execution_count": null,
   "id": "140176ab-75d5-407a-9e7c-d520e99d15cb",
   "metadata": {},
   "outputs": [],
   "source": [
    "ucTable.select(\"Campus\")"
   ]
  },
  {
   "cell_type": "markdown",
   "id": "edf95fc2-6008-4157-b417-2061fd5ab570",
   "metadata": {},
   "source": [
    "And compare the data types.  Note that the data type is important because it tells you what methods you can and cannot apply to the object:"
   ]
  },
  {
   "cell_type": "code",
   "execution_count": null,
   "id": "8f617987-6637-4952-8e03-bfccd6e49542",
   "metadata": {},
   "outputs": [],
   "source": [
    "type(ucTable.select(\"Campus\"))"
   ]
  },
  {
   "cell_type": "code",
   "execution_count": null,
   "id": "f791b3e9-7c7f-4304-b80d-aefccb43823e",
   "metadata": {},
   "outputs": [],
   "source": [
    "type(ucTable.column(\"Campus\"))"
   ]
  },
  {
   "cell_type": "markdown",
   "id": "2c7482f7-d7db-45d5-b58a-3911d2f627cf",
   "metadata": {},
   "source": [
    "* Using `.select`, we get a `datascience.tables.Table` back and we can use the `Table()` methods on it (from Chapter 6).\n",
    "* Using `.column`, we get a `numpy.ndarray` back and we can use the `array` methods on it (from Chapter 5)."
   ]
  },
  {
   "cell_type": "markdown",
   "id": "602bc555-a499-48bf-b6ec-4d39cf08cd90",
   "metadata": {},
   "source": [
    "# Review: `.select(...)`, `.column(...)`, `.take(...)`:\n",
    "\n",
    "Suppose we have a students table defined like this:"
   ]
  },
  {
   "cell_type": "code",
   "execution_count": 5,
   "id": "9634ac94-54af-4a5c-9e09-eeffeed42546",
   "metadata": {},
   "outputs": [],
   "source": [
    "students = Table().with_columns(\n",
    "    \"name\",make_array(\"Chris Gaucho\",\"Laurie Sabado\",\"Pat Chen\"),\n",
    "    \"perm\",make_array(\"A123456\",\"B234567\",\"C345678\"),\n",
    "    \"email\",make_array(\"cgaucho@ucsb.edu\",\"lsabado@ucsb.edu\",\"pchen@ucsb.edu\")\n",
    ")"
   ]
  },
  {
   "cell_type": "code",
   "execution_count": 6,
   "id": "f7175b68-ede8-4742-b016-645ee34ae478",
   "metadata": {},
   "outputs": [
    {
     "data": {
      "text/html": [
       "<table border=\"1\" class=\"dataframe\">\n",
       "    <thead>\n",
       "        <tr>\n",
       "            <th>name</th> <th>perm</th> <th>email</th>\n",
       "        </tr>\n",
       "    </thead>\n",
       "    <tbody>\n",
       "        <tr>\n",
       "            <td>Chris Gaucho </td> <td>A123456</td> <td>cgaucho@ucsb.edu</td>\n",
       "        </tr>\n",
       "        <tr>\n",
       "            <td>Laurie Sabado</td> <td>B234567</td> <td>lsabado@ucsb.edu</td>\n",
       "        </tr>\n",
       "        <tr>\n",
       "            <td>Pat Chen     </td> <td>C345678</td> <td>pchen@ucsb.edu  </td>\n",
       "        </tr>\n",
       "    </tbody>\n",
       "</table>"
      ],
      "text/plain": [
       "name          | perm    | email\n",
       "Chris Gaucho  | A123456 | cgaucho@ucsb.edu\n",
       "Laurie Sabado | B234567 | lsabado@ucsb.edu\n",
       "Pat Chen      | C345678 | pchen@ucsb.edu"
      ]
     },
     "execution_count": 6,
     "metadata": {},
     "output_type": "execute_result"
    }
   ],
   "source": [
    "students"
   ]
  },
  {
   "cell_type": "markdown",
   "id": "f6bfe345-27a2-4f2b-be0b-f47d2f454225",
   "metadata": {},
   "source": [
    "We can select out the names and emails with `.select(\"name\", \"email\")`"
   ]
  },
  {
   "cell_type": "code",
   "execution_count": 8,
   "id": "b12eea28-8854-414a-8600-b2eba515ae0e",
   "metadata": {},
   "outputs": [
    {
     "data": {
      "text/html": [
       "<table border=\"1\" class=\"dataframe\">\n",
       "    <thead>\n",
       "        <tr>\n",
       "            <th>name</th> <th>email</th>\n",
       "        </tr>\n",
       "    </thead>\n",
       "    <tbody>\n",
       "        <tr>\n",
       "            <td>Chris Gaucho </td> <td>cgaucho@ucsb.edu</td>\n",
       "        </tr>\n",
       "        <tr>\n",
       "            <td>Laurie Sabado</td> <td>lsabado@ucsb.edu</td>\n",
       "        </tr>\n",
       "        <tr>\n",
       "            <td>Pat Chen     </td> <td>pchen@ucsb.edu  </td>\n",
       "        </tr>\n",
       "    </tbody>\n",
       "</table>"
      ],
      "text/plain": [
       "name          | email\n",
       "Chris Gaucho  | cgaucho@ucsb.edu\n",
       "Laurie Sabado | lsabado@ucsb.edu\n",
       "Pat Chen      | pchen@ucsb.edu"
      ]
     },
     "execution_count": 8,
     "metadata": {},
     "output_type": "execute_result"
    }
   ],
   "source": [
    "students.select(\"name\", \"email\")"
   ]
  },
  {
   "cell_type": "markdown",
   "id": "b97c92a0-8c82-4c1b-96d0-ed10c06c2bd8",
   "metadata": {},
   "source": [
    "We can make a `numpy.ndarray` of the names with `.column(\"perm\")`"
   ]
  },
  {
   "cell_type": "code",
   "execution_count": 11,
   "id": "41e4d9e2-6ef8-42ae-93f4-abe5e9e5f1cf",
   "metadata": {},
   "outputs": [
    {
     "data": {
      "text/plain": [
       "array(['A123456', 'B234567', 'C345678'],\n",
       "      dtype='<U7')"
      ]
     },
     "execution_count": 11,
     "metadata": {},
     "output_type": "execute_result"
    }
   ],
   "source": [
    "students.column(\"perm\")"
   ]
  },
  {
   "cell_type": "markdown",
   "id": "4655caa7-0e78-4d06-ae76-0130551934dd",
   "metadata": {},
   "source": [
    "We can get a table with just the middle row by using `.take(1)`"
   ]
  },
  {
   "cell_type": "code",
   "execution_count": 12,
   "id": "24428bf0-7e3e-481f-9c40-e3521fb511b9",
   "metadata": {},
   "outputs": [
    {
     "data": {
      "text/html": [
       "<table border=\"1\" class=\"dataframe\">\n",
       "    <thead>\n",
       "        <tr>\n",
       "            <th>name</th> <th>perm</th> <th>email</th>\n",
       "        </tr>\n",
       "    </thead>\n",
       "    <tbody>\n",
       "        <tr>\n",
       "            <td>Laurie Sabado</td> <td>B234567</td> <td>lsabado@ucsb.edu</td>\n",
       "        </tr>\n",
       "    </tbody>\n",
       "</table>"
      ],
      "text/plain": [
       "name          | perm    | email\n",
       "Laurie Sabado | B234567 | lsabado@ucsb.edu"
      ]
     },
     "execution_count": 12,
     "metadata": {},
     "output_type": "execute_result"
    }
   ],
   "source": [
    "students.take(1)"
   ]
  },
  {
   "cell_type": "markdown",
   "id": "1ef72cd1-40a1-43b2-9915-3631607b614c",
   "metadata": {},
   "source": [
    "Or a table without the top row (row 0) by using:"
   ]
  },
  {
   "cell_type": "markdown",
   "id": "61973c20-e9aa-4f76-b33d-9f5cc7418835",
   "metadata": {},
   "source": [
    "Note that `students.row(1)` gives me something, but it is NOT a table object."
   ]
  },
  {
   "cell_type": "code",
   "execution_count": 18,
   "id": "11094662-24b1-49d7-a368-819b98b1e277",
   "metadata": {},
   "outputs": [
    {
     "data": {
      "text/plain": [
       "Row(name='Laurie Sabado', perm='B234567', email='lsabado@ucsb.edu')"
      ]
     },
     "execution_count": 18,
     "metadata": {},
     "output_type": "execute_result"
    }
   ],
   "source": [
    "students.row(1)"
   ]
  },
  {
   "cell_type": "markdown",
   "id": "71c9bd95-1501-446e-8de3-076015ff0a8f",
   "metadata": {},
   "source": [
    "So, if you are asked to produce a *Table* with a certain row or set of rows, you need\n",
    "to use `.take(...)`, not `.row(...)`\n",
    "\n",
    "We can also specify multiple row indexs in a `.take(...)` method call:"
   ]
  },
  {
   "cell_type": "code",
   "execution_count": 20,
   "id": "6d21bf09-5bc7-4c0f-b5db-b9c6d7b6cafc",
   "metadata": {},
   "outputs": [
    {
     "data": {
      "text/html": [
       "<table border=\"1\" class=\"dataframe\">\n",
       "    <thead>\n",
       "        <tr>\n",
       "            <th>name</th> <th>perm</th> <th>email</th>\n",
       "        </tr>\n",
       "    </thead>\n",
       "    <tbody>\n",
       "        <tr>\n",
       "            <td>Laurie Sabado</td> <td>B234567</td> <td>lsabado@ucsb.edu</td>\n",
       "        </tr>\n",
       "        <tr>\n",
       "            <td>Pat Chen     </td> <td>C345678</td> <td>pchen@ucsb.edu  </td>\n",
       "        </tr>\n",
       "    </tbody>\n",
       "</table>"
      ],
      "text/plain": [
       "name          | perm    | email\n",
       "Laurie Sabado | B234567 | lsabado@ucsb.edu\n",
       "Pat Chen      | C345678 | pchen@ucsb.edu"
      ]
     },
     "execution_count": 20,
     "metadata": {},
     "output_type": "execute_result"
    }
   ],
   "source": [
    "students.take([1,2])"
   ]
  },
  {
   "cell_type": "markdown",
   "id": "d3cce3e5-fef4-48cc-a2af-06669515811b",
   "metadata": {},
   "source": [
    "# In-Class Activity ic07\n",
    "\n",
    "Please open `ic07-10.14` on Gradescope and complete it now.\n",
    "\n",
    "* <https://ucsb.instructure.com/courses/27686/assignments/399434?module_item_id=1877711>\n",
    "\n",
    "If you have questions, please ask!  Also consult the material above.\n",
    "\n",
    "If you have trouble with the assignment, **ask during class**, don't wait until later.  This must be completed **during class** (we don't do makeup for in-class assignments.)"
   ]
  },
  {
   "cell_type": "markdown",
   "id": "60254099-3da1-43f1-9ede-2c1316c57d9c",
   "metadata": {},
   "source": [
    "## Review: A single cell: `table.column(col).item_num(row)`\n",
    "\n",
    "If we want a specific cell, we can ask for it by column and row, using either column name or column number, and then row number.\n",
    "\n",
    "For example:\n"
   ]
  },
  {
   "cell_type": "code",
   "execution_count": null,
   "id": "a6909537-0b7a-4102-852b-cd9f1926fa38",
   "metadata": {},
   "outputs": [],
   "source": [
    "ucTable"
   ]
  },
  {
   "cell_type": "code",
   "execution_count": null,
   "id": "49e4644c-c19c-45e7-8ad3-66dea0b6aa53",
   "metadata": {},
   "outputs": [],
   "source": [
    "ucTable.column(\"Campus\")"
   ]
  },
  {
   "cell_type": "code",
   "execution_count": null,
   "id": "26b046e8-618a-4aee-8f49-9f3a8bb13abc",
   "metadata": {},
   "outputs": [],
   "source": [
    "ucTable.column(\"Campus\").item(4)"
   ]
  },
  {
   "cell_type": "code",
   "execution_count": null,
   "id": "e849bd49-b6e7-4b83-b083-cc67a1fcbade",
   "metadata": {},
   "outputs": [],
   "source": [
    "ucTable.column(\"Undergrad Enrollment\").item(4)"
   ]
  },
  {
   "cell_type": "markdown",
   "id": "5cb52cb1-fd8a-4a64-b643-d903f3e6af32",
   "metadata": {},
   "source": [
    "We went over that last time, but this time we will also point out that the `.column()` method can take either a column name, or a column index (starting from 0), like this:"
   ]
  },
  {
   "cell_type": "code",
   "execution_count": null,
   "id": "cb5b690e-2cf3-414a-9e0b-e96748599c25",
   "metadata": {},
   "outputs": [],
   "source": [
    "ucTable"
   ]
  },
  {
   "cell_type": "code",
   "execution_count": null,
   "id": "8e443dca-6347-4d94-b78b-bcc71ec12a96",
   "metadata": {},
   "outputs": [],
   "source": [
    "ucTable.column(0)"
   ]
  },
  {
   "cell_type": "code",
   "execution_count": null,
   "id": "8b96a8e3-5ca6-428e-958d-9907cc2d9e1f",
   "metadata": {},
   "outputs": [],
   "source": [
    "ucTable.column(1)"
   ]
  },
  {
   "cell_type": "code",
   "execution_count": null,
   "id": "36c66dfa-db32-4d93-857d-1c366c1b8fd6",
   "metadata": {},
   "outputs": [],
   "source": [
    "ucTable.column(2)"
   ]
  },
  {
   "cell_type": "code",
   "execution_count": null,
   "id": "3889f6b3-2fa5-4ba3-997a-0bc2ff13d1ea",
   "metadata": {},
   "outputs": [],
   "source": [
    "ucTable.show(5)"
   ]
  },
  {
   "cell_type": "code",
   "execution_count": null,
   "id": "ee31e8ae-bb8d-460f-98fa-d7d19359a9e4",
   "metadata": {},
   "outputs": [],
   "source": [
    "ucTable.column(2).item(3)"
   ]
  },
  {
   "cell_type": "code",
   "execution_count": null,
   "id": "00a5c595-c6e9-4221-9169-0727a2e80575",
   "metadata": {},
   "outputs": [],
   "source": [
    "ucTable.column(4).item(1)"
   ]
  },
  {
   "cell_type": "code",
   "execution_count": null,
   "id": "2deb7843-1490-463c-9848-4fbc9bd60cad",
   "metadata": {},
   "outputs": [],
   "source": []
  },
  {
   "cell_type": "markdown",
   "id": "dcde7c7f-b2a3-487e-92ce-82030c8a713e",
   "metadata": {},
   "source": [
    "### Review: Adding an age column to a table\n",
    "\n",
    "Last time, we calculated a table of UC ages by:\n",
    "* Making a smaller table using `.select`\n",
    "* Relabeling columns using `relabel` (that also works just like `relabeled`)\n",
    "* Using numpy math on the year column to make an array of ages\n",
    "* Using `with_column` to add that new column to the table.\n",
    "\n",
    "Let's review that process:\n"
   ]
  },
  {
   "cell_type": "code",
   "execution_count": null,
   "id": "0c5bfeed-cef6-4c12-815e-6b71ec792b8d",
   "metadata": {},
   "outputs": [],
   "source": [
    "ucYears = ucTable.select(\"Campus\",\"Year Founded\") \\\n",
    "  .relabel(\"Year Founded\",\"year\") \\\n",
    "  .relabel(\"Campus\",\"name\")\n",
    "ucYears.show(3)"
   ]
  },
  {
   "cell_type": "code",
   "execution_count": null,
   "id": "d09f8eb3-2d07-4754-9277-273e2d1d0c47",
   "metadata": {},
   "outputs": [],
   "source": [
    "ucYears.column(\"year\")"
   ]
  },
  {
   "cell_type": "code",
   "execution_count": null,
   "id": "c5ea5b3f-75e7-41ce-aa2f-3332882cebde",
   "metadata": {},
   "outputs": [],
   "source": [
    "ages = 2025 - ucYears.column(\"year\")\n",
    "ages"
   ]
  },
  {
   "cell_type": "code",
   "execution_count": null,
   "id": "d0085ba9-54c5-4c06-bfb1-8e25b5ef574a",
   "metadata": {},
   "outputs": [],
   "source": [
    "ucAges = ucYears.with_column(\"age\",ages)\n",
    "ucAges"
   ]
  },
  {
   "cell_type": "markdown",
   "id": "e59323b1-3fc4-479b-aaf9-52779f5d767c",
   "metadata": {},
   "source": [
    "Let's do that again, but all in one code cell:"
   ]
  },
  {
   "cell_type": "code",
   "execution_count": null,
   "id": "70ef707f-2350-49e1-8ec7-3177cd1d9f76",
   "metadata": {},
   "outputs": [],
   "source": [
    "ucAges = ucYears.with_column(\"age\", 2025 - ucYears.column(\"year\"))"
   ]
  },
  {
   "cell_type": "code",
   "execution_count": null,
   "id": "3d1030f3-94c6-4212-b176-c8d3a0879077",
   "metadata": {},
   "outputs": [],
   "source": [
    "ucAges"
   ]
  },
  {
   "cell_type": "markdown",
   "id": "7562972b-719b-4d6d-a604-6296921797e3",
   "metadata": {},
   "source": [
    "## Section 6.1: Sorting a table\n",
    "\n",
    "Sorting a table is covered in [Section 6.1](https://inferentialthinking.com/chapters/06/1/Sorting_Rows.html).\n",
    "\n",
    "The following isn't a complete coverage of [Section 6.1](https://inferentialthinking.com/chapters/06/1/Sorting_Rows.html), so *you still need to read it*.\n",
    "\n",
    "Now that we have a table that has all of the UCs in it, let's sort them by age:"
   ]
  },
  {
   "cell_type": "code",
   "execution_count": null,
   "id": "9ede8f0d-5d43-402e-b9d3-ed33b883af70",
   "metadata": {},
   "outputs": [],
   "source": [
    "ucAges = ucAges.sort(\"age\")"
   ]
  },
  {
   "cell_type": "markdown",
   "id": "bb3701f7-b741-48b5-ae99-b1978d615284",
   "metadata": {},
   "source": [
    "By default, we get smallest to largest (in this case, newest first, oldest last).\n",
    "\n",
    "If we want the opposite direction, we can specify it this way:"
   ]
  },
  {
   "cell_type": "code",
   "execution_count": null,
   "id": "02b45b6f-4544-4ee5-a479-4bb970c2046e",
   "metadata": {},
   "outputs": [],
   "source": [
    "ucAgesSorted = ucAges.sort(\"age\", descending=True)"
   ]
  },
  {
   "cell_type": "code",
   "execution_count": null,
   "id": "0517dc0c-8696-4436-9cc8-06ba11795a45",
   "metadata": {},
   "outputs": [],
   "source": [
    "ucAges"
   ]
  },
  {
   "cell_type": "markdown",
   "id": "dd5f1cca-07b4-4f07-9a6b-9cdb0e66a767",
   "metadata": {},
   "source": [
    "## Section 6.2: Selecting Rows from a table (`take`)\n",
    "\n",
    "Selecting rows from a table is covered in [Section 6.2](https://inferentialthinking.com/chapters/06/2/Selecting_Rows.html)"
   ]
  },
  {
   "cell_type": "markdown",
   "id": "1703b561-c0ec-4818-baae-d89a56352c93",
   "metadata": {},
   "source": [
    "### Use case: List the five oldest UC Campuses\n",
    "\n",
    "* As we mentioned last time, \"use case\" means \"when would we need this to do something useful?\"\n",
    "* We are explaining the `take()` method in the context where it would be useful.\n",
    "\n",
    "If we have a table of UC Campuses with their ages, like this:\n"
   ]
  },
  {
   "cell_type": "code",
   "execution_count": null,
   "id": "c1b04b96-e069-43c8-82a4-522057654b3e",
   "metadata": {},
   "outputs": [],
   "source": [
    "ucAges"
   ]
  },
  {
   "cell_type": "markdown",
   "id": "ce31131e-fa83-4120-bc04-926845b6f857",
   "metadata": {},
   "source": [
    "We can find the five oldest UCs, by:\n",
    "* First, sorting oldest to newest\n",
    "* Then, taking the first five rows\n",
    "\n",
    "Here's what that looks like:"
   ]
  },
  {
   "cell_type": "code",
   "execution_count": null,
   "id": "e17fb7ad-9efb-4d7f-b87f-262a577cdbca",
   "metadata": {},
   "outputs": [],
   "source": [
    "ucsSortedByAgeDescending = ucAges.sort(\"age\",descending=True)\n",
    "ucsSortedByAgeDescending"
   ]
  },
  {
   "cell_type": "code",
   "execution_count": null,
   "id": "5e948b34-08c9-4faa-849d-8a99805aa705",
   "metadata": {},
   "outputs": [],
   "source": [
    "np.arange(5)"
   ]
  },
  {
   "cell_type": "code",
   "execution_count": null,
   "id": "4571848d-95ba-43c7-b87d-cafcf88f0f1a",
   "metadata": {},
   "outputs": [],
   "source": [
    "ucsSortedByAgeDescending.take(3)"
   ]
  },
  {
   "cell_type": "code",
   "execution_count": null,
   "id": "ce64213f-5204-4ef2-9680-25760074da40",
   "metadata": {},
   "outputs": [],
   "source": [
    "ucsSortedByAgeDescending.take([0,1,2,3,4])"
   ]
  },
  {
   "cell_type": "code",
   "execution_count": null,
   "id": "63bc58b6-3d84-4908-83a7-bc2f5ef7d515",
   "metadata": {},
   "outputs": [],
   "source": [
    "ucAges.sort(\"age\",descending=True).take(np.arange(5))"
   ]
  },
  {
   "cell_type": "markdown",
   "id": "ca8a6b36-08a4-4795-b69d-38e23bd257b6",
   "metadata": {},
   "source": [
    "Let's unpack that from the inside out, starting with `np.arange(5)`\n",
    "\n",
    "* It's important to know that `np` is an abbreviation for `numpy` in case we want to look up the documentation for `arange` or ask an AI about it.\n",
    "* Thus: `np.arange(5)` refers to the `arange` function from the `numpy` module.\n",
    "* What it does is described in [Section 5.2 (Ranges)](https://inferentialthinking.com/chapters/05/2/Ranges.html), which you have hopefully already read, but lets review it now.\n",
    "\n",
    "So `np.arange(5)` gives us a numpy.ndarray (an n-dimensional array, but in this case a 1-dimensional array), with the numbers `0, 1, 2, 3, and 4`:"
   ]
  },
  {
   "cell_type": "code",
   "execution_count": null,
   "id": "d45f4007-492a-4517-8aed-39acab17fe1b",
   "metadata": {},
   "outputs": [],
   "source": [
    "np.arange(5)"
   ]
  },
  {
   "cell_type": "code",
   "execution_count": null,
   "id": "e9df7b3c-6789-4c0b-846b-42af171cb3c4",
   "metadata": {},
   "outputs": [],
   "source": [
    "type(np.arange(5))"
   ]
  },
  {
   "cell_type": "code",
   "execution_count": null,
   "id": "0f188ca7-9727-4f50-a3fc-50f1537478e9",
   "metadata": {},
   "outputs": [],
   "source": [
    "len(np.arange(5))"
   ]
  },
  {
   "cell_type": "markdown",
   "id": "e6690e3d-cbdb-419f-9e29-9033bf0a3d0b",
   "metadata": {},
   "source": [
    "As you might guess, `np.arange(7)` starts at zero and ends at six:"
   ]
  },
  {
   "cell_type": "code",
   "execution_count": null,
   "id": "407114f4-b0c0-4705-8bd8-a3607cfaaee4",
   "metadata": {},
   "outputs": [],
   "source": [
    "np.arange(7)"
   ]
  },
  {
   "cell_type": "markdown",
   "id": "f78ca9c3-3eac-4dbf-9f65-8790fcc01295",
   "metadata": {},
   "source": [
    "So, now we can see that\n",
    "\n",
    "* The code `ucAges.sort(\"age\",descending=True).take(np.arange(5))`\n",
    "* is the same as: `ucAges.sort(\"age\",descending=True).take([0,1,2,3,4])`"
   ]
  },
  {
   "cell_type": "code",
   "execution_count": null,
   "id": "0e00970d-057a-4143-b33e-8a735948cd10",
   "metadata": {},
   "outputs": [],
   "source": [
    "ucAges.sort(\"age\",descending=True).take([0,1,2,3,4])"
   ]
  },
  {
   "cell_type": "markdown",
   "id": "34449a1b-788e-4a37-af92-68dd26889a32",
   "metadata": {},
   "source": [
    "Which means: sort in descending order by age, and take the first five things (i.e. the five oldest)."
   ]
  },
  {
   "cell_type": "markdown",
   "id": "c834d3bc-7f61-469e-be1f-989fd01e21aa",
   "metadata": {},
   "source": [
    "What if we wanted the three newest?"
   ]
  },
  {
   "cell_type": "code",
   "execution_count": null,
   "id": "763d4d90-a50b-4a4d-9636-133f7916ae84",
   "metadata": {},
   "outputs": [],
   "source": [
    "ucAges.sort(\"age\",descending=False).take([0,1,2])"
   ]
  },
  {
   "cell_type": "code",
   "execution_count": null,
   "id": "52181847-bbcf-4eb5-88aa-2a4a12b74090",
   "metadata": {},
   "outputs": [],
   "source": [
    "ucAges.sort(\"age\",descending=False).take(np.arange(3))"
   ]
  },
  {
   "cell_type": "markdown",
   "id": "9f422296-e538-486c-b280-947fac167f1e",
   "metadata": {},
   "source": [
    "### HOWEVER!  Theres's a trap here!\n",
    "\n",
    "Look at the data for the ages of the UC Campuses. What is the trap that I could fall into when selecting the \"n oldest\" or \"n newest\" UCs using *this technique*?  There's a case where I might get the *wrong answer*.\n",
    "\n",
    "Think about that and discuss it with your neighbor for a moment; then I'll see if anyone has thoughts..."
   ]
  },
  {
   "cell_type": "code",
   "execution_count": null,
   "id": "ef8eee85-96cf-447d-8292-8ddf1aa40511",
   "metadata": {},
   "outputs": [],
   "source": [
    "ucAges.sort(\"age\")"
   ]
  },
  {
   "cell_type": "markdown",
   "id": "2bd60662-def3-4143-846d-168fcc516029",
   "metadata": {},
   "source": [
    "<details>\n",
    "  <summary>Here's the situation I had in mind</summary>  \n",
    "  The trap occurs if I ask for the two newest UCs, or the seven oldest UCs using this method.\n",
    "  Can you figure out why?\n",
    "</details>\n"
   ]
  },
  {
   "cell_type": "markdown",
   "id": "9a9b504b-7b12-41b4-afc1-a0215835b622",
   "metadata": {},
   "source": [
    "<details>\n",
    "  <summary>Here's an example of it getting a wrong (or at least incomplete/misleading) answer </summary>  \n",
    "\n",
    "This approach to getting the two oldest or two newest UCs would use code like this:\n",
    "\n",
    "```python\n",
    "twoNewest = ucAges.sort(\"age\").take(np.arange(2)) # naive approach to \"two newest UCs\"\n",
    "sevenOldest = ucAges.sort(\"age\", descending=True).take(np.arange(7)) # naive approach to \"seven oldest UCs\"\n",
    "```\n",
    "\n",
    "But *there's a tie* between UC Santa Cruz and UC Irvine, which were founded in the same year.  \n",
    "\n",
    "Strictly speaking, we could break the tie by seeing if they were founded on different days of the year.\n",
    "\n",
    "(In fact, search results show that UC Santa Cruz was founded in June 1965, with the day unclear, and UC Irvine on October 4, 1965, so technically, UC Santa Cruz is older.)\n",
    "\n",
    "*BUT* for purposes of this example, let's pretend they were founded on the same day in 1965, and are exactly the same age.\n",
    "\n",
    "</details>\n"
   ]
  },
  {
   "cell_type": "markdown",
   "id": "46d5eb8f-dc9b-4fcd-a9ff-b6752a500d09",
   "metadata": {},
   "source": [
    "The next few cells and their output are *collapsed* so as not to give away the answer too soon in lecture.  You can *expand* a collapsed cell in a notebook on JupyterHub by using the commands on the `View` menu (`Collapse...` and `Expand...`) or by clicking the three dots on a collapsed cell (e.g. ••• )"
   ]
  },
  {
   "cell_type": "code",
   "execution_count": null,
   "id": "0271fa6e-8f46-4998-8f1b-613f4c686aa6",
   "metadata": {
    "scrolled": true
   },
   "outputs": [],
   "source": [
    "ucAges.sort(\"age\").take(np.arange(2)) # naive approach to \"two newest UCs\""
   ]
  },
  {
   "cell_type": "code",
   "execution_count": null,
   "id": "5629d349-708c-41b2-a2ae-179ecc7a29d3",
   "metadata": {},
   "outputs": [],
   "source": [
    "ucAges.sort(\"age\", descending=True).take(np.arange(7)) # naive approach to \"seven oldest UCs\""
   ]
  },
  {
   "cell_type": "markdown",
   "id": "32b11620-c81a-426f-8454-d0a61ad7dc01",
   "metadata": {
    "collapsed": true,
    "jupyter": {
     "outputs_hidden": true
    }
   },
   "source": [
    "### A better approach\n",
    "\n",
    "If we want to find the seven oldest UCs *but also account for ties* (meaning we could get actually get more than two), we need a slightly more sophisticated approach. \n",
    "\n",
    "<details>\n",
    "    <summary>Here's what we'll do:</summary>\n",
    "\n",
    "* We start the same way, by sorting the table by age\n",
    "* Then, if we want the seven oldest UCs (but allowing for ties), we find the age of the single UC that's in position 6 in that list (recall that we use 6, not 7, because the numbers start at 0).\n",
    "* Then we find all UCs that have an age that is greater than or equal to that number.\n",
    "\n",
    "Here's what that looks like:\n",
    "    \n",
    "</details>"
   ]
  },
  {
   "cell_type": "code",
   "execution_count": null,
   "id": "13f2af50-939e-4606-b2cd-081f151c6ccd",
   "metadata": {},
   "outputs": [],
   "source": [
    "ageOf7thOldestUC = ucAges.sort(\"age\", descending=True).column(\"age\").item(6)\n",
    "ageOf7thOldestUC"
   ]
  },
  {
   "cell_type": "code",
   "execution_count": null,
   "id": "acdae568-3243-435c-b055-381551ce57fa",
   "metadata": {},
   "outputs": [],
   "source": [
    "oldestUCs = ucAges.where(\"age\",are.above_or_equal_to(ageOf7thOldestUC))\n",
    "oldestUCs"
   ]
  },
  {
   "cell_type": "markdown",
   "id": "575ec46f-b898-4654-b751-5d6cdf6855e9",
   "metadata": {},
   "source": [
    "Note that this is the right answer, but the data aren't sorted!   That's because the sort command returns a new table; it doesn't sort the existing one!  \n",
    "\n",
    "So after the first command, the ucAges table is still in the origial order.  If we want it to be sorted, we have to sort it again, like this:"
   ]
  },
  {
   "cell_type": "code",
   "execution_count": null,
   "id": "ba920aa7-6200-4f0d-9444-f532eb13817d",
   "metadata": {},
   "outputs": [],
   "source": [
    "oldestUCs = ucAges.where(\"age\",are.above_or_equal_to(ageOf7thOldestUC)).sort(\"age\", descending=\"True\")\n",
    "oldestUCs"
   ]
  },
  {
   "cell_type": "markdown",
   "id": "b078b3ce-31d3-461e-86a6-14be53ee6dd8",
   "metadata": {},
   "source": [
    "### The UCSB Courses Dataset\n",
    "\n"
   ]
  },
  {
   "attachments": {
    "0be87a94-c387-4600-8b7d-2759e85dfe67.png": {
     "image/png": "[encoded data removed]"
    }
   },
   "cell_type": "markdown",
   "id": "ae14bfea-9479-460d-98e8-c84ed1760ad7",
   "metadata": {},
   "source": [
    "\n",
    "| Data folder in same folder as notebook | Explanation |\n",
    "|-|-|\n",
    "|![data-folder.png](attachment:0be87a94-c387-4600-8b7d-2759e85dfe67.png) | As you may recall, any time we have a CSV (comma separated value) file in the `data` folder that's in the same folder as our notebook, as in the  example, we can open it with code this: |"
   ]
  },
  {
   "cell_type": "code",
   "execution_count": null,
   "id": "17a36147-f1c8-4d12-9074-19d270975f0c",
   "metadata": {},
   "outputs": [],
   "source": [
    "courseTable = Table.read_table(\"data/ucsb-s25-courses.csv\")"
   ]
  },
  {
   "cell_type": "code",
   "execution_count": null,
   "id": "5f4aefce-1ec7-4b5f-9d28-ca333ba5cb27",
   "metadata": {},
   "outputs": [],
   "source": [
    "courseTable"
   ]
  },
  {
   "cell_type": "markdown",
   "id": "7f43bb94-173f-4a4c-ae9b-0124810762d7",
   "metadata": {},
   "source": [
    "One thing about this table is that the `COURSEID` column has string data in it that smushes three things together: \n",
    "\n",
    "* Subject Area (e.g. \"CMPSC\", \"MATH\", \"PSTAT\", \"ECE\", \"ARTHI\")\n",
    "* Course Number (e.g. \"5B\", \"120A\", etc.)\n",
    "* Section Suffix (e.g. \"-1\", \"-2\")\n",
    "\n",
    "What we might prefer is a table that has separate columns for each of these.\n",
    "\n",
    "We can use two techniques in combination to do this:\n",
    "* Defining \"plain old Python functions\" (this part isn't specific to Data Science; it's just Python programming like you would learn in any good Python course)\n",
    "* Using the `apply` method of the `datascience` library; this allows us to create a new `numpy.ndarray` from a column, which we can then attach to a table using `with_columns`.\n",
    "\n",
    "Let's show how to do that now:"
   ]
  },
  {
   "cell_type": "markdown",
   "id": "6f7b9655-ad9d-4835-ae1c-0b7157ca4656",
   "metadata": {},
   "source": [
    "### A digression: randomly sampling a table\n",
    "\n",
    "The table we are looking at is *big*:"
   ]
  },
  {
   "cell_type": "code",
   "execution_count": null,
   "id": "b2d193d1-4f29-4747-a94d-18400128a55f",
   "metadata": {},
   "outputs": [],
   "source": [
    "courseTable.num_rows"
   ]
  },
  {
   "cell_type": "markdown",
   "id": "d2436bbb-7f2b-4796-b544-dd413c019f7f",
   "metadata": {},
   "source": [
    "That's a lot of rows; and it appears to be sorted in such a way that the first few rows are all Computer Science courses. \n",
    "\n",
    "If we sort it by `COURSEID`, we get `ANTH` courses at the top:"
   ]
  },
  {
   "cell_type": "code",
   "execution_count": null,
   "id": "ccae2d41-4721-45a5-9f3f-0a35840e3cc4",
   "metadata": {},
   "outputs": [],
   "source": [
    "courseTable.sort(\"COURSEID\")"
   ]
  },
  {
   "cell_type": "markdown",
   "id": "e0d1fda6-805b-496a-a3b2-884ceeab27b2",
   "metadata": {},
   "source": [
    "### What if we want a random sample?"
   ]
  },
  {
   "cell_type": "markdown",
   "id": "427a059d-4803-4dcb-b891-5b3e4a891066",
   "metadata": {},
   "source": [
    "How big is this table again?"
   ]
  },
  {
   "cell_type": "code",
   "execution_count": null,
   "id": "a454d41b-1f02-4f78-9ca8-a5eb0eecb27d",
   "metadata": {},
   "outputs": [],
   "source": [
    "courseTable.num_rows"
   ]
  },
  {
   "cell_type": "markdown",
   "id": "5a203711-9976-47af-8884-86f283e77dae",
   "metadata": {},
   "source": [
    "That's big.  If we are trying to get an overall view of the data, we might want to look at, say, 10 randomly chosen rows from this table.  "
   ]
  },
  {
   "cell_type": "markdown",
   "id": "ac33541a-e9dc-4a61-b1d9-135787fda17f",
   "metadata": {},
   "source": [
    "How can we do that? \n",
    "\n",
    "First, we can use a `numpy` function to generate random row indexes between 0 and n-1.   Let's assign `n=courseTable.num_rows`"
   ]
  },
  {
   "cell_type": "code",
   "execution_count": null,
   "id": "2058e558-7c23-4409-957c-d7b179db8624",
   "metadata": {},
   "outputs": [],
   "source": [
    "n=courseTable.num_rows"
   ]
  },
  {
   "cell_type": "markdown",
   "id": "1e0ada47-2f9c-4666-9ced-9ca87c5a52b9",
   "metadata": {},
   "source": [
    "Then let's generate an array of all of the numbers from 0 to n-1, using the `np.arange()` function:"
   ]
  },
  {
   "cell_type": "code",
   "execution_count": null,
   "id": "591a03e0-f254-43cb-9cfa-387b6f2d19e8",
   "metadata": {},
   "outputs": [],
   "source": [
    "allRowIndexes = np.arange(n)"
   ]
  },
  {
   "cell_type": "code",
   "execution_count": null,
   "id": "adf636be-689b-4c53-bf09-e5cd76e579fd",
   "metadata": {},
   "outputs": [],
   "source": [
    "allRowIndexes"
   ]
  },
  {
   "cell_type": "markdown",
   "id": "f5d48d3c-ec89-4cb2-ad9a-1a247c37e846",
   "metadata": {},
   "source": [
    "Now we can use `np.random.choice()` to select 10 random indexes from that array of numbers.\n",
    "\n",
    "* The first argument, allRowIndexes, is the array we choose from\n",
    "* The second is how many things we choose\n",
    "* The `replace=False` says: once you choose an element of this array, don't' choose it again (i.e. don't put it back in the array you are choosing randomly from, don't \"replace\" it)."
   ]
  },
  {
   "cell_type": "code",
   "execution_count": null,
   "id": "8777e5b2-3bb0-4d83-b0b9-3b6841e8044a",
   "metadata": {},
   "outputs": [],
   "source": [
    "randomIndexes = np.random.choice(allRowIndexes, 10, replace=False)"
   ]
  },
  {
   "cell_type": "code",
   "execution_count": null,
   "id": "9f60989a-d616-4c0e-bd47-71c5f72f37f1",
   "metadata": {},
   "outputs": [],
   "source": [
    "randomIndexes"
   ]
  },
  {
   "cell_type": "markdown",
   "id": "4e0187b1-eafb-4c66-a1bc-e2ba628b7303",
   "metadata": {},
   "source": [
    "Note that if we run the cell with `np.random.choice` in it multiple time, we get different answers each time!  \n",
    "\n",
    "(Side note: there's a way to force the same answer each time if we *want or need* that, called \"seeding\" the random number generator.  We'll discuss that another time.)"
   ]
  },
  {
   "cell_type": "markdown",
   "id": "7b058c2a-9e23-4403-86f3-982e2c18bc46",
   "metadata": {},
   "source": [
    "Now that we have randomIndexes, we can use this with the `take` method of the  `Table` from `datascience` like this:"
   ]
  },
  {
   "cell_type": "code",
   "execution_count": null,
   "id": "af895426-1999-4d8f-b97f-012c215c20ff",
   "metadata": {},
   "outputs": [],
   "source": [
    "tenRandomRows = courseTable.take(randomIndexes)"
   ]
  },
  {
   "cell_type": "code",
   "execution_count": null,
   "id": "2589a156-79df-44a8-b04b-10e1c9ddc5ee",
   "metadata": {},
   "outputs": [],
   "source": [
    "tenRandomRows"
   ]
  },
  {
   "cell_type": "markdown",
   "id": "b5bf4163-e0fe-44f3-8bf6-934b337be7d6",
   "metadata": {},
   "source": [
    "I split this up so that we could look at each of the parts separately. Here it is all together.  This time, we'll just take 4 rows (to keep the notebook more compact)"
   ]
  },
  {
   "cell_type": "code",
   "execution_count": null,
   "id": "f5da45a2-5056-4617-8541-81e760d28c87",
   "metadata": {},
   "outputs": [],
   "source": [
    "# Try re-running this; you'll get different rows each time\n",
    "n = courseTable.num_rows # get number of rows\n",
    "allRowIndexes = np.arange(n) # get all of the row indexes, 0 .. n-1\n",
    "fourRandomIndexes = np.random.choice(allRowIndexes, 4, replace=False)\n",
    "fourRandomRows = courseTable.take(fourRandomIndexes)\n",
    "fourRandomRows"
   ]
  },
  {
   "cell_type": "markdown",
   "id": "8d653274-07f9-4994-ba0f-9355559d51ed",
   "metadata": {},
   "source": [
    "We could also do this on a single line, though it's a bit harder to read and understand:"
   ]
  },
  {
   "cell_type": "code",
   "execution_count": null,
   "id": "82668fa6-405d-4ae7-bbc2-08ea6a749912",
   "metadata": {},
   "outputs": [],
   "source": [
    "courseTable.take(np.random.choice(np.arange(courseTable.num_rows), 4, replace=False))"
   ]
  },
  {
   "cell_type": "markdown",
   "id": "21684146-7d63-4de6-b31f-3592b26a4593",
   "metadata": {},
   "source": [
    "It's a little bit easier to read if we break it up over multiple lines.\n",
    "* Note that here we don't need line continuations (the backslash `\\` at the end of the line).\n",
    "* Python allows us to continue on a new line if we are inside a set of unclosed parentheses.\n",
    "* The way that I've formatted this is typical of how experienced programmers format a complex set of nested function calls\n",
    "* The indentation is used to help you match open and closing parentheses `(` and `)`"
   ]
  },
  {
   "cell_type": "code",
   "execution_count": null,
   "id": "00dc31f9-48cf-4453-a21c-06dd946da913",
   "metadata": {},
   "outputs": [],
   "source": [
    "courseTable.take( \n",
    "    np.random.choice( \n",
    "        np.arange(courseTable.num_rows), \n",
    "        4, \n",
    "        replace=False \n",
    "    ) \n",
    ")   "
   ]
  },
  {
   "cell_type": "markdown",
   "id": "c4f9441d-7367-4ed1-a178-0fbc85c5ed41",
   "metadata": {},
   "source": [
    "But that's still a lot, and this seems like a generally useful thing to do.  I wonder if we can come up with a shortcut."
   ]
  },
  {
   "cell_type": "markdown",
   "id": "b081d3f4-603d-4771-a788-20c22f65ed8b",
   "metadata": {},
   "source": [
    "### Defining our own functions\n",
    "\n",
    "Any time there's something we might want to do over and over again that we can spell out in clear steps, that's a good time to think of writing our own function.\n",
    "\n",
    "Here's the code again, split into multiple lines with comments:"
   ]
  },
  {
   "cell_type": "code",
   "execution_count": null,
   "id": "69a5420f-4b24-483d-8ed7-12774514f037",
   "metadata": {},
   "outputs": [],
   "source": [
    "# Try re-running this; you'll get different rows each time\n",
    "n = courseTable.num_rows # get number of rows\n",
    "allRowIndexes = np.arange(n) # get all of the row indexes, 0 .. n-1\n",
    "fourRandomIndexes = np.random.choice(allRowIndexes, 4, replace=False)\n",
    "fourRandomRows = courseTable.take(fourRandomIndexes)\n",
    "fourRandomRows"
   ]
  },
  {
   "cell_type": "markdown",
   "id": "08f13279-ab11-41c0-84ee-6df331f9ebb7",
   "metadata": {},
   "source": [
    "To convert this into a function definition, we can first \"generalize\" the names.  This means making them a bit more \"generic\".  Compare the code on the left with the code on the right:\n",
    "* We've pulled out the number `4` and defined it as a variable\n",
    "* We've changed the name of the table from `courseTable` to `myTable`\n",
    "\n",
    "<table>\n",
    "    <thead>\n",
    "        <tr>\n",
    "            <th>Before</th>\n",
    "            <th>After</th>\n",
    "        </tr>\n",
    "    </thead>\n",
    "    <tbody>\n",
    "        <tr>\n",
    "            <td>\n",
    "                <pre>\n",
    "                    \n",
    "n = courseTable.num_rows \n",
    "allRowIndexes = np.arange(n) \n",
    "fourRandomIndexes = \\\n",
    "  np.random.choice(\n",
    "    allRowIndexes, 4, replace=False\n",
    "  )\n",
    "fourRandomRows = courseTable.take(fourRandomIndexes)\n",
    "fourRandomRows\n",
    "                </pre>\n",
    "            </td>\n",
    "            <td>\n",
    "                <pre>\n",
    "size = 4\n",
    "n = myTable.num_rows \n",
    "allRowIndexes = np.arange(n) \n",
    "randomIndexes = \\\n",
    "  np.random.choice(\n",
    "    allRowIndexes, size, replace=False\n",
    "  )\n",
    "randomRows = myTable.take(randomIndexes)\n",
    "randomRows\n",
    "                </pre>\n",
    "            </td>\n",
    "        </tr>\n",
    "    </tbody>\n",
    "</table>"
   ]
  },
  {
   "cell_type": "markdown",
   "id": "01c2f109-bd43-4573-9d73-c6795d2a47f5",
   "metadata": {
    "editable": true,
    "slideshow": {
     "slide_type": ""
    },
    "tags": []
   },
   "source": [
    "Now, we are ready to turn this into a function definition:\n",
    "* The things that can change each time (the table, the sample size) become *arguments*\n",
    "* We put the keyword `return` in front of the final results we want to get back"
   ]
  },
  {
   "cell_type": "code",
   "execution_count": null,
   "id": "277c5e0c-8533-4b72-ad08-671df022e2d7",
   "metadata": {},
   "outputs": [],
   "source": [
    "def randomSample(myTable, size):\n",
    "    n = myTable.num_rows \n",
    "    allRowIndexes = np.arange(n) \n",
    "    randomIndexes = \\\n",
    "      np.random.choice(\n",
    "        allRowIndexes, size, replace=False\n",
    "      )\n",
    "    randomRows = myTable.take(randomIndexes)\n",
    "    return randomRows"
   ]
  },
  {
   "cell_type": "markdown",
   "id": "706a0f18-fadc-465c-b917-0baf25f2dc32",
   "metadata": {},
   "source": [
    "Now we can call this function on any table we like.  Here's another table that's in our data directory:"
   ]
  },
  {
   "cell_type": "code",
   "execution_count": null,
   "id": "ff526365-a18e-4e98-a239-cf0076b9ada9",
   "metadata": {},
   "outputs": [],
   "source": [
    "movies = Table.read_table(\"data/movies_by_year_with_ticket_price.csv\")"
   ]
  },
  {
   "cell_type": "code",
   "execution_count": null,
   "id": "8123530c-08e8-45b3-b6bf-8228b0640b48",
   "metadata": {},
   "outputs": [],
   "source": [
    "randomSample(movies,2)"
   ]
  },
  {
   "cell_type": "code",
   "execution_count": null,
   "id": "85cac30f-8f34-45e2-b33e-2d4d13ec108c",
   "metadata": {},
   "outputs": [],
   "source": [
    "randomSample(courseTable,3)"
   ]
  },
  {
   "cell_type": "code",
   "execution_count": null,
   "id": "55cc9b1f-a616-4304-be6b-5b7ba556d622",
   "metadata": {},
   "outputs": [],
   "source": [
    "randomSample(courseTable,5)"
   ]
  },
  {
   "cell_type": "markdown",
   "id": "b4c69082-0007-4dd4-9e91-34cca63769b2",
   "metadata": {},
   "source": [
    "## Now, let's look at this `COURSEID` field again"
   ]
  },
  {
   "cell_type": "markdown",
   "id": "c5481a90-db57-412a-a000-a06b551bb243",
   "metadata": {},
   "source": [
    "Now that we have a convenient way to get a random sample of a table, let's look some more at the COURSEID values.\n",
    "\n",
    "* We'll pull out a random sample of the table\n",
    "* Then, we'll focus on the data from the first column\n",
    "* Then, we'll look at the specific values\n",
    "\n",
    "Recall the difference between `select` and `column`:\n",
    "\n"
   ]
  },
  {
   "cell_type": "code",
   "execution_count": null,
   "id": "87d6cf8e-227a-4d0c-971b-a60ab8847f95",
   "metadata": {},
   "outputs": [],
   "source": [
    "fourRows = randomSample(courseTable,4)\n",
    "fourRows.select(\"COURSEID\")"
   ]
  },
  {
   "cell_type": "code",
   "execution_count": null,
   "id": "6ccfcc3c-67f4-4663-bcc9-74cfe2d30c94",
   "metadata": {},
   "outputs": [],
   "source": [
    "fourRows.column(\"COURSEID\")"
   ]
  },
  {
   "cell_type": "markdown",
   "id": "4b9b661c-2e7b-4271-b112-e6c790f0ffca",
   "metadata": {},
   "source": [
    "The difference:\n",
    "* `.select` gives us a Table (specifically, a `datascience.tables.Table`)\n",
    "* `.column` gives us an Array (specifically, a `numpy.ndarray`)"
   ]
  },
  {
   "cell_type": "code",
   "execution_count": null,
   "id": "09401761-39f4-4e45-8d69-12464d13865a",
   "metadata": {},
   "outputs": [],
   "source": [
    "type(fourRows.select(\"COURSEID\"))"
   ]
  },
  {
   "cell_type": "code",
   "execution_count": null,
   "id": "c27a3f92-037f-4358-92b6-bce828acccf8",
   "metadata": {},
   "outputs": [],
   "source": [
    "fourRows.column(\"COURSEID\")"
   ]
  },
  {
   "cell_type": "markdown",
   "id": "4ce27e36-d6b5-4185-8f47-ce9404b24763",
   "metadata": {},
   "source": [
    "These values have a particular format, i.e. they are spaced in a particular way, but it might be hard to see from the output above.  When we show a `Table`, the spacing inside of `'COMM    160OD-1'` isn't preserved; the multiple spaces become one space.  \n",
    "\n",
    "On the other hand, it's hard to see in the output from `fourRows.column(\"COURSEID\")` how things line up."
   ]
  },
  {
   "cell_type": "markdown",
   "id": "dbd4c734-a457-42f3-9897-93740cd44ca4",
   "metadata": {},
   "source": [
    "This is where a python `for` loop together with a print statement may be of some help."
   ]
  },
  {
   "cell_type": "markdown",
   "id": "2352df48-f01f-4b3d-82fb-e024918dceaf",
   "metadata": {},
   "source": [
    "## For loops with arrays\n",
    "\n",
    "Whenever you have an array, we can do something repeatedly to each item in that array with a `for` loop in Python. \n",
    "\n",
    "This is our first look at `for` loops:\n",
    "* We'll dive into them in detail when we get to Section 9.2 of the book\n",
    "* This is just a quick preview, but if you want to know more you can look ahead at [Section 9.2 (Iteration)](https://inferentialthinking.com/chapters/09/2/Iteration.html)\n",
    "\n",
    "First, let's assign the array of COURSEID values to a variable name:\n"
   ]
  },
  {
   "cell_type": "code",
   "execution_count": null,
   "id": "b67acb49-85ba-4036-aed3-58a7faffb6e6",
   "metadata": {},
   "outputs": [],
   "source": [
    "courseIds = fourRows.column(\"COURSEID\")\n",
    "courseIds"
   ]
  },
  {
   "cell_type": "markdown",
   "id": "446aa8d2-f8c2-4068-b200-14f79655c736",
   "metadata": {},
   "source": [
    "Now we apply a for loop:"
   ]
  },
  {
   "cell_type": "code",
   "execution_count": null,
   "id": "93d8a560-d717-434f-a18b-e77c7f8d2013",
   "metadata": {},
   "outputs": [],
   "source": [
    "for courseId in courseIds:\n",
    "    print(courseId)"
   ]
  },
  {
   "cell_type": "markdown",
   "id": "b3d3ccb0-2ea0-4739-8d01-e45a69027939",
   "metadata": {},
   "source": [
    "Note that we get one courseId on each line.  It's still a little hard to see the spacing though.  Suppose we replace all of the spaces with an `@` sign; it might be easier to count:"
   ]
  },
  {
   "cell_type": "code",
   "execution_count": null,
   "id": "53fa4d60-fed5-4ca5-b8ac-0f256a0d94ce",
   "metadata": {},
   "outputs": [],
   "source": [
    "for courseId in courseIds:\n",
    "    print(courseId.replace(\" \",\"@\"))"
   ]
  },
  {
   "cell_type": "markdown",
   "id": "1e526193-f4ac-4baa-8043-ff50d5e2f09a",
   "metadata": {},
   "source": [
    "Ok! Now we are getting somewhere.  Lets also print some numbers on top so that we can see where the columns line up:\n"
   ]
  },
  {
   "cell_type": "code",
   "execution_count": null,
   "id": "d23390d4-ab56-4e59-9bb5-cae84eac4988",
   "metadata": {},
   "outputs": [],
   "source": [
    "print(\"          11111111112\")\n",
    "print(\"012345678901234567890\")\n",
    "for courseId in courseIds:\n",
    "    print(courseId.replace(\" \",\"@\"))"
   ]
  },
  {
   "cell_type": "markdown",
   "id": "c47bede8-e72f-4edd-bfda-1ca7e95823cb",
   "metadata": {},
   "source": [
    "Those first two lines may look a little strange, but what you can see from them is where the columns are in the string data:\n",
    "* So the subject area is in columns zero through seven, or in Python notation: `[0:8]` (we stop *before* the second number).\n",
    "* The three-digit course number starts in column `8` and is columns 8,9,10 (or in Python slice syntax, columns `[8:11]`.\n",
    "* That is followed by an option two character code, so the full course number is `[8:13]`\n",
    "* The suffix for the section starts in position 14 and goes to the end: `[14:]`"
   ]
  },
  {
   "cell_type": "markdown",
   "id": "d869278f-c9d0-4a1c-a041-b7feacf71d84",
   "metadata": {
    "editable": true,
    "slideshow": {
     "slide_type": ""
    },
    "tags": []
   },
   "source": [
    "### Functions to break apart `COURSEID`\n",
    "\n",
    "With that, we can write some functions that will turn a COURSEID into its three parts:"
   ]
  },
  {
   "cell_type": "code",
   "execution_count": null,
   "id": "c81b5fa3-4285-4e4a-b47e-d9e9ce3ad1e0",
   "metadata": {},
   "outputs": [],
   "source": [
    "def courseIdToDept(courseId):\n",
    "    return courseId[0:8]\n",
    "\n",
    "def courseIdToCourseNum(courseId):\n",
    "    return courseId[8:13]\n",
    "\n",
    "def courseIdToSuffix(courseId):\n",
    "    return courseId[14:]"
   ]
  },
  {
   "cell_type": "markdown",
   "id": "14513c62-445c-4d51-82dd-e6cdf65be300",
   "metadata": {},
   "source": [
    "We can test these with our for loop.  \n",
    "\n",
    "Note that code that is \"inside the loop\" is indented:"
   ]
  },
  {
   "cell_type": "code",
   "execution_count": null,
   "id": "737470ac-1cec-4a30-9070-4c24ebf47109",
   "metadata": {},
   "outputs": [],
   "source": [
    "print(\"Departments:\")\n",
    "for courseId in courseIds:\n",
    "   print(courseIdToDept(courseId))\n",
    "\n",
    "# The \\n makes a new line before the string\n",
    "print(\"\\nCourseNums:\")\n",
    "for courseId in courseIds:\n",
    "   print(courseIdToCourseNum(courseId))\n",
    "\n",
    "print(\"\\nSuffixes:\")\n",
    "for courseId in courseIds:\n",
    "   print(courseIdToSuffix(courseId))\n"
   ]
  },
  {
   "cell_type": "markdown",
   "id": "20b5a64f-359a-4339-a0c5-c757125e6242",
   "metadata": {},
   "source": [
    "We can run that again, but on a random sample, and rerun it a few times to see if it seems to be working:"
   ]
  },
  {
   "cell_type": "code",
   "execution_count": null,
   "id": "51ec9610-4da4-4579-a8dd-b3a29ed9ff5f",
   "metadata": {},
   "outputs": [],
   "source": [
    "courseIds = randomSample(courseTable,5).column(\"COURSEID\")\n",
    "\n",
    "print(\"Departments:\")\n",
    "for courseId in courseIds:\n",
    "   print(courseIdToDept(courseId))\n",
    "\n",
    "print(\"\\nCourseNums:\")\n",
    "for courseId in courseIds:\n",
    "   print(courseIdToCourseNum(courseId))\n",
    "\n",
    "print(\"\\nSuffixes:\")\n",
    "for courseId in courseIds:\n",
    "   print(courseIdToSuffix(courseId))\n"
   ]
  },
  {
   "cell_type": "markdown",
   "id": "ce3f64b3-cf69-479e-bffd-d3684e8ef0c0",
   "metadata": {},
   "source": [
    "Here's another way to format the output that make it a bit easier to see what's going on.  This uses a \"format string\" in Python.  \n",
    "* We put the letter `f` before the opening `\"` in the string\n",
    "* Then we can put variables names in `{}` and they will be substituted in\n",
    "* Also notice that we can put multiple lines of code inside our loop:"
   ]
  },
  {
   "cell_type": "code",
   "execution_count": null,
   "id": "56416bf1-cc0f-43c9-b772-510637673092",
   "metadata": {},
   "outputs": [],
   "source": [
    "courseIds = randomSample(courseTable,5).column(\"COURSEID\")\n",
    "\n",
    "for courseId in courseIds:\n",
    "   dept = courseIdToDept(courseId)\n",
    "   courseNum = courseIdToCourseNum(courseId)\n",
    "   suffix = courseIdToSuffix(courseId)\n",
    "   print(f\"courseId={courseId} dept={dept} courseNum={courseNum} suffix={suffix}\")\n"
   ]
  },
  {
   "cell_type": "code",
   "execution_count": null,
   "id": "85f65c86-430f-467d-bb28-06f0aac30da9",
   "metadata": {},
   "outputs": [],
   "source": []
  },
  {
   "cell_type": "markdown",
   "id": "5eafad34-b914-41a3-a65e-6550e3c69523",
   "metadata": {},
   "source": [
    "Notice how the columns numbers don't necessarily line up nicely all of the time. \n",
    "\n",
    "That's because the lengths of the values can be different from line to line.\n",
    "\n",
    "If we specify a colon (`:`) and a number after each of the variables in the Python \n",
    "format string, we can make them line up nicely.  Consider this output\n",
    "instead.  The difference is in the `format` line, and it's the numbers\n",
    "`:14`, `:8`, `:5` and `:3` after each of the variables in the curly braces: `{}` "
   ]
  },
  {
   "cell_type": "code",
   "execution_count": null,
   "id": "7167eb7b-09e5-4d2e-84b2-034cde34a47b",
   "metadata": {},
   "outputs": [],
   "source": [
    "courseIds = randomSample(courseTable,5).column(\"COURSEID\")\n",
    "\n",
    "for courseId in courseIds:\n",
    "   dept = courseIdToDept(courseId)\n",
    "   courseNum = courseIdToCourseNum(courseId)\n",
    "   suffix = courseIdToSuffix(courseId)\n",
    "   print(f\"courseId={courseId:14} dept={dept:8} courseNum={courseNum:5} suffix={suffix:3}\")\n"
   ]
  },
  {
   "cell_type": "markdown",
   "id": "1aa867c5-4a89-491c-b1fa-49c5c3df7c2b",
   "metadata": {},
   "source": [
    "## Using functions to make a new table: `apply`"
   ]
  },
  {
   "cell_type": "markdown",
   "id": "337f618b-dbac-46cd-aa58-78a700dc3cc9",
   "metadata": {},
   "source": [
    "Note: material in this section of the lecture comes from\n",
    "\n",
    "* [Chapter 8 (Functions and Tables: Intro)](https://inferentialthinking.com/chapters/08/Functions_and_Tables.html)\n",
    "* [Section 8.1 (Applying a Function to a Column)](https://inferentialthinking.com/chapters/08/1/Applying_a_Function_to_a_Column.html)\n",
    "\n",
    "\n",
    "Now that we know how to use functions to transform data, \n",
    "we can use this to:\n",
    "* make new arrays using the `apply` method.\n",
    "* add those to a table as columns"
   ]
  },
  {
   "cell_type": "markdown",
   "id": "fd2f8fd5-cca8-43d2-9dad-3d824faf26b2",
   "metadata": {},
   "source": [
    "Here's what that looks like:"
   ]
  },
  {
   "cell_type": "markdown",
   "id": "7d5eb6ff-363e-4736-9fe3-1889ec2be63a",
   "metadata": {},
   "source": [
    "We start with our courseTable:"
   ]
  },
  {
   "cell_type": "code",
   "execution_count": null,
   "id": "31cde485-b3e9-4ca6-bbec-280528547463",
   "metadata": {},
   "outputs": [],
   "source": [
    "courseTable"
   ]
  },
  {
   "cell_type": "markdown",
   "id": "c875b581-bad3-4885-8e5c-d43dfee01fb3",
   "metadata": {},
   "source": [
    "Remember the three functions from before for converting `COURSEID` values:"
   ]
  },
  {
   "cell_type": "code",
   "execution_count": null,
   "id": "d4e6d3f8-46d2-479f-86cb-4b69bff370fe",
   "metadata": {},
   "outputs": [],
   "source": [
    "def courseIdToDept(courseId):\n",
    "    return courseId[0:8]\n",
    "\n",
    "def courseIdToCourseNum(courseId):\n",
    "    return courseId[8:13]\n",
    "\n",
    "def courseIdToSuffix(courseId):\n",
    "    return courseId[14:]"
   ]
  },
  {
   "cell_type": "markdown",
   "id": "7621c465-bcf0-48a9-b6f3-71510bdf1127",
   "metadata": {},
   "source": [
    "We can make three new arrays by applying these functions to column 0 of our `courseTable`.  Each result we get back is an array.  The `0` indicates we are applying our functions to column 0."
   ]
  },
  {
   "cell_type": "code",
   "execution_count": null,
   "id": "640de0d4-bfaa-42a5-be2b-029fb25f2d35",
   "metadata": {},
   "outputs": [],
   "source": [
    "departments = courseTable.apply(courseIdToDept, 0)\n",
    "departments"
   ]
  },
  {
   "cell_type": "code",
   "execution_count": null,
   "id": "90d1881c-a6c8-43e3-a1d0-ec1201b42cec",
   "metadata": {},
   "outputs": [],
   "source": [
    "courseNums = courseTable.apply(courseIdToCourseNum, 0)\n",
    "courseNums"
   ]
  },
  {
   "cell_type": "code",
   "execution_count": null,
   "id": "a4e6ca2d-2868-4184-8b83-932598a8b6a7",
   "metadata": {},
   "outputs": [],
   "source": [
    "suffixes = courseTable.apply(courseIdToSuffix, 0)\n",
    "suffixes"
   ]
  },
  {
   "cell_type": "markdown",
   "id": "8aafdf1b-469c-496a-bcc9-c1cfc1b1cc0c",
   "metadata": {},
   "source": [
    "Now, we can create a new table by adding these columns to our existing table:"
   ]
  },
  {
   "cell_type": "code",
   "execution_count": null,
   "id": "2d638800-6ea5-4e82-a233-7c1f28455e9a",
   "metadata": {},
   "outputs": [],
   "source": [
    "newTable = courseTable.with_columns(\"dept\",departments,\"courseNum\",courseNums,\"suffix\",suffixes)"
   ]
  },
  {
   "cell_type": "code",
   "execution_count": null,
   "id": "2b1edfff-3b03-4d22-a8f6-8335e7b924c2",
   "metadata": {},
   "outputs": [],
   "source": [
    "newTable"
   ]
  },
  {
   "cell_type": "markdown",
   "id": "c4b2d917-5f43-4bf7-9694-07373dec2499",
   "metadata": {},
   "source": [
    "And with this new tables, we can use the `where` clause to focus our attention on particular departments:"
   ]
  },
  {
   "cell_type": "code",
   "execution_count": null,
   "id": "e76cb1a1-e91d-4f92-a5d2-1713ff008fa2",
   "metadata": {},
   "outputs": [],
   "source": [
    "csCourses = newTable.where(\"dept\",are.equal_to(\"CMPSC\"))"
   ]
  },
  {
   "cell_type": "code",
   "execution_count": null,
   "id": "40c4cce0-2655-44d0-812f-8631172c409b",
   "metadata": {},
   "outputs": [],
   "source": [
    "csCourses"
   ]
  },
  {
   "cell_type": "markdown",
   "id": "4de05e3f-6516-4ba7-abf4-8cacf763d7bd",
   "metadata": {},
   "source": [
    "Wait, that's not what we expected?   What's the issue?"
   ]
  },
  {
   "cell_type": "markdown",
   "id": "47fb30f4-7c41-4dd7-8420-7e2cb1425cf1",
   "metadata": {},
   "source": [
    "It's the spaces.  Consider this:"
   ]
  },
  {
   "cell_type": "code",
   "execution_count": null,
   "id": "e887d73d-0bf8-41e7-958c-c93bd8b646e9",
   "metadata": {},
   "outputs": [],
   "source": [
    "newTable.where(\"dept\",are.equal_to(\"CMPSC   \"))"
   ]
  },
  {
   "cell_type": "markdown",
   "id": "7ad42286-a24e-41b6-9836-cb97c150276a",
   "metadata": {},
   "source": [
    "Well that's inconvenient.  What could we do to fix this?\n",
    "\n",
    "Here's one approach; a modification to our functions that pulls out the department code, etc.  We'll use the python `strip` function to get rid of the extra space characters:"
   ]
  },
  {
   "cell_type": "code",
   "execution_count": null,
   "id": "2a659b12-b172-409f-9600-a086ffc8b92e",
   "metadata": {},
   "outputs": [],
   "source": [
    "def courseIdToDept(courseId):\n",
    "    return courseId[0:8].strip()\n",
    "\n",
    "def courseIdToCourseNum(courseId):\n",
    "    return courseId[8:13].strip()\n",
    "\n",
    "def courseIdToSuffix(courseId):\n",
    "    return courseId[14:].strip()"
   ]
  },
  {
   "cell_type": "markdown",
   "id": "05eeb498-2e0c-4395-ae98-d879928ad6d3",
   "metadata": {},
   "source": [
    "With these new definitions in place, let's redo the assignment to the newTable:"
   ]
  },
  {
   "cell_type": "code",
   "execution_count": null,
   "id": "57814397-fbd2-4fbb-a529-8f5abd1f1d6d",
   "metadata": {},
   "outputs": [],
   "source": [
    "newImprovedTable = courseTable.with_columns(\n",
    "    \"dept\", courseTable.apply(courseIdToDept, 0),\n",
    "    \"courseNum\", courseTable.apply(courseIdToCourseNum, 0),\n",
    "    \"suffix\", courseTable.apply(courseIdToSuffix, 0)\n",
    ")\n"
   ]
  },
  {
   "cell_type": "markdown",
   "id": "5f649f4f-a4ac-4d2e-98e2-842b05aeb44b",
   "metadata": {},
   "source": [
    "And then let's select out the CMPSC courses, this time without having to pad out the department:"
   ]
  },
  {
   "cell_type": "code",
   "execution_count": null,
   "id": "e2f5ce78-568f-4d3a-a204-278f8d6fab9c",
   "metadata": {},
   "outputs": [],
   "source": [
    "csCourses = newImprovedTable.where(\"dept\",are.equal_to(\"CMPSC\"))"
   ]
  },
  {
   "cell_type": "code",
   "execution_count": null,
   "id": "1a07f86f-7720-49f3-8894-2fccfda2d5a7",
   "metadata": {},
   "outputs": [],
   "source": [
    "csCourses"
   ]
  },
  {
   "cell_type": "code",
   "execution_count": null,
   "id": "15176041-c6af-46be-a17b-e2414b7e5569",
   "metadata": {},
   "outputs": [],
   "source": [
    "pstatCourses = newImprovedTable.where(\"dept\",are.equal_to(\"PSTAT\"))\n",
    "artHistory = newImprovedTable.where(\"dept\",are.equal_to(\"ARTHI\"))"
   ]
  },
  {
   "cell_type": "code",
   "execution_count": null,
   "id": "50cbfd26-ef35-4bc6-ac79-02529113ad05",
   "metadata": {},
   "outputs": [],
   "source": [
    "artHistory"
   ]
  },
  {
   "cell_type": "markdown",
   "id": "8c7fc22d-3fa2-4c3b-a29d-453e81748ad4",
   "metadata": {},
   "source": [
    "## Bar Graphs"
   ]
  },
  {
   "cell_type": "markdown",
   "id": "7f71270d-07f4-4568-98da-624cb301cb80",
   "metadata": {},
   "source": [
    "Let's now return to some material from:\n",
    "\n",
    "* [Chapter 7 (Visualization)](https://inferentialthinking.com/chapters/07/Visualization.html)\n",
    "\n",
    "Let's see if we can make a bar graph of the data from `courseTable`.\n",
    "\n",
    "But let's work with the `newImprovedTable` that has `dept`, `courseNum`, `suffix`.  And let's cut the data down to just three departments: `CMPSC`, `MATH`, `PSTAT`, just to make it a bit easier to work with.\n",
    "\n",
    "It will be really handy to refer to this documentation:\n",
    "* <https://www.data8.org/datascience/reference-nb/datascience-reference.html#Table.where-Predicates>\n",
    "\n",
    "In this context, a `predicate` is something that's true or false about rows of our data.  The one we will use here is `are.contained_in` which works with an array."
   ]
  },
  {
   "cell_type": "code",
   "execution_count": null,
   "id": "7f59ce34-ebe4-4a86-9b3b-99465de523fb",
   "metadata": {},
   "outputs": [],
   "source": [
    "desired_departments = make_array(\"CMPSC\", \"PSTAT\", \"MATH\")"
   ]
  },
  {
   "cell_type": "code",
   "execution_count": null,
   "id": "f8b1d283-0e8c-448c-9fd2-c31546c8e18a",
   "metadata": {},
   "outputs": [],
   "source": [
    "courses = newImprovedTable.where(\"dept\", are.contained_in(desired_departments))"
   ]
  },
  {
   "cell_type": "code",
   "execution_count": null,
   "id": "1e30e598-ed3e-4c9e-a690-a425dd02aa9a",
   "metadata": {},
   "outputs": [],
   "source": [
    "courses.num_rows"
   ]
  },
  {
   "cell_type": "markdown",
   "id": "6153623a-6d63-4dca-8867-de1d132540ca",
   "metadata": {},
   "source": [
    "Still pretty big, but a lot smaller than what we had before.\n",
    "\n",
    "The first step is to group our data."
   ]
  },
  {
   "cell_type": "markdown",
   "id": "a9f54dac-4ad9-4e73-ac88-2ada4bd7687b",
   "metadata": {},
   "source": [
    "## Grouping Data"
   ]
  },
  {
   "cell_type": "code",
   "execution_count": null,
   "id": "eb90d60d-7847-4a95-9803-8a1b31eb41db",
   "metadata": {},
   "outputs": [],
   "source": [
    "groupByDept = courses.group(\"dept\")"
   ]
  },
  {
   "cell_type": "code",
   "execution_count": null,
   "id": "0b6cda2d-87a1-492d-9574-563a0c56ecba",
   "metadata": {},
   "outputs": [],
   "source": [
    "groupByDept"
   ]
  },
  {
   "cell_type": "markdown",
   "id": "7943f34e-8ece-46f1-9965-79c19ee1511d",
   "metadata": {},
   "source": [
    "What we get back is a new table that shows the count of how many rows were in the original data set with each of the distinct values in the original."
   ]
  },
  {
   "cell_type": "markdown",
   "id": "46df719c-e00e-43f1-af54-e61b4a0f4715",
   "metadata": {},
   "source": [
    "Note that the original data has separate rows for lecture and sections.  What if we exclude the sections?  Lectures have section numbers that end in 00; that is the remainder when you divide by 100 is 0.  We can use this to define a function that will tell us whether a section number is for a lecture or not."
   ]
  },
  {
   "cell_type": "code",
   "execution_count": null,
   "id": "973e8e8b-f50d-4415-aac8-b6fcacac0f8b",
   "metadata": {},
   "outputs": [],
   "source": [
    "def isLecture(sectionNum):\n",
    "    # if section number is divisible by 100, it's a lecture\n",
    "    return sectionNum % 100 == 0"
   ]
  },
  {
   "cell_type": "code",
   "execution_count": null,
   "id": "703e0558-4d8a-4be0-975e-8b8d422b24df",
   "metadata": {},
   "outputs": [],
   "source": [
    "isLecture(100)"
   ]
  },
  {
   "cell_type": "code",
   "execution_count": null,
   "id": "d1f0414e-8150-4c0e-9703-f1da476061e1",
   "metadata": {},
   "outputs": [],
   "source": [
    "isLecture(101)"
   ]
  },
  {
   "cell_type": "markdown",
   "id": "bc6b35e6-2b54-49a0-b0af-7513b545d332",
   "metadata": {},
   "source": [
    "Now we can apply that and add the column to our table:"
   ]
  },
  {
   "cell_type": "code",
   "execution_count": null,
   "id": "5acd75fd-6be9-42b5-b0ed-ed5de2352f4c",
   "metadata": {},
   "outputs": [],
   "source": [
    "courses = courses.with_columns(\"lecture\",courses.apply(isLecture,\"SECTION\"))"
   ]
  },
  {
   "cell_type": "code",
   "execution_count": null,
   "id": "ff531e41-14cd-4641-bbc0-5b9d2dfa878c",
   "metadata": {},
   "outputs": [],
   "source": [
    "courses"
   ]
  },
  {
   "cell_type": "code",
   "execution_count": null,
   "id": "235df42e-6842-4a23-9de1-229b0e6ab49c",
   "metadata": {},
   "outputs": [],
   "source": [
    "lectures = courses.where(\"lecture\",are.equal_to(True))"
   ]
  },
  {
   "cell_type": "code",
   "execution_count": null,
   "id": "3d98ef10-3f6d-441f-87d2-33bcd59cd42a",
   "metadata": {},
   "outputs": [],
   "source": [
    "lectures.num_rows"
   ]
  },
  {
   "cell_type": "code",
   "execution_count": null,
   "id": "b823b28f-1fbd-44c6-8e68-86861f772ddd",
   "metadata": {},
   "outputs": [],
   "source": [
    "lectures.group(\"dept\")"
   ]
  },
  {
   "cell_type": "markdown",
   "id": "2b03a73d-b502-467c-bfb4-447857474b64",
   "metadata": {},
   "source": [
    "That's probably a bit more like what we want.  What if we wanted to know the total enrollment?  Can we sum up the `ENROLLED` field for each group?  Yes we can!"
   ]
  },
  {
   "cell_type": "code",
   "execution_count": null,
   "id": "8c4c650d-f637-4c76-b90f-9a3c758d0126",
   "metadata": {},
   "outputs": [],
   "source": [
    "lectures.group(\"dept\", sum)"
   ]
  },
  {
   "cell_type": "markdown",
   "id": "58088bd3-8290-4e0f-aeb4-01df0118ef14",
   "metadata": {},
   "source": [
    "What we get back is the 'sum' function applied to each column of data.\n",
    "* The numbers in `ENROLLED sum` show the total of the enrollment\n",
    "* The numbers in `MAXRENROLL sum` show the total of the max enrollment, i.e. how big the class could be if full\n",
    "* The numbers if `QUARTER sum` and `SECTION sum` are not really meaningful; they are adding up numbers that are really just identifiers.  We might have done well to exclude those columns before doing our grouping.\n",
    "* Lecture sum shows us the number of rows for which that field is True.  Since that's every row of data, this actually shows us the same as the counts from the original `.group()` call."
   ]
  },
  {
   "cell_type": "markdown",
   "id": "a1955411-b4e9-4e6d-a82b-fc2e356f332a",
   "metadata": {},
   "source": [
    "We can now make some bar graphs with this data.\n",
    "\n",
    "Here's a bar graph of the number of courses offered by each department:\n"
   ]
  },
  {
   "cell_type": "code",
   "execution_count": null,
   "id": "f91a4419-a857-496c-a3a3-7d7884d33e51",
   "metadata": {},
   "outputs": [],
   "source": [
    "counts = lectures.group(\"dept\")\n",
    "counts"
   ]
  },
  {
   "cell_type": "code",
   "execution_count": null,
   "id": "7b9e4418-51c8-4fa1-969e-0c20c75f8cff",
   "metadata": {},
   "outputs": [],
   "source": [
    "counts.barh(\"dept\") # Bar graph of count, by department"
   ]
  },
  {
   "cell_type": "markdown",
   "id": "a4793aa8-c087-4225-9034-fce072739ad9",
   "metadata": {},
   "source": [
    "Or we can make a bar graph by enrollment:"
   ]
  },
  {
   "cell_type": "code",
   "execution_count": null,
   "id": "9a2f9de4-a272-46a2-851a-5d0899f42656",
   "metadata": {},
   "outputs": [],
   "source": [
    "lectures.select(\"dept\",\"ENROLLED\").group(\"dept\",sum)"
   ]
  },
  {
   "cell_type": "code",
   "execution_count": null,
   "id": "2f2669a4-caaa-4e05-bf71-25140669f8e2",
   "metadata": {},
   "outputs": [],
   "source": [
    "lectures.select(\"dept\",\"ENROLLED\").group(\"dept\",sum).barh(\"dept\")"
   ]
  },
  {
   "cell_type": "markdown",
   "id": "7de25342-e7db-48b5-b203-d513bee0d8ae",
   "metadata": {},
   "source": [
    "If we want, we can sort first:"
   ]
  },
  {
   "cell_type": "code",
   "execution_count": null,
   "id": "96e8560d-2d2d-4872-a468-3a9836d55964",
   "metadata": {},
   "outputs": [],
   "source": [
    "lectures.select(\"dept\",\"ENROLLED\").group(\"dept\",sum).sort(\"ENROLLED sum\").barh(\"dept\")"
   ]
  },
  {
   "cell_type": "code",
   "execution_count": null,
   "id": "7db4f40a-f962-4a4f-910c-c19a1da84ddf",
   "metadata": {},
   "outputs": [],
   "source": []
  }
 ],
 "metadata": {
  "kernelspec": {
   "display_name": "Python 3 (ipykernel)",
   "language": "python",
   "name": "python3"
  },
  "language_info": {
   "codemirror_mode": {
    "name": "ipython",
    "version": 3
   },
   "file_extension": ".py",
   "mimetype": "text/x-python",
   "name": "python",
   "nbconvert_exporter": "python",
   "pygments_lexer": "ipython3",
   "version": "3.13.7"
  }
 },
 "nbformat": 4,
 "nbformat_minor": 5
}
