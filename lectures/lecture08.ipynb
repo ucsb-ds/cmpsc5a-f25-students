{
 "cells": [
  {
   "cell_type": "code",
   "execution_count": 2,
   "id": "c69335b4-90c3-42d1-a0dd-45dca880c5bb",
   "metadata": {},
   "outputs": [],
   "source": [
    "# Click into this cell and press shift-enter before using this notebook.\n",
    "# This line loads the ability to use %%ai in your file\n",
    "%load_ext jupyter_ai_magics\n",
    "# These lines import the Python modules we commonly use in CMPSC 5A\n",
    "from datascience import *\n",
    "import numpy as np\n",
    "%matplotlib inline\n",
    "import matplotlib.pyplot as plots"
   ]
  },
  {
   "cell_type": "markdown",
   "id": "a5307c6f-b955-4df2-b497-dce5867d6e4b",
   "metadata": {},
   "source": [
    "# Lecture 8, CMPSC 5A, F25\n",
    "\n",
    "10/21/2025, Tuesday of Week 4"
   ]
  },
  {
   "cell_type": "markdown",
   "id": "df90ceb9-7529-4090-902f-add9bdac821b",
   "metadata": {},
   "source": [
    "# Notes to self \n",
    "* Check font size\n",
    "* Check that you are sharing the screen on the zoom session\n",
    "* Ask staff to help monitor the zoom chat\n",
    "* Remind students to run the top cell"
   ]
  },
  {
   "cell_type": "markdown",
   "id": "e7cf2850-3f72-490c-8ea5-6273d382bbc6",
   "metadata": {},
   "source": [
    "## Where are we in the reading?\n",
    "\n",
    "You should have already read:\n",
    "* [Chapter 1: What is Data Science](https://inferentialthinking.com/chapters/01/what-is-data-science.html)\n",
    "* [Chapter 2 (Causality and Experiments)](https://inferentialthinking.com/chapters/02/causality-and-experiments.html)\n",
    "* [Chapter 3: Programming in Python](https://inferentialthinking.com/chapters/03/programming-in-python.html)\n",
    "* [Chapter 4: Data Types](https://inferentialthinking.com/chapters/04/Data_Types.html)\n",
    "* [Chapter 5 (Sequences)](https://inferentialthinking.com/chapters/05/Sequences.html)\n",
    "  \n",
    "\n",
    "### For Today of week 4 (next week):\n",
    "\n",
    "**Updated Reading Assignment**\n",
    "\n",
    "Sorry to pile on the reading, but we need this for the upcoming lab.  Fortunately, we've gone over most of what you need in lecture, but it's important to reinforce that with the textbook reading:\n",
    "\n",
    "* [Chapter 6 (Tables)](https://inferentialthinking.com/chapters/06/Tables.html)\n",
    "* [Chapter 7 (Visualizations)](https://inferentialthinking.com/chapters/07/Visualization.html)\n",
    "* [Chapter 8 (Functions and Tables: Intro)](https://inferentialthinking.com/chapters/08/Functions_and_Tables.html)\n",
    "* [Section 8.1 (Applying a Function to a Column)](https://inferentialthinking.com/chapters/08/1/Applying_a_Function_to_a_Column.html)\n"
   ]
  },
  {
   "cell_type": "markdown",
   "id": "c1878d27-e148-4f8c-82e4-fb17ebb524e1",
   "metadata": {},
   "source": [
    "## Upcoming Quiz, Midterm\n",
    "\n",
    "As a reminder, here are the dates for the next quiz and the next midterm:\n",
    "\n",
    "| Item | % of grade | Dates | Week(s) |\n",
    "|-|-|-|-|\n",
    "|Quiz2 | approx 2.5% | Friday Oct 24, and Monday Oct 27 | Week 4/5|\n",
    "|Exam1 (midterm) | 15% |Friday Oct 31, and Monday Nov 3 | Week 5/6|\n",
    "|Exam2 (final*) | 15% | Mon Dec 8, Tue Dec 9, Wed Dec 10 | Finals Week|\n",
    "\n",
    "\\*Also, during the official final exam slot, Tue Dec 9, 4-7pm, times tbd\n",
    "\n",
    "## Register now:\n",
    "\n",
    "* Go to <https://us.prarietest.com>\n",
    "* Find `CMPSC 5A`\n",
    "* Find `Exams available for reservation`\n",
    "* Quiz1 and Exam1 are available for making reservations *now*.\n",
    "* Please make your reservations early.\n",
    "\n",
    "**Please watch your email over the next few days** for information about practice quizzes.\n"
   ]
  },
  {
   "cell_type": "markdown",
   "id": "763f7989-f203-40b9-be88-29c1e693713d",
   "metadata": {},
   "source": [
    "## Today's in-class assignment: ic10\n",
    "\n",
    "For today's in-class assignment, we'll just \"try\" [PracticeQuiz02](https://us.prairielearn.com/pl/course_instance/194488/assessment/2603849) on PrairieLearn\n",
    "\n",
    "[5 minute timer](https://timer.live/5-minute-timer)\n",
    "\n",
    "\n",
    "* For today, the \"score\" doesn't count; just that you attempted the problems.\n",
    "  * Because it's practice, you get two chances at each problem.\n",
    "  * And, you can try the problem as many times as you want (or at least that's the *intent*; if it isn't working that way, please let me know.  We are pioneers at UCSB in using this system, so we are still figuring out all of it's quirks.)\n",
    "  * It's set up right now for 2 attempts per variant so that after two attemps you can see the correct answer.  My hope is that you can still take it a second (or third, or fourth, or twentieth) time if you get questions wrong on the first attempt.\n",
    "  * If it's not working as intended, *please* let me know.\n",
    "* Tomorrow, for ic11 in your discussion section, the *score* will count.\n",
    "  * And you'll only get one attempt per problem.\n",
    "  * So, please practice between today and tomorrow so that you can get a good score in section.\n",
    "  * In section, you can ask for help, check your answers on JupyterHub etc.\n",
    "  * Each ic is worth about 1% of your final course grade\n",
    "* Then, Friday Oct 24/Monday Oct 27, Quiz 2 will be structured the same\n",
    "  * Just one attempt per problem.\n",
    "  * So make them count!\n",
    "  * Quiz 2 will count the same as a lab; about 2.5% of your course grade.\n",
    "* Then, Friday Oct 31/Monday Nov 3, Exam 1 (Midterm) will include all of these questions, plus more\n",
    "  * There will be a second practice quiz next week for the additional question types for the Midterm\n",
    "  * The midterm will have at least 10 question types (including the five from Quiz2), but no more than 20.\n",
    "  * The midterm is 15% of your course grade.\n",
    "\n",
    "So: practice, practice, practice!"
   ]
  },
  {
   "cell_type": "markdown",
   "id": "7ace753c-524c-4afc-adfe-5720cdedec8a",
   "metadata": {},
   "source": [
    "## Review of lecture07\n",
    "\n",
    "* We reviewed how to handle ties when sorting\n",
    "* We talked about the min, and max functions for numpy.ndarrays\n",
    "* We talked about using `where` with the `where` predicates\n",
    "  * (e.g. `table.where(\"Column Name\", are.equal_to(value))`\n",
    "* We talked about how to randomly sample a dataset:\n",
    "  * Generate an array of indexes with:\n",
    "    ```\n",
    "    allRowIndexes = np.arange(table.num_rows)\n",
    "    randomIndexes = np.random.choice(allRowIndexes, 10, replace=False)\n",
    "    ```\n",
    "  * Use `table.take(randomIndexes)`\n",
    "* We showed how to write a function that will randomly sample a table, as a demonstration of *writing our own functions* (we'll review that briefly below)\n",
    "* We then showed how we can add columns to a table that are a *function of another column*.  For example:\n",
    "  * The courses table has a field that combines three things into one string: subject area (dept), course number, and section suffix.\n",
    "  * We wrote three functions that take in a course number, and return one of these three things.\n",
    "  * We then used the `apply` method to create three new columns with this information.\n",
    "  * We'll review this briefly also.\n",
    "* We saw `for` loops\n",
    "* We saw Python formatted strings (e.g. `print(f\"x={x} y={y}\")`)"
   ]
  },
  {
   "cell_type": "code",
   "execution_count": 4,
   "id": "c42e8d64-39d4-4856-8ee5-d1af58d9faef",
   "metadata": {},
   "outputs": [
    {
     "data": {
      "text/html": [
       "<table border=\"1\" class=\"dataframe\">\n",
       "    <thead>\n",
       "        <tr>\n",
       "            <th>name</th> <th>year</th> <th>age</th>\n",
       "        </tr>\n",
       "    </thead>\n",
       "    <tbody>\n",
       "        <tr>\n",
       "            <td>UCLA            </td> <td>1919</td> <td>106 </td>\n",
       "        </tr>\n",
       "        <tr>\n",
       "            <td>UC Berkeley     </td> <td>1868</td> <td>157 </td>\n",
       "        </tr>\n",
       "        <tr>\n",
       "            <td>UC San Diego    </td> <td>1960</td> <td>65  </td>\n",
       "        </tr>\n",
       "        <tr>\n",
       "            <td>UC Davis        </td> <td>1905</td> <td>120 </td>\n",
       "        </tr>\n",
       "        <tr>\n",
       "            <td>UC Santa Barbara</td> <td>1944</td> <td>81  </td>\n",
       "        </tr>\n",
       "        <tr>\n",
       "            <td>UC Irvine       </td> <td>1965</td> <td>60  </td>\n",
       "        </tr>\n",
       "        <tr>\n",
       "            <td>UC Santa Cruz   </td> <td>1965</td> <td>60  </td>\n",
       "        </tr>\n",
       "        <tr>\n",
       "            <td>UC Riverside    </td> <td>1954</td> <td>71  </td>\n",
       "        </tr>\n",
       "        <tr>\n",
       "            <td>UC Merced       </td> <td>2005</td> <td>20  </td>\n",
       "        </tr>\n",
       "    </tbody>\n",
       "</table>"
      ],
      "text/plain": [
       "name             | year | age\n",
       "UCLA             | 1919 | 106\n",
       "UC Berkeley      | 1868 | 157\n",
       "UC San Diego     | 1960 | 65\n",
       "UC Davis         | 1905 | 120\n",
       "UC Santa Barbara | 1944 | 81\n",
       "UC Irvine        | 1965 | 60\n",
       "UC Santa Cruz    | 1965 | 60\n",
       "UC Riverside     | 1954 | 71\n",
       "UC Merced        | 2005 | 20"
      ]
     },
     "execution_count": 4,
     "metadata": {},
     "output_type": "execute_result"
    }
   ],
   "source": [
    "uc_csv_data = \"\"\"\n",
    "Campus,Location,Undergrad Enrollment,Grad Enrollment,Total Enrollment,Year Founded,Latitude,Longitude\n",
    "UCLA,Los Angeles,31600,13100,44700,1919,34.0689,-118.4439\n",
    "UC Berkeley,Berkeley,30800,11700,42500,1868,37.8719,-122.2585\n",
    "UC San Diego,San Diego,30200,9700,39900,1960,32.8801,-117.2340\n",
    "UC Davis,Davis,30300,7500,37800,1905,38.5382,-121.7617\n",
    "UC Santa Barbara,Santa Barbara,22000,3600,25600,1944,34.4133,-119.8489\n",
    "UC Irvine,Irvine,29600,5800,35400,1965,33.6405,-117.8443\n",
    "UC Santa Cruz,Santa Cruz,17300,1800,19100,1965,36.9914,-122.0588\n",
    "UC Riverside,Riverside,23900,5400,29300,1954,33.9737,-117.3281\n",
    "UC Merced,Merced,7700,1100,8800,2005,37.3646,-120.4244\n",
    "\"\"\"\n",
    "\n",
    "from io import StringIO\n",
    "ucTable = Table.read_table(StringIO(uc_csv_data))\n",
    "ucYears = ucTable.select(\"Campus\",\"Year Founded\") \\\n",
    "  .relabel(\"Year Founded\",\"year\") \\\n",
    "  .relabel(\"Campus\",\"name\")\n",
    "ucAges = ucYears.with_column(\"age\", 2025 - ucYears.column(\"year\"))\n",
    "ucAges"
   ]
  },
  {
   "cell_type": "code",
   "execution_count": 5,
   "id": "c831955a-4501-4b4c-977f-d2a3e72f01cc",
   "metadata": {},
   "outputs": [
    {
     "data": {
      "text/html": [
       "<table border=\"1\" class=\"dataframe\">\n",
       "    <thead>\n",
       "        <tr>\n",
       "            <th>name</th> <th>year</th> <th>age</th>\n",
       "        </tr>\n",
       "    </thead>\n",
       "    <tbody>\n",
       "        <tr>\n",
       "            <td>UC Berkeley     </td> <td>1868</td> <td>157 </td>\n",
       "        </tr>\n",
       "        <tr>\n",
       "            <td>UC Davis        </td> <td>1905</td> <td>120 </td>\n",
       "        </tr>\n",
       "        <tr>\n",
       "            <td>UCLA            </td> <td>1919</td> <td>106 </td>\n",
       "        </tr>\n",
       "        <tr>\n",
       "            <td>UC Santa Barbara</td> <td>1944</td> <td>81  </td>\n",
       "        </tr>\n",
       "        <tr>\n",
       "            <td>UC Riverside    </td> <td>1954</td> <td>71  </td>\n",
       "        </tr>\n",
       "        <tr>\n",
       "            <td>UC San Diego    </td> <td>1960</td> <td>65  </td>\n",
       "        </tr>\n",
       "        <tr>\n",
       "            <td>UC Irvine       </td> <td>1965</td> <td>60  </td>\n",
       "        </tr>\n",
       "        <tr>\n",
       "            <td>UC Santa Cruz   </td> <td>1965</td> <td>60  </td>\n",
       "        </tr>\n",
       "    </tbody>\n",
       "</table>"
      ],
      "text/plain": [
       "name             | year | age\n",
       "UC Berkeley      | 1868 | 157\n",
       "UC Davis         | 1905 | 120\n",
       "UCLA             | 1919 | 106\n",
       "UC Santa Barbara | 1944 | 81\n",
       "UC Riverside     | 1954 | 71\n",
       "UC San Diego     | 1960 | 65\n",
       "UC Irvine        | 1965 | 60\n",
       "UC Santa Cruz    | 1965 | 60"
      ]
     },
     "execution_count": 5,
     "metadata": {},
     "output_type": "execute_result"
    }
   ],
   "source": [
    "ucAgesDesc = ucAges.sort(\"age\",descending=True)\n",
    "ageOf7thOldestUC = ucAgesDesc.column(\"age\").item(6)\n",
    "sevenOldestUCs = ucAgesDesc.\\\n",
    "     where(\"age\",are.above_or_equal_to(ageOf7thOldestUC))\n",
    "sevenOldestUCs = sevenOldestUCs.sort(\"age\", descending=\"True\")\n",
    "sevenOldestUCs"
   ]
  },
  {
   "cell_type": "markdown",
   "id": "dd5f1cca-07b4-4f07-9a6b-9cdb0e66a767",
   "metadata": {},
   "source": [
    "Note that we get eight UCs instead of seven because there was a tie (UC Irvine and UC Santa Cruz are both 60 years old in 2025)."
   ]
  },
  {
   "cell_type": "markdown",
   "id": "bd64cc54-e46f-43d7-be51-07e0564cb57f",
   "metadata": {},
   "source": [
    "## Review: the `randomSample` function\n",
    "\n",
    "Last time, we defined our own `randomSample` function that takes in two \n",
    "parameters:\n",
    "* `myTable` is any `Table` object\n",
    "* `size` is how many rows we want to sample"
   ]
  },
  {
   "cell_type": "code",
   "execution_count": 3,
   "id": "277c5e0c-8533-4b72-ad08-671df022e2d7",
   "metadata": {},
   "outputs": [],
   "source": [
    "def randomSample(myTable, size):\n",
    "    n = myTable.num_rows \n",
    "    allRowIndexes = np.arange(n) \n",
    "    randomIndexes = \\\n",
    "      np.random.choice(\n",
    "        allRowIndexes, size, replace=False\n",
    "      )\n",
    "    randomRows = myTable.take(randomIndexes)\n",
    "    return randomRows"
   ]
  },
  {
   "cell_type": "markdown",
   "id": "706a0f18-fadc-465c-b917-0baf25f2dc32",
   "metadata": {},
   "source": [
    "Once the function is defined, we can call this function on any table we like.  Here's another table that's in our data directory:"
   ]
  },
  {
   "cell_type": "code",
   "execution_count": 4,
   "id": "ff526365-a18e-4e98-a239-cf0076b9ada9",
   "metadata": {},
   "outputs": [],
   "source": [
    "courseTable = Table.read_table(\"data/ucsb-s25-courses.csv\")\n",
    "movies = Table.read_table(\"data/movies_by_year_with_ticket_price.csv\")"
   ]
  },
  {
   "cell_type": "code",
   "execution_count": 9,
   "id": "8123530c-08e8-45b3-b6bf-8228b0640b48",
   "metadata": {},
   "outputs": [
    {
     "data": {
      "text/html": [
       "<table border=\"1\" class=\"dataframe\">\n",
       "    <thead>\n",
       "        <tr>\n",
       "            <th>Year</th> <th>Average Ticket Price</th> <th>Total Gross</th> <th>Number of Movies</th> <th>#1 Movie</th>\n",
       "        </tr>\n",
       "    </thead>\n",
       "    <tbody>\n",
       "        <tr>\n",
       "            <td>1998</td> <td>4.69                </td> <td>6575.8     </td> <td>336             </td> <td>Saving Private Ryan                    </td>\n",
       "        </tr>\n",
       "        <tr>\n",
       "            <td>2017</td> <td>8.97                </td> <td>11125.4    </td> <td>740             </td> <td>Star Wars: Episode VIII - The Last Jedi</td>\n",
       "        </tr>\n",
       "    </tbody>\n",
       "</table>"
      ],
      "text/plain": [
       "Year | Average Ticket Price | Total Gross | Number of Movies | #1 Movie\n",
       "1998 | 4.69                 | 6575.8      | 336              | Saving Private Ryan\n",
       "2017 | 8.97                 | 11125.4     | 740              | Star Wars: Episode VIII - The Last Jedi"
      ]
     },
     "execution_count": 9,
     "metadata": {},
     "output_type": "execute_result"
    }
   ],
   "source": [
    "randomSample(movies,2)"
   ]
  },
  {
   "cell_type": "code",
   "execution_count": 8,
   "id": "85cac30f-8f34-45e2-b33e-2d4d13ec108c",
   "metadata": {},
   "outputs": [
    {
     "data": {
      "text/html": [
       "<table border=\"1\" class=\"dataframe\">\n",
       "    <thead>\n",
       "        <tr>\n",
       "            <th>COURSEID</th> <th>ENROLLED</th> <th>GES</th> <th>INSTRUCTOR</th> <th>MAXENROLL</th> <th>QUARTER</th> <th>SECTION</th> <th>STATUS</th>\n",
       "        </tr>\n",
       "    </thead>\n",
       "    <tbody>\n",
       "        <tr>\n",
       "            <td>AS AM     8  -1</td> <td>25      </td> <td>ETH (CRST), D (ENGR), D (L&S), ETH (L&S), ETH (ENGR)</td> <td>SHAH N      </td> <td>24       </td> <td>20252  </td> <td>105    </td> <td>nan   </td>\n",
       "        </tr>\n",
       "        <tr>\n",
       "            <td>PHIL    166B -1</td> <td>34      </td> <td>nan                                                 </td> <td>ELIZONDO E S</td> <td>35       </td> <td>20252  </td> <td>100    </td> <td>nan   </td>\n",
       "        </tr>\n",
       "        <tr>\n",
       "            <td>PSY     199  -4</td> <td>2       </td> <td>nan                                                 </td> <td>SCUDDER S L </td> <td>1        </td> <td>20252  </td> <td>400    </td> <td>nan   </td>\n",
       "        </tr>\n",
       "    </tbody>\n",
       "</table>"
      ],
      "text/plain": [
       "COURSEID        | ENROLLED | GES                                                  | INSTRUCTOR   | MAXENROLL | QUARTER | SECTION | STATUS\n",
       "AS AM     8  -1 | 25       | ETH (CRST), D (ENGR), D (L&S), ETH (L&S), ETH (ENGR) | SHAH N       | 24        | 20252   | 105     | nan\n",
       "PHIL    166B -1 | 34       | nan                                                  | ELIZONDO E S | 35        | 20252   | 100     | nan\n",
       "PSY     199  -4 | 2        | nan                                                  | SCUDDER S L  | 1         | 20252   | 400     | nan"
      ]
     },
     "execution_count": 8,
     "metadata": {},
     "output_type": "execute_result"
    }
   ],
   "source": [
    "randomSample(courseTable,3)"
   ]
  },
  {
   "cell_type": "code",
   "execution_count": 10,
   "id": "55cc9b1f-a616-4304-be6b-5b7ba556d622",
   "metadata": {},
   "outputs": [
    {
     "data": {
      "text/html": [
       "<table border=\"1\" class=\"dataframe\">\n",
       "    <thead>\n",
       "        <tr>\n",
       "            <th>COURSEID</th> <th>ENROLLED</th> <th>GES</th> <th>INSTRUCTOR</th> <th>MAXENROLL</th> <th>QUARTER</th> <th>SECTION</th> <th>STATUS</th>\n",
       "        </tr>\n",
       "    </thead>\n",
       "    <tbody>\n",
       "        <tr>\n",
       "            <td>CHEM      6BL-12</td> <td>17      </td> <td>nan       </td> <td>GAINER M J, LIU H</td> <td>18       </td> <td>20252  </td> <td>1200   </td> <td>nan   </td>\n",
       "        </tr>\n",
       "        <tr>\n",
       "            <td>COMM    194  -2 </td> <td>0       </td> <td>nan       </td> <td>HOUSTON R        </td> <td>15       </td> <td>20252  </td> <td>200    </td> <td>nan   </td>\n",
       "        </tr>\n",
       "        <tr>\n",
       "            <td>CNCSP    99RA-1 </td> <td>0       </td> <td>nan       </td> <td>nan              </td> <td>10       </td> <td>20252  </td> <td>100    </td> <td>nan   </td>\n",
       "        </tr>\n",
       "        <tr>\n",
       "            <td>EEMB    280  -1 </td> <td>0       </td> <td>nan       </td> <td>nan              </td> <td>2        </td> <td>20252  </td> <td>101    </td> <td>nan   </td>\n",
       "        </tr>\n",
       "        <tr>\n",
       "            <td>LING     12  -1 </td> <td>17      </td> <td>SUB (UCSB)</td> <td>BAKER A D        </td> <td>18       </td> <td>20252  </td> <td>100    </td> <td>nan   </td>\n",
       "        </tr>\n",
       "    </tbody>\n",
       "</table>"
      ],
      "text/plain": [
       "COURSEID         | ENROLLED | GES        | INSTRUCTOR        | MAXENROLL | QUARTER | SECTION | STATUS\n",
       "CHEM      6BL-12 | 17       | nan        | GAINER M J, LIU H | 18        | 20252   | 1200    | nan\n",
       "COMM    194  -2  | 0        | nan        | HOUSTON R         | 15        | 20252   | 200     | nan\n",
       "CNCSP    99RA-1  | 0        | nan        | nan               | 10        | 20252   | 100     | nan\n",
       "EEMB    280  -1  | 0        | nan        | nan               | 2         | 20252   | 101     | nan\n",
       "LING     12  -1  | 17       | SUB (UCSB) | BAKER A D         | 18        | 20252   | 100     | nan"
      ]
     },
     "execution_count": 10,
     "metadata": {},
     "output_type": "execute_result"
    }
   ],
   "source": [
    "randomSample(courseTable,5)"
   ]
  },
  {
   "cell_type": "markdown",
   "id": "7d27237e-bce8-4767-8a06-b9db585b39b5",
   "metadata": {},
   "source": [
    "A key concept with functions is that we define what parameters we are expecting (in this case, a table, and a number of rows), and then we can use the function to get the result we want for *any* table, and *any* number of rows."
   ]
  },
  {
   "cell_type": "markdown",
   "id": "b4c69082-0007-4dd4-9e91-34cca63769b2",
   "metadata": {},
   "source": [
    "## Review of the `COURSEID` field again"
   ]
  },
  {
   "cell_type": "markdown",
   "id": "c5481a90-db57-412a-a000-a06b551bb243",
   "metadata": {},
   "source": [
    "Pulling out a random sample of the `COURSEID` field, we see that it combines three things into one field:\n"
   ]
  },
  {
   "cell_type": "code",
   "execution_count": 12,
   "id": "5a84edac-679c-4434-a0fa-caf19d900808",
   "metadata": {},
   "outputs": [
    {
     "name": "stdout",
     "output_type": "stream",
     "text": [
      "HIST      2C -1\n",
      "PHIL      3  -1\n",
      "MATRL   598  -18\n",
      "EARTH    10  -1\n",
      "GEOG    599  -8\n"
     ]
    }
   ],
   "source": [
    "randomCourses = randomSample(courseTable,5)\n",
    "courseIds = randomCourses.column(\"COURSEID\")\n",
    "for courseId in courseIds:\n",
    "    print(courseId)"
   ]
  },
  {
   "cell_type": "markdown",
   "id": "dcd40f38-1efc-45a6-bb52-5bcdef35ef36",
   "metadata": {},
   "source": [
    "Using the `.replace` method for Python Strings, and putting some numbers above to help us count, we can see that:\n",
    "* `[0:8]` is for the subject area\n",
    "* `[8:13]` is for course number with two letter suffix\n",
    "* `[14:]` is the section suffix"
   ]
  },
  {
   "cell_type": "code",
   "execution_count": 13,
   "id": "7b548bd1-cb6d-4d11-bd65-fb96bb674617",
   "metadata": {},
   "outputs": [
    {
     "name": "stdout",
     "output_type": "stream",
     "text": [
      "          11111111112\n",
      "012345678901234567890\n",
      "HIST@@@@@@2C@-1\n",
      "PHIL@@@@@@3@@-1\n",
      "MATRL@@@598@@-18\n",
      "EARTH@@@@10@@-1\n",
      "GEOG@@@@599@@-8\n"
     ]
    }
   ],
   "source": [
    "    \n",
    "print(\"          11111111112\")\n",
    "print(\"012345678901234567890\")\n",
    "for courseId in courseIds:\n",
    "    print(courseId.replace(\" \",\"@\"))"
   ]
  },
  {
   "cell_type": "markdown",
   "id": "d869278f-c9d0-4a1c-a041-b7feacf71d84",
   "metadata": {
    "editable": true,
    "slideshow": {
     "slide_type": ""
    },
    "tags": []
   },
   "source": [
    "With that, we can write some functions that will turn a COURSEID into its three parts.  We add `.strip` which gets rid of spaces at the beginning and end:"
   ]
  },
  {
   "cell_type": "code",
   "execution_count": 16,
   "id": "c81b5fa3-4285-4e4a-b47e-d9e9ce3ad1e0",
   "metadata": {},
   "outputs": [],
   "source": [
    "def courseIdToDept(courseId):\n",
    "    return courseId[0:8].strip()\n",
    "\n",
    "def courseIdToCourseNum(courseId):\n",
    "    return courseId[8:13].strip()\n",
    "\n",
    "def courseIdToSuffix(courseId):\n",
    "    return courseId[14:].strip()"
   ]
  },
  {
   "cell_type": "markdown",
   "id": "ce3f64b3-cf69-479e-bffd-d3684e8ef0c0",
   "metadata": {},
   "source": [
    "We can test these with a for loop and a format string:\n",
    "\n",
    "To review:\n",
    "* We put the letter `f` before the opening `\"` in the string\n",
    "* Then we can put variables names in `{}` and they will be substituted in\n",
    "* Also notice that we can put multiple lines of code inside a for loop; it is run once for each value in the array `courseIds`"
   ]
  },
  {
   "cell_type": "code",
   "execution_count": 25,
   "id": "56416bf1-cc0f-43c9-b772-510637673092",
   "metadata": {},
   "outputs": [
    {
     "name": "stdout",
     "output_type": "stream",
     "text": [
      "courseId=GER     199  -1 dept=GER       courseNum=199    suffix=1  \n",
      "courseId=CH ST   501  -3 dept=CH ST     courseNum=501    suffix=3  \n",
      "courseId=ECON      5  -2 dept=ECON      courseNum=5      suffix=2  \n",
      "courseId=ART     100  -1 dept=ART       courseNum=100    suffix=1  \n",
      "courseId=POL S     6  -1 dept=POL S     courseNum=6      suffix=1  \n"
     ]
    }
   ],
   "source": [
    "courseIds = randomSample(courseTable,5).column(\"COURSEID\")\n",
    "\n",
    "for courseId in courseIds:\n",
    "   dept = courseIdToDept(courseId)\n",
    "   courseNum = courseIdToCourseNum(courseId)\n",
    "   suffix = courseIdToSuffix(courseId)\n",
    "   print(f\"courseId={courseId:15} dept={dept:9} courseNum={courseNum:6} suffix={suffix:3}\")\n"
   ]
  },
  {
   "cell_type": "markdown",
   "id": "1aa867c5-4a89-491c-b1fa-49c5c3df7c2b",
   "metadata": {},
   "source": [
    "## Review: Using functions to make a new table: `apply`"
   ]
  },
  {
   "cell_type": "markdown",
   "id": "337f618b-dbac-46cd-aa58-78a700dc3cc9",
   "metadata": {},
   "source": [
    "Note: material in this section of the lecture comes from\n",
    "\n",
    "* [Chapter 8 (Functions and Tables: Intro)](https://inferentialthinking.com/chapters/08/Functions_and_Tables.html)\n",
    "* [Section 8.1 (Applying a Function to a Column)](https://inferentialthinking.com/chapters/08/1/Applying_a_Function_to_a_Column.html)\n",
    "\n",
    "\n",
    "Now that we know how to use functions to transform data, \n",
    "we can use this to:\n",
    "* make new arrays using the `apply` method.\n",
    "* add those to a table as columns"
   ]
  },
  {
   "cell_type": "markdown",
   "id": "fd2f8fd5-cca8-43d2-9dad-3d824faf26b2",
   "metadata": {},
   "source": [
    "Here's what that looks like:"
   ]
  },
  {
   "cell_type": "markdown",
   "id": "7d5eb6ff-363e-4736-9fe3-1889ec2be63a",
   "metadata": {},
   "source": [
    "We start with our courseTable:"
   ]
  },
  {
   "cell_type": "code",
   "execution_count": 27,
   "id": "31cde485-b3e9-4ca6-bbec-280528547463",
   "metadata": {},
   "outputs": [
    {
     "data": {
      "text/html": [
       "<table border=\"1\" class=\"dataframe\">\n",
       "    <thead>\n",
       "        <tr>\n",
       "            <th>COURSEID</th> <th>ENROLLED</th> <th>GES</th> <th>INSTRUCTOR</th> <th>MAXENROLL</th> <th>QUARTER</th> <th>SECTION</th> <th>STATUS</th>\n",
       "        </tr>\n",
       "    </thead>\n",
       "    <tbody>\n",
       "        <tr>\n",
       "            <td>CMPSC     5A -1</td> <td>128     </td> <td>C (L&S), QNT (L&S)</td> <td>CONRAD P T</td> <td>150      </td> <td>20252  </td> <td>100    </td> <td>nan   </td>\n",
       "        </tr>\n",
       "        <tr>\n",
       "            <td>CMPSC     5A -1</td> <td>23      </td> <td>C (L&S), QNT (L&S)</td> <td>nan       </td> <td>30       </td> <td>20252  </td> <td>101    </td> <td>nan   </td>\n",
       "        </tr>\n",
       "        <tr>\n",
       "            <td>CMPSC     5A -1</td> <td>26      </td> <td>C (L&S), QNT (L&S)</td> <td>nan       </td> <td>30       </td> <td>20252  </td> <td>102    </td> <td>nan   </td>\n",
       "        </tr>\n",
       "        <tr>\n",
       "            <td>CMPSC     5A -1</td> <td>30      </td> <td>C (L&S), QNT (L&S)</td> <td>nan       </td> <td>30       </td> <td>20252  </td> <td>103    </td> <td>nan   </td>\n",
       "        </tr>\n",
       "        <tr>\n",
       "            <td>CMPSC     5A -1</td> <td>25      </td> <td>C (L&S), QNT (L&S)</td> <td>nan       </td> <td>30       </td> <td>20252  </td> <td>104    </td> <td>nan   </td>\n",
       "        </tr>\n",
       "        <tr>\n",
       "            <td>CMPSC     5A -1</td> <td>24      </td> <td>C (L&S), QNT (L&S)</td> <td>nan       </td> <td>30       </td> <td>20252  </td> <td>105    </td> <td>nan   </td>\n",
       "        </tr>\n",
       "        <tr>\n",
       "            <td>CMPSC     5B -1</td> <td>0       </td> <td>C (L&S), QNT (L&S)</td> <td>TANNA A A </td> <td>77       </td> <td>20252  </td> <td>100    </td> <td>Closed</td>\n",
       "        </tr>\n",
       "        <tr>\n",
       "            <td>CMPSC     5B -1</td> <td>0       </td> <td>C (L&S), QNT (L&S)</td> <td>nan       </td> <td>26       </td> <td>20252  </td> <td>101    </td> <td>Closed</td>\n",
       "        </tr>\n",
       "        <tr>\n",
       "            <td>CMPSC     5B -1</td> <td>0       </td> <td>C (L&S), QNT (L&S)</td> <td>nan       </td> <td>25       </td> <td>20252  </td> <td>102    </td> <td>Closed</td>\n",
       "        </tr>\n",
       "        <tr>\n",
       "            <td>CMPSC     5B -1</td> <td>0       </td> <td>C (L&S), QNT (L&S)</td> <td>nan       </td> <td>26       </td> <td>20252  </td> <td>103    </td> <td>Closed</td>\n",
       "        </tr>\n",
       "    </tbody>\n",
       "</table>\n",
       "<p>... (6869 rows omitted)</p>"
      ],
      "text/plain": [
       "COURSEID        | ENROLLED | GES                | INSTRUCTOR | MAXENROLL | QUARTER | SECTION | STATUS\n",
       "CMPSC     5A -1 | 128      | C (L&S), QNT (L&S) | CONRAD P T | 150       | 20252   | 100     | nan\n",
       "CMPSC     5A -1 | 23       | C (L&S), QNT (L&S) | nan        | 30        | 20252   | 101     | nan\n",
       "CMPSC     5A -1 | 26       | C (L&S), QNT (L&S) | nan        | 30        | 20252   | 102     | nan\n",
       "CMPSC     5A -1 | 30       | C (L&S), QNT (L&S) | nan        | 30        | 20252   | 103     | nan\n",
       "CMPSC     5A -1 | 25       | C (L&S), QNT (L&S) | nan        | 30        | 20252   | 104     | nan\n",
       "CMPSC     5A -1 | 24       | C (L&S), QNT (L&S) | nan        | 30        | 20252   | 105     | nan\n",
       "CMPSC     5B -1 | 0        | C (L&S), QNT (L&S) | TANNA A A  | 77        | 20252   | 100     | Closed\n",
       "CMPSC     5B -1 | 0        | C (L&S), QNT (L&S) | nan        | 26        | 20252   | 101     | Closed\n",
       "CMPSC     5B -1 | 0        | C (L&S), QNT (L&S) | nan        | 25        | 20252   | 102     | Closed\n",
       "CMPSC     5B -1 | 0        | C (L&S), QNT (L&S) | nan        | 26        | 20252   | 103     | Closed\n",
       "... (6869 rows omitted)"
      ]
     },
     "execution_count": 27,
     "metadata": {},
     "output_type": "execute_result"
    }
   ],
   "source": [
    "courseTable"
   ]
  },
  {
   "cell_type": "markdown",
   "id": "c875b581-bad3-4885-8e5c-d43dfee01fb3",
   "metadata": {},
   "source": [
    "Remember the three functions from before for converting `COURSEID` values:"
   ]
  },
  {
   "cell_type": "code",
   "execution_count": 28,
   "id": "d4e6d3f8-46d2-479f-86cb-4b69bff370fe",
   "metadata": {},
   "outputs": [],
   "source": [
    "def courseIdToDept(courseId):\n",
    "    return courseId[0:8].strip()\n",
    "\n",
    "def courseIdToCourseNum(courseId):\n",
    "    return courseId[8:13].strip()\n",
    "\n",
    "def courseIdToSuffix(courseId):\n",
    "    return courseId[14:].strip()"
   ]
  },
  {
   "cell_type": "markdown",
   "id": "7621c465-bcf0-48a9-b6f3-71510bdf1127",
   "metadata": {},
   "source": [
    "We can make three new arrays by applying these functions to column 0 of our `courseTable`.  Each result we get back is an array.  The `0` indicates we are applying our functions to column 0."
   ]
  },
  {
   "cell_type": "code",
   "execution_count": 29,
   "id": "640de0d4-bfaa-42a5-be2b-029fb25f2d35",
   "metadata": {},
   "outputs": [
    {
     "data": {
      "text/plain": [
       "array(['CMPSC', 'CMPSC', 'CMPSC', ..., 'GLOBL', 'FAMST', 'BIOE'],\n",
       "      dtype='<U8')"
      ]
     },
     "execution_count": 29,
     "metadata": {},
     "output_type": "execute_result"
    }
   ],
   "source": [
    "departments = courseTable.apply(courseIdToDept, 0)\n",
    "departments"
   ]
  },
  {
   "cell_type": "code",
   "execution_count": 30,
   "id": "90d1881c-a6c8-43e3-a1d0-ec1201b42cec",
   "metadata": {},
   "outputs": [
    {
     "data": {
      "text/plain": [
       "array(['5A', '5A', '5A', ..., '596B', '599', '596'],\n",
       "      dtype='<U5')"
      ]
     },
     "execution_count": 30,
     "metadata": {},
     "output_type": "execute_result"
    }
   ],
   "source": [
    "courseNums = courseTable.apply(courseIdToCourseNum, 0)\n",
    "courseNums"
   ]
  },
  {
   "cell_type": "code",
   "execution_count": 31,
   "id": "a4e6ca2d-2868-4184-8b83-932598a8b6a7",
   "metadata": {},
   "outputs": [
    {
     "data": {
      "text/plain": [
       "array(['1', '1', '1', ..., '7', '11', '9'],\n",
       "      dtype='<U2')"
      ]
     },
     "execution_count": 31,
     "metadata": {},
     "output_type": "execute_result"
    }
   ],
   "source": [
    "suffixes = courseTable.apply(courseIdToSuffix, 0)\n",
    "suffixes"
   ]
  },
  {
   "cell_type": "markdown",
   "id": "8aafdf1b-469c-496a-bcc9-c1cfc1b1cc0c",
   "metadata": {},
   "source": [
    "Now, we can create a new table by adding these columns to our existing table.  We'll call this `courses`, because this is the basic table that represents all UCSB course data for S25."
   ]
  },
  {
   "cell_type": "markdown",
   "id": "0cdb9a1e-29c8-452f-b784-c7430367fbec",
   "metadata": {},
   "source": [
    "Now, we can create a new table by adding these columns to our existing table:"
   ]
  },
  {
   "cell_type": "code",
   "execution_count": 55,
   "id": "2d638800-6ea5-4e82-a233-7c1f28455e9a",
   "metadata": {},
   "outputs": [],
   "source": [
    "courses = courseTable.with_columns(\"dept\",departments,\"courseNum\",courseNums,\"suffix\",suffixes)"
   ]
  },
  {
   "cell_type": "code",
   "execution_count": 56,
   "id": "2b1edfff-3b03-4d22-a8f6-8335e7b924c2",
   "metadata": {},
   "outputs": [
    {
     "data": {
      "text/html": [
       "<table border=\"1\" class=\"dataframe\">\n",
       "    <thead>\n",
       "        <tr>\n",
       "            <th>COURSEID</th> <th>ENROLLED</th> <th>GES</th> <th>INSTRUCTOR</th> <th>MAXENROLL</th> <th>QUARTER</th> <th>SECTION</th> <th>STATUS</th> <th>dept</th> <th>courseNum</th> <th>suffix</th>\n",
       "        </tr>\n",
       "    </thead>\n",
       "    <tbody>\n",
       "        <tr>\n",
       "            <td>CMPSC     5A -1</td> <td>128     </td> <td>C (L&S), QNT (L&S)</td> <td>CONRAD P T</td> <td>150      </td> <td>20252  </td> <td>100    </td> <td>nan   </td> <td>CMPSC</td> <td>5A       </td> <td>1     </td>\n",
       "        </tr>\n",
       "        <tr>\n",
       "            <td>CMPSC     5A -1</td> <td>23      </td> <td>C (L&S), QNT (L&S)</td> <td>nan       </td> <td>30       </td> <td>20252  </td> <td>101    </td> <td>nan   </td> <td>CMPSC</td> <td>5A       </td> <td>1     </td>\n",
       "        </tr>\n",
       "        <tr>\n",
       "            <td>CMPSC     5A -1</td> <td>26      </td> <td>C (L&S), QNT (L&S)</td> <td>nan       </td> <td>30       </td> <td>20252  </td> <td>102    </td> <td>nan   </td> <td>CMPSC</td> <td>5A       </td> <td>1     </td>\n",
       "        </tr>\n",
       "        <tr>\n",
       "            <td>CMPSC     5A -1</td> <td>30      </td> <td>C (L&S), QNT (L&S)</td> <td>nan       </td> <td>30       </td> <td>20252  </td> <td>103    </td> <td>nan   </td> <td>CMPSC</td> <td>5A       </td> <td>1     </td>\n",
       "        </tr>\n",
       "        <tr>\n",
       "            <td>CMPSC     5A -1</td> <td>25      </td> <td>C (L&S), QNT (L&S)</td> <td>nan       </td> <td>30       </td> <td>20252  </td> <td>104    </td> <td>nan   </td> <td>CMPSC</td> <td>5A       </td> <td>1     </td>\n",
       "        </tr>\n",
       "        <tr>\n",
       "            <td>CMPSC     5A -1</td> <td>24      </td> <td>C (L&S), QNT (L&S)</td> <td>nan       </td> <td>30       </td> <td>20252  </td> <td>105    </td> <td>nan   </td> <td>CMPSC</td> <td>5A       </td> <td>1     </td>\n",
       "        </tr>\n",
       "        <tr>\n",
       "            <td>CMPSC     5B -1</td> <td>0       </td> <td>C (L&S), QNT (L&S)</td> <td>TANNA A A </td> <td>77       </td> <td>20252  </td> <td>100    </td> <td>Closed</td> <td>CMPSC</td> <td>5B       </td> <td>1     </td>\n",
       "        </tr>\n",
       "        <tr>\n",
       "            <td>CMPSC     5B -1</td> <td>0       </td> <td>C (L&S), QNT (L&S)</td> <td>nan       </td> <td>26       </td> <td>20252  </td> <td>101    </td> <td>Closed</td> <td>CMPSC</td> <td>5B       </td> <td>1     </td>\n",
       "        </tr>\n",
       "        <tr>\n",
       "            <td>CMPSC     5B -1</td> <td>0       </td> <td>C (L&S), QNT (L&S)</td> <td>nan       </td> <td>25       </td> <td>20252  </td> <td>102    </td> <td>Closed</td> <td>CMPSC</td> <td>5B       </td> <td>1     </td>\n",
       "        </tr>\n",
       "        <tr>\n",
       "            <td>CMPSC     5B -1</td> <td>0       </td> <td>C (L&S), QNT (L&S)</td> <td>nan       </td> <td>26       </td> <td>20252  </td> <td>103    </td> <td>Closed</td> <td>CMPSC</td> <td>5B       </td> <td>1     </td>\n",
       "        </tr>\n",
       "    </tbody>\n",
       "</table>\n",
       "<p>... (6869 rows omitted)</p>"
      ],
      "text/plain": [
       "COURSEID        | ENROLLED | GES                | INSTRUCTOR | MAXENROLL | QUARTER | SECTION | STATUS | dept  | courseNum | suffix\n",
       "CMPSC     5A -1 | 128      | C (L&S), QNT (L&S) | CONRAD P T | 150       | 20252   | 100     | nan    | CMPSC | 5A        | 1\n",
       "CMPSC     5A -1 | 23       | C (L&S), QNT (L&S) | nan        | 30        | 20252   | 101     | nan    | CMPSC | 5A        | 1\n",
       "CMPSC     5A -1 | 26       | C (L&S), QNT (L&S) | nan        | 30        | 20252   | 102     | nan    | CMPSC | 5A        | 1\n",
       "CMPSC     5A -1 | 30       | C (L&S), QNT (L&S) | nan        | 30        | 20252   | 103     | nan    | CMPSC | 5A        | 1\n",
       "CMPSC     5A -1 | 25       | C (L&S), QNT (L&S) | nan        | 30        | 20252   | 104     | nan    | CMPSC | 5A        | 1\n",
       "CMPSC     5A -1 | 24       | C (L&S), QNT (L&S) | nan        | 30        | 20252   | 105     | nan    | CMPSC | 5A        | 1\n",
       "CMPSC     5B -1 | 0        | C (L&S), QNT (L&S) | TANNA A A  | 77        | 20252   | 100     | Closed | CMPSC | 5B        | 1\n",
       "CMPSC     5B -1 | 0        | C (L&S), QNT (L&S) | nan        | 26        | 20252   | 101     | Closed | CMPSC | 5B        | 1\n",
       "CMPSC     5B -1 | 0        | C (L&S), QNT (L&S) | nan        | 25        | 20252   | 102     | Closed | CMPSC | 5B        | 1\n",
       "CMPSC     5B -1 | 0        | C (L&S), QNT (L&S) | nan        | 26        | 20252   | 103     | Closed | CMPSC | 5B        | 1\n",
       "... (6869 rows omitted)"
      ]
     },
     "execution_count": 56,
     "metadata": {},
     "output_type": "execute_result"
    }
   ],
   "source": [
    "courses"
   ]
  },
  {
   "cell_type": "markdown",
   "id": "c4b2d917-5f43-4bf7-9694-07373dec2499",
   "metadata": {},
   "source": [
    "And with this new tables, we can use the `where` clause to focus our attention on particular departments:"
   ]
  },
  {
   "cell_type": "code",
   "execution_count": 57,
   "id": "e2f5ce78-568f-4d3a-a204-278f8d6fab9c",
   "metadata": {},
   "outputs": [],
   "source": [
    "csCourses = courses.where(\"dept\",are.equal_to(\"CMPSC\"))\n",
    "pstatCourses = courses.where(\"dept\",are.equal_to(\"PSTAT\"))\n",
    "artHistory = courses.where(\"dept\",are.equal_to(\"ARTHI\"))"
   ]
  },
  {
   "cell_type": "code",
   "execution_count": 58,
   "id": "15176041-c6af-46be-a17b-e2414b7e5569",
   "metadata": {},
   "outputs": [
    {
     "data": {
      "text/html": [
       "<table border=\"1\" class=\"dataframe\">\n",
       "    <thead>\n",
       "        <tr>\n",
       "            <th>COURSEID</th> <th>ENROLLED</th> <th>GES</th> <th>INSTRUCTOR</th> <th>MAXENROLL</th> <th>QUARTER</th> <th>SECTION</th> <th>STATUS</th> <th>dept</th> <th>courseNum</th> <th>suffix</th>\n",
       "        </tr>\n",
       "    </thead>\n",
       "    <tbody>\n",
       "        <tr>\n",
       "            <td>CMPSC     5A -1</td> <td>128     </td> <td>C (L&S), QNT (L&S)</td> <td>CONRAD P T</td> <td>150      </td> <td>20252  </td> <td>100    </td> <td>nan   </td> <td>CMPSC</td> <td>5A       </td> <td>1     </td>\n",
       "        </tr>\n",
       "        <tr>\n",
       "            <td>CMPSC     5A -1</td> <td>23      </td> <td>C (L&S), QNT (L&S)</td> <td>nan       </td> <td>30       </td> <td>20252  </td> <td>101    </td> <td>nan   </td> <td>CMPSC</td> <td>5A       </td> <td>1     </td>\n",
       "        </tr>\n",
       "        <tr>\n",
       "            <td>CMPSC     5A -1</td> <td>26      </td> <td>C (L&S), QNT (L&S)</td> <td>nan       </td> <td>30       </td> <td>20252  </td> <td>102    </td> <td>nan   </td> <td>CMPSC</td> <td>5A       </td> <td>1     </td>\n",
       "        </tr>\n",
       "        <tr>\n",
       "            <td>CMPSC     5A -1</td> <td>30      </td> <td>C (L&S), QNT (L&S)</td> <td>nan       </td> <td>30       </td> <td>20252  </td> <td>103    </td> <td>nan   </td> <td>CMPSC</td> <td>5A       </td> <td>1     </td>\n",
       "        </tr>\n",
       "        <tr>\n",
       "            <td>CMPSC     5A -1</td> <td>25      </td> <td>C (L&S), QNT (L&S)</td> <td>nan       </td> <td>30       </td> <td>20252  </td> <td>104    </td> <td>nan   </td> <td>CMPSC</td> <td>5A       </td> <td>1     </td>\n",
       "        </tr>\n",
       "        <tr>\n",
       "            <td>CMPSC     5A -1</td> <td>24      </td> <td>C (L&S), QNT (L&S)</td> <td>nan       </td> <td>30       </td> <td>20252  </td> <td>105    </td> <td>nan   </td> <td>CMPSC</td> <td>5A       </td> <td>1     </td>\n",
       "        </tr>\n",
       "        <tr>\n",
       "            <td>CMPSC     5B -1</td> <td>0       </td> <td>C (L&S), QNT (L&S)</td> <td>TANNA A A </td> <td>77       </td> <td>20252  </td> <td>100    </td> <td>Closed</td> <td>CMPSC</td> <td>5B       </td> <td>1     </td>\n",
       "        </tr>\n",
       "        <tr>\n",
       "            <td>CMPSC     5B -1</td> <td>0       </td> <td>C (L&S), QNT (L&S)</td> <td>nan       </td> <td>26       </td> <td>20252  </td> <td>101    </td> <td>Closed</td> <td>CMPSC</td> <td>5B       </td> <td>1     </td>\n",
       "        </tr>\n",
       "        <tr>\n",
       "            <td>CMPSC     5B -1</td> <td>0       </td> <td>C (L&S), QNT (L&S)</td> <td>nan       </td> <td>25       </td> <td>20252  </td> <td>102    </td> <td>Closed</td> <td>CMPSC</td> <td>5B       </td> <td>1     </td>\n",
       "        </tr>\n",
       "        <tr>\n",
       "            <td>CMPSC     5B -1</td> <td>0       </td> <td>C (L&S), QNT (L&S)</td> <td>nan       </td> <td>26       </td> <td>20252  </td> <td>103    </td> <td>Closed</td> <td>CMPSC</td> <td>5B       </td> <td>1     </td>\n",
       "        </tr>\n",
       "    </tbody>\n",
       "</table>\n",
       "<p>... (207 rows omitted)</p>"
      ],
      "text/plain": [
       "COURSEID        | ENROLLED | GES                | INSTRUCTOR | MAXENROLL | QUARTER | SECTION | STATUS | dept  | courseNum | suffix\n",
       "CMPSC     5A -1 | 128      | C (L&S), QNT (L&S) | CONRAD P T | 150       | 20252   | 100     | nan    | CMPSC | 5A        | 1\n",
       "CMPSC     5A -1 | 23       | C (L&S), QNT (L&S) | nan        | 30        | 20252   | 101     | nan    | CMPSC | 5A        | 1\n",
       "CMPSC     5A -1 | 26       | C (L&S), QNT (L&S) | nan        | 30        | 20252   | 102     | nan    | CMPSC | 5A        | 1\n",
       "CMPSC     5A -1 | 30       | C (L&S), QNT (L&S) | nan        | 30        | 20252   | 103     | nan    | CMPSC | 5A        | 1\n",
       "CMPSC     5A -1 | 25       | C (L&S), QNT (L&S) | nan        | 30        | 20252   | 104     | nan    | CMPSC | 5A        | 1\n",
       "CMPSC     5A -1 | 24       | C (L&S), QNT (L&S) | nan        | 30        | 20252   | 105     | nan    | CMPSC | 5A        | 1\n",
       "CMPSC     5B -1 | 0        | C (L&S), QNT (L&S) | TANNA A A  | 77        | 20252   | 100     | Closed | CMPSC | 5B        | 1\n",
       "CMPSC     5B -1 | 0        | C (L&S), QNT (L&S) | nan        | 26        | 20252   | 101     | Closed | CMPSC | 5B        | 1\n",
       "CMPSC     5B -1 | 0        | C (L&S), QNT (L&S) | nan        | 25        | 20252   | 102     | Closed | CMPSC | 5B        | 1\n",
       "CMPSC     5B -1 | 0        | C (L&S), QNT (L&S) | nan        | 26        | 20252   | 103     | Closed | CMPSC | 5B        | 1\n",
       "... (207 rows omitted)"
      ]
     },
     "execution_count": 58,
     "metadata": {},
     "output_type": "execute_result"
    }
   ],
   "source": [
    "csCourses"
   ]
  },
  {
   "cell_type": "code",
   "execution_count": 59,
   "id": "26c99c52-a7a9-406d-b5b3-88b7a1c58b80",
   "metadata": {},
   "outputs": [
    {
     "data": {
      "text/html": [
       "<table border=\"1\" class=\"dataframe\">\n",
       "    <thead>\n",
       "        <tr>\n",
       "            <th>COURSEID</th> <th>ENROLLED</th> <th>GES</th> <th>INSTRUCTOR</th> <th>MAXENROLL</th> <th>QUARTER</th> <th>SECTION</th> <th>STATUS</th> <th>dept</th> <th>courseNum</th> <th>suffix</th>\n",
       "        </tr>\n",
       "    </thead>\n",
       "    <tbody>\n",
       "        <tr>\n",
       "            <td>PSTAT     5A -1</td> <td>190     </td> <td>QNT (L&S), C (L&S)</td> <td>DUAN J       </td> <td>250      </td> <td>20252  </td> <td>100    </td> <td>nan   </td> <td>PSTAT</td> <td>5A       </td> <td>1     </td>\n",
       "        </tr>\n",
       "        <tr>\n",
       "            <td>PSTAT     5A -1</td> <td>13      </td> <td>QNT (L&S), C (L&S)</td> <td>MOHANRAJ D   </td> <td>25       </td> <td>20252  </td> <td>101    </td> <td>nan   </td> <td>PSTAT</td> <td>5A       </td> <td>1     </td>\n",
       "        </tr>\n",
       "        <tr>\n",
       "            <td>PSTAT     5A -1</td> <td>11      </td> <td>QNT (L&S), C (L&S)</td> <td>MOHANRAJ D   </td> <td>25       </td> <td>20252  </td> <td>102    </td> <td>nan   </td> <td>PSTAT</td> <td>5A       </td> <td>1     </td>\n",
       "        </tr>\n",
       "        <tr>\n",
       "            <td>PSTAT     5A -1</td> <td>25      </td> <td>QNT (L&S), C (L&S)</td> <td>GIBBENS-MATSU</td> <td>25       </td> <td>20252  </td> <td>103    </td> <td>nan   </td> <td>PSTAT</td> <td>5A       </td> <td>1     </td>\n",
       "        </tr>\n",
       "        <tr>\n",
       "            <td>PSTAT     5A -1</td> <td>22      </td> <td>QNT (L&S), C (L&S)</td> <td>YANG JEFFREY </td> <td>25       </td> <td>20252  </td> <td>104    </td> <td>nan   </td> <td>PSTAT</td> <td>5A       </td> <td>1     </td>\n",
       "        </tr>\n",
       "        <tr>\n",
       "            <td>PSTAT     5A -1</td> <td>16      </td> <td>QNT (L&S), C (L&S)</td> <td>ABDUL-KADER A</td> <td>25       </td> <td>20252  </td> <td>105    </td> <td>nan   </td> <td>PSTAT</td> <td>5A       </td> <td>1     </td>\n",
       "        </tr>\n",
       "        <tr>\n",
       "            <td>PSTAT     5A -1</td> <td>24      </td> <td>QNT (L&S), C (L&S)</td> <td>ABDUL-KADER A</td> <td>25       </td> <td>20252  </td> <td>106    </td> <td>nan   </td> <td>PSTAT</td> <td>5A       </td> <td>1     </td>\n",
       "        </tr>\n",
       "        <tr>\n",
       "            <td>PSTAT     5A -1</td> <td>19      </td> <td>QNT (L&S), C (L&S)</td> <td>WANG YIXIN   </td> <td>25       </td> <td>20252  </td> <td>107    </td> <td>nan   </td> <td>PSTAT</td> <td>5A       </td> <td>1     </td>\n",
       "        </tr>\n",
       "        <tr>\n",
       "            <td>PSTAT     5A -1</td> <td>21      </td> <td>QNT (L&S), C (L&S)</td> <td>YANG JEFFREY </td> <td>25       </td> <td>20252  </td> <td>108    </td> <td>nan   </td> <td>PSTAT</td> <td>5A       </td> <td>1     </td>\n",
       "        </tr>\n",
       "        <tr>\n",
       "            <td>PSTAT     5A -1</td> <td>23      </td> <td>QNT (L&S), C (L&S)</td> <td>KHAN E B     </td> <td>25       </td> <td>20252  </td> <td>109    </td> <td>nan   </td> <td>PSTAT</td> <td>5A       </td> <td>1     </td>\n",
       "        </tr>\n",
       "    </tbody>\n",
       "</table>\n",
       "<p>... (278 rows omitted)</p>"
      ],
      "text/plain": [
       "COURSEID        | ENROLLED | GES                | INSTRUCTOR    | MAXENROLL | QUARTER | SECTION | STATUS | dept  | courseNum | suffix\n",
       "PSTAT     5A -1 | 190      | QNT (L&S), C (L&S) | DUAN J        | 250       | 20252   | 100     | nan    | PSTAT | 5A        | 1\n",
       "PSTAT     5A -1 | 13       | QNT (L&S), C (L&S) | MOHANRAJ D    | 25        | 20252   | 101     | nan    | PSTAT | 5A        | 1\n",
       "PSTAT     5A -1 | 11       | QNT (L&S), C (L&S) | MOHANRAJ D    | 25        | 20252   | 102     | nan    | PSTAT | 5A        | 1\n",
       "PSTAT     5A -1 | 25       | QNT (L&S), C (L&S) | GIBBENS-MATSU | 25        | 20252   | 103     | nan    | PSTAT | 5A        | 1\n",
       "PSTAT     5A -1 | 22       | QNT (L&S), C (L&S) | YANG JEFFREY  | 25        | 20252   | 104     | nan    | PSTAT | 5A        | 1\n",
       "PSTAT     5A -1 | 16       | QNT (L&S), C (L&S) | ABDUL-KADER A | 25        | 20252   | 105     | nan    | PSTAT | 5A        | 1\n",
       "PSTAT     5A -1 | 24       | QNT (L&S), C (L&S) | ABDUL-KADER A | 25        | 20252   | 106     | nan    | PSTAT | 5A        | 1\n",
       "PSTAT     5A -1 | 19       | QNT (L&S), C (L&S) | WANG YIXIN    | 25        | 20252   | 107     | nan    | PSTAT | 5A        | 1\n",
       "PSTAT     5A -1 | 21       | QNT (L&S), C (L&S) | YANG JEFFREY  | 25        | 20252   | 108     | nan    | PSTAT | 5A        | 1\n",
       "PSTAT     5A -1 | 23       | QNT (L&S), C (L&S) | KHAN E B      | 25        | 20252   | 109     | nan    | PSTAT | 5A        | 1\n",
       "... (278 rows omitted)"
      ]
     },
     "execution_count": 59,
     "metadata": {},
     "output_type": "execute_result"
    }
   ],
   "source": [
    "pstatCourses"
   ]
  },
  {
   "cell_type": "code",
   "execution_count": 60,
   "id": "50cbfd26-ef35-4bc6-ac79-02529113ad05",
   "metadata": {},
   "outputs": [
    {
     "data": {
      "text/html": [
       "<table border=\"1\" class=\"dataframe\">\n",
       "    <thead>\n",
       "        <tr>\n",
       "            <th>COURSEID</th> <th>ENROLLED</th> <th>GES</th> <th>INSTRUCTOR</th> <th>MAXENROLL</th> <th>QUARTER</th> <th>SECTION</th> <th>STATUS</th> <th>dept</th> <th>courseNum</th> <th>suffix</th>\n",
       "        </tr>\n",
       "    </thead>\n",
       "    <tbody>\n",
       "        <tr>\n",
       "            <td>ARTHI     5A -1</td> <td>338     </td> <td>F (L&S), WRT (L&S), F (ENGR), WRT (ENGR)</td> <td>CHATTOPADHYAY</td> <td>350      </td> <td>20252  </td> <td>100    </td> <td>nan   </td> <td>ARTHI</td> <td>5A       </td> <td>1     </td>\n",
       "        </tr>\n",
       "        <tr>\n",
       "            <td>ARTHI     5A -1</td> <td>22      </td> <td>F (L&S), WRT (L&S), F (ENGR), WRT (ENGR)</td> <td>VAN DOORNE T </td> <td>25       </td> <td>20252  </td> <td>101    </td> <td>nan   </td> <td>ARTHI</td> <td>5A       </td> <td>1     </td>\n",
       "        </tr>\n",
       "        <tr>\n",
       "            <td>ARTHI     5A -1</td> <td>25      </td> <td>F (L&S), WRT (L&S), F (ENGR), WRT (ENGR)</td> <td>VAN DOORNE T </td> <td>25       </td> <td>20252  </td> <td>102    </td> <td>nan   </td> <td>ARTHI</td> <td>5A       </td> <td>1     </td>\n",
       "        </tr>\n",
       "        <tr>\n",
       "            <td>ARTHI     5A -1</td> <td>23      </td> <td>F (L&S), WRT (L&S), F (ENGR), WRT (ENGR)</td> <td>CHEN JIAQI   </td> <td>25       </td> <td>20252  </td> <td>103    </td> <td>nan   </td> <td>ARTHI</td> <td>5A       </td> <td>1     </td>\n",
       "        </tr>\n",
       "        <tr>\n",
       "            <td>ARTHI     5A -1</td> <td>25      </td> <td>F (L&S), WRT (L&S), F (ENGR), WRT (ENGR)</td> <td>CHEN JIAQI   </td> <td>25       </td> <td>20252  </td> <td>104    </td> <td>nan   </td> <td>ARTHI</td> <td>5A       </td> <td>1     </td>\n",
       "        </tr>\n",
       "        <tr>\n",
       "            <td>ARTHI     5A -1</td> <td>22      </td> <td>F (L&S), WRT (L&S), F (ENGR), WRT (ENGR)</td> <td>CLARK R      </td> <td>25       </td> <td>20252  </td> <td>105    </td> <td>nan   </td> <td>ARTHI</td> <td>5A       </td> <td>1     </td>\n",
       "        </tr>\n",
       "        <tr>\n",
       "            <td>ARTHI     5A -1</td> <td>25      </td> <td>F (L&S), WRT (L&S), F (ENGR), WRT (ENGR)</td> <td>LUCKMANN A   </td> <td>25       </td> <td>20252  </td> <td>106    </td> <td>nan   </td> <td>ARTHI</td> <td>5A       </td> <td>1     </td>\n",
       "        </tr>\n",
       "        <tr>\n",
       "            <td>ARTHI     5A -1</td> <td>24      </td> <td>F (L&S), WRT (L&S), F (ENGR), WRT (ENGR)</td> <td>LUCKMANN A   </td> <td>25       </td> <td>20252  </td> <td>107    </td> <td>nan   </td> <td>ARTHI</td> <td>5A       </td> <td>1     </td>\n",
       "        </tr>\n",
       "        <tr>\n",
       "            <td>ARTHI     5A -1</td> <td>24      </td> <td>F (L&S), WRT (L&S), F (ENGR), WRT (ENGR)</td> <td>CLARK R      </td> <td>25       </td> <td>20252  </td> <td>108    </td> <td>nan   </td> <td>ARTHI</td> <td>5A       </td> <td>1     </td>\n",
       "        </tr>\n",
       "        <tr>\n",
       "            <td>ARTHI     5A -1</td> <td>25      </td> <td>F (L&S), WRT (L&S), F (ENGR), WRT (ENGR)</td> <td>SHEARD M     </td> <td>25       </td> <td>20252  </td> <td>109    </td> <td>nan   </td> <td>ARTHI</td> <td>5A       </td> <td>1     </td>\n",
       "        </tr>\n",
       "    </tbody>\n",
       "</table>\n",
       "<p>... (72 rows omitted)</p>"
      ],
      "text/plain": [
       "COURSEID        | ENROLLED | GES                                      | INSTRUCTOR    | MAXENROLL | QUARTER | SECTION | STATUS | dept  | courseNum | suffix\n",
       "ARTHI     5A -1 | 338      | F (L&S), WRT (L&S), F (ENGR), WRT (ENGR) | CHATTOPADHYAY | 350       | 20252   | 100     | nan    | ARTHI | 5A        | 1\n",
       "ARTHI     5A -1 | 22       | F (L&S), WRT (L&S), F (ENGR), WRT (ENGR) | VAN DOORNE T  | 25        | 20252   | 101     | nan    | ARTHI | 5A        | 1\n",
       "ARTHI     5A -1 | 25       | F (L&S), WRT (L&S), F (ENGR), WRT (ENGR) | VAN DOORNE T  | 25        | 20252   | 102     | nan    | ARTHI | 5A        | 1\n",
       "ARTHI     5A -1 | 23       | F (L&S), WRT (L&S), F (ENGR), WRT (ENGR) | CHEN JIAQI    | 25        | 20252   | 103     | nan    | ARTHI | 5A        | 1\n",
       "ARTHI     5A -1 | 25       | F (L&S), WRT (L&S), F (ENGR), WRT (ENGR) | CHEN JIAQI    | 25        | 20252   | 104     | nan    | ARTHI | 5A        | 1\n",
       "ARTHI     5A -1 | 22       | F (L&S), WRT (L&S), F (ENGR), WRT (ENGR) | CLARK R       | 25        | 20252   | 105     | nan    | ARTHI | 5A        | 1\n",
       "ARTHI     5A -1 | 25       | F (L&S), WRT (L&S), F (ENGR), WRT (ENGR) | LUCKMANN A    | 25        | 20252   | 106     | nan    | ARTHI | 5A        | 1\n",
       "ARTHI     5A -1 | 24       | F (L&S), WRT (L&S), F (ENGR), WRT (ENGR) | LUCKMANN A    | 25        | 20252   | 107     | nan    | ARTHI | 5A        | 1\n",
       "ARTHI     5A -1 | 24       | F (L&S), WRT (L&S), F (ENGR), WRT (ENGR) | CLARK R       | 25        | 20252   | 108     | nan    | ARTHI | 5A        | 1\n",
       "ARTHI     5A -1 | 25       | F (L&S), WRT (L&S), F (ENGR), WRT (ENGR) | SHEARD M      | 25        | 20252   | 109     | nan    | ARTHI | 5A        | 1\n",
       "... (72 rows omitted)"
      ]
     },
     "execution_count": 60,
     "metadata": {},
     "output_type": "execute_result"
    }
   ],
   "source": [
    "artHistory"
   ]
  },
  {
   "cell_type": "markdown",
   "id": "8c7fc22d-3fa2-4c3b-a29d-453e81748ad4",
   "metadata": {},
   "source": [
    "## Review: Bar Graphs"
   ]
  },
  {
   "cell_type": "markdown",
   "id": "7f71270d-07f4-4568-98da-624cb301cb80",
   "metadata": {},
   "source": [
    "Let's now return to some material from:\n",
    "\n",
    "* [Chapter 7 (Visualization)](https://inferentialthinking.com/chapters/07/Visualization.html)\n",
    "\n",
    "Let's see if we can make a bar graph of the data from `courseTable`.\n",
    "\n",
    "But let's work with the `newTable` that has `dept`, `courseNum`, `suffix`.  And let's cut the data down to just three departments: `CMPSC`, `MATH`, `PSTAT`, just to make it a bit easier to work with.\n",
    "\n",
    "It will be really handy to refer to this documentation:\n",
    "* <https://www.data8.org/datascience/reference-nb/datascience-reference.html#Table.where-Predicates>\n",
    "\n",
    "In this context, a `predicate` is something that's true or false about rows of our data.  The one we will use here is `are.contained_in` which works with an array."
   ]
  },
  {
   "cell_type": "code",
   "execution_count": 61,
   "id": "7f59ce34-ebe4-4a86-9b3b-99465de523fb",
   "metadata": {},
   "outputs": [],
   "source": [
    "desired_departments = make_array(\"CMPSC\", \"PSTAT\", \"MATH\")"
   ]
  },
  {
   "cell_type": "code",
   "execution_count": 62,
   "id": "f8b1d283-0e8c-448c-9fd2-c31546c8e18a",
   "metadata": {},
   "outputs": [],
   "source": [
    "coursesSubset = newTable.where(\"dept\", are.contained_in(desired_departments))"
   ]
  },
  {
   "cell_type": "code",
   "execution_count": 63,
   "id": "1e30e598-ed3e-4c9e-a690-a425dd02aa9a",
   "metadata": {},
   "outputs": [
    {
     "data": {
      "text/plain": [
       "736"
      ]
     },
     "execution_count": 63,
     "metadata": {},
     "output_type": "execute_result"
    }
   ],
   "source": [
    "coursesSubset.num_rows"
   ]
  },
  {
   "cell_type": "markdown",
   "id": "6153623a-6d63-4dca-8867-de1d132540ca",
   "metadata": {},
   "source": [
    "Still pretty big, but a lot smaller than what we had before.\n",
    "\n",
    "The first step is to group our data."
   ]
  },
  {
   "cell_type": "markdown",
   "id": "a9f54dac-4ad9-4e73-ac88-2ada4bd7687b",
   "metadata": {},
   "source": [
    "## Review: Grouping Data"
   ]
  },
  {
   "cell_type": "code",
   "execution_count": 64,
   "id": "eb90d60d-7847-4a95-9803-8a1b31eb41db",
   "metadata": {},
   "outputs": [],
   "source": [
    "allCoursesGroupedByDepartment = newTable.group(\"dept\")\n",
    "selectedCoursesGroupedByDepartment = coursesSubset.group(\"dept\")"
   ]
  },
  {
   "cell_type": "code",
   "execution_count": 65,
   "id": "33d8340d-32aa-4d45-a6ec-771b2fee18fb",
   "metadata": {},
   "outputs": [
    {
     "data": {
      "text/html": [
       "<table border=\"1\" class=\"dataframe\">\n",
       "    <thead>\n",
       "        <tr>\n",
       "            <th>dept</th> <th>count</th>\n",
       "        </tr>\n",
       "    </thead>\n",
       "    <tbody>\n",
       "        <tr>\n",
       "            <td>CMPSC</td> <td>217  </td>\n",
       "        </tr>\n",
       "        <tr>\n",
       "            <td>MATH </td> <td>231  </td>\n",
       "        </tr>\n",
       "        <tr>\n",
       "            <td>PSTAT</td> <td>288  </td>\n",
       "        </tr>\n",
       "    </tbody>\n",
       "</table>"
      ],
      "text/plain": [
       "dept  | count\n",
       "CMPSC | 217\n",
       "MATH  | 231\n",
       "PSTAT | 288"
      ]
     },
     "execution_count": 65,
     "metadata": {},
     "output_type": "execute_result"
    }
   ],
   "source": [
    "selectedCoursesGroupedByDepartment"
   ]
  },
  {
   "cell_type": "code",
   "execution_count": 66,
   "id": "0b6cda2d-87a1-492d-9574-563a0c56ecba",
   "metadata": {},
   "outputs": [
    {
     "data": {
      "text/html": [
       "<table border=\"1\" class=\"dataframe\">\n",
       "    <thead>\n",
       "        <tr>\n",
       "            <th>dept</th> <th>count</th>\n",
       "        </tr>\n",
       "    </thead>\n",
       "    <tbody>\n",
       "        <tr>\n",
       "            <td>ANTH   </td> <td>126  </td>\n",
       "        </tr>\n",
       "        <tr>\n",
       "            <td>ART    </td> <td>50   </td>\n",
       "        </tr>\n",
       "        <tr>\n",
       "            <td>ART  CS</td> <td>17   </td>\n",
       "        </tr>\n",
       "        <tr>\n",
       "            <td>ARTHI  </td> <td>82   </td>\n",
       "        </tr>\n",
       "        <tr>\n",
       "            <td>AS AM  </td> <td>34   </td>\n",
       "        </tr>\n",
       "        <tr>\n",
       "            <td>ASTRO  </td> <td>11   </td>\n",
       "        </tr>\n",
       "        <tr>\n",
       "            <td>BIOE   </td> <td>26   </td>\n",
       "        </tr>\n",
       "        <tr>\n",
       "            <td>BIOL CS</td> <td>13   </td>\n",
       "        </tr>\n",
       "        <tr>\n",
       "            <td>BL ST  </td> <td>39   </td>\n",
       "        </tr>\n",
       "        <tr>\n",
       "            <td>C LIT  </td> <td>72   </td>\n",
       "        </tr>\n",
       "    </tbody>\n",
       "</table>\n",
       "<p>... (91 rows omitted)</p>"
      ],
      "text/plain": [
       "dept    | count\n",
       "ANTH    | 126\n",
       "ART     | 50\n",
       "ART  CS | 17\n",
       "ARTHI   | 82\n",
       "AS AM   | 34\n",
       "ASTRO   | 11\n",
       "BIOE    | 26\n",
       "BIOL CS | 13\n",
       "BL ST   | 39\n",
       "C LIT   | 72\n",
       "... (91 rows omitted)"
      ]
     },
     "execution_count": 66,
     "metadata": {},
     "output_type": "execute_result"
    }
   ],
   "source": [
    "allCoursesGroupedByDepartment"
   ]
  },
  {
   "cell_type": "markdown",
   "id": "7943f34e-8ece-46f1-9965-79c19ee1511d",
   "metadata": {},
   "source": [
    "What we get back is a new table that shows the count of how many rows were in the original data set with each of the distinct values in the original."
   ]
  },
  {
   "cell_type": "markdown",
   "id": "f1b869b3-7525-4512-9433-7b624b04060f",
   "metadata": {},
   "source": [
    "# Simple Bar Graphs\n",
    "\n",
    "Let's look again at what happens when we group the courses from three departments by subject area:"
   ]
  },
  {
   "cell_type": "code",
   "execution_count": 194,
   "id": "be6e7996-f8f4-4006-8d35-66e782423f22",
   "metadata": {},
   "outputs": [
    {
     "data": {
      "text/html": [
       "<table border=\"1\" class=\"dataframe\">\n",
       "    <thead>\n",
       "        <tr>\n",
       "            <th>dept</th> <th>count</th>\n",
       "        </tr>\n",
       "    </thead>\n",
       "    <tbody>\n",
       "        <tr>\n",
       "            <td>CMPSC</td> <td>217  </td>\n",
       "        </tr>\n",
       "        <tr>\n",
       "            <td>MATH </td> <td>231  </td>\n",
       "        </tr>\n",
       "        <tr>\n",
       "            <td>PSTAT</td> <td>288  </td>\n",
       "        </tr>\n",
       "    </tbody>\n",
       "</table>"
      ],
      "text/plain": [
       "dept  | count\n",
       "CMPSC | 217\n",
       "MATH  | 231\n",
       "PSTAT | 288"
      ]
     },
     "execution_count": 194,
     "metadata": {},
     "output_type": "execute_result"
    }
   ],
   "source": [
    "desired_departments = make_array(\"CMPSC\", \"PSTAT\", \"MATH\")\n",
    "coursesSubset = newTable.where(\"dept\", are.contained_in(desired_departments))\n",
    "coursesSubset.group(\"dept\")"
   ]
  },
  {
   "cell_type": "markdown",
   "id": "e03ad711-3ea4-47ab-a95c-1db176637e6c",
   "metadata": {},
   "source": [
    "When we have a nice clean table like this with just two columns:\n",
    "* A label\n",
    "* A number\n",
    "\n",
    "We can get a bar chart very easily with this:"
   ]
  },
  {
   "cell_type": "code",
   "execution_count": 199,
   "id": "9aa0b08b-86f0-4fc6-9382-ec45ef2e3ad7",
   "metadata": {},
   "outputs": [
    {
     "data": {
      "image/png": "[encoded data removed]",
      "text/plain": [
       "<Figure size 600x400 with 1 Axes>"
      ]
     },
     "metadata": {},
     "output_type": "display_data"
    }
   ],
   "source": [
    "coursesSubset.group(\"dept\").barh(\"dept\",\"count\")"
   ]
  },
  {
   "cell_type": "markdown",
   "id": "79fe6b1b-dd99-4583-9639-875f6043cc9b",
   "metadata": {},
   "source": [
    "But, as we'll see, this table comparing the count of courses between PSTAT, MATH and CMPSC for S25 is not entirely accurate. \n",
    "\n",
    "For one thing, the data has multiple rows for each course: one for the lecture, and another for the section.\n",
    "\n",
    "So, while this is an interesting graph, we need to do some more work before we can rely on this for decision making."
   ]
  },
  {
   "cell_type": "markdown",
   "id": "424564f3-06d5-4ea4-84d1-d02766455bba",
   "metadata": {},
   "source": [
    "## Data Cleaning: A first look"
   ]
  },
  {
   "cell_type": "markdown",
   "id": "46df719c-e00e-43f1-af54-e61b4a0f4715",
   "metadata": {},
   "source": [
    "Data Cleaning typically involves removing data that:\n",
    "* Contains errors\n",
    "* Is inconsistent\n",
    "* Accurately reflects the question we are asking.\n",
    "\n",
    "As an example, suppose we want to know which departments (or more precisely, which subject areas) offer the most undergraduate courses at UCSB? \n",
    "\n",
    "Here's a quick and dirty analysis: we can group the courses table by department, and then sort, descending by the count:\n"
   ]
  },
  {
   "cell_type": "code",
   "execution_count": 68,
   "id": "18e03715-eb29-4b26-9596-8558deba7d8c",
   "metadata": {},
   "outputs": [
    {
     "data": {
      "text/html": [
       "<table border=\"1\" class=\"dataframe\">\n",
       "    <thead>\n",
       "        <tr>\n",
       "            <th>dept</th> <th>count</th>\n",
       "        </tr>\n",
       "    </thead>\n",
       "    <tbody>\n",
       "        <tr>\n",
       "            <td>CHEM </td> <td>307  </td>\n",
       "        </tr>\n",
       "        <tr>\n",
       "            <td>PSTAT</td> <td>288  </td>\n",
       "        </tr>\n",
       "        <tr>\n",
       "            <td>PSY  </td> <td>269  </td>\n",
       "        </tr>\n",
       "        <tr>\n",
       "            <td>PHYS </td> <td>257  </td>\n",
       "        </tr>\n",
       "        <tr>\n",
       "            <td>MCDB </td> <td>251  </td>\n",
       "        </tr>\n",
       "    </tbody>\n",
       "</table>\n",
       "<p>... (96 rows omitted)</p>"
      ],
      "text/plain": [
       "<IPython.core.display.HTML object>"
      ]
     },
     "metadata": {},
     "output_type": "display_data"
    }
   ],
   "source": [
    "courses.group(\"dept\").sort(\"count\",descending=True).show(5)"
   ]
  },
  {
   "cell_type": "markdown",
   "id": "bd757395-a347-4d6e-9516-dd2901974b57",
   "metadata": {},
   "source": [
    "By this count, the top five departments are CHEM, PSTAT, PSY, PHYS and MCDB.\n",
    "\n",
    "But, is this count accurate?\n",
    "\n",
    "As we'll see if we look into the data in more detail, there are a few things throwing this off.\n",
    "\n",
    "1. We haven't distinguished between grad and undergrad courses yet.\n",
    "2. We are counting both lectures and sections.\n",
    "3. Some departments offer a large number of \"independent study\" and \"research seminar\" courses with low enrollments that, while they are an important part of the UCSB experience, are in a different category, and may distort the numbers.  Those should perhaps be counted separately.\n"
   ]
  },
  {
   "cell_type": "markdown",
   "id": "ddad35d8-27c6-4f17-9fdb-2bf338d33185",
   "metadata": {},
   "source": [
    "Let's look at each of these problems separately.  First, how can we check whether this table contains both grad and undergrad courses?\n",
    "\n",
    "One way is to exploit the fact that the COURSEID field has particular digits in specific columns of the string.   We know that COURSEID has the format:\n",
    "```\n",
    "SSSSSSSSNNNXX-AA\n",
    "```\n",
    "For example, here's the course number for this course, CMPSC 5A, in this format, \n",
    "along with column numbers starting from 0 and going up to 15\n",
    "\n",
    "```\n",
    "          111111\n",
    "0123456789012345\n",
    "SSSSSSSSNNNXX-AA\n",
    "CMPSC     5A -1\n",
    "```\n",
    "\n",
    "where:\n",
    "* `SSSSSSSS` is the subject area\n",
    "* `NNN` is the course number\n",
    "* `XX` is the course number suffix\n",
    "* `AA` is the number of the lecture section\n",
    "\n",
    "Note that:\n",
    "* If a course is a lower division undergrad course, `COURSEID[8]` will be blank (i.e. a space character in Python ` `).\n",
    "* If a course is an upper division undergrad course, `COURSEID[8]` will be the `1` character.\n",
    "* Anything else (e.g. `2`, `5`, etc.) is a graduate course.\n",
    "\n",
    "Suppose we write a function that takes a courseid as a parameter, and then checks whether the character in position `[8]` is a `' '` (space) or a `'1'`:\n"
   ]
  },
  {
   "cell_type": "code",
   "execution_count": 76,
   "id": "b6720f1f-5805-423c-acd5-529314b848f9",
   "metadata": {},
   "outputs": [],
   "source": [
    "def is_undergrad(courseid):\n",
    "    \"\"\" returns true if course is undergrad, otherwise returns false \"\"\"\n",
    "    return courseid[8]==' ' or courseid[8]=='1'"
   ]
  },
  {
   "cell_type": "markdown",
   "id": "966d1a3e-10d7-49f0-9756-ca040ac83e3b",
   "metadata": {},
   "source": [
    "Once we have this method, we can use it like this:"
   ]
  },
  {
   "cell_type": "code",
   "execution_count": 77,
   "id": "25419107-c811-43ec-be3e-ed9233d7dcf1",
   "metadata": {},
   "outputs": [
    {
     "data": {
      "text/html": [
       "<table border=\"1\" class=\"dataframe\">\n",
       "    <thead>\n",
       "        <tr>\n",
       "            <th>COURSEID</th> <th>ENROLLED</th> <th>GES</th> <th>INSTRUCTOR</th> <th>MAXENROLL</th> <th>QUARTER</th> <th>SECTION</th> <th>STATUS</th> <th>dept</th> <th>courseNum</th> <th>suffix</th>\n",
       "        </tr>\n",
       "    </thead>\n",
       "    <tbody>\n",
       "        <tr>\n",
       "            <td>CMPSC     5A -1</td> <td>128     </td> <td>C (L&S), QNT (L&S)</td> <td>CONRAD P T</td> <td>150      </td> <td>20252  </td> <td>100    </td> <td>nan   </td> <td>CMPSC</td> <td>5A       </td> <td>1     </td>\n",
       "        </tr>\n",
       "        <tr>\n",
       "            <td>CMPSC     5A -1</td> <td>23      </td> <td>C (L&S), QNT (L&S)</td> <td>nan       </td> <td>30       </td> <td>20252  </td> <td>101    </td> <td>nan   </td> <td>CMPSC</td> <td>5A       </td> <td>1     </td>\n",
       "        </tr>\n",
       "        <tr>\n",
       "            <td>CMPSC     5A -1</td> <td>26      </td> <td>C (L&S), QNT (L&S)</td> <td>nan       </td> <td>30       </td> <td>20252  </td> <td>102    </td> <td>nan   </td> <td>CMPSC</td> <td>5A       </td> <td>1     </td>\n",
       "        </tr>\n",
       "        <tr>\n",
       "            <td>CMPSC     5A -1</td> <td>30      </td> <td>C (L&S), QNT (L&S)</td> <td>nan       </td> <td>30       </td> <td>20252  </td> <td>103    </td> <td>nan   </td> <td>CMPSC</td> <td>5A       </td> <td>1     </td>\n",
       "        </tr>\n",
       "        <tr>\n",
       "            <td>CMPSC     5A -1</td> <td>25      </td> <td>C (L&S), QNT (L&S)</td> <td>nan       </td> <td>30       </td> <td>20252  </td> <td>104    </td> <td>nan   </td> <td>CMPSC</td> <td>5A       </td> <td>1     </td>\n",
       "        </tr>\n",
       "        <tr>\n",
       "            <td>CMPSC     5A -1</td> <td>24      </td> <td>C (L&S), QNT (L&S)</td> <td>nan       </td> <td>30       </td> <td>20252  </td> <td>105    </td> <td>nan   </td> <td>CMPSC</td> <td>5A       </td> <td>1     </td>\n",
       "        </tr>\n",
       "        <tr>\n",
       "            <td>CMPSC     5B -1</td> <td>0       </td> <td>C (L&S), QNT (L&S)</td> <td>TANNA A A </td> <td>77       </td> <td>20252  </td> <td>100    </td> <td>Closed</td> <td>CMPSC</td> <td>5B       </td> <td>1     </td>\n",
       "        </tr>\n",
       "        <tr>\n",
       "            <td>CMPSC     5B -1</td> <td>0       </td> <td>C (L&S), QNT (L&S)</td> <td>nan       </td> <td>26       </td> <td>20252  </td> <td>101    </td> <td>Closed</td> <td>CMPSC</td> <td>5B       </td> <td>1     </td>\n",
       "        </tr>\n",
       "        <tr>\n",
       "            <td>CMPSC     5B -1</td> <td>0       </td> <td>C (L&S), QNT (L&S)</td> <td>nan       </td> <td>25       </td> <td>20252  </td> <td>102    </td> <td>Closed</td> <td>CMPSC</td> <td>5B       </td> <td>1     </td>\n",
       "        </tr>\n",
       "        <tr>\n",
       "            <td>CMPSC     5B -1</td> <td>0       </td> <td>C (L&S), QNT (L&S)</td> <td>nan       </td> <td>26       </td> <td>20252  </td> <td>103    </td> <td>Closed</td> <td>CMPSC</td> <td>5B       </td> <td>1     </td>\n",
       "        </tr>\n",
       "    </tbody>\n",
       "</table>\n",
       "<p>... (4623 rows omitted)</p>"
      ],
      "text/plain": [
       "COURSEID        | ENROLLED | GES                | INSTRUCTOR | MAXENROLL | QUARTER | SECTION | STATUS | dept  | courseNum | suffix\n",
       "CMPSC     5A -1 | 128      | C (L&S), QNT (L&S) | CONRAD P T | 150       | 20252   | 100     | nan    | CMPSC | 5A        | 1\n",
       "CMPSC     5A -1 | 23       | C (L&S), QNT (L&S) | nan        | 30        | 20252   | 101     | nan    | CMPSC | 5A        | 1\n",
       "CMPSC     5A -1 | 26       | C (L&S), QNT (L&S) | nan        | 30        | 20252   | 102     | nan    | CMPSC | 5A        | 1\n",
       "CMPSC     5A -1 | 30       | C (L&S), QNT (L&S) | nan        | 30        | 20252   | 103     | nan    | CMPSC | 5A        | 1\n",
       "CMPSC     5A -1 | 25       | C (L&S), QNT (L&S) | nan        | 30        | 20252   | 104     | nan    | CMPSC | 5A        | 1\n",
       "CMPSC     5A -1 | 24       | C (L&S), QNT (L&S) | nan        | 30        | 20252   | 105     | nan    | CMPSC | 5A        | 1\n",
       "CMPSC     5B -1 | 0        | C (L&S), QNT (L&S) | TANNA A A  | 77        | 20252   | 100     | Closed | CMPSC | 5B        | 1\n",
       "CMPSC     5B -1 | 0        | C (L&S), QNT (L&S) | nan        | 26        | 20252   | 101     | Closed | CMPSC | 5B        | 1\n",
       "CMPSC     5B -1 | 0        | C (L&S), QNT (L&S) | nan        | 25        | 20252   | 102     | Closed | CMPSC | 5B        | 1\n",
       "CMPSC     5B -1 | 0        | C (L&S), QNT (L&S) | nan        | 26        | 20252   | 103     | Closed | CMPSC | 5B        | 1\n",
       "... (4623 rows omitted)"
      ]
     },
     "execution_count": 77,
     "metadata": {},
     "output_type": "execute_result"
    }
   ],
   "source": [
    "courses.where(\"COURSEID\", is_undergrad)"
   ]
  },
  {
   "cell_type": "markdown",
   "id": "f8205042-9edd-4f4d-ae11-613fdd4bcc08",
   "metadata": {},
   "source": [
    "But why does that work?  \n",
    "* Short version: because `is_undergrad` is a special type of function called a *predicate*\n",
    "* To understand more, let's look at this `.where()` method more closely."
   ]
  },
  {
   "cell_type": "markdown",
   "id": "3f3d23d2-9f50-4292-9810-b0095648dc25",
   "metadata": {},
   "source": [
    "## Short digression: the `table.where(...)` method\n",
    "\n",
    "We've seen the `table.where(...)` method before.  It's one of the two ways we can slice a table horizontally:\n",
    "* `table.take(...)` is used when we want to specify table rows by their *index*, i.e. the row number (starting with `0`).  \n",
    "* `table.where(...)` is used when we want to specify table rows by *criteria*, i.e. something that is true about those rows, and not true of the other rows.\n",
    "\n",
    "An example of `.where(...)` is when we want all courses with more than 99 students:\n"
   ]
  },
  {
   "cell_type": "code",
   "execution_count": 78,
   "id": "5caeb8bf-fcdd-433c-8eb4-97f54914f92d",
   "metadata": {},
   "outputs": [
    {
     "data": {
      "text/html": [
       "<table border=\"1\" class=\"dataframe\">\n",
       "    <thead>\n",
       "        <tr>\n",
       "            <th>COURSEID</th> <th>ENROLLED</th> <th>GES</th> <th>INSTRUCTOR</th> <th>MAXENROLL</th> <th>QUARTER</th> <th>SECTION</th> <th>STATUS</th> <th>dept</th> <th>courseNum</th> <th>suffix</th>\n",
       "        </tr>\n",
       "    </thead>\n",
       "    <tbody>\n",
       "        <tr>\n",
       "            <td>CMPSC     5A -1</td> <td>128     </td> <td>C (L&S), QNT (L&S)</td> <td>CONRAD P T   </td> <td>150      </td> <td>20252  </td> <td>100    </td> <td>nan   </td> <td>CMPSC</td> <td>5A       </td> <td>1     </td>\n",
       "        </tr>\n",
       "        <tr>\n",
       "            <td>CMPSC     9  -1</td> <td>166     </td> <td>nan               </td> <td>KHARITONOVA Y</td> <td>300      </td> <td>20252  </td> <td>100    </td> <td>nan   </td> <td>CMPSC</td> <td>9        </td> <td>1     </td>\n",
       "        </tr>\n",
       "        <tr>\n",
       "            <td>CMPSC    16  -1</td> <td>113     </td> <td>nan               </td> <td>MAJEDI M     </td> <td>150      </td> <td>20252  </td> <td>100    </td> <td>Closed</td> <td>CMPSC</td> <td>16       </td> <td>1     </td>\n",
       "        </tr>\n",
       "        <tr>\n",
       "            <td>CMPSC    24  -1</td> <td>146     </td> <td>nan               </td> <td>MIRZA D      </td> <td>149      </td> <td>20252  </td> <td>100    </td> <td>nan   </td> <td>CMPSC</td> <td>24       </td> <td>1     </td>\n",
       "        </tr>\n",
       "        <tr>\n",
       "            <td>CMPSC    32  -1</td> <td>133     </td> <td>nan               </td> <td>NASIR N      </td> <td>150      </td> <td>20252  </td> <td>100    </td> <td>nan   </td> <td>CMPSC</td> <td>32       </td> <td>1     </td>\n",
       "        </tr>\n",
       "        <tr>\n",
       "            <td>CMPSC    40  -1</td> <td>110     </td> <td>nan               </td> <td>MAJEDI M     </td> <td>150      </td> <td>20252  </td> <td>100    </td> <td>Closed</td> <td>CMPSC</td> <td>40       </td> <td>1     </td>\n",
       "        </tr>\n",
       "        <tr>\n",
       "            <td>CMPSC   154  -1</td> <td>112     </td> <td>nan               </td> <td>BALKIND J M  </td> <td>150      </td> <td>20252  </td> <td>100    </td> <td>nan   </td> <td>CMPSC</td> <td>154      </td> <td>1     </td>\n",
       "        </tr>\n",
       "        <tr>\n",
       "            <td>CMPSC   165A -1</td> <td>137     </td> <td>nan               </td> <td>PREISS J A   </td> <td>150      </td> <td>20252  </td> <td>100    </td> <td>nan   </td> <td>CMPSC</td> <td>165A     </td> <td>1     </td>\n",
       "        </tr>\n",
       "        <tr>\n",
       "            <td>CMPSC   165B -1</td> <td>149     </td> <td>nan               </td> <td>GUO W        </td> <td>150      </td> <td>20252  </td> <td>100    </td> <td>nan   </td> <td>CMPSC</td> <td>165B     </td> <td>1     </td>\n",
       "        </tr>\n",
       "        <tr>\n",
       "            <td>CMPSC   174A -1</td> <td>149     </td> <td>nan               </td> <td>SU J         </td> <td>150      </td> <td>20252  </td> <td>100    </td> <td>Closed</td> <td>CMPSC</td> <td>174A     </td> <td>1     </td>\n",
       "        </tr>\n",
       "    </tbody>\n",
       "</table>\n",
       "<p>... (184 rows omitted)</p>"
      ],
      "text/plain": [
       "COURSEID        | ENROLLED | GES                | INSTRUCTOR    | MAXENROLL | QUARTER | SECTION | STATUS | dept  | courseNum | suffix\n",
       "CMPSC     5A -1 | 128      | C (L&S), QNT (L&S) | CONRAD P T    | 150       | 20252   | 100     | nan    | CMPSC | 5A        | 1\n",
       "CMPSC     9  -1 | 166      | nan                | KHARITONOVA Y | 300       | 20252   | 100     | nan    | CMPSC | 9         | 1\n",
       "CMPSC    16  -1 | 113      | nan                | MAJEDI M      | 150       | 20252   | 100     | Closed | CMPSC | 16        | 1\n",
       "CMPSC    24  -1 | 146      | nan                | MIRZA D       | 149       | 20252   | 100     | nan    | CMPSC | 24        | 1\n",
       "CMPSC    32  -1 | 133      | nan                | NASIR N       | 150       | 20252   | 100     | nan    | CMPSC | 32        | 1\n",
       "CMPSC    40  -1 | 110      | nan                | MAJEDI M      | 150       | 20252   | 100     | Closed | CMPSC | 40        | 1\n",
       "CMPSC   154  -1 | 112      | nan                | BALKIND J M   | 150       | 20252   | 100     | nan    | CMPSC | 154       | 1\n",
       "CMPSC   165A -1 | 137      | nan                | PREISS J A    | 150       | 20252   | 100     | nan    | CMPSC | 165A      | 1\n",
       "CMPSC   165B -1 | 149      | nan                | GUO W         | 150       | 20252   | 100     | nan    | CMPSC | 165B      | 1\n",
       "CMPSC   174A -1 | 149      | nan                | SU J          | 150       | 20252   | 100     | Closed | CMPSC | 174A      | 1\n",
       "... (184 rows omitted)"
      ]
     },
     "execution_count": 78,
     "metadata": {},
     "output_type": "execute_result"
    }
   ],
   "source": [
    "courses.where(\"ENROLLED\", are.above(99))"
   ]
  },
  {
   "cell_type": "markdown",
   "id": "c64d70e1-d97f-4816-8eb4-a228a246fcd1",
   "metadata": {},
   "source": [
    "How can we remember all of the things that come after `.are`?  For example, how can we know whether it should be:\n",
    "\n",
    "* `courses.where(\"ENROLLED\", are.greater_than(99))`\n",
    "* `courses.where(\"ENROLLED\", are.larger_than(99))`\n",
    "* `courses.where(\"ENROLLED\", are.above(99))`\n",
    "* `courses.where(\"ENROLLED\", are.bigger_than(99))`\n",
    "\n",
    "All of those are *plausible* but only one of those is correct.  How can we know?\n",
    "\n",
    "Please know: Your instructor isn't planning to memorize them, and doesn't expect you to either.  Here's how you can look them up:\n",
    "\n",
    "Here are four ways:\n",
    "* The most convenient way is to put `help(are)` at a Python prompt (e.g. in a Jupyter Notebook in a code cell).  We'll show what that looks like below.\n",
    "* The Canvas site links to the documentation for the `datascience` module.  We can look it up, but we need to know what we are looking for.  These things that go after `are` are callled *where predicates*. We'll talk more about *predicates* below.\n",
    "* On a PrairieLearn quiz, if you need where predicates, we'll typically provide a \"Hint\" dropdown with a reference for the predicates.\n",
    "* You can try using ai, but beware that you will need to specify that you are using the \"Python datascience module\" and even then, the answers may or may not be accurate, so always check them out before blindly trusting the ai."
   ]
  },
  {
   "cell_type": "markdown",
   "id": "5b2e8cd0-1eeb-44d7-8d04-3df3fdc274f9",
   "metadata": {},
   "source": [
    "### What `help(are)` looks like:\n",
    "\n",
    "You can often get helpful documentation about things in Python by passing the name as a parameter to the `help(...)` \n",
    "function, as shown below.\n",
    "\n",
    "After you've found what you need, it's a good idea to do one of these so the output doesn't clutter up the notebook:\n",
    "* delete the cell\n",
    "* comment it out (put a `#` in front of it (pound sign, octothorpe, hash tag))\n",
    "* use `Edit / Clear Cell Output` from the Jupyter Notebook menu\n",
    "\n",
    "Note that in the output, these called *predicates*."
   ]
  },
  {
   "cell_type": "code",
   "execution_count": 81,
   "id": "055a0b32-42c5-4359-9b29-2707d86550c3",
   "metadata": {},
   "outputs": [
    {
     "name": "stdout",
     "output_type": "stream",
     "text": [
      "Help on class are in module datascience.predicates:\n",
      "\n",
      "class are(builtins.object)\n",
      " |  Predicate functions. The class is named \"are\" for calls to where.\n",
      " |\n",
      " |  For example, given a table, predicates can be used to pick rows as follows.\n",
      " |\n",
      " |  >>> from datascience import Table\n",
      " |  >>> t = Table().with_columns([\n",
      " |  ...    'Sizes', ['S', 'M', 'L', 'XL'],\n",
      " |  ...    'Waists', [30, 34, 38, 42],\n",
      " |  ... ])\n",
      " |  >>> t.where('Sizes',  are.equal_to('L'))\n",
      " |  Sizes | Waists\n",
      " |  L     | 38\n",
      " |  >>> t.where('Waists', are.above(38))\n",
      " |  Sizes | Waists\n",
      " |  XL    | 42\n",
      " |  >>> t.where('Waists', are.above_or_equal_to(38))\n",
      " |  Sizes | Waists\n",
      " |  L     | 38\n",
      " |  XL    | 42\n",
      " |  >>> t.where('Waists', are.below(38))\n",
      " |  Sizes | Waists\n",
      " |  S     | 30\n",
      " |  M     | 34\n",
      " |  >>> t.where('Waists', are.below_or_equal_to(38))\n",
      " |  Sizes | Waists\n",
      " |  S     | 30\n",
      " |  M     | 34\n",
      " |  L     | 38\n",
      " |  >>> t.where('Waists', are.strictly_between(30, 38))\n",
      " |  Sizes | Waists\n",
      " |  M     | 34\n",
      " |  >>> t.where('Waists', are.between(30, 38))\n",
      " |  Sizes | Waists\n",
      " |  S     | 30\n",
      " |  M     | 34\n",
      " |  >>> t.where('Waists', are.between_or_equal_to(30, 38))\n",
      " |  Sizes | Waists\n",
      " |  S     | 30\n",
      " |  M     | 34\n",
      " |  L     | 38\n",
      " |  >>> t.where('Sizes',  are.equal_to('L'))\n",
      " |  Sizes | Waists\n",
      " |  L     | 38\n",
      " |  >>> t.where('Waists', are.not_above(38))\n",
      " |  Sizes | Waists\n",
      " |  S     | 30\n",
      " |  M     | 34\n",
      " |  L     | 38\n",
      " |  >>> t.where('Waists', are.not_above_or_equal_to(38))\n",
      " |  Sizes | Waists\n",
      " |  S     | 30\n",
      " |  M     | 34\n",
      " |  >>> t.where('Waists', are.not_below(38))\n",
      " |  Sizes | Waists\n",
      " |  L     | 38\n",
      " |  XL    | 42\n",
      " |  >>> t.where('Waists', are.not_below_or_equal_to(38))\n",
      " |  Sizes | Waists\n",
      " |  XL    | 42\n",
      " |  >>> t.where('Waists', are.not_strictly_between(30, 38))\n",
      " |  Sizes | Waists\n",
      " |  S     | 30\n",
      " |  L     | 38\n",
      " |  XL    | 42\n",
      " |  >>> t.where('Waists', are.not_between(30, 38))\n",
      " |  Sizes | Waists\n",
      " |  L     | 38\n",
      " |  XL    | 42\n",
      " |  >>> t.where('Waists', are.not_between_or_equal_to(30, 38))\n",
      " |  Sizes | Waists\n",
      " |  XL    | 42\n",
      " |  >>> t.where('Sizes', are.containing('L'))\n",
      " |  Sizes | Waists\n",
      " |  L     | 38\n",
      " |  XL    | 42\n",
      " |  >>> t.where('Sizes', are.not_containing('L'))\n",
      " |  Sizes | Waists\n",
      " |  S     | 30\n",
      " |  M     | 34\n",
      " |  >>> t.where('Sizes', are.contained_in('MXL'))\n",
      " |  Sizes | Waists\n",
      " |  M     | 34\n",
      " |  L     | 38\n",
      " |  XL    | 42\n",
      " |  >>> t.where('Sizes', are.contained_in('L'))\n",
      " |  Sizes | Waists\n",
      " |  L     | 38\n",
      " |  >>> t.where('Sizes', are.not_contained_in('MXL'))\n",
      " |  Sizes | Waists\n",
      " |  S     | 30\n",
      " |\n",
      " |  Static methods defined here:\n",
      " |\n",
      " |  above(y)\n",
      " |      Greater than y.\n",
      " |\n",
      " |  above_or_equal_to(y)\n",
      " |      Greater than or equal to y.\n",
      " |\n",
      " |  below(y)\n",
      " |      Less than y.\n",
      " |\n",
      " |  below_or_equal_to(y)\n",
      " |      Less than or equal to y.\n",
      " |\n",
      " |  between(y, z)\n",
      " |      Greater than or equal to y and less than z.\n",
      " |\n",
      " |  between_or_equal_to(y, z)\n",
      " |      Greater than or equal to y and less than or equal to z.\n",
      " |\n",
      " |  contained_in(superstring)\n",
      " |      A string that is part of the given superstring.\n",
      " |\n",
      " |  containing(substring)\n",
      " |      A string that contains within it the given substring.\n",
      " |\n",
      " |  equal_to(y)\n",
      " |      Equal to y.\n",
      " |\n",
      " |  not_above(y)\n",
      " |      Is not above y\n",
      " |\n",
      " |  not_above_or_equal_to(y)\n",
      " |      Is neither above y nor equal to y\n",
      " |\n",
      " |  not_below(y)\n",
      " |      Is not below y\n",
      " |\n",
      " |  not_below_or_equal_to(y)\n",
      " |      Is neither below y nor equal to y\n",
      " |\n",
      " |  not_between(y, z)\n",
      " |      Is equal to y or less than y or greater than z\n",
      " |\n",
      " |  not_between_or_equal_to(y, z)\n",
      " |      Is less than y or greater than z\n",
      " |\n",
      " |  not_contained_in(superstring)\n",
      " |      A string that is not contained within the superstring\n",
      " |\n",
      " |  not_containing(substring)\n",
      " |      A string that does not contain substring\n",
      " |\n",
      " |  not_equal_to(y)\n",
      " |      Is not equal to y\n",
      " |\n",
      " |  not_strictly_between(y, z)\n",
      " |      Is equal to y or equal to z or less than y or greater than z\n",
      " |\n",
      " |  strictly_between(y, z)\n",
      " |      Greater than y and less than z.\n",
      " |\n",
      " |  ----------------------------------------------------------------------\n",
      " |  Data descriptors defined here:\n",
      " |\n",
      " |  __dict__\n",
      " |      dictionary for instance variables\n",
      " |\n",
      " |  __weakref__\n",
      " |      list of weak references to the object\n",
      "\n"
     ]
    }
   ],
   "source": [
    "help(are)"
   ]
  },
  {
   "cell_type": "markdown",
   "id": "1732330e-3672-4b66-8995-a394162faa1d",
   "metadata": {},
   "source": [
    "## A short digression about *predicates* \n",
    "\n",
    "Function definitions that always return `True` or `False` (boolean values) have a special name: they are called *predicates*.   \n",
    "\n",
    "The reason it's important to learn this special word *predicate* is that, as we've seen, it shows up in the documentation for the `where` method that we use on tables.\n",
    "\n",
    "We've seen before that we can select rows out of a table with a `.where(...)` method such as this.\n",
    "\n"
   ]
  },
  {
   "cell_type": "code",
   "execution_count": 84,
   "id": "7a7df43c-56ba-473e-9793-220d2bac4a80",
   "metadata": {},
   "outputs": [
    {
     "data": {
      "text/html": [
       "<table border=\"1\" class=\"dataframe\">\n",
       "    <thead>\n",
       "        <tr>\n",
       "            <th>COURSEID</th> <th>ENROLLED</th> <th>GES</th> <th>INSTRUCTOR</th> <th>MAXENROLL</th> <th>QUARTER</th> <th>SECTION</th> <th>STATUS</th> <th>dept</th> <th>courseNum</th> <th>suffix</th>\n",
       "        </tr>\n",
       "    </thead>\n",
       "    <tbody>\n",
       "        <tr>\n",
       "            <td>CMPSC     5A -1</td> <td>128     </td> <td>C (L&S), QNT (L&S)</td> <td>CONRAD P T   </td> <td>150      </td> <td>20252  </td> <td>100    </td> <td>nan   </td> <td>CMPSC</td> <td>5A       </td> <td>1     </td>\n",
       "        </tr>\n",
       "        <tr>\n",
       "            <td>CMPSC     9  -1</td> <td>166     </td> <td>nan               </td> <td>KHARITONOVA Y</td> <td>300      </td> <td>20252  </td> <td>100    </td> <td>nan   </td> <td>CMPSC</td> <td>9        </td> <td>1     </td>\n",
       "        </tr>\n",
       "        <tr>\n",
       "            <td>CMPSC    16  -1</td> <td>113     </td> <td>nan               </td> <td>MAJEDI M     </td> <td>150      </td> <td>20252  </td> <td>100    </td> <td>Closed</td> <td>CMPSC</td> <td>16       </td> <td>1     </td>\n",
       "        </tr>\n",
       "        <tr>\n",
       "            <td>CMPSC    24  -1</td> <td>146     </td> <td>nan               </td> <td>MIRZA D      </td> <td>149      </td> <td>20252  </td> <td>100    </td> <td>nan   </td> <td>CMPSC</td> <td>24       </td> <td>1     </td>\n",
       "        </tr>\n",
       "        <tr>\n",
       "            <td>CMPSC    32  -1</td> <td>133     </td> <td>nan               </td> <td>NASIR N      </td> <td>150      </td> <td>20252  </td> <td>100    </td> <td>nan   </td> <td>CMPSC</td> <td>32       </td> <td>1     </td>\n",
       "        </tr>\n",
       "        <tr>\n",
       "            <td>CMPSC    40  -1</td> <td>110     </td> <td>nan               </td> <td>MAJEDI M     </td> <td>150      </td> <td>20252  </td> <td>100    </td> <td>Closed</td> <td>CMPSC</td> <td>40       </td> <td>1     </td>\n",
       "        </tr>\n",
       "        <tr>\n",
       "            <td>CMPSC   154  -1</td> <td>112     </td> <td>nan               </td> <td>BALKIND J M  </td> <td>150      </td> <td>20252  </td> <td>100    </td> <td>nan   </td> <td>CMPSC</td> <td>154      </td> <td>1     </td>\n",
       "        </tr>\n",
       "        <tr>\n",
       "            <td>CMPSC   165A -1</td> <td>137     </td> <td>nan               </td> <td>PREISS J A   </td> <td>150      </td> <td>20252  </td> <td>100    </td> <td>nan   </td> <td>CMPSC</td> <td>165A     </td> <td>1     </td>\n",
       "        </tr>\n",
       "        <tr>\n",
       "            <td>CMPSC   165B -1</td> <td>149     </td> <td>nan               </td> <td>GUO W        </td> <td>150      </td> <td>20252  </td> <td>100    </td> <td>nan   </td> <td>CMPSC</td> <td>165B     </td> <td>1     </td>\n",
       "        </tr>\n",
       "        <tr>\n",
       "            <td>CMPSC   174A -1</td> <td>149     </td> <td>nan               </td> <td>SU J         </td> <td>150      </td> <td>20252  </td> <td>100    </td> <td>Closed</td> <td>CMPSC</td> <td>174A     </td> <td>1     </td>\n",
       "        </tr>\n",
       "    </tbody>\n",
       "</table>\n",
       "<p>... (184 rows omitted)</p>"
      ],
      "text/plain": [
       "COURSEID        | ENROLLED | GES                | INSTRUCTOR    | MAXENROLL | QUARTER | SECTION | STATUS | dept  | courseNum | suffix\n",
       "CMPSC     5A -1 | 128      | C (L&S), QNT (L&S) | CONRAD P T    | 150       | 20252   | 100     | nan    | CMPSC | 5A        | 1\n",
       "CMPSC     9  -1 | 166      | nan                | KHARITONOVA Y | 300       | 20252   | 100     | nan    | CMPSC | 9         | 1\n",
       "CMPSC    16  -1 | 113      | nan                | MAJEDI M      | 150       | 20252   | 100     | Closed | CMPSC | 16        | 1\n",
       "CMPSC    24  -1 | 146      | nan                | MIRZA D       | 149       | 20252   | 100     | nan    | CMPSC | 24        | 1\n",
       "CMPSC    32  -1 | 133      | nan                | NASIR N       | 150       | 20252   | 100     | nan    | CMPSC | 32        | 1\n",
       "CMPSC    40  -1 | 110      | nan                | MAJEDI M      | 150       | 20252   | 100     | Closed | CMPSC | 40        | 1\n",
       "CMPSC   154  -1 | 112      | nan                | BALKIND J M   | 150       | 20252   | 100     | nan    | CMPSC | 154       | 1\n",
       "CMPSC   165A -1 | 137      | nan                | PREISS J A    | 150       | 20252   | 100     | nan    | CMPSC | 165A      | 1\n",
       "CMPSC   165B -1 | 149      | nan                | GUO W         | 150       | 20252   | 100     | nan    | CMPSC | 165B      | 1\n",
       "CMPSC   174A -1 | 149      | nan                | SU J          | 150       | 20252   | 100     | Closed | CMPSC | 174A      | 1\n",
       "... (184 rows omitted)"
      ]
     },
     "execution_count": 84,
     "metadata": {},
     "output_type": "execute_result"
    }
   ],
   "source": [
    "courses.where(\"ENROLLED\", are.above(99))"
   ]
  },
  {
   "cell_type": "markdown",
   "id": "241b9695-951d-463d-970b-278c31bbfab3",
   "metadata": {},
   "source": [
    "So, here, `are.above(99)` is a predicate.  What's going on here is a little sutble: `are.above(99)` returns a function that takes a value as a parameter, and determines whether it is `>99`.  \n",
    "* If so, it returns `True`\n",
    "* If not, it returns `False`\n",
    "\n",
    "Let's explore that by giving `are.above(99)` a name using an assignment statement, and then using it\n",
    "as a function call:"
   ]
  },
  {
   "cell_type": "code",
   "execution_count": 91,
   "id": "c8229093-97fc-4094-949a-7b00ec9159a4",
   "metadata": {},
   "outputs": [
    {
     "data": {
      "text/plain": [
       "True"
      ]
     },
     "execution_count": 91,
     "metadata": {},
     "output_type": "execute_result"
    }
   ],
   "source": [
    "above99 = are.above(99)\n",
    "above99(100)"
   ]
  },
  {
   "cell_type": "code",
   "execution_count": 92,
   "id": "69b8f2f6-eec4-43da-b076-2c10ea76bab8",
   "metadata": {},
   "outputs": [
    {
     "data": {
      "text/plain": [
       "False"
      ]
     },
     "execution_count": 92,
     "metadata": {},
     "output_type": "execute_result"
    }
   ],
   "source": [
    "above99(90)"
   ]
  },
  {
   "cell_type": "markdown",
   "id": "da738cea-c667-40d1-99b3-9018a28335b8",
   "metadata": {},
   "source": [
    "We can see that `are.above(99)` can be treated as a function that takes a value as it's parameter, and returns either `True` or `False`.\n",
    "\n",
    "So when we write:\n",
    "```\n",
    "courses.where(\"ENROLLED\", are.above(99))\n",
    "```\n",
    "\n",
    "what is happening is this:\n",
    "\n",
    "```\n",
    "for every row in the table:\n",
    "   we pass the value of \"ENROLLED\" in that row to \"are.above(99)\"\n",
    "   if we get back True, we include that row in the result\n",
    "   if we get back False, we do NOT include that row in the result\n",
    "```\n",
    "  \n",
    "Let's see what that looks like:"
   ]
  },
  {
   "cell_type": "code",
   "execution_count": 93,
   "id": "3a253c99-f196-4cae-a0f8-4e376a1c4b36",
   "metadata": {},
   "outputs": [
    {
     "data": {
      "text/html": [
       "<table border=\"1\" class=\"dataframe\">\n",
       "    <thead>\n",
       "        <tr>\n",
       "            <th>COURSEID</th> <th>ENROLLED</th> <th>GES</th> <th>INSTRUCTOR</th> <th>MAXENROLL</th> <th>QUARTER</th> <th>SECTION</th> <th>STATUS</th> <th>dept</th> <th>courseNum</th> <th>suffix</th>\n",
       "        </tr>\n",
       "    </thead>\n",
       "    <tbody>\n",
       "        <tr>\n",
       "            <td>CMPSC     5A -1</td> <td>128     </td> <td>C (L&S), QNT (L&S)</td> <td>CONRAD P T   </td> <td>150      </td> <td>20252  </td> <td>100    </td> <td>nan   </td> <td>CMPSC</td> <td>5A       </td> <td>1     </td>\n",
       "        </tr>\n",
       "        <tr>\n",
       "            <td>CMPSC     9  -1</td> <td>166     </td> <td>nan               </td> <td>KHARITONOVA Y</td> <td>300      </td> <td>20252  </td> <td>100    </td> <td>nan   </td> <td>CMPSC</td> <td>9        </td> <td>1     </td>\n",
       "        </tr>\n",
       "        <tr>\n",
       "            <td>CMPSC    16  -1</td> <td>113     </td> <td>nan               </td> <td>MAJEDI M     </td> <td>150      </td> <td>20252  </td> <td>100    </td> <td>Closed</td> <td>CMPSC</td> <td>16       </td> <td>1     </td>\n",
       "        </tr>\n",
       "        <tr>\n",
       "            <td>CMPSC    24  -1</td> <td>146     </td> <td>nan               </td> <td>MIRZA D      </td> <td>149      </td> <td>20252  </td> <td>100    </td> <td>nan   </td> <td>CMPSC</td> <td>24       </td> <td>1     </td>\n",
       "        </tr>\n",
       "        <tr>\n",
       "            <td>CMPSC    32  -1</td> <td>133     </td> <td>nan               </td> <td>NASIR N      </td> <td>150      </td> <td>20252  </td> <td>100    </td> <td>nan   </td> <td>CMPSC</td> <td>32       </td> <td>1     </td>\n",
       "        </tr>\n",
       "        <tr>\n",
       "            <td>CMPSC    40  -1</td> <td>110     </td> <td>nan               </td> <td>MAJEDI M     </td> <td>150      </td> <td>20252  </td> <td>100    </td> <td>Closed</td> <td>CMPSC</td> <td>40       </td> <td>1     </td>\n",
       "        </tr>\n",
       "        <tr>\n",
       "            <td>CMPSC   154  -1</td> <td>112     </td> <td>nan               </td> <td>BALKIND J M  </td> <td>150      </td> <td>20252  </td> <td>100    </td> <td>nan   </td> <td>CMPSC</td> <td>154      </td> <td>1     </td>\n",
       "        </tr>\n",
       "        <tr>\n",
       "            <td>CMPSC   165A -1</td> <td>137     </td> <td>nan               </td> <td>PREISS J A   </td> <td>150      </td> <td>20252  </td> <td>100    </td> <td>nan   </td> <td>CMPSC</td> <td>165A     </td> <td>1     </td>\n",
       "        </tr>\n",
       "        <tr>\n",
       "            <td>CMPSC   165B -1</td> <td>149     </td> <td>nan               </td> <td>GUO W        </td> <td>150      </td> <td>20252  </td> <td>100    </td> <td>nan   </td> <td>CMPSC</td> <td>165B     </td> <td>1     </td>\n",
       "        </tr>\n",
       "        <tr>\n",
       "            <td>CMPSC   174A -1</td> <td>149     </td> <td>nan               </td> <td>SU J         </td> <td>150      </td> <td>20252  </td> <td>100    </td> <td>Closed</td> <td>CMPSC</td> <td>174A     </td> <td>1     </td>\n",
       "        </tr>\n",
       "    </tbody>\n",
       "</table>\n",
       "<p>... (184 rows omitted)</p>"
      ],
      "text/plain": [
       "COURSEID        | ENROLLED | GES                | INSTRUCTOR    | MAXENROLL | QUARTER | SECTION | STATUS | dept  | courseNum | suffix\n",
       "CMPSC     5A -1 | 128      | C (L&S), QNT (L&S) | CONRAD P T    | 150       | 20252   | 100     | nan    | CMPSC | 5A        | 1\n",
       "CMPSC     9  -1 | 166      | nan                | KHARITONOVA Y | 300       | 20252   | 100     | nan    | CMPSC | 9         | 1\n",
       "CMPSC    16  -1 | 113      | nan                | MAJEDI M      | 150       | 20252   | 100     | Closed | CMPSC | 16        | 1\n",
       "CMPSC    24  -1 | 146      | nan                | MIRZA D       | 149       | 20252   | 100     | nan    | CMPSC | 24        | 1\n",
       "CMPSC    32  -1 | 133      | nan                | NASIR N       | 150       | 20252   | 100     | nan    | CMPSC | 32        | 1\n",
       "CMPSC    40  -1 | 110      | nan                | MAJEDI M      | 150       | 20252   | 100     | Closed | CMPSC | 40        | 1\n",
       "CMPSC   154  -1 | 112      | nan                | BALKIND J M   | 150       | 20252   | 100     | nan    | CMPSC | 154       | 1\n",
       "CMPSC   165A -1 | 137      | nan                | PREISS J A    | 150       | 20252   | 100     | nan    | CMPSC | 165A      | 1\n",
       "CMPSC   165B -1 | 149      | nan                | GUO W         | 150       | 20252   | 100     | nan    | CMPSC | 165B      | 1\n",
       "CMPSC   174A -1 | 149      | nan                | SU J          | 150       | 20252   | 100     | Closed | CMPSC | 174A      | 1\n",
       "... (184 rows omitted)"
      ]
     },
     "execution_count": 93,
     "metadata": {},
     "output_type": "execute_result"
    }
   ],
   "source": [
    "courses.where(\"ENROLLED\", are.above(99))"
   ]
  },
  {
   "cell_type": "markdown",
   "id": "c9097553-3283-4068-a7b8-c68c91df6aee",
   "metadata": {},
   "source": [
    "## Using our *own* predicate functions in a `.where` call:\n",
    "\n",
    "\n",
    "In the same way, we can use our own predicate function:\n",
    "```\n",
    "def is_undergrad(courseid):\n",
    "    \"\"\" returns true if course is undergrad, otherwise returns false \"\"\"\n",
    "    return courseid[8]==' ' or courseid[8]=='1'\n",
    "```\n",
    "in a where clause like this:\n",
    "\n",
    "```\n",
    "courses.where(\"ENROLLED\", is_undergrad)\n",
    "```\n",
    "\n",
    "What is happening is this:\n",
    "\n",
    "```\n",
    "for every row in the table:\n",
    "   we pass the value of \"ENROLLED\" in that row to `is_undergrad(...)` as it's parameter.\n",
    "   if we get back True, we include that row in the result\n",
    "   if we get back False, we do NOT include that row in the result\n",
    "```\n",
    "Let's see what that looks like:\n"
   ]
  },
  {
   "cell_type": "code",
   "execution_count": 94,
   "id": "01193449-f4da-4e04-a767-e9d43a8fc9af",
   "metadata": {},
   "outputs": [],
   "source": [
    "def is_undergrad(courseid):\n",
    "    \"\"\" returns true if course is undergrad, otherwise returns false \"\"\"\n",
    "    return courseid[8]==' ' or courseid[8]=='1'"
   ]
  },
  {
   "cell_type": "code",
   "execution_count": 96,
   "id": "263d887e-bbd6-4494-a15f-f786d08d2f49",
   "metadata": {},
   "outputs": [
    {
     "data": {
      "text/html": [
       "<table border=\"1\" class=\"dataframe\">\n",
       "    <thead>\n",
       "        <tr>\n",
       "            <th>COURSEID</th> <th>ENROLLED</th> <th>GES</th> <th>INSTRUCTOR</th> <th>MAXENROLL</th> <th>QUARTER</th> <th>SECTION</th> <th>STATUS</th> <th>dept</th> <th>courseNum</th> <th>suffix</th>\n",
       "        </tr>\n",
       "    </thead>\n",
       "    <tbody>\n",
       "        <tr>\n",
       "            <td>CMPSC     5A -1</td> <td>128     </td> <td>C (L&S), QNT (L&S)</td> <td>CONRAD P T</td> <td>150      </td> <td>20252  </td> <td>100    </td> <td>nan   </td> <td>CMPSC</td> <td>5A       </td> <td>1     </td>\n",
       "        </tr>\n",
       "        <tr>\n",
       "            <td>CMPSC     5A -1</td> <td>23      </td> <td>C (L&S), QNT (L&S)</td> <td>nan       </td> <td>30       </td> <td>20252  </td> <td>101    </td> <td>nan   </td> <td>CMPSC</td> <td>5A       </td> <td>1     </td>\n",
       "        </tr>\n",
       "        <tr>\n",
       "            <td>CMPSC     5A -1</td> <td>26      </td> <td>C (L&S), QNT (L&S)</td> <td>nan       </td> <td>30       </td> <td>20252  </td> <td>102    </td> <td>nan   </td> <td>CMPSC</td> <td>5A       </td> <td>1     </td>\n",
       "        </tr>\n",
       "        <tr>\n",
       "            <td>CMPSC     5A -1</td> <td>30      </td> <td>C (L&S), QNT (L&S)</td> <td>nan       </td> <td>30       </td> <td>20252  </td> <td>103    </td> <td>nan   </td> <td>CMPSC</td> <td>5A       </td> <td>1     </td>\n",
       "        </tr>\n",
       "        <tr>\n",
       "            <td>CMPSC     5A -1</td> <td>25      </td> <td>C (L&S), QNT (L&S)</td> <td>nan       </td> <td>30       </td> <td>20252  </td> <td>104    </td> <td>nan   </td> <td>CMPSC</td> <td>5A       </td> <td>1     </td>\n",
       "        </tr>\n",
       "        <tr>\n",
       "            <td>CMPSC     5A -1</td> <td>24      </td> <td>C (L&S), QNT (L&S)</td> <td>nan       </td> <td>30       </td> <td>20252  </td> <td>105    </td> <td>nan   </td> <td>CMPSC</td> <td>5A       </td> <td>1     </td>\n",
       "        </tr>\n",
       "        <tr>\n",
       "            <td>CMPSC     5B -1</td> <td>0       </td> <td>C (L&S), QNT (L&S)</td> <td>TANNA A A </td> <td>77       </td> <td>20252  </td> <td>100    </td> <td>Closed</td> <td>CMPSC</td> <td>5B       </td> <td>1     </td>\n",
       "        </tr>\n",
       "        <tr>\n",
       "            <td>CMPSC     5B -1</td> <td>0       </td> <td>C (L&S), QNT (L&S)</td> <td>nan       </td> <td>26       </td> <td>20252  </td> <td>101    </td> <td>Closed</td> <td>CMPSC</td> <td>5B       </td> <td>1     </td>\n",
       "        </tr>\n",
       "        <tr>\n",
       "            <td>CMPSC     5B -1</td> <td>0       </td> <td>C (L&S), QNT (L&S)</td> <td>nan       </td> <td>25       </td> <td>20252  </td> <td>102    </td> <td>Closed</td> <td>CMPSC</td> <td>5B       </td> <td>1     </td>\n",
       "        </tr>\n",
       "        <tr>\n",
       "            <td>CMPSC     5B -1</td> <td>0       </td> <td>C (L&S), QNT (L&S)</td> <td>nan       </td> <td>26       </td> <td>20252  </td> <td>103    </td> <td>Closed</td> <td>CMPSC</td> <td>5B       </td> <td>1     </td>\n",
       "        </tr>\n",
       "    </tbody>\n",
       "</table>\n",
       "<p>... (4623 rows omitted)</p>"
      ],
      "text/plain": [
       "COURSEID        | ENROLLED | GES                | INSTRUCTOR | MAXENROLL | QUARTER | SECTION | STATUS | dept  | courseNum | suffix\n",
       "CMPSC     5A -1 | 128      | C (L&S), QNT (L&S) | CONRAD P T | 150       | 20252   | 100     | nan    | CMPSC | 5A        | 1\n",
       "CMPSC     5A -1 | 23       | C (L&S), QNT (L&S) | nan        | 30        | 20252   | 101     | nan    | CMPSC | 5A        | 1\n",
       "CMPSC     5A -1 | 26       | C (L&S), QNT (L&S) | nan        | 30        | 20252   | 102     | nan    | CMPSC | 5A        | 1\n",
       "CMPSC     5A -1 | 30       | C (L&S), QNT (L&S) | nan        | 30        | 20252   | 103     | nan    | CMPSC | 5A        | 1\n",
       "CMPSC     5A -1 | 25       | C (L&S), QNT (L&S) | nan        | 30        | 20252   | 104     | nan    | CMPSC | 5A        | 1\n",
       "CMPSC     5A -1 | 24       | C (L&S), QNT (L&S) | nan        | 30        | 20252   | 105     | nan    | CMPSC | 5A        | 1\n",
       "CMPSC     5B -1 | 0        | C (L&S), QNT (L&S) | TANNA A A  | 77        | 20252   | 100     | Closed | CMPSC | 5B        | 1\n",
       "CMPSC     5B -1 | 0        | C (L&S), QNT (L&S) | nan        | 26        | 20252   | 101     | Closed | CMPSC | 5B        | 1\n",
       "CMPSC     5B -1 | 0        | C (L&S), QNT (L&S) | nan        | 25        | 20252   | 102     | Closed | CMPSC | 5B        | 1\n",
       "CMPSC     5B -1 | 0        | C (L&S), QNT (L&S) | nan        | 26        | 20252   | 103     | Closed | CMPSC | 5B        | 1\n",
       "... (4623 rows omitted)"
      ]
     },
     "execution_count": 96,
     "metadata": {},
     "output_type": "execute_result"
    }
   ],
   "source": [
    "undergrad_courses = courses.where(\"COURSEID\",is_undergrad)\n",
    "undergrad_courses"
   ]
  },
  {
   "cell_type": "markdown",
   "id": "2f1a6cab-ccb0-4b9b-a328-fc894c7d0211",
   "metadata": {},
   "source": [
    "It may be difficult to know whether that result is giving us what we want.  \n",
    "\n",
    "So let's try a few things to see.\n",
    "\n",
    "First let's check the counts:"
   ]
  },
  {
   "cell_type": "code",
   "execution_count": 97,
   "id": "2ad83f0f-b9b8-4a9f-8331-e8a7e4a6032d",
   "metadata": {},
   "outputs": [
    {
     "name": "stdout",
     "output_type": "stream",
     "text": [
      "courses.num_rows = 6879\n",
      "undergrad_courses.num_rows = 4633\n"
     ]
    }
   ],
   "source": [
    "print(f\"courses.num_rows = {courses.num_rows}\")\n",
    "print(f\"undergrad_courses.num_rows = {undergrad_courses.num_rows}\")"
   ]
  },
  {
   "cell_type": "markdown",
   "id": "4f6daca0-39d9-49f8-a32c-6c5897d41553",
   "metadata": {},
   "source": [
    "Let's also randomly sample.  What we would hope to see is that:\n",
    "* in our random sample of the full `courses` table, we sometimes get grad courses.\n",
    "* with our random sample from `undergrad_courses` we never do.\n"
   ]
  },
  {
   "cell_type": "code",
   "execution_count": 99,
   "id": "782a1df4-3629-44a9-9fff-01b6a0cdb739",
   "metadata": {},
   "outputs": [
    {
     "data": {
      "text/html": [
       "<table border=\"1\" class=\"dataframe\">\n",
       "    <thead>\n",
       "        <tr>\n",
       "            <th>COURSEID</th> <th>ENROLLED</th> <th>GES</th> <th>INSTRUCTOR</th> <th>MAXENROLL</th> <th>QUARTER</th> <th>SECTION</th> <th>STATUS</th> <th>dept</th> <th>courseNum</th> <th>suffix</th>\n",
       "        </tr>\n",
       "    </thead>\n",
       "    <tbody>\n",
       "        <tr>\n",
       "            <td>PHYS    127AL-1 </td> <td>12      </td> <td>nan </td> <td>nan       </td> <td>12       </td> <td>20252  </td> <td>102    </td> <td>nan   </td> <td>PHYS</td> <td>127AL    </td> <td>1     </td>\n",
       "        </tr>\n",
       "        <tr>\n",
       "            <td>MUS     128A -1 </td> <td>0       </td> <td>nan </td> <td>LANDSMAN J</td> <td>5        </td> <td>20252  </td> <td>100    </td> <td>nan   </td> <td>MUS </td> <td>128A     </td> <td>1     </td>\n",
       "        </tr>\n",
       "        <tr>\n",
       "            <td>CH E    110B -1 </td> <td>50      </td> <td>nan </td> <td>SHELL M S </td> <td>70       </td> <td>20252  </td> <td>101    </td> <td>nan   </td> <td>CH E</td> <td>110B     </td> <td>1     </td>\n",
       "        </tr>\n",
       "        <tr>\n",
       "            <td>PSY     197C -19</td> <td>2       </td> <td>nan </td> <td>HEGARTY M </td> <td>40       </td> <td>20252  </td> <td>1900   </td> <td>nan   </td> <td>PSY </td> <td>197C     </td> <td>19    </td>\n",
       "        </tr>\n",
       "        <tr>\n",
       "            <td>BIOE    299  -2 </td> <td>5       </td> <td>nan </td> <td>PRUITT B  </td> <td>20       </td> <td>20252  </td> <td>200    </td> <td>nan   </td> <td>BIOE</td> <td>299      </td> <td>2     </td>\n",
       "        </tr>\n",
       "    </tbody>\n",
       "</table>"
      ],
      "text/plain": [
       "COURSEID         | ENROLLED | GES  | INSTRUCTOR | MAXENROLL | QUARTER | SECTION | STATUS | dept | courseNum | suffix\n",
       "PHYS    127AL-1  | 12       | nan  | nan        | 12        | 20252   | 102     | nan    | PHYS | 127AL     | 1\n",
       "MUS     128A -1  | 0        | nan  | LANDSMAN J | 5         | 20252   | 100     | nan    | MUS  | 128A      | 1\n",
       "CH E    110B -1  | 50       | nan  | SHELL M S  | 70        | 20252   | 101     | nan    | CH E | 110B      | 1\n",
       "PSY     197C -19 | 2        | nan  | HEGARTY M  | 40        | 20252   | 1900    | nan    | PSY  | 197C      | 19\n",
       "BIOE    299  -2  | 5        | nan  | PRUITT B   | 20        | 20252   | 200     | nan    | BIOE | 299       | 2"
      ]
     },
     "execution_count": 99,
     "metadata": {},
     "output_type": "execute_result"
    }
   ],
   "source": [
    "randomSample(courses, 5)"
   ]
  },
  {
   "cell_type": "code",
   "execution_count": 100,
   "id": "ef27b687-7f63-4c56-ba08-60e5090ea6cb",
   "metadata": {},
   "outputs": [
    {
     "data": {
      "text/html": [
       "<table border=\"1\" class=\"dataframe\">\n",
       "    <thead>\n",
       "        <tr>\n",
       "            <th>COURSEID</th> <th>ENROLLED</th> <th>GES</th> <th>INSTRUCTOR</th> <th>MAXENROLL</th> <th>QUARTER</th> <th>SECTION</th> <th>STATUS</th> <th>dept</th> <th>courseNum</th> <th>suffix</th>\n",
       "        </tr>\n",
       "    </thead>\n",
       "    <tbody>\n",
       "        <tr>\n",
       "            <td>PSTAT   122  -2</td> <td>25      </td> <td>nan                                     </td> <td>WANG YAXUAN </td> <td>25       </td> <td>20252  </td> <td>203    </td> <td>nan   </td> <td>PSTAT</td> <td>122      </td> <td>2     </td>\n",
       "        </tr>\n",
       "        <tr>\n",
       "            <td>CHIN    199  -1</td> <td>0       </td> <td>nan                                     </td> <td>nan         </td> <td>5        </td> <td>20252  </td> <td>100    </td> <td>nan   </td> <td>CHIN </td> <td>199      </td> <td>1     </td>\n",
       "        </tr>\n",
       "        <tr>\n",
       "            <td>GLOBL     1  -1</td> <td>22      </td> <td>E (L&S), NWC (L&S), E (ENGR), NWC (ENGR)</td> <td>STANWOOD M N</td> <td>20       </td> <td>20252  </td> <td>110    </td> <td>nan   </td> <td>GLOBL</td> <td>1        </td> <td>1     </td>\n",
       "        </tr>\n",
       "        <tr>\n",
       "            <td>ANTH    130  -1</td> <td>44      </td> <td>nan                                     </td> <td>LAWSON D W  </td> <td>40       </td> <td>20252  </td> <td>100    </td> <td>nan   </td> <td>ANTH </td> <td>130      </td> <td>1     </td>\n",
       "        </tr>\n",
       "        <tr>\n",
       "            <td>WRIT    153B -1</td> <td>25      </td> <td>nan                                     </td> <td>MCHUGH P    </td> <td>25       </td> <td>20252  </td> <td>100    </td> <td>nan   </td> <td>WRIT </td> <td>153B     </td> <td>1     </td>\n",
       "        </tr>\n",
       "    </tbody>\n",
       "</table>"
      ],
      "text/plain": [
       "COURSEID        | ENROLLED | GES                                      | INSTRUCTOR   | MAXENROLL | QUARTER | SECTION | STATUS | dept  | courseNum | suffix\n",
       "PSTAT   122  -2 | 25       | nan                                      | WANG YAXUAN  | 25        | 20252   | 203     | nan    | PSTAT | 122       | 2\n",
       "CHIN    199  -1 | 0        | nan                                      | nan          | 5         | 20252   | 100     | nan    | CHIN  | 199       | 1\n",
       "GLOBL     1  -1 | 22       | E (L&S), NWC (L&S), E (ENGR), NWC (ENGR) | STANWOOD M N | 20        | 20252   | 110     | nan    | GLOBL | 1         | 1\n",
       "ANTH    130  -1 | 44       | nan                                      | LAWSON D W   | 40        | 20252   | 100     | nan    | ANTH  | 130       | 1\n",
       "WRIT    153B -1 | 25       | nan                                      | MCHUGH P     | 25        | 20252   | 100     | nan    | WRIT  | 153B      | 1"
      ]
     },
     "execution_count": 100,
     "metadata": {},
     "output_type": "execute_result"
    }
   ],
   "source": [
    "randomSample(undergrad_courses,5)"
   ]
  },
  {
   "cell_type": "markdown",
   "id": "a2e81a69-ff0c-49b7-94d9-4d5de687d64e",
   "metadata": {},
   "source": [
    "Ok, that looks good so far.  But here's a way to get even more confidence. Let's make a predicate function that takes a `COURSEID` value and tells us whether we have a graduate course or not:"
   ]
  },
  {
   "cell_type": "code",
   "execution_count": 114,
   "id": "95d7ff1f-2101-46cd-b4f4-ea577ee1bd29",
   "metadata": {},
   "outputs": [],
   "source": [
    "def isGraduate(courseNum):\n",
    "    \"\"\" True if courseNum isn't a space and it isn't a 1 (so it must be a graduate course) \"\"\"\n",
    "    return courseNum[8] != ' ' and courseNum[8] != '1'"
   ]
  },
  {
   "cell_type": "markdown",
   "id": "04952b60-0bd4-49d4-a407-55c26dc1810c",
   "metadata": {},
   "source": [
    "Now we can pull out all of the graduate courses:\n"
   ]
  },
  {
   "cell_type": "code",
   "execution_count": 115,
   "id": "ae009f16-e5cb-4a32-a648-7d2ff7bf2791",
   "metadata": {},
   "outputs": [],
   "source": [
    "graduate_courses = courses.where(\"COURSEID\", isGraduate)"
   ]
  },
  {
   "cell_type": "code",
   "execution_count": 116,
   "id": "73e665d2-735c-4f10-ac30-f4a82bc3dc0d",
   "metadata": {},
   "outputs": [
    {
     "name": "stdout",
     "output_type": "stream",
     "text": [
      "courses.num_rows = 6879\n",
      "undergrad_courses.num_rows = 4633\n",
      "graduate_courses.num_rows = 2246\n",
      "undergrad_courses.num_rows + graduate_courses.num_rows = 6879\n"
     ]
    }
   ],
   "source": [
    "print(f\"courses.num_rows = {courses.num_rows}\")\n",
    "print(f\"undergrad_courses.num_rows = {undergrad_courses.num_rows}\")\n",
    "print(f\"graduate_courses.num_rows = {graduate_courses.num_rows}\")\n",
    "print(f\"undergrad_courses.num_rows + graduate_courses.num_rows = {undergrad_courses.num_rows + graduate_courses.num_rows}\")"
   ]
  },
  {
   "cell_type": "markdown",
   "id": "07502f51-c34e-4850-82b0-f7888aed68f5",
   "metadata": {},
   "source": [
    "This gives us much more confidence that our functions are calculating correctly!\n",
    "\n",
    "We can also check random rows from our `graduate_courses` table:"
   ]
  },
  {
   "cell_type": "code",
   "execution_count": 117,
   "id": "0ed6e2c1-67bb-429b-b9a1-12f5ad201e12",
   "metadata": {},
   "outputs": [
    {
     "data": {
      "text/html": [
       "<table border=\"1\" class=\"dataframe\">\n",
       "    <thead>\n",
       "        <tr>\n",
       "            <th>COURSEID</th> <th>ENROLLED</th> <th>GES</th> <th>INSTRUCTOR</th> <th>MAXENROLL</th> <th>QUARTER</th> <th>SECTION</th> <th>STATUS</th> <th>dept</th> <th>courseNum</th> <th>suffix</th>\n",
       "        </tr>\n",
       "    </thead>\n",
       "    <tbody>\n",
       "        <tr>\n",
       "            <td>HIST    201S -1</td> <td>7       </td> <td>nan </td> <td>MOORE T    </td> <td>12       </td> <td>20252  </td> <td>100    </td> <td>nan   </td> <td>HIST </td> <td>201S     </td> <td>1     </td>\n",
       "        </tr>\n",
       "        <tr>\n",
       "            <td>MATRL   286Q -1</td> <td>9       </td> <td>nan </td> <td>STEMMER S  </td> <td>25       </td> <td>20252  </td> <td>100    </td> <td>nan   </td> <td>MATRL</td> <td>286Q     </td> <td>1     </td>\n",
       "        </tr>\n",
       "        <tr>\n",
       "            <td>BIOE    241  -1</td> <td>10      </td> <td>nan </td> <td>STOWERS R S</td> <td>10       </td> <td>20252  </td> <td>100    </td> <td>nan   </td> <td>BIOE </td> <td>241      </td> <td>1     </td>\n",
       "        </tr>\n",
       "        <tr>\n",
       "            <td>LING    271  -1</td> <td>4       </td> <td>nan </td> <td>GRIES S T  </td> <td>15       </td> <td>20252  </td> <td>100    </td> <td>nan   </td> <td>LING </td> <td>271      </td> <td>1     </td>\n",
       "        </tr>\n",
       "        <tr>\n",
       "            <td>MUS A   270N -1</td> <td>0       </td> <td>nan </td> <td>MARCUS S L </td> <td>20       </td> <td>20252  </td> <td>100    </td> <td>nan   </td> <td>MUS A</td> <td>270N     </td> <td>1     </td>\n",
       "        </tr>\n",
       "    </tbody>\n",
       "</table>"
      ],
      "text/plain": [
       "COURSEID        | ENROLLED | GES  | INSTRUCTOR  | MAXENROLL | QUARTER | SECTION | STATUS | dept  | courseNum | suffix\n",
       "HIST    201S -1 | 7        | nan  | MOORE T     | 12        | 20252   | 100     | nan    | HIST  | 201S      | 1\n",
       "MATRL   286Q -1 | 9        | nan  | STEMMER S   | 25        | 20252   | 100     | nan    | MATRL | 286Q      | 1\n",
       "BIOE    241  -1 | 10       | nan  | STOWERS R S | 10        | 20252   | 100     | nan    | BIOE  | 241       | 1\n",
       "LING    271  -1 | 4        | nan  | GRIES S T   | 15        | 20252   | 100     | nan    | LING  | 271       | 1\n",
       "MUS A   270N -1 | 0        | nan  | MARCUS S L  | 20        | 20252   | 100     | nan    | MUS A | 270N      | 1"
      ]
     },
     "execution_count": 117,
     "metadata": {},
     "output_type": "execute_result"
    }
   ],
   "source": [
    "randomSample(graduate_courses, 5)"
   ]
  },
  {
   "cell_type": "markdown",
   "id": "97ad766c-7e6f-4f47-a22d-6e4e99e65aa1",
   "metadata": {},
   "source": [
    "## The important of testing\n",
    "\n",
    "When we write our own functions, it's very important to test them to make sure they do \n",
    "what we want them to do.   When developing this lecture, I first wrote this version\n",
    "of the function to check for graduate courses.   Can you spot the bug?\n",
    "\n",
    "I didn't at first!   (After 5 minutes, I saw it, but only because when I tested, I was getting incorrect results.)"
   ]
  },
  {
   "cell_type": "code",
   "execution_count": 121,
   "id": "9f8aa805-bcb3-4909-b771-49598e3982fd",
   "metadata": {},
   "outputs": [],
   "source": [
    "# This version has a bug\n",
    "def isGraduate_buggy(courseId):\n",
    "    \"\"\" True if courseNum isn't a space and it isn't a 1 (so it must be a graduate course) \"\"\"\n",
    "    courseId[8] != ' ' and courseId[8] != '1'"
   ]
  },
  {
   "cell_type": "markdown",
   "id": "5e3fed53-408e-4fa3-8022-55bac29d721c",
   "metadata": {},
   "source": [
    "Here's what happens when we try to use it:"
   ]
  },
  {
   "cell_type": "code",
   "execution_count": 124,
   "id": "2b3328c2-0477-4ce5-bf51-8f9c795dbd93",
   "metadata": {},
   "outputs": [
    {
     "data": {
      "text/html": [
       "<table border=\"1\" class=\"dataframe\">\n",
       "    <thead>\n",
       "        <tr>\n",
       "            <th>COURSEID</th> <th>ENROLLED</th> <th>GES</th> <th>INSTRUCTOR</th> <th>MAXENROLL</th> <th>QUARTER</th> <th>SECTION</th> <th>STATUS</th> <th>dept</th> <th>courseNum</th> <th>suffix</th>\n",
       "        </tr>\n",
       "    </thead>\n",
       "    <tbody>\n",
       "    </tbody>\n",
       "</table>"
      ],
      "text/plain": [
       "COURSEID | ENROLLED | GES  | INSTRUCTOR | MAXENROLL | QUARTER | SECTION | STATUS | dept | courseNum | suffix"
      ]
     },
     "execution_count": 124,
     "metadata": {},
     "output_type": "execute_result"
    }
   ],
   "source": [
    "graduate_courses_take2 = courses.where(\"COURSEID\",isGraduate_buggy)\n",
    "graduate_courses_take2"
   ]
  },
  {
   "cell_type": "code",
   "execution_count": 125,
   "id": "055bc750-45bb-4fe1-a3a6-32c8d720e8e8",
   "metadata": {},
   "outputs": [
    {
     "data": {
      "text/plain": [
       "0"
      ]
     },
     "execution_count": 125,
     "metadata": {},
     "output_type": "execute_result"
    }
   ],
   "source": [
    "graduate_courses_take2.num_rows"
   ]
  },
  {
   "cell_type": "markdown",
   "id": "319e888e-2708-4e11-b5b9-dcaea2f68dd7",
   "metadata": {},
   "source": [
    "Do you see the problem?"
   ]
  },
  {
   "cell_type": "markdown",
   "id": "1c241a96-f30d-4fa4-ab85-c2192a60488e",
   "metadata": {},
   "source": [
    "## Answering a question about course\n",
    "\n",
    "To review, suppose we want to answer these questions about UCSB undergrad courses in Spring 2025:\n",
    "* Which subject areas offered the most courses?\n",
    "* Which subject areas offered the fewest courses?\n",
    "\n",
    "We now know that to answer this with the data we have, we need to:\n",
    "* Exclude graduate courses\n",
    "* Count only lecture sections (i.e. don't  count discussion sections as separate courses)\n",
    "\n",
    "We may also want to define a minimum enrollment for a course to count; let's say 10 students.\n",
    "\n",
    "In addition to our `isUndergrad` predicate, let's define two more:"
   ]
  },
  {
   "cell_type": "code",
   "execution_count": 130,
   "id": "973e8e8b-f50d-4415-aac8-b6fcacac0f8b",
   "metadata": {},
   "outputs": [],
   "source": [
    "def is_lecture(sectionNum):\n",
    "    # if section number is divisible by 100, it's a lecture\n",
    "    return sectionNum % 100 == 0"
   ]
  },
  {
   "cell_type": "code",
   "execution_count": 131,
   "id": "703e0558-4d8a-4be0-975e-8b8d422b24df",
   "metadata": {},
   "outputs": [
    {
     "data": {
      "text/plain": [
       "True"
      ]
     },
     "execution_count": 131,
     "metadata": {},
     "output_type": "execute_result"
    }
   ],
   "source": [
    "is_lecture(100)"
   ]
  },
  {
   "cell_type": "code",
   "execution_count": 132,
   "id": "de11a406-34cb-4c9b-b344-7d7d9b7902f3",
   "metadata": {},
   "outputs": [
    {
     "data": {
      "text/plain": [
       "False"
      ]
     },
     "execution_count": 132,
     "metadata": {},
     "output_type": "execute_result"
    }
   ],
   "source": [
    "is_lecture(101)"
   ]
  },
  {
   "cell_type": "code",
   "execution_count": 133,
   "id": "d1f0414e-8150-4c0e-9703-f1da476061e1",
   "metadata": {},
   "outputs": [],
   "source": [
    "def tenOrMoreStudents(enrollment):\n",
    "    return enrollment > 10"
   ]
  },
  {
   "cell_type": "markdown",
   "id": "bc6b35e6-2b54-49a0-b0af-7513b545d332",
   "metadata": {},
   "source": [
    "Now we can apply all of these predicates to our dataset:"
   ]
  },
  {
   "cell_type": "code",
   "execution_count": 134,
   "id": "5acd75fd-6be9-42b5-b0ed-ed5de2352f4c",
   "metadata": {},
   "outputs": [],
   "source": [
    "coursesToCount = courses \\\n",
    "    .where(\"COURSEID\", is_undergrad) \\\n",
    "    .where(\"SECTION\", is_lecture) \\\n",
    "    .where(\"ENROLLED\", tenOrMoreStudents)"
   ]
  },
  {
   "cell_type": "code",
   "execution_count": 135,
   "id": "ff531e41-14cd-4641-bbc0-5b9d2dfa878c",
   "metadata": {},
   "outputs": [
    {
     "data": {
      "text/html": [
       "<table border=\"1\" class=\"dataframe\">\n",
       "    <thead>\n",
       "        <tr>\n",
       "            <th>COURSEID</th> <th>ENROLLED</th> <th>GES</th> <th>INSTRUCTOR</th> <th>MAXENROLL</th> <th>QUARTER</th> <th>SECTION</th> <th>STATUS</th> <th>dept</th> <th>courseNum</th> <th>suffix</th>\n",
       "        </tr>\n",
       "    </thead>\n",
       "    <tbody>\n",
       "        <tr>\n",
       "            <td>CMPSC     5A -1</td> <td>128     </td> <td>C (L&S), QNT (L&S)</td> <td>CONRAD P T   </td> <td>150      </td> <td>20252  </td> <td>100    </td> <td>nan   </td> <td>CMPSC</td> <td>5A       </td> <td>1     </td>\n",
       "        </tr>\n",
       "        <tr>\n",
       "            <td>CMPSC     9  -1</td> <td>166     </td> <td>nan               </td> <td>KHARITONOVA Y</td> <td>300      </td> <td>20252  </td> <td>100    </td> <td>nan   </td> <td>CMPSC</td> <td>9        </td> <td>1     </td>\n",
       "        </tr>\n",
       "        <tr>\n",
       "            <td>CMPSC    16  -1</td> <td>113     </td> <td>nan               </td> <td>MAJEDI M     </td> <td>150      </td> <td>20252  </td> <td>100    </td> <td>Closed</td> <td>CMPSC</td> <td>16       </td> <td>1     </td>\n",
       "        </tr>\n",
       "        <tr>\n",
       "            <td>CMPSC    24  -1</td> <td>146     </td> <td>nan               </td> <td>MIRZA D      </td> <td>149      </td> <td>20252  </td> <td>100    </td> <td>nan   </td> <td>CMPSC</td> <td>24       </td> <td>1     </td>\n",
       "        </tr>\n",
       "        <tr>\n",
       "            <td>CMPSC    32  -1</td> <td>133     </td> <td>nan               </td> <td>NASIR N      </td> <td>150      </td> <td>20252  </td> <td>100    </td> <td>nan   </td> <td>CMPSC</td> <td>32       </td> <td>1     </td>\n",
       "        </tr>\n",
       "        <tr>\n",
       "            <td>CMPSC    40  -1</td> <td>110     </td> <td>nan               </td> <td>MAJEDI M     </td> <td>150      </td> <td>20252  </td> <td>100    </td> <td>Closed</td> <td>CMPSC</td> <td>40       </td> <td>1     </td>\n",
       "        </tr>\n",
       "        <tr>\n",
       "            <td>CMPSC    64  -1</td> <td>80      </td> <td>nan               </td> <td>MATNI Z A    </td> <td>150      </td> <td>20252  </td> <td>100    </td> <td>Closed</td> <td>CMPSC</td> <td>64       </td> <td>1     </td>\n",
       "        </tr>\n",
       "        <tr>\n",
       "            <td>CMPSC   111  -1</td> <td>39      </td> <td>nan               </td> <td>MATNI Z A    </td> <td>147      </td> <td>20252  </td> <td>100    </td> <td>Closed</td> <td>CMPSC</td> <td>111      </td> <td>1     </td>\n",
       "        </tr>\n",
       "        <tr>\n",
       "            <td>CMPSC   130A -1</td> <td>91      </td> <td>nan               </td> <td>NASIR N      </td> <td>150      </td> <td>20252  </td> <td>100    </td> <td>nan   </td> <td>CMPSC</td> <td>130A     </td> <td>1     </td>\n",
       "        </tr>\n",
       "        <tr>\n",
       "            <td>CMPSC   130B -1</td> <td>90      </td> <td>nan               </td> <td>SINGH A K    </td> <td>150      </td> <td>20252  </td> <td>100    </td> <td>nan   </td> <td>CMPSC</td> <td>130B     </td> <td>1     </td>\n",
       "        </tr>\n",
       "    </tbody>\n",
       "</table>\n",
       "<p>... (1297 rows omitted)</p>"
      ],
      "text/plain": [
       "COURSEID        | ENROLLED | GES                | INSTRUCTOR    | MAXENROLL | QUARTER | SECTION | STATUS | dept  | courseNum | suffix\n",
       "CMPSC     5A -1 | 128      | C (L&S), QNT (L&S) | CONRAD P T    | 150       | 20252   | 100     | nan    | CMPSC | 5A        | 1\n",
       "CMPSC     9  -1 | 166      | nan                | KHARITONOVA Y | 300       | 20252   | 100     | nan    | CMPSC | 9         | 1\n",
       "CMPSC    16  -1 | 113      | nan                | MAJEDI M      | 150       | 20252   | 100     | Closed | CMPSC | 16        | 1\n",
       "CMPSC    24  -1 | 146      | nan                | MIRZA D       | 149       | 20252   | 100     | nan    | CMPSC | 24        | 1\n",
       "CMPSC    32  -1 | 133      | nan                | NASIR N       | 150       | 20252   | 100     | nan    | CMPSC | 32        | 1\n",
       "CMPSC    40  -1 | 110      | nan                | MAJEDI M      | 150       | 20252   | 100     | Closed | CMPSC | 40        | 1\n",
       "CMPSC    64  -1 | 80       | nan                | MATNI Z A     | 150       | 20252   | 100     | Closed | CMPSC | 64        | 1\n",
       "CMPSC   111  -1 | 39       | nan                | MATNI Z A     | 147       | 20252   | 100     | Closed | CMPSC | 111       | 1\n",
       "CMPSC   130A -1 | 91       | nan                | NASIR N       | 150       | 20252   | 100     | nan    | CMPSC | 130A      | 1\n",
       "CMPSC   130B -1 | 90       | nan                | SINGH A K     | 150       | 20252   | 100     | nan    | CMPSC | 130B      | 1\n",
       "... (1297 rows omitted)"
      ]
     },
     "execution_count": 135,
     "metadata": {},
     "output_type": "execute_result"
    }
   ],
   "source": [
    "coursesToCount"
   ]
  },
  {
   "cell_type": "code",
   "execution_count": null,
   "id": "da095117-5e04-4f30-829d-f4674e1cc99c",
   "metadata": {},
   "outputs": [],
   "source": [
    "Now, can group by the `dept` field (really \"subject area\"):"
   ]
  },
  {
   "cell_type": "code",
   "execution_count": 136,
   "id": "03c26087-4f92-4772-9c4d-f20baa92efa4",
   "metadata": {},
   "outputs": [
    {
     "data": {
      "text/html": [
       "<table border=\"1\" class=\"dataframe\">\n",
       "    <thead>\n",
       "        <tr>\n",
       "            <th>dept</th> <th>count</th>\n",
       "        </tr>\n",
       "    </thead>\n",
       "    <tbody>\n",
       "        <tr>\n",
       "            <td>ANTH   </td> <td>11   </td>\n",
       "        </tr>\n",
       "        <tr>\n",
       "            <td>ART    </td> <td>11   </td>\n",
       "        </tr>\n",
       "        <tr>\n",
       "            <td>ART  CS</td> <td>4    </td>\n",
       "        </tr>\n",
       "        <tr>\n",
       "            <td>ARTHI  </td> <td>12   </td>\n",
       "        </tr>\n",
       "        <tr>\n",
       "            <td>AS AM  </td> <td>12   </td>\n",
       "        </tr>\n",
       "        <tr>\n",
       "            <td>ASTRO  </td> <td>2    </td>\n",
       "        </tr>\n",
       "        <tr>\n",
       "            <td>BIOL CS</td> <td>3    </td>\n",
       "        </tr>\n",
       "        <tr>\n",
       "            <td>BL ST  </td> <td>11   </td>\n",
       "        </tr>\n",
       "        <tr>\n",
       "            <td>C LIT  </td> <td>11   </td>\n",
       "        </tr>\n",
       "        <tr>\n",
       "            <td>CH E   </td> <td>11   </td>\n",
       "        </tr>\n",
       "    </tbody>\n",
       "</table>\n",
       "<p>... (72 rows omitted)</p>"
      ],
      "text/plain": [
       "dept    | count\n",
       "ANTH    | 11\n",
       "ART     | 11\n",
       "ART  CS | 4\n",
       "ARTHI   | 12\n",
       "AS AM   | 12\n",
       "ASTRO   | 2\n",
       "BIOL CS | 3\n",
       "BL ST   | 11\n",
       "C LIT   | 11\n",
       "CH E    | 11\n",
       "... (72 rows omitted)"
      ]
     },
     "execution_count": 136,
     "metadata": {},
     "output_type": "execute_result"
    }
   ],
   "source": [
    "coursesToCount.group(\"dept\")"
   ]
  },
  {
   "cell_type": "markdown",
   "id": "e8ff5e08-d2d7-4976-a8e2-bf6449ddd24f",
   "metadata": {},
   "source": [
    "And, we can sort to see the top 10 and bottom 10 in this table:"
   ]
  },
  {
   "cell_type": "code",
   "execution_count": 138,
   "id": "14f11ace-196c-4659-8a37-0e2b3fb5edb5",
   "metadata": {},
   "outputs": [
    {
     "data": {
      "text/html": [
       "<table border=\"1\" class=\"dataframe\">\n",
       "    <thead>\n",
       "        <tr>\n",
       "            <th>dept</th> <th>count</th>\n",
       "        </tr>\n",
       "    </thead>\n",
       "    <tbody>\n",
       "        <tr>\n",
       "            <td>CHEM </td> <td>107  </td>\n",
       "        </tr>\n",
       "        <tr>\n",
       "            <td>WRIT </td> <td>100  </td>\n",
       "        </tr>\n",
       "        <tr>\n",
       "            <td>PHYS </td> <td>77   </td>\n",
       "        </tr>\n",
       "        <tr>\n",
       "            <td>EEMB </td> <td>45   </td>\n",
       "        </tr>\n",
       "        <tr>\n",
       "            <td>ENV S</td> <td>44   </td>\n",
       "        </tr>\n",
       "        <tr>\n",
       "            <td>MATH </td> <td>44   </td>\n",
       "        </tr>\n",
       "        <tr>\n",
       "            <td>INT  </td> <td>43   </td>\n",
       "        </tr>\n",
       "        <tr>\n",
       "            <td>ECON </td> <td>42   </td>\n",
       "        </tr>\n",
       "        <tr>\n",
       "            <td>SPAN </td> <td>35   </td>\n",
       "        </tr>\n",
       "        <tr>\n",
       "            <td>COMM </td> <td>33   </td>\n",
       "        </tr>\n",
       "    </tbody>\n",
       "</table>\n",
       "<p>... (72 rows omitted)</p>"
      ],
      "text/plain": [
       "dept  | count\n",
       "CHEM  | 107\n",
       "WRIT  | 100\n",
       "PHYS  | 77\n",
       "EEMB  | 45\n",
       "ENV S | 44\n",
       "MATH  | 44\n",
       "INT   | 43\n",
       "ECON  | 42\n",
       "SPAN  | 35\n",
       "COMM  | 33\n",
       "... (72 rows omitted)"
      ]
     },
     "execution_count": 138,
     "metadata": {},
     "output_type": "execute_result"
    }
   ],
   "source": [
    "coursesToCount.group(\"dept\").sort(\"count\", descending=\"True\")"
   ]
  },
  {
   "cell_type": "markdown",
   "id": "22437c48-fe55-42a2-8102-380209667c40",
   "metadata": {},
   "source": [
    "We can see that if we want the top five, there's actually a problem, since there is a tie!\n",
    "So we'll use the trick we've used before: find the value in row(4) (the fifth value in the table), then show all rows with a count >= to that value:"
   ]
  },
  {
   "cell_type": "code",
   "execution_count": 140,
   "id": "5212b5b6-57a3-4c48-bb96-9436553d9f21",
   "metadata": {},
   "outputs": [
    {
     "data": {
      "text/plain": [
       "44"
      ]
     },
     "execution_count": 140,
     "metadata": {},
     "output_type": "execute_result"
    }
   ],
   "source": [
    "fifthHighest = coursesToCount.group(\"dept\").sort(\"count\", descending=\"True\").column(\"count\").take(4)\n",
    "fifthHighest"
   ]
  },
  {
   "cell_type": "code",
   "execution_count": 141,
   "id": "d93ac53a-ae60-428f-aaf4-c52a77ee3bbe",
   "metadata": {},
   "outputs": [
    {
     "data": {
      "text/html": [
       "<table border=\"1\" class=\"dataframe\">\n",
       "    <thead>\n",
       "        <tr>\n",
       "            <th>dept</th> <th>count</th>\n",
       "        </tr>\n",
       "    </thead>\n",
       "    <tbody>\n",
       "        <tr>\n",
       "            <td>CHEM </td> <td>107  </td>\n",
       "        </tr>\n",
       "        <tr>\n",
       "            <td>WRIT </td> <td>100  </td>\n",
       "        </tr>\n",
       "        <tr>\n",
       "            <td>PHYS </td> <td>77   </td>\n",
       "        </tr>\n",
       "        <tr>\n",
       "            <td>EEMB </td> <td>45   </td>\n",
       "        </tr>\n",
       "        <tr>\n",
       "            <td>ENV S</td> <td>44   </td>\n",
       "        </tr>\n",
       "        <tr>\n",
       "            <td>MATH </td> <td>44   </td>\n",
       "        </tr>\n",
       "    </tbody>\n",
       "</table>"
      ],
      "text/plain": [
       "dept  | count\n",
       "CHEM  | 107\n",
       "WRIT  | 100\n",
       "PHYS  | 77\n",
       "EEMB  | 45\n",
       "ENV S | 44\n",
       "MATH  | 44"
      ]
     },
     "execution_count": 141,
     "metadata": {},
     "output_type": "execute_result"
    }
   ],
   "source": [
    "coursesToCount.group(\"dept\").where(\"count\", are.above_or_equal_to(fifthHighest)).sort(\"count\",descending=\"True\")"
   ]
  },
  {
   "cell_type": "code",
   "execution_count": null,
   "id": "235df42e-6842-4a23-9de1-229b0e6ab49c",
   "metadata": {},
   "outputs": [],
   "source": [
    "For the bottom five, let's first look at the bottom ten:"
   ]
  },
  {
   "cell_type": "code",
   "execution_count": 142,
   "id": "9f7f0877-a3a1-4dc6-88f5-6627a5492ee6",
   "metadata": {},
   "outputs": [
    {
     "data": {
      "text/html": [
       "<table border=\"1\" class=\"dataframe\">\n",
       "    <thead>\n",
       "        <tr>\n",
       "            <th>dept</th> <th>count</th>\n",
       "        </tr>\n",
       "    </thead>\n",
       "    <tbody>\n",
       "        <tr>\n",
       "            <td>CHEM CS</td> <td>1    </td>\n",
       "        </tr>\n",
       "        <tr>\n",
       "            <td>CMPTGCS</td> <td>1    </td>\n",
       "        </tr>\n",
       "        <tr>\n",
       "            <td>COMM W </td> <td>1    </td>\n",
       "        </tr>\n",
       "        <tr>\n",
       "            <td>ED   W </td> <td>1    </td>\n",
       "        </tr>\n",
       "        <tr>\n",
       "            <td>EEMB W </td> <td>1    </td>\n",
       "        </tr>\n",
       "        <tr>\n",
       "            <td>FAMSTW </td> <td>1    </td>\n",
       "        </tr>\n",
       "        <tr>\n",
       "            <td>HEB    </td> <td>1    </td>\n",
       "        </tr>\n",
       "        <tr>\n",
       "            <td>LATIN  </td> <td>1    </td>\n",
       "        </tr>\n",
       "        <tr>\n",
       "            <td>MARINCS</td> <td>1    </td>\n",
       "        </tr>\n",
       "        <tr>\n",
       "            <td>ME   W </td> <td>1    </td>\n",
       "        </tr>\n",
       "    </tbody>\n",
       "</table>\n",
       "<p>... (72 rows omitted)</p>"
      ],
      "text/plain": [
       "dept    | count\n",
       "CHEM CS | 1\n",
       "CMPTGCS | 1\n",
       "COMM W  | 1\n",
       "ED   W  | 1\n",
       "EEMB W  | 1\n",
       "FAMSTW  | 1\n",
       "HEB     | 1\n",
       "LATIN   | 1\n",
       "MARINCS | 1\n",
       "ME   W  | 1\n",
       "... (72 rows omitted)"
      ]
     },
     "execution_count": 142,
     "metadata": {},
     "output_type": "execute_result"
    }
   ],
   "source": [
    "coursesToCount.group(\"dept\").sort(\"count\")"
   ]
  },
  {
   "cell_type": "markdown",
   "id": "bcce26bb-7a13-4bae-9b72-10e941b43a40",
   "metadata": {},
   "source": [
    "We can see that there is *at least* a ten-way tie for last place, with many subject areas having only one course.  So we'll need to just list all of the subject areas with only one course:"
   ]
  },
  {
   "cell_type": "code",
   "execution_count": 144,
   "id": "a97931e8-4dce-4239-8175-e104f5915df9",
   "metadata": {},
   "outputs": [
    {
     "data": {
      "text/html": [
       "<table border=\"1\" class=\"dataframe\">\n",
       "    <thead>\n",
       "        <tr>\n",
       "            <th>dept</th> <th>count</th>\n",
       "        </tr>\n",
       "    </thead>\n",
       "    <tbody>\n",
       "        <tr>\n",
       "            <td>CHEM CS</td> <td>1    </td>\n",
       "        </tr>\n",
       "        <tr>\n",
       "            <td>CMPTGCS</td> <td>1    </td>\n",
       "        </tr>\n",
       "        <tr>\n",
       "            <td>COMM W </td> <td>1    </td>\n",
       "        </tr>\n",
       "        <tr>\n",
       "            <td>ED   W </td> <td>1    </td>\n",
       "        </tr>\n",
       "        <tr>\n",
       "            <td>EEMB W </td> <td>1    </td>\n",
       "        </tr>\n",
       "        <tr>\n",
       "            <td>FAMSTW </td> <td>1    </td>\n",
       "        </tr>\n",
       "        <tr>\n",
       "            <td>HEB    </td> <td>1    </td>\n",
       "        </tr>\n",
       "        <tr>\n",
       "            <td>LATIN  </td> <td>1    </td>\n",
       "        </tr>\n",
       "        <tr>\n",
       "            <td>MARINCS</td> <td>1    </td>\n",
       "        </tr>\n",
       "        <tr>\n",
       "            <td>ME   W </td> <td>1    </td>\n",
       "        </tr>\n",
       "        <tr>\n",
       "            <td>POL SH </td> <td>1    </td>\n",
       "        </tr>\n",
       "        <tr>\n",
       "            <td>PSTATW </td> <td>1    </td>\n",
       "        </tr>\n",
       "        <tr>\n",
       "            <td>RUSS   </td> <td>1    </td>\n",
       "        </tr>\n",
       "    </tbody>\n",
       "</table>"
      ],
      "text/plain": [
       "<IPython.core.display.HTML object>"
      ]
     },
     "metadata": {},
     "output_type": "display_data"
    }
   ],
   "source": [
    "coursesToCount.group(\"dept\").where(\"count\",are.equal_to(1)).show()"
   ]
  },
  {
   "cell_type": "markdown",
   "id": "2b03a73d-b502-467c-bfb4-447857474b64",
   "metadata": {},
   "source": [
    "That's probably a bit more like what we want.  What if we wanted to know the total enrollment?  Can we sum up the `ENROLLED` field for each group?  Yes we can!"
   ]
  },
  {
   "cell_type": "markdown",
   "id": "ea3dfeac-9388-47de-8210-7c9d63594497",
   "metadata": {},
   "source": [
    "# Using `group` for things other than counting\n",
    "\n",
    "The most basic use of the `group` function is to group rows in a table based on a particular column, \n",
    "and then count up the values.\n",
    "\n",
    "However, we can take it a step further using functions such as `sum`, `min`, `max`, and others; basically any function that can take a `numpy.ndarray` as it's argument.\n",
    "\n",
    "First, we'll show what this looks like.  Then we'll dive in a bit deeper.\n",
    "\n",
    "Here's: `coursesToCount.group(\"dept\",sum)`\n"
   ]
  },
  {
   "cell_type": "code",
   "execution_count": 145,
   "id": "59ada041-9203-482b-8176-5b1f6c81a2f8",
   "metadata": {},
   "outputs": [
    {
     "data": {
      "text/html": [
       "<table border=\"1\" class=\"dataframe\">\n",
       "    <thead>\n",
       "        <tr>\n",
       "            <th>dept</th> <th>COURSEID sum</th> <th>ENROLLED sum</th> <th>GES sum</th> <th>INSTRUCTOR sum</th> <th>MAXENROLL sum</th> <th>QUARTER sum</th> <th>SECTION sum</th> <th>STATUS sum</th> <th>courseNum sum</th> <th>suffix sum</th>\n",
       "        </tr>\n",
       "    </thead>\n",
       "    <tbody>\n",
       "        <tr>\n",
       "            <td>ANTH   </td> <td>            </td> <td>1389        </td> <td>       </td> <td>              </td> <td>1470         </td> <td>222772     </td> <td>1100       </td> <td>          </td> <td>             </td> <td>          </td>\n",
       "        </tr>\n",
       "        <tr>\n",
       "            <td>ART    </td> <td>            </td> <td>408         </td> <td>       </td> <td>              </td> <td>440          </td> <td>222772     </td> <td>1100       </td> <td>          </td> <td>             </td> <td>          </td>\n",
       "        </tr>\n",
       "        <tr>\n",
       "            <td>ART  CS</td> <td>            </td> <td>49          </td> <td>       </td> <td>              </td> <td>49           </td> <td>81008      </td> <td>500        </td> <td>          </td> <td>             </td> <td>          </td>\n",
       "        </tr>\n",
       "        <tr>\n",
       "            <td>ARTHI  </td> <td>            </td> <td>1016        </td> <td>       </td> <td>              </td> <td>1075         </td> <td>243024     </td> <td>1200       </td> <td>          </td> <td>             </td> <td>          </td>\n",
       "        </tr>\n",
       "        <tr>\n",
       "            <td>AS AM  </td> <td>            </td> <td>596         </td> <td>       </td> <td>              </td> <td>661          </td> <td>243024     </td> <td>1200       </td> <td>          </td> <td>             </td> <td>          </td>\n",
       "        </tr>\n",
       "        <tr>\n",
       "            <td>ASTRO  </td> <td>            </td> <td>144         </td> <td>       </td> <td>              </td> <td>185          </td> <td>40504      </td> <td>200        </td> <td>          </td> <td>             </td> <td>          </td>\n",
       "        </tr>\n",
       "        <tr>\n",
       "            <td>BIOL CS</td> <td>            </td> <td>56          </td> <td>       </td> <td>              </td> <td>57           </td> <td>60756      </td> <td>300        </td> <td>          </td> <td>             </td> <td>          </td>\n",
       "        </tr>\n",
       "        <tr>\n",
       "            <td>BL ST  </td> <td>            </td> <td>539         </td> <td>       </td> <td>              </td> <td>630          </td> <td>222772     </td> <td>1100       </td> <td>          </td> <td>             </td> <td>          </td>\n",
       "        </tr>\n",
       "        <tr>\n",
       "            <td>C LIT  </td> <td>            </td> <td>718         </td> <td>       </td> <td>              </td> <td>728          </td> <td>222772     </td> <td>1100       </td> <td>          </td> <td>             </td> <td>          </td>\n",
       "        </tr>\n",
       "        <tr>\n",
       "            <td>CH E   </td> <td>            </td> <td>389         </td> <td>       </td> <td>              </td> <td>506          </td> <td>222772     </td> <td>1200       </td> <td>          </td> <td>             </td> <td>          </td>\n",
       "        </tr>\n",
       "    </tbody>\n",
       "</table>\n",
       "<p>... (72 rows omitted)</p>"
      ],
      "text/plain": [
       "dept    | COURSEID sum | ENROLLED sum | GES sum | INSTRUCTOR sum | MAXENROLL sum | QUARTER sum | SECTION sum | STATUS sum | courseNum sum | suffix sum\n",
       "ANTH    |              | 1389         |         |                | 1470          | 222772      | 1100        |            |               |\n",
       "ART     |              | 408          |         |                | 440           | 222772      | 1100        |            |               |\n",
       "ART  CS |              | 49           |         |                | 49            | 81008       | 500         |            |               |\n",
       "ARTHI   |              | 1016         |         |                | 1075          | 243024      | 1200        |            |               |\n",
       "AS AM   |              | 596          |         |                | 661           | 243024      | 1200        |            |               |\n",
       "ASTRO   |              | 144          |         |                | 185           | 40504       | 200         |            |               |\n",
       "BIOL CS |              | 56           |         |                | 57            | 60756       | 300         |            |               |\n",
       "BL ST   |              | 539          |         |                | 630           | 222772      | 1100        |            |               |\n",
       "C LIT   |              | 718          |         |                | 728           | 222772      | 1100        |            |               |\n",
       "CH E    |              | 389          |         |                | 506           | 222772      | 1200        |            |               |\n",
       "... (72 rows omitted)"
      ]
     },
     "execution_count": 145,
     "metadata": {},
     "output_type": "execute_result"
    }
   ],
   "source": [
    "coursesToCount.group(\"dept\",sum)"
   ]
  },
  {
   "cell_type": "markdown",
   "id": "58088bd3-8290-4e0f-aeb4-01df0118ef14",
   "metadata": {},
   "source": [
    "What we get back is the 'sum' function applied to each column of data.\n",
    "* The numbers in `ENROLLED sum` show the total of the enrollment\n",
    "* The numbers in `MAXRENROLL sum` show the total of the max enrollment, i.e. how big the class could be if full\n",
    "* The numbers if `QUARTER sum` and `SECTION sum` are not really meaningful; they are adding up numbers that are really just identifiers.  We might have done well to exclude those columns before doing our grouping.\n",
    "* Lecture sum shows us the number of rows for which that field is True.  Since that's every row of data, this actually shows us the same as the counts from the original `.group()` call."
   ]
  },
  {
   "cell_type": "markdown",
   "id": "6ec49b91-b09c-4b49-8291-e0e83858ce98",
   "metadata": {},
   "source": [
    "So really, a better way to use `group` with the `sum` function is to first use `select` so that we only have columns on which \n",
    "finding a sum is meaningful.  \n",
    "    \n",
    "For example, consider this table:"
   ]
  },
  {
   "cell_type": "code",
   "execution_count": 151,
   "id": "d1042d4a-b590-4afd-b931-a1709f8c9efb",
   "metadata": {},
   "outputs": [
    {
     "data": {
      "text/html": [
       "<table border=\"1\" class=\"dataframe\">\n",
       "    <thead>\n",
       "        <tr>\n",
       "            <th>COURSEID</th> <th>dept</th> <th>ENROLLED</th> <th>MAXENROLL</th>\n",
       "        </tr>\n",
       "    </thead>\n",
       "    <tbody>\n",
       "        <tr>\n",
       "            <td>CMPSC     5A -1</td> <td>CMPSC</td> <td>128     </td> <td>150      </td>\n",
       "        </tr>\n",
       "        <tr>\n",
       "            <td>CMPSC     9  -1</td> <td>CMPSC</td> <td>166     </td> <td>300      </td>\n",
       "        </tr>\n",
       "        <tr>\n",
       "            <td>CMPSC    16  -1</td> <td>CMPSC</td> <td>113     </td> <td>150      </td>\n",
       "        </tr>\n",
       "        <tr>\n",
       "            <td>CMPSC    24  -1</td> <td>CMPSC</td> <td>146     </td> <td>149      </td>\n",
       "        </tr>\n",
       "        <tr>\n",
       "            <td>CMPSC    32  -1</td> <td>CMPSC</td> <td>133     </td> <td>150      </td>\n",
       "        </tr>\n",
       "        <tr>\n",
       "            <td>CMPSC    40  -1</td> <td>CMPSC</td> <td>110     </td> <td>150      </td>\n",
       "        </tr>\n",
       "        <tr>\n",
       "            <td>CMPSC    64  -1</td> <td>CMPSC</td> <td>80      </td> <td>150      </td>\n",
       "        </tr>\n",
       "        <tr>\n",
       "            <td>CMPSC   111  -1</td> <td>CMPSC</td> <td>39      </td> <td>147      </td>\n",
       "        </tr>\n",
       "        <tr>\n",
       "            <td>CMPSC   130A -1</td> <td>CMPSC</td> <td>91      </td> <td>150      </td>\n",
       "        </tr>\n",
       "        <tr>\n",
       "            <td>CMPSC   130B -1</td> <td>CMPSC</td> <td>90      </td> <td>150      </td>\n",
       "        </tr>\n",
       "    </tbody>\n",
       "</table>\n",
       "<p>... (1297 rows omitted)</p>"
      ],
      "text/plain": [
       "COURSEID        | dept  | ENROLLED | MAXENROLL\n",
       "CMPSC     5A -1 | CMPSC | 128      | 150\n",
       "CMPSC     9  -1 | CMPSC | 166      | 300\n",
       "CMPSC    16  -1 | CMPSC | 113      | 150\n",
       "CMPSC    24  -1 | CMPSC | 146      | 149\n",
       "CMPSC    32  -1 | CMPSC | 133      | 150\n",
       "CMPSC    40  -1 | CMPSC | 110      | 150\n",
       "CMPSC    64  -1 | CMPSC | 80       | 150\n",
       "CMPSC   111  -1 | CMPSC | 39       | 147\n",
       "CMPSC   130A -1 | CMPSC | 91       | 150\n",
       "CMPSC   130B -1 | CMPSC | 90       | 150\n",
       "... (1297 rows omitted)"
      ]
     },
     "execution_count": 151,
     "metadata": {},
     "output_type": "execute_result"
    }
   ],
   "source": [
    "coursesToCount.select(\"COURSEID\", \"dept\",\"ENROLLED\",\"MAXENROLL\")"
   ]
  },
  {
   "cell_type": "markdown",
   "id": "34a130b0-38b2-43a1-ae06-ded735bfab58",
   "metadata": {},
   "source": [
    "If we take this table, and group by dept and take the sum, we get this:"
   ]
  },
  {
   "cell_type": "code",
   "execution_count": 153,
   "id": "c1c06abd-7ae3-42b2-bf43-e643d2e68374",
   "metadata": {},
   "outputs": [
    {
     "data": {
      "text/html": [
       "<table border=\"1\" class=\"dataframe\">\n",
       "    <thead>\n",
       "        <tr>\n",
       "            <th>dept</th> <th>COURSEID sum</th> <th>ENROLLED sum</th> <th>MAXENROLL sum</th>\n",
       "        </tr>\n",
       "    </thead>\n",
       "    <tbody>\n",
       "        <tr>\n",
       "            <td>ANTH   </td> <td>            </td> <td>1389        </td> <td>1470         </td>\n",
       "        </tr>\n",
       "        <tr>\n",
       "            <td>ART    </td> <td>            </td> <td>408         </td> <td>440          </td>\n",
       "        </tr>\n",
       "        <tr>\n",
       "            <td>ART  CS</td> <td>            </td> <td>49          </td> <td>49           </td>\n",
       "        </tr>\n",
       "        <tr>\n",
       "            <td>ARTHI  </td> <td>            </td> <td>1016        </td> <td>1075         </td>\n",
       "        </tr>\n",
       "        <tr>\n",
       "            <td>AS AM  </td> <td>            </td> <td>596         </td> <td>661          </td>\n",
       "        </tr>\n",
       "        <tr>\n",
       "            <td>ASTRO  </td> <td>            </td> <td>144         </td> <td>185          </td>\n",
       "        </tr>\n",
       "        <tr>\n",
       "            <td>BIOL CS</td> <td>            </td> <td>56          </td> <td>57           </td>\n",
       "        </tr>\n",
       "        <tr>\n",
       "            <td>BL ST  </td> <td>            </td> <td>539         </td> <td>630          </td>\n",
       "        </tr>\n",
       "        <tr>\n",
       "            <td>C LIT  </td> <td>            </td> <td>718         </td> <td>728          </td>\n",
       "        </tr>\n",
       "        <tr>\n",
       "            <td>CH E   </td> <td>            </td> <td>389         </td> <td>506          </td>\n",
       "        </tr>\n",
       "    </tbody>\n",
       "</table>\n",
       "<p>... (72 rows omitted)</p>"
      ],
      "text/plain": [
       "dept    | COURSEID sum | ENROLLED sum | MAXENROLL sum\n",
       "ANTH    |              | 1389         | 1470\n",
       "ART     |              | 408          | 440\n",
       "ART  CS |              | 49           | 49\n",
       "ARTHI   |              | 1016         | 1075\n",
       "AS AM   |              | 596          | 661\n",
       "ASTRO   |              | 144          | 185\n",
       "BIOL CS |              | 56           | 57\n",
       "BL ST   |              | 539          | 630\n",
       "C LIT   |              | 718          | 728\n",
       "CH E    |              | 389          | 506\n",
       "... (72 rows omitted)"
      ]
     },
     "execution_count": 153,
     "metadata": {},
     "output_type": "execute_result"
    }
   ],
   "source": [
    "coursesToCount.select(\"COURSEID\", \"dept\",\"ENROLLED\",\"MAXENROLL\").group(\"dept\",sum)"
   ]
  },
  {
   "cell_type": "markdown",
   "id": "6d4d2495-ed41-4db6-8af6-161f785725fe",
   "metadata": {},
   "source": [
    "You can see that the COURSEID sum column is blank, because it doesn't make any sense to find the \"sum\" of the courseid values.   So, in the next example, we'll omit it.  Here is how we can find the subject areas with the most students enrolled."
   ]
  },
  {
   "cell_type": "code",
   "execution_count": 155,
   "id": "457ea51a-74ec-4743-9ff1-6e82edc619cb",
   "metadata": {},
   "outputs": [
    {
     "data": {
      "text/html": [
       "<table border=\"1\" class=\"dataframe\">\n",
       "    <thead>\n",
       "        <tr>\n",
       "            <th>dept</th> <th>COURSEID sum</th> <th>ENROLLED sum</th> <th>MAXENROLL sum</th>\n",
       "        </tr>\n",
       "    </thead>\n",
       "    <tbody>\n",
       "        <tr>\n",
       "            <td>CHEM </td> <td>            </td> <td>5378        </td> <td>6210         </td>\n",
       "        </tr>\n",
       "        <tr>\n",
       "            <td>ECON </td> <td>            </td> <td>5115        </td> <td>5365         </td>\n",
       "        </tr>\n",
       "        <tr>\n",
       "            <td>PSY  </td> <td>            </td> <td>3789        </td> <td>4029         </td>\n",
       "        </tr>\n",
       "        <tr>\n",
       "            <td>MATH </td> <td>            </td> <td>3758        </td> <td>4066         </td>\n",
       "        </tr>\n",
       "        <tr>\n",
       "            <td>PSTAT</td> <td>            </td> <td>3417        </td> <td>3621         </td>\n",
       "        </tr>\n",
       "        <tr>\n",
       "            <td>PHYS </td> <td>            </td> <td>3120        </td> <td>3586         </td>\n",
       "        </tr>\n",
       "        <tr>\n",
       "            <td>HIST </td> <td>            </td> <td>2841        </td> <td>2911         </td>\n",
       "        </tr>\n",
       "        <tr>\n",
       "            <td>COMM </td> <td>            </td> <td>2765        </td> <td>2985         </td>\n",
       "        </tr>\n",
       "        <tr>\n",
       "            <td>SOC  </td> <td>            </td> <td>2698        </td> <td>2818         </td>\n",
       "        </tr>\n",
       "        <tr>\n",
       "            <td>EEMB </td> <td>            </td> <td>2524        </td> <td>2901         </td>\n",
       "        </tr>\n",
       "    </tbody>\n",
       "</table>\n",
       "<p>... (72 rows omitted)</p>"
      ],
      "text/plain": [
       "dept  | COURSEID sum | ENROLLED sum | MAXENROLL sum\n",
       "CHEM  |              | 5378         | 6210\n",
       "ECON  |              | 5115         | 5365\n",
       "PSY   |              | 3789         | 4029\n",
       "MATH  |              | 3758         | 4066\n",
       "PSTAT |              | 3417         | 3621\n",
       "PHYS  |              | 3120         | 3586\n",
       "HIST  |              | 2841         | 2911\n",
       "COMM  |              | 2765         | 2985\n",
       "SOC   |              | 2698         | 2818\n",
       "EEMB  |              | 2524         | 2901\n",
       "... (72 rows omitted)"
      ]
     },
     "execution_count": 155,
     "metadata": {},
     "output_type": "execute_result"
    }
   ],
   "source": [
    "coursesToCount \\\n",
    "    .select(\"COURSEID\", \"dept\",\"ENROLLED\",\"MAXENROLL\") \\\n",
    "    .group(\"dept\",sum).sort(\"ENROLLED sum\",descending=True)"
   ]
  },
  {
   "cell_type": "markdown",
   "id": "cd505f5e-229f-42f8-9622-6d2e6eed488a",
   "metadata": {},
   "source": [
    "We can also use the `max` function to determine which subject area has a single class with the largest enrollment.  This is applying the `max` function across all of the ENROLLED values in each group by subject area."
   ]
  },
  {
   "cell_type": "code",
   "execution_count": 167,
   "id": "b3bad1a2-b32f-4888-9232-3b7a9cbb10b3",
   "metadata": {},
   "outputs": [
    {
     "data": {
      "text/html": [
       "<table border=\"1\" class=\"dataframe\">\n",
       "    <thead>\n",
       "        <tr>\n",
       "            <th>dept</th> <th>ENROLLED max</th> <th>MAXENROLL max</th>\n",
       "        </tr>\n",
       "    </thead>\n",
       "    <tbody>\n",
       "        <tr>\n",
       "            <td>ECON </td> <td>682         </td> <td>717          </td>\n",
       "        </tr>\n",
       "        <tr>\n",
       "            <td>CLASS</td> <td>650         </td> <td>650          </td>\n",
       "        </tr>\n",
       "        <tr>\n",
       "            <td>CH ST</td> <td>577         </td> <td>580          </td>\n",
       "        </tr>\n",
       "        <tr>\n",
       "            <td>EEMB </td> <td>573         </td> <td>860          </td>\n",
       "        </tr>\n",
       "        <tr>\n",
       "            <td>ANTH </td> <td>536         </td> <td>575          </td>\n",
       "        </tr>\n",
       "        <tr>\n",
       "            <td>DANCE</td> <td>530         </td> <td>529          </td>\n",
       "        </tr>\n",
       "        <tr>\n",
       "            <td>SOC  </td> <td>497         </td> <td>525          </td>\n",
       "        </tr>\n",
       "        <tr>\n",
       "            <td>ENV S</td> <td>458         </td> <td>468          </td>\n",
       "        </tr>\n",
       "        <tr>\n",
       "            <td>HIST </td> <td>442         </td> <td>432          </td>\n",
       "        </tr>\n",
       "        <tr>\n",
       "            <td>MATH </td> <td>412         </td> <td>450          </td>\n",
       "        </tr>\n",
       "    </tbody>\n",
       "</table>\n",
       "<p>... (72 rows omitted)</p>"
      ],
      "text/plain": [
       "dept  | ENROLLED max | MAXENROLL max\n",
       "ECON  | 682          | 717\n",
       "CLASS | 650          | 650\n",
       "CH ST | 577          | 580\n",
       "EEMB  | 573          | 860\n",
       "ANTH  | 536          | 575\n",
       "DANCE | 530          | 529\n",
       "SOC   | 497          | 525\n",
       "ENV S | 458          | 468\n",
       "HIST  | 442          | 432\n",
       "MATH  | 412          | 450\n",
       "... (72 rows omitted)"
      ]
     },
     "execution_count": 167,
     "metadata": {},
     "output_type": "execute_result"
    }
   ],
   "source": [
    "coursesToCount \\\n",
    "    .select(\"dept\",\"ENROLLED\",\"MAXENROLL\") \\\n",
    "    .group(\"dept\",max).sort(\"ENROLLED max\",descending=True)"
   ]
  },
  {
   "cell_type": "markdown",
   "id": "c87da726-0b73-465e-9349-fd5923b4b96c",
   "metadata": {},
   "source": [
    "Let's give this table a name with an assignment statement"
   ]
  },
  {
   "cell_type": "code",
   "execution_count": 168,
   "id": "d2ed5edf-e926-4f27-ba76-6f67b06e6bce",
   "metadata": {},
   "outputs": [],
   "source": [
    "largestCourseSizes = coursesToCount \\\n",
    "    .select(\"dept\",\"ENROLLED\",\"MAXENROLL\") \\\n",
    "    .group(\"dept\",max).sort(\"ENROLLED max\",descending=True)"
   ]
  },
  {
   "cell_type": "code",
   "execution_count": 169,
   "id": "aaca8df6-ee86-4c76-847a-9446518d6310",
   "metadata": {},
   "outputs": [
    {
     "data": {
      "text/html": [
       "<table border=\"1\" class=\"dataframe\">\n",
       "    <thead>\n",
       "        <tr>\n",
       "            <th>dept</th> <th>ENROLLED max</th> <th>MAXENROLL max</th>\n",
       "        </tr>\n",
       "    </thead>\n",
       "    <tbody>\n",
       "        <tr>\n",
       "            <td>ECON </td> <td>682         </td> <td>717          </td>\n",
       "        </tr>\n",
       "        <tr>\n",
       "            <td>CLASS</td> <td>650         </td> <td>650          </td>\n",
       "        </tr>\n",
       "        <tr>\n",
       "            <td>CH ST</td> <td>577         </td> <td>580          </td>\n",
       "        </tr>\n",
       "        <tr>\n",
       "            <td>EEMB </td> <td>573         </td> <td>860          </td>\n",
       "        </tr>\n",
       "        <tr>\n",
       "            <td>ANTH </td> <td>536         </td> <td>575          </td>\n",
       "        </tr>\n",
       "        <tr>\n",
       "            <td>DANCE</td> <td>530         </td> <td>529          </td>\n",
       "        </tr>\n",
       "        <tr>\n",
       "            <td>SOC  </td> <td>497         </td> <td>525          </td>\n",
       "        </tr>\n",
       "        <tr>\n",
       "            <td>ENV S</td> <td>458         </td> <td>468          </td>\n",
       "        </tr>\n",
       "        <tr>\n",
       "            <td>HIST </td> <td>442         </td> <td>432          </td>\n",
       "        </tr>\n",
       "        <tr>\n",
       "            <td>MATH </td> <td>412         </td> <td>450          </td>\n",
       "        </tr>\n",
       "    </tbody>\n",
       "</table>\n",
       "<p>... (72 rows omitted)</p>"
      ],
      "text/plain": [
       "dept  | ENROLLED max | MAXENROLL max\n",
       "ECON  | 682          | 717\n",
       "CLASS | 650          | 650\n",
       "CH ST | 577          | 580\n",
       "EEMB  | 573          | 860\n",
       "ANTH  | 536          | 575\n",
       "DANCE | 530          | 529\n",
       "SOC   | 497          | 525\n",
       "ENV S | 458          | 468\n",
       "HIST  | 442          | 432\n",
       "MATH  | 412          | 450\n",
       "... (72 rows omitted)"
      ]
     },
     "execution_count": 169,
     "metadata": {},
     "output_type": "execute_result"
    }
   ],
   "source": [
    "largestCourseSizes"
   ]
  },
  {
   "cell_type": "markdown",
   "id": "bc6a7430-e25a-4ff7-a1cb-b2dc25671925",
   "metadata": {},
   "source": [
    "Suppose we wanted to add to this table the actual name of the course that is the largest one in each subject area.\n",
    "\n",
    "First, here's an *incorrect* answer:"
   ]
  },
  {
   "cell_type": "code",
   "execution_count": 172,
   "id": "6fdb5d80-d7a7-45d7-a8d9-37554fa9ef26",
   "metadata": {},
   "outputs": [
    {
     "data": {
      "text/html": [
       "<table border=\"1\" class=\"dataframe\">\n",
       "    <thead>\n",
       "        <tr>\n",
       "            <th>dept</th> <th>COURSEID max</th> <th>ENROLLED max</th> <th>MAXENROLL max</th>\n",
       "        </tr>\n",
       "    </thead>\n",
       "    <tbody>\n",
       "        <tr>\n",
       "            <td>ECON </td> <td>ECON    199RA-2</td> <td>682         </td> <td>717          </td>\n",
       "        </tr>\n",
       "        <tr>\n",
       "            <td>CLASS</td> <td>CLASS   190  -1</td> <td>650         </td> <td>650          </td>\n",
       "        </tr>\n",
       "        <tr>\n",
       "            <td>CH ST</td> <td>CH ST   191ZZ-1</td> <td>577         </td> <td>580          </td>\n",
       "        </tr>\n",
       "        <tr>\n",
       "            <td>EEMB </td> <td>EEMB    194Q -1</td> <td>573         </td> <td>860          </td>\n",
       "        </tr>\n",
       "        <tr>\n",
       "            <td>ANTH </td> <td>ANTH    197ES-1</td> <td>536         </td> <td>575          </td>\n",
       "        </tr>\n",
       "        <tr>\n",
       "            <td>DANCE</td> <td>DANCE   182C -1</td> <td>530         </td> <td>529          </td>\n",
       "        </tr>\n",
       "        <tr>\n",
       "            <td>SOC  </td> <td>SOC     190A -1</td> <td>497         </td> <td>525          </td>\n",
       "        </tr>\n",
       "        <tr>\n",
       "            <td>ENV S</td> <td>ENV S   195C -1</td> <td>458         </td> <td>468          </td>\n",
       "        </tr>\n",
       "        <tr>\n",
       "            <td>HIST </td> <td>HIST    193F -1</td> <td>442         </td> <td>432          </td>\n",
       "        </tr>\n",
       "        <tr>\n",
       "            <td>MATH </td> <td>MATH    182  -1</td> <td>412         </td> <td>450          </td>\n",
       "        </tr>\n",
       "    </tbody>\n",
       "</table>\n",
       "<p>... (72 rows omitted)</p>"
      ],
      "text/plain": [
       "dept  | COURSEID max    | ENROLLED max | MAXENROLL max\n",
       "ECON  | ECON    199RA-2 | 682          | 717\n",
       "CLASS | CLASS   190  -1 | 650          | 650\n",
       "CH ST | CH ST   191ZZ-1 | 577          | 580\n",
       "EEMB  | EEMB    194Q -1 | 573          | 860\n",
       "ANTH  | ANTH    197ES-1 | 536          | 575\n",
       "DANCE | DANCE   182C -1 | 530          | 529\n",
       "SOC   | SOC     190A -1 | 497          | 525\n",
       "ENV S | ENV S   195C -1 | 458          | 468\n",
       "HIST  | HIST    193F -1 | 442          | 432\n",
       "MATH  | MATH    182  -1 | 412          | 450\n",
       "... (72 rows omitted)"
      ]
     },
     "execution_count": 172,
     "metadata": {},
     "output_type": "execute_result"
    }
   ],
   "source": [
    "largestCourseSizes = coursesToCount \\\n",
    "    .select(\"COURSEID\", \"dept\",\"ENROLLED\",\"MAXENROLL\") \\\n",
    "    .group(\"dept\",max).sort(\"ENROLLED max\",descending=True)\n",
    "largestCourseSizes"
   ]
  },
  {
   "cell_type": "markdown",
   "id": "e9198899-76c5-4b26-b4d7-a0c143e036c3",
   "metadata": {},
   "source": [
    "We might think this is saying that ECON 199RA-2 is the largest class offered by ECON. But that is not the case. \n",
    "\n",
    "Instead, `ECON 199RA-2` is the `max` of the `COURSEID` column *lexigographically*, i.e. the one that would occur last if we sorted by this column!  That's not really meaningful if we are looking to identify the largest course (by enrollment) taught by ECON.\n",
    "\n",
    "Instead, we can write a function that takes the `dept` as a parameter, and returns as it's value, the course id of the largest course in that department.  Then we can use `apply` to make a new `numpy.ndarray` of those values, and then we can add that column to the table.\n",
    "\n",
    "Here's how that looks. First let's do it by hand for just `ECON`\n"
   ]
  },
  {
   "cell_type": "markdown",
   "id": "420e2724-6266-4af9-9971-191bc3a810f2",
   "metadata": {},
   "source": [
    "Here are all of the ECON courses, in descending order by enrollment:"
   ]
  },
  {
   "cell_type": "code",
   "execution_count": 175,
   "id": "f71fc4f3-84d0-4256-9810-e58c2716ea56",
   "metadata": {},
   "outputs": [
    {
     "data": {
      "text/html": [
       "<table border=\"1\" class=\"dataframe\">\n",
       "    <thead>\n",
       "        <tr>\n",
       "            <th>COURSEID</th> <th>ENROLLED</th> <th>GES</th> <th>INSTRUCTOR</th> <th>MAXENROLL</th> <th>QUARTER</th> <th>SECTION</th> <th>STATUS</th> <th>dept</th> <th>courseNum</th> <th>suffix</th>\n",
       "        </tr>\n",
       "    </thead>\n",
       "    <tbody>\n",
       "        <tr>\n",
       "            <td>ECON      2  -1</td> <td>682     </td> <td>D (ENGR), D (L&S)</td> <td>LANG M D, FUERTES SEGUR</td> <td>717      </td> <td>20252  </td> <td>100    </td> <td>nan   </td> <td>ECON</td> <td>2        </td> <td>1     </td>\n",
       "        </tr>\n",
       "        <tr>\n",
       "            <td>ECON    100B -1</td> <td>356     </td> <td>nan              </td> <td>QIN C Z, WANG L        </td> <td>360      </td> <td>20252  </td> <td>100    </td> <td>nan   </td> <td>ECON</td> <td>100B     </td> <td>1     </td>\n",
       "        </tr>\n",
       "        <tr>\n",
       "            <td>ECON     10A -1</td> <td>354     </td> <td>nan              </td> <td>LANG B J, SINDHI R     </td> <td>354      </td> <td>20252  </td> <td>100    </td> <td>nan   </td> <td>ECON</td> <td>10A      </td> <td>1     </td>\n",
       "        </tr>\n",
       "        <tr>\n",
       "            <td>ECON    140A -1</td> <td>311     </td> <td>nan              </td> <td>VAZQUEZ-BARE, SWEEN S D</td> <td>324      </td> <td>20252  </td> <td>100    </td> <td>nan   </td> <td>ECON</td> <td>140A     </td> <td>1     </td>\n",
       "        </tr>\n",
       "        <tr>\n",
       "            <td>ECON      3A -1</td> <td>285     </td> <td>nan              </td> <td>ANDERSON R W           </td> <td>300      </td> <td>20252  </td> <td>100    </td> <td>nan   </td> <td>ECON</td> <td>3A       </td> <td>1     </td>\n",
       "        </tr>\n",
       "    </tbody>\n",
       "</table>\n",
       "<p>... (37 rows omitted)</p>"
      ],
      "text/plain": [
       "<IPython.core.display.HTML object>"
      ]
     },
     "metadata": {},
     "output_type": "display_data"
    }
   ],
   "source": [
    "coursesToCount.where(\"dept\", are.equal_to(\"ECON\")).sort(\"ENROLLED\",descending=True).show(5)"
   ]
  },
  {
   "cell_type": "code",
   "execution_count": null,
   "id": "a8ed27bd-dbf7-46dc-a7fe-c2516e4e4073",
   "metadata": {},
   "outputs": [],
   "source": [
    "What we want is the `COURSEID` field from the top row.  So that's this:\n"
   ]
  },
  {
   "cell_type": "code",
   "execution_count": 176,
   "id": "8627cba8-acf0-410f-af1f-2a4ecc52497f",
   "metadata": {},
   "outputs": [
    {
     "data": {
      "text/plain": [
       "'ECON      2  -1'"
      ]
     },
     "execution_count": 176,
     "metadata": {},
     "output_type": "execute_result"
    }
   ],
   "source": [
    "coursesToCount.where(\"dept\", are.equal_to(\"ECON\")).sort(\"ENROLLED\",descending=True).column('COURSEID').item(0)"
   ]
  },
  {
   "cell_type": "markdown",
   "id": "3fed1658-9b1f-40c4-8ba4-89831da994fc",
   "metadata": {},
   "source": [
    "**This doesn't work if there are ties**.  Note that if there are ties for the largest course, this method won't work; we'll only pull out one of the courses that has that many students.  Maybe we'll come back later and show how we'd solve the problem if there were ties.  But it's a good start!"
   ]
  },
  {
   "cell_type": "markdown",
   "id": "36706685-12cd-4cc8-b1e0-ca71b3f1f304",
   "metadata": {},
   "source": [
    "Let's turn this into a function.  Instead of hard coding `\"ECON\"`, we replace this with a parameter."
   ]
  },
  {
   "cell_type": "code",
   "execution_count": 180,
   "id": "064b4eab-d169-4fd8-aa25-9083ceaa626e",
   "metadata": {},
   "outputs": [],
   "source": [
    "def deptToLargestCourse(dept):\n",
    "    return coursesToCount.where(\"dept\", are.equal_to(dept)).sort(\"ENROLLED\",descending=True).column('COURSEID').item(0)"
   ]
  },
  {
   "cell_type": "markdown",
   "id": "5dd29918-33ae-4eab-af9b-e8955d5d4553",
   "metadata": {},
   "source": [
    "Now lets test this on a few departments:"
   ]
  },
  {
   "cell_type": "code",
   "execution_count": 181,
   "id": "f909c24e-65eb-4f07-a4d0-786f4daf0a7a",
   "metadata": {},
   "outputs": [
    {
     "data": {
      "text/plain": [
       "'ECON      2  -1'"
      ]
     },
     "execution_count": 181,
     "metadata": {},
     "output_type": "execute_result"
    }
   ],
   "source": [
    "deptToLargestCourse(\"ECON\")"
   ]
  },
  {
   "cell_type": "code",
   "execution_count": 182,
   "id": "5b3a4f0e-0629-4f38-bb47-d69533b9fbcf",
   "metadata": {},
   "outputs": [
    {
     "data": {
      "text/plain": [
       "'CMPSC     9  -1'"
      ]
     },
     "execution_count": 182,
     "metadata": {},
     "output_type": "execute_result"
    }
   ],
   "source": [
    "deptToLargestCourse(\"CMPSC\")"
   ]
  },
  {
   "cell_type": "code",
   "execution_count": 183,
   "id": "8069550c-829d-44cf-888f-7d5272ff6d06",
   "metadata": {},
   "outputs": [
    {
     "data": {
      "text/plain": [
       "'CLASS    40  -1'"
      ]
     },
     "execution_count": 183,
     "metadata": {},
     "output_type": "execute_result"
    }
   ],
   "source": [
    "deptToLargestCourse(\"CLASS\")"
   ]
  },
  {
   "cell_type": "markdown",
   "id": "ac94e899-be1a-4839-a4d4-d6a04781b89a",
   "metadata": {},
   "source": [
    "Seems to be working.  Let's try the apply function now."
   ]
  },
  {
   "cell_type": "code",
   "execution_count": 191,
   "id": "fbe6e22c-9251-40d8-bfa0-ef76d0f9a5d3",
   "metadata": {},
   "outputs": [
    {
     "data": {
      "text/html": [
       "<table border=\"1\" class=\"dataframe\">\n",
       "    <thead>\n",
       "        <tr>\n",
       "            <th>dept</th> <th>ENROLLED max</th> <th>Largest Enrollment Course</th>\n",
       "        </tr>\n",
       "    </thead>\n",
       "    <tbody>\n",
       "        <tr>\n",
       "            <td>ECON   </td> <td>682         </td> <td>ECON      2  -1          </td>\n",
       "        </tr>\n",
       "        <tr>\n",
       "            <td>CLASS  </td> <td>650         </td> <td>CLASS    40  -1          </td>\n",
       "        </tr>\n",
       "        <tr>\n",
       "            <td>CH ST  </td> <td>577         </td> <td>CH ST     1C -1          </td>\n",
       "        </tr>\n",
       "        <tr>\n",
       "            <td>EEMB   </td> <td>573         </td> <td>EEMB      3  -1          </td>\n",
       "        </tr>\n",
       "        <tr>\n",
       "            <td>ANTH   </td> <td>536         </td> <td>ANTH      2  -1          </td>\n",
       "        </tr>\n",
       "        <tr>\n",
       "            <td>DANCE  </td> <td>530         </td> <td>DANCE    45  -1          </td>\n",
       "        </tr>\n",
       "        <tr>\n",
       "            <td>SOC    </td> <td>497         </td> <td>SOC       1  -1          </td>\n",
       "        </tr>\n",
       "        <tr>\n",
       "            <td>ENV S  </td> <td>458         </td> <td>ENV S     2  -1          </td>\n",
       "        </tr>\n",
       "        <tr>\n",
       "            <td>HIST   </td> <td>442         </td> <td>HIST      4C -1          </td>\n",
       "        </tr>\n",
       "        <tr>\n",
       "            <td>MATH   </td> <td>412         </td> <td>MATH     34B -1          </td>\n",
       "        </tr>\n",
       "        <tr>\n",
       "            <td>PSY    </td> <td>366         </td> <td>PSY       1  -1          </td>\n",
       "        </tr>\n",
       "        <tr>\n",
       "            <td>PSTAT  </td> <td>357         </td> <td>PSTAT     5LS-1          </td>\n",
       "        </tr>\n",
       "        <tr>\n",
       "            <td>CHEM   </td> <td>352         </td> <td>CHEM    109B -1          </td>\n",
       "        </tr>\n",
       "        <tr>\n",
       "            <td>ARTHI  </td> <td>338         </td> <td>ARTHI     5A -1          </td>\n",
       "        </tr>\n",
       "        <tr>\n",
       "            <td>COMM   </td> <td>313         </td> <td>COMM      1  -1          </td>\n",
       "        </tr>\n",
       "        <tr>\n",
       "            <td>ESS    </td> <td>311         </td> <td>ESS       3H -1          </td>\n",
       "        </tr>\n",
       "        <tr>\n",
       "            <td>FEMST  </td> <td>301         </td> <td>FEMST   150  -1          </td>\n",
       "        </tr>\n",
       "        <tr>\n",
       "            <td>PHIL   </td> <td>286         </td> <td>PHIL      1  -1          </td>\n",
       "        </tr>\n",
       "        <tr>\n",
       "            <td>EARTH  </td> <td>271         </td> <td>EARTH     4  -1          </td>\n",
       "        </tr>\n",
       "        <tr>\n",
       "            <td>LING   </td> <td>271         </td> <td>LING     15  -1          </td>\n",
       "        </tr>\n",
       "        <tr>\n",
       "            <td>GLOBL  </td> <td>269         </td> <td>GLOBL     1  -1          </td>\n",
       "        </tr>\n",
       "        <tr>\n",
       "            <td>MCDB   </td> <td>249         </td> <td>MCDB    101B -1          </td>\n",
       "        </tr>\n",
       "        <tr>\n",
       "            <td>PHYS   </td> <td>247         </td> <td>PHYS      6B -2          </td>\n",
       "        </tr>\n",
       "        <tr>\n",
       "            <td>MUS    </td> <td>235         </td> <td>MUS      15  -1          </td>\n",
       "        </tr>\n",
       "        <tr>\n",
       "            <td>ES   1-</td> <td>226         </td> <td>ES   1-  43D -1          </td>\n",
       "        </tr>\n",
       "        <tr>\n",
       "            <td>GEOG   </td> <td>223         </td> <td>GEOG      5  -1          </td>\n",
       "        </tr>\n",
       "        <tr>\n",
       "            <td>AS AM  </td> <td>216         </td> <td>AS AM     8  -1          </td>\n",
       "        </tr>\n",
       "        <tr>\n",
       "            <td>C LIT  </td> <td>204         </td> <td>C LIT    30C -1          </td>\n",
       "        </tr>\n",
       "        <tr>\n",
       "            <td>ENGL   </td> <td>193         </td> <td>ENGL     10  -1          </td>\n",
       "        </tr>\n",
       "        <tr>\n",
       "            <td>POL S  </td> <td>175         </td> <td>POL S   127  -1          </td>\n",
       "        </tr>\n",
       "        <tr>\n",
       "            <td>CMPSC  </td> <td>166         </td> <td>CMPSC     9  -1          </td>\n",
       "        </tr>\n",
       "        <tr>\n",
       "            <td>CNCSP  </td> <td>161         </td> <td>CNCSP   110  -1          </td>\n",
       "        </tr>\n",
       "        <tr>\n",
       "            <td>ECE    </td> <td>156         </td> <td>ECE      10C -1          </td>\n",
       "        </tr>\n",
       "        <tr>\n",
       "            <td>COMM W </td> <td>155         </td> <td>COMM W  113  -1          </td>\n",
       "        </tr>\n",
       "        <tr>\n",
       "            <td>ENGR   </td> <td>155         </td> <td>ENGR      3  -1          </td>\n",
       "        </tr>\n",
       "        <tr>\n",
       "            <td>INT    </td> <td>143         </td> <td>INT     176  -1          </td>\n",
       "        </tr>\n",
       "        <tr>\n",
       "            <td>EEMB W </td> <td>141         </td> <td>EEMB W  146  -1          </td>\n",
       "        </tr>\n",
       "        <tr>\n",
       "            <td>SOC  W </td> <td>139         </td> <td>SOC  W  139NG-1          </td>\n",
       "        </tr>\n",
       "        <tr>\n",
       "            <td>FAMST  </td> <td>131         </td> <td>FAMST    96  -1          </td>\n",
       "        </tr>\n",
       "        <tr>\n",
       "            <td>RG ST  </td> <td>126         </td> <td>RG ST    21  -1          </td>\n",
       "        </tr>\n",
       "        <tr>\n",
       "            <td>ART    </td> <td>120         </td> <td>ART       1C -1          </td>\n",
       "        </tr>\n",
       "        <tr>\n",
       "            <td>BL ST  </td> <td>120         </td> <td>BL ST     1  -1          </td>\n",
       "        </tr>\n",
       "        <tr>\n",
       "            <td>POL SH </td> <td>119         </td> <td>POL SH    7  -1          </td>\n",
       "        </tr>\n",
       "        <tr>\n",
       "            <td>JAPAN  </td> <td>116         </td> <td>JAPAN   162  -1          </td>\n",
       "        </tr>\n",
       "        <tr>\n",
       "            <td>EACS   </td> <td>115         </td> <td>EACS     21  -1          </td>\n",
       "        </tr>\n",
       "        <tr>\n",
       "            <td>ASTRO  </td> <td>98          </td> <td>ASTRO     1  -1          </td>\n",
       "        </tr>\n",
       "        <tr>\n",
       "            <td>PSTATW </td> <td>98          </td> <td>PSTATW  174  -1          </td>\n",
       "        </tr>\n",
       "        <tr>\n",
       "            <td>LAIS   </td> <td>97          </td> <td>LAIS     10  -1          </td>\n",
       "        </tr>\n",
       "        <tr>\n",
       "            <td>ME     </td> <td>95          </td> <td>ME      153  -1          </td>\n",
       "        </tr>\n",
       "        <tr>\n",
       "            <td>FAMSTW </td> <td>90          </td> <td>FAMSTW  150FT-1          </td>\n",
       "        </tr>\n",
       "        <tr>\n",
       "            <td>FR     </td> <td>89          </td> <td>FR      154F -1          </td>\n",
       "        </tr>\n",
       "        <tr>\n",
       "            <td>ITAL   </td> <td>86          </td> <td>ITAL    180X -1          </td>\n",
       "        </tr>\n",
       "        <tr>\n",
       "            <td>PORT   </td> <td>80          </td> <td>PORT    130C -1          </td>\n",
       "        </tr>\n",
       "        <tr>\n",
       "            <td>ED     </td> <td>73          </td> <td>ED      125  -1          </td>\n",
       "        </tr>\n",
       "        <tr>\n",
       "            <td>ESS  W </td> <td>68          </td> <td>ESS  W    2  -1          </td>\n",
       "        </tr>\n",
       "        <tr>\n",
       "            <td>THTR   </td> <td>63          </td> <td>THTR    180E -1          </td>\n",
       "        </tr>\n",
       "        <tr>\n",
       "            <td>TMP    </td> <td>59          </td> <td>TMP     191N -1          </td>\n",
       "        </tr>\n",
       "        <tr>\n",
       "            <td>CHIN   </td> <td>58          </td> <td>CHIN     48  -1          </td>\n",
       "        </tr>\n",
       "        <tr>\n",
       "            <td>CH E   </td> <td>52          </td> <td>CH E    132A -1          </td>\n",
       "        </tr>\n",
       "        <tr>\n",
       "            <td>SPAN   </td> <td>51          </td> <td>SPAN     30  -1          </td>\n",
       "        </tr>\n",
       "        <tr>\n",
       "            <td>MS     </td> <td>33          </td> <td>MS       22  -1          </td>\n",
       "        </tr>\n",
       "        <tr>\n",
       "            <td>PHYS CS</td> <td>32          </td> <td>PHYS CS   5  -1          </td>\n",
       "        </tr>\n",
       "        <tr>\n",
       "            <td>BIOL CS</td> <td>31          </td> <td>BIOL CS  30  -1          </td>\n",
       "        </tr>\n",
       "        <tr>\n",
       "            <td>MUS A  </td> <td>29          </td> <td>MUS A    34  -1          </td>\n",
       "        </tr>\n",
       "        <tr>\n",
       "            <td>SLAV   </td> <td>29          </td> <td>SLAV    152B -1          </td>\n",
       "        </tr>\n",
       "        <tr>\n",
       "            <td>ED   W </td> <td>28          </td> <td>ED   W  119  -1          </td>\n",
       "        </tr>\n",
       "        <tr>\n",
       "            <td>MATRL  </td> <td>28          </td> <td>MATRL    10  -1          </td>\n",
       "        </tr>\n",
       "        <tr>\n",
       "            <td>WRIT   </td> <td>28          </td> <td>WRIT      2  -10         </td>\n",
       "        </tr>\n",
       "        <tr>\n",
       "            <td>CMPTGCS</td> <td>26          </td> <td>CMPTGCS   5  -1          </td>\n",
       "        </tr>\n",
       "        <tr>\n",
       "            <td>GER    </td> <td>26          </td> <td>GER     101C -1          </td>\n",
       "        </tr>\n",
       "        <tr>\n",
       "            <td>SPAN W </td> <td>23          </td> <td>SPAN W    1  -2          </td>\n",
       "        </tr>\n",
       "        <tr>\n",
       "            <td>KOR    </td> <td>21          </td> <td>KOR       6  -1          </td>\n",
       "        </tr>\n",
       "        <tr>\n",
       "            <td>MARINCS</td> <td>21          </td> <td>MARINCS 106  -1          </td>\n",
       "        </tr>\n",
       "        <tr>\n",
       "            <td>ME   W </td> <td>21          </td> <td>ME   W  167  -1          </td>\n",
       "        </tr>\n",
       "        <tr>\n",
       "            <td>MATH CS</td> <td>20          </td> <td>MATH CS 108B -1          </td>\n",
       "        </tr>\n",
       "        <tr>\n",
       "            <td>RUSS   </td> <td>20          </td> <td>RUSS      3  -1          </td>\n",
       "        </tr>\n",
       "        <tr>\n",
       "            <td>LING W </td> <td>18          </td> <td>LING W    3C -1          </td>\n",
       "        </tr>\n",
       "        <tr>\n",
       "            <td>LATIN  </td> <td>17          </td> <td>LATIN     3  -1          </td>\n",
       "        </tr>\n",
       "        <tr>\n",
       "            <td>MUS  CS</td> <td>17          </td> <td>MUS  CS 110AM-1          </td>\n",
       "        </tr>\n",
       "        <tr>\n",
       "            <td>ART  CS</td> <td>16          </td> <td>ART  CS 101  -1          </td>\n",
       "        </tr>\n",
       "        <tr>\n",
       "            <td>CHEM CS</td> <td>13          </td> <td>CHEM CS  11C -1          </td>\n",
       "        </tr>\n",
       "        <tr>\n",
       "            <td>HEB    </td> <td>13          </td> <td>HEB       3  -1          </td>\n",
       "        </tr>\n",
       "    </tbody>\n",
       "</table>"
      ],
      "text/plain": [
       "<IPython.core.display.HTML object>"
      ]
     },
     "metadata": {},
     "output_type": "display_data"
    }
   ],
   "source": [
    "largestCourseSizes = coursesToCount \\\n",
    "    .select(\"dept\",\"ENROLLED\") \\\n",
    "    .group(\"dept\",max).sort(\"ENROLLED max\",descending=True) \\\n",
    "    .with_column(\"Largest Enrollment Course\", largestCourseSizes.apply(deptToLargestCourse, \"dept\"))\n",
    "largestCourseSizes.show()"
   ]
  },
  {
   "cell_type": "code",
   "execution_count": null,
   "id": "67ffbfeb-7822-4f29-b225-c2b56e4b8a31",
   "metadata": {},
   "outputs": [],
   "source": []
  },
  {
   "cell_type": "markdown",
   "id": "77d88292-8e65-4225-81a1-e066562979c5",
   "metadata": {},
   "source": [
    "## Bar Graphs"
   ]
  },
  {
   "cell_type": "markdown",
   "id": "a1955411-b4e9-4e6d-a82b-fc2e356f332a",
   "metadata": {},
   "source": [
    "We can now make some bar graphs with this data.\n",
    "\n",
    "Here's a bar graph of the number of courses offered by each department:\n"
   ]
  },
  {
   "cell_type": "code",
   "execution_count": 192,
   "id": "f91a4419-a857-496c-a3a3-7d7884d33e51",
   "metadata": {},
   "outputs": [
    {
     "data": {
      "text/html": [
       "<table border=\"1\" class=\"dataframe\">\n",
       "    <thead>\n",
       "        <tr>\n",
       "            <th>dept</th> <th>count</th>\n",
       "        </tr>\n",
       "    </thead>\n",
       "    <tbody>\n",
       "        <tr>\n",
       "            <td>ANTH   </td> <td>11   </td>\n",
       "        </tr>\n",
       "        <tr>\n",
       "            <td>ART    </td> <td>11   </td>\n",
       "        </tr>\n",
       "        <tr>\n",
       "            <td>ART  CS</td> <td>4    </td>\n",
       "        </tr>\n",
       "        <tr>\n",
       "            <td>ARTHI  </td> <td>12   </td>\n",
       "        </tr>\n",
       "        <tr>\n",
       "            <td>AS AM  </td> <td>12   </td>\n",
       "        </tr>\n",
       "        <tr>\n",
       "            <td>ASTRO  </td> <td>2    </td>\n",
       "        </tr>\n",
       "        <tr>\n",
       "            <td>BIOL CS</td> <td>3    </td>\n",
       "        </tr>\n",
       "        <tr>\n",
       "            <td>BL ST  </td> <td>11   </td>\n",
       "        </tr>\n",
       "        <tr>\n",
       "            <td>C LIT  </td> <td>11   </td>\n",
       "        </tr>\n",
       "        <tr>\n",
       "            <td>CH E   </td> <td>11   </td>\n",
       "        </tr>\n",
       "    </tbody>\n",
       "</table>\n",
       "<p>... (72 rows omitted)</p>"
      ],
      "text/plain": [
       "dept    | count\n",
       "ANTH    | 11\n",
       "ART     | 11\n",
       "ART  CS | 4\n",
       "ARTHI   | 12\n",
       "AS AM   | 12\n",
       "ASTRO   | 2\n",
       "BIOL CS | 3\n",
       "BL ST   | 11\n",
       "C LIT   | 11\n",
       "CH E    | 11\n",
       "... (72 rows omitted)"
      ]
     },
     "execution_count": 192,
     "metadata": {},
     "output_type": "execute_result"
    }
   ],
   "source": [
    "counts = coursesToCount.group(\"dept\")\n",
    "counts"
   ]
  },
  {
   "cell_type": "code",
   "execution_count": 193,
   "id": "7b9e4418-51c8-4fa1-969e-0c20c75f8cff",
   "metadata": {},
   "outputs": [
    {
     "data": {
      "image/png": "[encoded data removed]",
      "text/plain": [
       "<Figure size 600x4100 with 1 Axes>"
      ]
     },
     "metadata": {},
     "output_type": "display_data"
    }
   ],
   "source": [
    "counts.barh(\"dept\") # Bar graph of count, by department"
   ]
  },
  {
   "cell_type": "markdown",
   "id": "a4793aa8-c087-4225-9034-fce072739ad9",
   "metadata": {},
   "source": [
    "Or we can make a bar graph by enrollment:"
   ]
  },
  {
   "cell_type": "code",
   "execution_count": 202,
   "id": "9a2f9de4-a272-46a2-851a-5d0899f42656",
   "metadata": {},
   "outputs": [
    {
     "data": {
      "text/html": [
       "<table border=\"1\" class=\"dataframe\">\n",
       "    <thead>\n",
       "        <tr>\n",
       "            <th>dept</th> <th>ENROLLED sum</th>\n",
       "        </tr>\n",
       "    </thead>\n",
       "    <tbody>\n",
       "        <tr>\n",
       "            <td>CHEM </td> <td>5378        </td>\n",
       "        </tr>\n",
       "        <tr>\n",
       "            <td>ECON </td> <td>5115        </td>\n",
       "        </tr>\n",
       "        <tr>\n",
       "            <td>PSY  </td> <td>3789        </td>\n",
       "        </tr>\n",
       "        <tr>\n",
       "            <td>MATH </td> <td>3758        </td>\n",
       "        </tr>\n",
       "        <tr>\n",
       "            <td>PSTAT</td> <td>3417        </td>\n",
       "        </tr>\n",
       "        <tr>\n",
       "            <td>PHYS </td> <td>3120        </td>\n",
       "        </tr>\n",
       "        <tr>\n",
       "            <td>HIST </td> <td>2841        </td>\n",
       "        </tr>\n",
       "        <tr>\n",
       "            <td>COMM </td> <td>2765        </td>\n",
       "        </tr>\n",
       "        <tr>\n",
       "            <td>SOC  </td> <td>2698        </td>\n",
       "        </tr>\n",
       "        <tr>\n",
       "            <td>EEMB </td> <td>2524        </td>\n",
       "        </tr>\n",
       "    </tbody>\n",
       "</table>\n",
       "<p>... (72 rows omitted)</p>"
      ],
      "text/plain": [
       "<IPython.core.display.HTML object>"
      ]
     },
     "metadata": {},
     "output_type": "display_data"
    }
   ],
   "source": [
    "enrollment = coursesToCount.select(\"dept\",\"ENROLLED\").group(\"dept\",sum).sort(\"ENROLLED sum\",descending=True)\n",
    "enrollment.show(10)"
   ]
  },
  {
   "cell_type": "code",
   "execution_count": 204,
   "id": "2f2669a4-caaa-4e05-bf71-25140669f8e2",
   "metadata": {},
   "outputs": [
    {
     "data": {
      "image/png": "[encoded data removed]",
      "text/plain": [
       "<Figure size 600x4100 with 1 Axes>"
      ]
     },
     "metadata": {},
     "output_type": "display_data"
    }
   ],
   "source": [
    "enrollment.barh(\"dept\",\"ENROLLED sum\")"
   ]
  }
 ],
 "metadata": {
  "kernelspec": {
   "display_name": "Python 3 (ipykernel)",
   "language": "python",
   "name": "python3"
  },
  "language_info": {
   "codemirror_mode": {
    "name": "ipython",
    "version": 3
   },
   "file_extension": ".py",
   "mimetype": "text/x-python",
   "name": "python",
   "nbconvert_exporter": "python",
   "pygments_lexer": "ipython3",
   "version": "3.13.7"
  }
 },
 "nbformat": 4,
 "nbformat_minor": 5
}
