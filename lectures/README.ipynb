{
 "cells": [
  {
   "cell_type": "markdown",
   "id": "3c029452-2e4b-4d25-96af-e8bfc941147d",
   "metadata": {},
   "source": [
    "# Lectures\n",
    "\n",
    "In this directory, you'll find the Jupyter Notebooks we reference during lecture in this course.\n",
    "\n",
    "Google colab versions of these notebooks may also be available.  Please consult the course Canvas site for more details.\n",
    "\n",
    "You'll also find a `data` folder (directory).  In that folder there are data files used throughout the lectures in the course."
   ]
  },
  {
   "cell_type": "markdown",
   "id": "e48b2e5a-7d31-4c7f-955f-527e1602cf87",
   "metadata": {},
   "source": [
    "## Code snippets for reference\n",
    "\n",
    "#Here are a few code snippets for reference.  These may be used at various times during the course"
   ]
  },
  {
   "cell_type": "markdown",
   "id": "1d6edfd1-c5b3-473f-9daa-111421ddca0f",
   "metadata": {},
   "source": [
    "### The stuff at the top of each lecture notebook"
   ]
  },
  {
   "cell_type": "code",
   "execution_count": 10,
   "id": "ae5f3759-569a-476c-8049-2fd190d610bb",
   "metadata": {},
   "outputs": [
    {
     "name": "stdout",
     "output_type": "stream",
     "text": [
      "The jupyter_ai_magics extension is already loaded. To reload it, use:\n",
      "  %reload_ext jupyter_ai_magics\n"
     ]
    }
   ],
   "source": [
    "# The stuff at the top of each lecture notebook\n",
    "\n",
    "# Click into this cell and press shift-enter before using this notebook.\n",
    "# This line loads the ability to use %%ai in your file\n",
    "%load_ext jupyter_ai_magics\n",
    "# These lines import the Python modules we commonly use in CMPSC 5A\n",
    "from datascience import *\n",
    "import numpy as np\n",
    "%matplotlib inline\n",
    "import matplotlib.pyplot as plots"
   ]
  },
  {
   "cell_type": "markdown",
   "id": "f57fdb91-6d37-4e21-920e-c17f23f10491",
   "metadata": {},
   "source": [
    "### Reading a table from CSV data in a string"
   ]
  },
  {
   "cell_type": "code",
   "execution_count": 13,
   "id": "6cf4e9da-7395-4bb2-a90c-db3c2b5c3e9b",
   "metadata": {},
   "outputs": [
    {
     "data": {
      "text/html": [
       "<table border=\"1\" class=\"dataframe\">\n",
       "    <thead>\n",
       "        <tr>\n",
       "            <th>Campus</th> <th>Location</th> <th>Undergrad Enrollment</th> <th>Grad Enrollment</th> <th>Total Enrollment</th> <th>Year Founded</th> <th>Latitude</th> <th>Longitude</th>\n",
       "        </tr>\n",
       "    </thead>\n",
       "    <tbody>\n",
       "        <tr>\n",
       "            <td>UCLA            </td> <td>Los Angeles  </td> <td>31600               </td> <td>13100          </td> <td>44700           </td> <td>1919        </td> <td>34.0689 </td> <td>-118.444 </td>\n",
       "        </tr>\n",
       "        <tr>\n",
       "            <td>UC Berkeley     </td> <td>Berkeley     </td> <td>30800               </td> <td>11700          </td> <td>42500           </td> <td>1868        </td> <td>37.8719 </td> <td>-122.258 </td>\n",
       "        </tr>\n",
       "        <tr>\n",
       "            <td>UC San Diego    </td> <td>San Diego    </td> <td>30200               </td> <td>9700           </td> <td>39900           </td> <td>1960        </td> <td>32.8801 </td> <td>-117.234 </td>\n",
       "        </tr>\n",
       "        <tr>\n",
       "            <td>UC Davis        </td> <td>Davis        </td> <td>30300               </td> <td>7500           </td> <td>37800           </td> <td>1905        </td> <td>38.5382 </td> <td>-121.762 </td>\n",
       "        </tr>\n",
       "        <tr>\n",
       "            <td>UC Santa Barbara</td> <td>Santa Barbara</td> <td>22000               </td> <td>3600           </td> <td>25600           </td> <td>1944        </td> <td>34.4133 </td> <td>-119.849 </td>\n",
       "        </tr>\n",
       "        <tr>\n",
       "            <td>UC Irvine       </td> <td>Irvine       </td> <td>29600               </td> <td>5800           </td> <td>35400           </td> <td>1965        </td> <td>33.6405 </td> <td>-117.844 </td>\n",
       "        </tr>\n",
       "        <tr>\n",
       "            <td>UC Santa Cruz   </td> <td>Santa Cruz   </td> <td>17300               </td> <td>1800           </td> <td>19100           </td> <td>1965        </td> <td>36.9914 </td> <td>-122.059 </td>\n",
       "        </tr>\n",
       "        <tr>\n",
       "            <td>UC Riverside    </td> <td>Riverside    </td> <td>23900               </td> <td>5400           </td> <td>29300           </td> <td>1954        </td> <td>33.9737 </td> <td>-117.328 </td>\n",
       "        </tr>\n",
       "        <tr>\n",
       "            <td>UC Merced       </td> <td>Merced       </td> <td>7700                </td> <td>1100           </td> <td>8800            </td> <td>2005        </td> <td>37.3646 </td> <td>-120.424 </td>\n",
       "        </tr>\n",
       "    </tbody>\n",
       "</table>"
      ],
      "text/plain": [
       "Campus           | Location      | Undergrad Enrollment | Grad Enrollment | Total Enrollment | Year Founded | Latitude | Longitude\n",
       "UCLA             | Los Angeles   | 31600                | 13100           | 44700            | 1919         | 34.0689  | -118.444\n",
       "UC Berkeley      | Berkeley      | 30800                | 11700           | 42500            | 1868         | 37.8719  | -122.258\n",
       "UC San Diego     | San Diego     | 30200                | 9700            | 39900            | 1960         | 32.8801  | -117.234\n",
       "UC Davis         | Davis         | 30300                | 7500            | 37800            | 1905         | 38.5382  | -121.762\n",
       "UC Santa Barbara | Santa Barbara | 22000                | 3600            | 25600            | 1944         | 34.4133  | -119.849\n",
       "UC Irvine        | Irvine        | 29600                | 5800            | 35400            | 1965         | 33.6405  | -117.844\n",
       "UC Santa Cruz    | Santa Cruz    | 17300                | 1800            | 19100            | 1965         | 36.9914  | -122.059\n",
       "UC Riverside     | Riverside     | 23900                | 5400            | 29300            | 1954         | 33.9737  | -117.328\n",
       "UC Merced        | Merced        | 7700                 | 1100            | 8800             | 2005         | 37.3646  | -120.424"
      ]
     },
     "execution_count": 13,
     "metadata": {},
     "output_type": "execute_result"
    }
   ],
   "source": [
    "### Reading a table from CSV data\n",
    "\n",
    "uc_csv_data = \"\"\"\n",
    "Campus,Location,Undergrad Enrollment,Grad Enrollment,Total Enrollment,Year Founded,Latitude,Longitude\n",
    "UCLA,Los Angeles,31600,13100,44700,1919,34.0689,-118.4439\n",
    "UC Berkeley,Berkeley,30800,11700,42500,1868,37.8719,-122.2585\n",
    "UC San Diego,San Diego,30200,9700,39900,1960,32.8801,-117.2340\n",
    "UC Davis,Davis,30300,7500,37800,1905,38.5382,-121.7617\n",
    "UC Santa Barbara,Santa Barbara,22000,3600,25600,1944,34.4133,-119.8489\n",
    "UC Irvine,Irvine,29600,5800,35400,1965,33.6405,-117.8443\n",
    "UC Santa Cruz,Santa Cruz,17300,1800,19100,1965,36.9914,-122.0588\n",
    "UC Riverside,Riverside,23900,5400,29300,1954,33.9737,-117.3281\n",
    "UC Merced,Merced,7700,1100,8800,2005,37.3646,-120.4244\n",
    "\"\"\"\n",
    "\n",
    "from io import StringIO\n",
    "ucTable = Table.read_table(StringIO(uc_csv_data))\n",
    "ucTable"
   ]
  },
  {
   "cell_type": "markdown",
   "id": "3169d4b5-5cb2-4718-b8d7-0a7cd4e0d392",
   "metadata": {},
   "source": [
    "### Loading the UCSB Courses Data, with extra columns, and cleaning"
   ]
  },
  {
   "cell_type": "code",
   "execution_count": 8,
   "id": "75d4b2f4-c8cb-40a0-8178-5e841a915d13",
   "metadata": {},
   "outputs": [],
   "source": [
    "### Loading the courses table, with extra columns\n",
    "\n",
    "courseTable = Table.read_table(\"data/ucsb-s25-courses.csv\")\n",
    "\n",
    "def courseIdToDept(courseId):\n",
    "    return courseId[0:8].strip()\n",
    "\n",
    "def courseIdToCourseNum(courseId):\n",
    "    return courseId[8:13].strip()\n",
    "\n",
    "def courseIdToSuffix(courseId):\n",
    "    return courseId[14:].strip()\n",
    "\n",
    "def is_undergrad(courseid):\n",
    "    \"\"\" returns true if course is undergrad, otherwise returns false \"\"\"\n",
    "    return courseid[8]==' ' or courseid[8]=='1'\n",
    "\n",
    "def is_graduate(courseNum):\n",
    "    \"\"\" True if courseNum isn't a space and it isn't a 1 (so it must be a graduate course) \"\"\"\n",
    "    return courseNum[8] != ' ' and courseNum[8] != '1'\n",
    "\n",
    "def is_lecture(sectionNum):\n",
    "    # if section number is divisible by 100, it's a lecture\n",
    "    return sectionNum % 100 == 0\n",
    "\n",
    "def tenOrMoreStudents(enrollment):\n",
    "    return enrollment > 10"
   ]
  },
  {
   "cell_type": "code",
   "execution_count": 9,
   "id": "1cab0f37-4c60-42db-81be-5d633615a136",
   "metadata": {},
   "outputs": [
    {
     "data": {
      "text/html": [
       "<table border=\"1\" class=\"dataframe\">\n",
       "    <thead>\n",
       "        <tr>\n",
       "            <th>COURSEID</th> <th>ENROLLED</th> <th>GES</th> <th>INSTRUCTOR</th> <th>MAXENROLL</th> <th>QUARTER</th> <th>SECTION</th> <th>STATUS</th> <th>dept</th> <th>courseNum</th> <th>suffix</th>\n",
       "        </tr>\n",
       "    </thead>\n",
       "    <tbody>\n",
       "        <tr>\n",
       "            <td>CMPSC     5A -1</td> <td>128     </td> <td>C (L&S), QNT (L&S)</td> <td>CONRAD P T   </td> <td>150      </td> <td>20252  </td> <td>100    </td> <td>nan   </td> <td>CMPSC</td> <td>5A       </td> <td>1     </td>\n",
       "        </tr>\n",
       "        <tr>\n",
       "            <td>CMPSC     9  -1</td> <td>166     </td> <td>nan               </td> <td>KHARITONOVA Y</td> <td>300      </td> <td>20252  </td> <td>100    </td> <td>nan   </td> <td>CMPSC</td> <td>9        </td> <td>1     </td>\n",
       "        </tr>\n",
       "        <tr>\n",
       "            <td>CMPSC    16  -1</td> <td>113     </td> <td>nan               </td> <td>MAJEDI M     </td> <td>150      </td> <td>20252  </td> <td>100    </td> <td>Closed</td> <td>CMPSC</td> <td>16       </td> <td>1     </td>\n",
       "        </tr>\n",
       "        <tr>\n",
       "            <td>CMPSC    24  -1</td> <td>146     </td> <td>nan               </td> <td>MIRZA D      </td> <td>149      </td> <td>20252  </td> <td>100    </td> <td>nan   </td> <td>CMPSC</td> <td>24       </td> <td>1     </td>\n",
       "        </tr>\n",
       "        <tr>\n",
       "            <td>CMPSC    32  -1</td> <td>133     </td> <td>nan               </td> <td>NASIR N      </td> <td>150      </td> <td>20252  </td> <td>100    </td> <td>nan   </td> <td>CMPSC</td> <td>32       </td> <td>1     </td>\n",
       "        </tr>\n",
       "        <tr>\n",
       "            <td>CMPSC    40  -1</td> <td>110     </td> <td>nan               </td> <td>MAJEDI M     </td> <td>150      </td> <td>20252  </td> <td>100    </td> <td>Closed</td> <td>CMPSC</td> <td>40       </td> <td>1     </td>\n",
       "        </tr>\n",
       "        <tr>\n",
       "            <td>CMPSC    64  -1</td> <td>80      </td> <td>nan               </td> <td>MATNI Z A    </td> <td>150      </td> <td>20252  </td> <td>100    </td> <td>Closed</td> <td>CMPSC</td> <td>64       </td> <td>1     </td>\n",
       "        </tr>\n",
       "        <tr>\n",
       "            <td>CMPSC   111  -1</td> <td>39      </td> <td>nan               </td> <td>MATNI Z A    </td> <td>147      </td> <td>20252  </td> <td>100    </td> <td>Closed</td> <td>CMPSC</td> <td>111      </td> <td>1     </td>\n",
       "        </tr>\n",
       "        <tr>\n",
       "            <td>CMPSC   130A -1</td> <td>91      </td> <td>nan               </td> <td>NASIR N      </td> <td>150      </td> <td>20252  </td> <td>100    </td> <td>nan   </td> <td>CMPSC</td> <td>130A     </td> <td>1     </td>\n",
       "        </tr>\n",
       "        <tr>\n",
       "            <td>CMPSC   130B -1</td> <td>90      </td> <td>nan               </td> <td>SINGH A K    </td> <td>150      </td> <td>20252  </td> <td>100    </td> <td>nan   </td> <td>CMPSC</td> <td>130B     </td> <td>1     </td>\n",
       "        </tr>\n",
       "    </tbody>\n",
       "</table>\n",
       "<p>... (1297 rows omitted)</p>"
      ],
      "text/plain": [
       "COURSEID        | ENROLLED | GES                | INSTRUCTOR    | MAXENROLL | QUARTER | SECTION | STATUS | dept  | courseNum | suffix\n",
       "CMPSC     5A -1 | 128      | C (L&S), QNT (L&S) | CONRAD P T    | 150       | 20252   | 100     | nan    | CMPSC | 5A        | 1\n",
       "CMPSC     9  -1 | 166      | nan                | KHARITONOVA Y | 300       | 20252   | 100     | nan    | CMPSC | 9         | 1\n",
       "CMPSC    16  -1 | 113      | nan                | MAJEDI M      | 150       | 20252   | 100     | Closed | CMPSC | 16        | 1\n",
       "CMPSC    24  -1 | 146      | nan                | MIRZA D       | 149       | 20252   | 100     | nan    | CMPSC | 24        | 1\n",
       "CMPSC    32  -1 | 133      | nan                | NASIR N       | 150       | 20252   | 100     | nan    | CMPSC | 32        | 1\n",
       "CMPSC    40  -1 | 110      | nan                | MAJEDI M      | 150       | 20252   | 100     | Closed | CMPSC | 40        | 1\n",
       "CMPSC    64  -1 | 80       | nan                | MATNI Z A     | 150       | 20252   | 100     | Closed | CMPSC | 64        | 1\n",
       "CMPSC   111  -1 | 39       | nan                | MATNI Z A     | 147       | 20252   | 100     | Closed | CMPSC | 111       | 1\n",
       "CMPSC   130A -1 | 91       | nan                | NASIR N       | 150       | 20252   | 100     | nan    | CMPSC | 130A      | 1\n",
       "CMPSC   130B -1 | 90       | nan                | SINGH A K     | 150       | 20252   | 100     | nan    | CMPSC | 130B      | 1\n",
       "... (1297 rows omitted)"
      ]
     },
     "execution_count": 9,
     "metadata": {},
     "output_type": "execute_result"
    }
   ],
   "source": [
    "departments = courseTable.apply(courseIdToDept, 0)\n",
    "courseNums = courseTable.apply(courseIdToCourseNum, 0)\n",
    "suffixes = courseTable.apply(courseIdToSuffix, 0)\n",
    "courses = courseTable.with_columns(\"dept\",departments,\"courseNum\",courseNums,\"suffix\",suffixes)\n",
    "coursesToCount = courses \\\n",
    "    .where(\"COURSEID\", is_undergrad) \\\n",
    "    .where(\"SECTION\", is_lecture) \\\n",
    "    .where(\"ENROLLED\", tenOrMoreStudents)\n",
    "coursesToCount"
   ]
  },
  {
   "cell_type": "code",
   "execution_count": null,
   "id": "cecc377f-983d-490a-8dd8-121e2a84c0f5",
   "metadata": {},
   "outputs": [],
   "source": []
  }
 ],
 "metadata": {
  "kernelspec": {
   "display_name": "Python 3 (ipykernel)",
   "language": "python",
   "name": "python3"
  },
  "language_info": {
   "codemirror_mode": {
    "name": "ipython",
    "version": 3
   },
   "file_extension": ".py",
   "mimetype": "text/x-python",
   "name": "python",
   "nbconvert_exporter": "python",
   "pygments_lexer": "ipython3",
   "version": "3.13.7"
  }
 },
 "nbformat": 4,
 "nbformat_minor": 5
}
