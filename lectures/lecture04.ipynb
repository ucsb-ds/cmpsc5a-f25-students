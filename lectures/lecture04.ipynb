{
 "cells": [
  {
   "cell_type": "code",
   "execution_count": 1,
   "id": "1df8fd2a-fd9b-46dc-a24c-41420c4d3195",
   "metadata": {},
   "outputs": [],
   "source": [
    "# Click into this cell and press shift-enter before using this notebook.\n",
    "# This line loads the ability to use %%ai in your file\n",
    "%load_ext jupyter_ai_magics\n",
    "# These lines import the Python modules we commonly use in CMPSC 5A\n",
    "from datascience import *\n",
    "import numpy as np\n",
    "%matplotlib inline\n",
    "import matplotlib.pyplot as plots"
   ]
  },
  {
   "cell_type": "markdown",
   "id": "bdadf1bf-95fa-45e4-91ea-f895bdcfb1e0",
   "metadata": {},
   "source": [
    "# Lecture 4, CMPSC 5A, F25 (Tue 10/07)"
   ]
  },
  {
   "cell_type": "markdown",
   "id": "df3b9734-528a-4ec8-aadf-f34ed55f5f89",
   "metadata": {},
   "source": [
    "# Notes to self \n",
    "* Check font size\n",
    "* Check that you are sharing the screen on the zoom session\n",
    "* Ask staff to help monitor the zoom chat\n",
    "* Remind students to run the top cell"
   ]
  },
  {
   "cell_type": "markdown",
   "id": "ca77a500-9f07-4e95-9f5d-03394ed51424",
   "metadata": {},
   "source": [
    "## Where are we in the reading?\n",
    "\n",
    "For today, I asked you to read:\n",
    "* [Chapter 1: What is Data Science](https://inferentialthinking.com/chapters/01/what-is-data-science.html)\n",
    "* [Chapter 3: Programming in Python](https://inferentialthinking.com/chapters/03/programming-in-python.html)\n",
    "\n",
    "For today, you were asked to read:\n",
    "* [Chapter 2 (Causality and Experiments)](https://inferentialthinking.com/chapters/02/causality-and-experiments.html)\n",
    "* [Section 4.1 (Numbers)](https://inferentialthinking.com/chapters/04/1/Numbers.html)\n",
    "* [Section 4.2 (Strings)](https://inferentialthinking.com/chapters/04/2/Strings.html)\n",
    "\n",
    "For this coming Thursday, please also read:\n",
    "* [Section 4.3 (Comparisons)](https://inferentialthinking.com/chapters/04/3/Comparison.html)\n",
    "\n",
    "So we'll have completed Chapters 1-4 by the end of the week.\n",
    "\n",
    "For next week:\n",
    "* [Chapter 5 (Sequences)](https://inferentialthinking.com/chapters/05/Sequences.html)"
   ]
  },
  {
   "cell_type": "markdown",
   "id": "bf9ea254-abf8-4a88-b428-ed4dd7ea6956",
   "metadata": {},
   "source": [
    "## Preparing for quiz1\n",
    "\n",
    "By now almost all of you are registered for CMPSC 5A in PrarieTest at:\n",
    "* <https://us.prairietest.com>\n",
    "\n",
    "Please verify that you are by clicking that link now.\n",
    "\n",
    "Most, but not all of you, have made an appointment at the testing center to take Quiz 1.  You do that at the same link:\n",
    "* <https://us.prairietest.com>\n",
    "\n",
    "You should see appointments for:\n",
    "* Friday October 10: 9, 10:30, noon, 1:30, 3\n",
    "* Monday October 13: 9 (full), 10:30, noon, 1:30, 3\n",
    "\n",
    "Please make an appointment *right now* if you haven't yet."
   ]
  },
  {
   "cell_type": "markdown",
   "id": "51a61f3d-ea2a-40da-b3e2-f313e5dc8b8b",
   "metadata": {},
   "source": [
    "## Practicing for Quiz 1\n",
    "\n",
    "As previously announced, you can practice for Quiz 1 as many times as you like here.\n",
    "\n",
    "* <https://us.prairielearn.com/pl/course_instance/194488/assessment/2596222>\n",
    "* NOTE: the version above is *slightly different* in format from the one we sent out earlier, so please do check it out.\n",
    "\n",
    "We are going to actually take another version of this quiz right now, in class, in PrarieLearn, though only for an ic/hwk grade.  \n",
    "* Today's [ic04](https://us.prairielearn.com/pl/course_instance/194488/assessment/2595272) is worth about 1% of your course grade or less\n",
    "* The quiz on Friday/Monday is worth about 2.5% of your course grade, and the one\n",
    "  scheduled for Friday Oct 24, and Monday Oct 27 will be about the same.\n",
    "* The midterm and final will each be worth about 15% of your course grade (each).\n",
    "\n",
    "The content on this quiz is intentionally *super easy*.  You do need to understand the `**` operator and the `%` operator in Python, but apart from that, it's just basic arithmetic.    The point is to get used to the PrairieLearn environment, and the UCSB Testing Center while it's still *low stakes*.\n",
    "\n",
    "Please use the opportunity to get used to the system while the content is still relatively easy.  It *will* get harder. "
   ]
  },
  {
   "cell_type": "code",
   "execution_count": null,
   "id": "7ae5a65d-5a48-478a-ba3b-fcf796175ee0",
   "metadata": {},
   "outputs": [],
   "source": []
  },
  {
   "cell_type": "markdown",
   "id": "2404a270-1bde-4df2-87a3-3be2897d99ef",
   "metadata": {},
   "source": [
    "## Section 3.4: Introduction To Tables  (Review from last time)\n",
    "\n",
    "\n",
    "In your text, [Section 3.4: Introduction to Tables](https://inferentialthinking.com/chapters/03/4/Introduction_to_Tables.html) covers *Tables* which are fundamental to *this* course in Data Science.\n",
    "\n",
    "### `Table()` is specific to `datascience`\n",
    "\n",
    "Note that in this course we use the Python `datascience` library that was developed at UC Berkeley for the course *Data 8*, and goes along with the textbook we are using in this course.\n",
    "\n",
    "In that library, the `Table()` data type is the main *abstraction* that is used for a table of data: it's something like a spreadsheet with rows and columns.\n",
    "\n",
    "Other datascience libraries exist, and they use different libraries.  I'm not going to derail things too much by talking about those, but I'll briefly mention the other libraries and what they use instead of `Table()`\n",
    "\n",
    "| Library        | Table Abstraction |\n",
    "|----------------|-------------------|\n",
    "| `datascience`  | `Table`           |\n",
    "| `pandas`       | `DataFrame`       |\n",
    "| `numpy`        | `ndarray`         |\n",
    "| `polars`       | `DataFrame`       |\n",
    "| `dask`         | `DataFrame`       |\n",
    "| `pyspark`      | `DataFrame`       |\n",
    "\n",
    "So, when we talk about a `Table()`, while that's a specific concept in the `datascience` library.  But it's also a pretty generic *idea*."
   ]
  },
  {
   "cell_type": "markdown",
   "id": "690f03d7-6fdb-46ea-9bd3-e73a4e84ebb7",
   "metadata": {},
   "source": [
    "Let's look at how to create an empty Table. An empty table is useful because it can be extended to contain new rows and columns."
   ]
  },
  {
   "cell_type": "code",
   "execution_count": null,
   "id": "92c2295e-1402-47fc-b26a-4d8dd0cd3693",
   "metadata": {},
   "outputs": [],
   "source": [
    "# create an empty Table\n",
    "Table()"
   ]
  },
  {
   "cell_type": "markdown",
   "id": "4e9255d9-43eb-4dc2-b79a-f5aef0593abb",
   "metadata": {},
   "source": [
    "If you get a name error on Table(), remember that you have to shift-enter the\n",
    "top cell in your notebook at the start of the session so that you run\n",
    "the `from datascience import *` command.\n",
    "\n",
    "Without that, `Table()` is undefined.\n",
    "\n"
   ]
  },
  {
   "cell_type": "markdown",
   "id": "220ade4d-57b5-45c6-bcf3-b20c076c1e58",
   "metadata": {},
   "source": [
    "##### with_columns\n",
    "The `with_columns` method on a table constructs a new table with additional labeled columns. "
   ]
  },
  {
   "cell_type": "code",
   "execution_count": null,
   "id": "59039786-8359-47b5-a295-85afaf810fe6",
   "metadata": {},
   "outputs": [],
   "source": [
    "# add one column\n",
    "Table().with_columns('Number of petals', make_array(8, 34, 5))"
   ]
  },
  {
   "cell_type": "code",
   "execution_count": null,
   "id": "4b7cb10d-d5ab-4f39-bab4-d3567265a074",
   "metadata": {},
   "outputs": [],
   "source": [
    "# add two or more columns\n",
    "Table().with_columns(\n",
    "    'Number of petals', make_array(8, 34, 5),\n",
    "    'Name', make_array('lotus', 'sunflower', 'rose')\n",
    ")"
   ]
  },
  {
   "cell_type": "markdown",
   "id": "541459a8-2fa2-4d49-8336-5116be6c5be6",
   "metadata": {},
   "source": [
    "We can give it a name and further extend it!"
   ]
  },
  {
   "cell_type": "code",
   "execution_count": null,
   "id": "fa25cc66-e727-4d58-84ae-186f7059aa96",
   "metadata": {},
   "outputs": [],
   "source": [
    "flowers = Table().with_columns(\n",
    "    'Number of petals', make_array(8, 34, 5),\n",
    "    'Name', make_array('lotus', 'sunflower', 'rose')\n",
    ")\n",
    "\n",
    "flowers.with_columns(\n",
    "    'Color', make_array('pink', 'yellow', 'red')\n",
    ")"
   ]
  },
  {
   "cell_type": "markdown",
   "id": "4e578eea-19b5-4bbd-bffe-ae74d2ce2ae3",
   "metadata": {},
   "source": [
    "Note that the code above created a new table with three columns and displayed it, but the original `flowers` variable remains *unchanged*"
   ]
  },
  {
   "cell_type": "code",
   "execution_count": null,
   "id": "cae1501f-9d4a-4ae4-894c-6f9edd934b51",
   "metadata": {},
   "outputs": [],
   "source": [
    "flowers"
   ]
  },
  {
   "cell_type": "markdown",
   "id": "9d226768-694b-46e8-9bb5-a1b87e3591b1",
   "metadata": {},
   "source": [
    "We can find the number of rows in `flowers` with the `.num_rows` property \n",
    "\n"
   ]
  },
  {
   "cell_type": "code",
   "execution_count": null,
   "id": "232ca487-46a2-4dbb-9dcf-da7cffb13355",
   "metadata": {},
   "outputs": [],
   "source": [
    "flowers.num_rows"
   ]
  },
  {
   "cell_type": "markdown",
   "id": "92a7d2ca-3c28-4806-8e9e-4ed785bd9e8a",
   "metadata": {},
   "source": [
    "Note that `num_rows` is technically a *property* and not a *method*, because we don't put `()` after the name `num_rows`.  See what happens if we try: "
   ]
  },
  {
   "cell_type": "code",
   "execution_count": null,
   "id": "21eb6641-6b01-4894-930e-ba64a91de003",
   "metadata": {},
   "outputs": [],
   "source": [
    "flowers.num_rows()"
   ]
  },
  {
   "cell_type": "markdown",
   "id": "ea051f6e-0b56-46e2-b215-5f3cfadb76b5",
   "metadata": {},
   "source": [
    "Also note that `len(flowers)` gives us the number of column, not the number of rows."
   ]
  },
  {
   "cell_type": "code",
   "execution_count": null,
   "id": "7a83013d-2720-46e6-9d89-a9cdbd03701e",
   "metadata": {},
   "outputs": [],
   "source": [
    "len(flowers)"
   ]
  },
  {
   "cell_type": "code",
   "execution_count": null,
   "id": "b2ac08f8-84bf-4c9c-9313-06e9243a5b57",
   "metadata": {},
   "outputs": [],
   "source": [
    "flowers.num_columns"
   ]
  },
  {
   "cell_type": "markdown",
   "id": "30bbc9d8-4ad7-4ddd-8e41-0eccd5b6626b",
   "metadata": {},
   "source": [
    "#### read_table\n",
    "\n",
    "If you have a CSV file of existing data, you can read that data into a `Table` object from the `datascience` library.\n",
    "\n",
    "We will use the `Table` method `read_table` to read a CSV (comma-separated values) file below. "
   ]
  },
  {
   "cell_type": "code",
   "execution_count": null,
   "id": "d46ae08b-fab3-4edb-b2a8-6b9ae0cd506e",
   "metadata": {},
   "outputs": [],
   "source": [
    "movies = Table.read_table(\"data/movies_by_year_with_ticket_price.csv\")\n",
    "movies"
   ]
  },
  {
   "cell_type": "markdown",
   "id": "d85469ab-94b6-453f-a40e-a11963cec5c1",
   "metadata": {},
   "source": [
    "Here's another CSV file from the UCSB Gaucho Sports Analytics club (remember they made a presentation last week?)\n",
    "\n",
    "Note that one of the first questions we'll have about this data is: what do all of the fields mean?   It's pretty clear that each row represents one pitch in one game, and some of the other fields are clear too, but many are a little mysterious.  For some, we don't know that units (for example is the ZoneSpeed in miles per hour or some other unit? Are angles in degrees or radians?)\n",
    "\n",
    "I'll try to find some of this out."
   ]
  },
  {
   "cell_type": "code",
   "execution_count": 2,
   "id": "a9d7fbfa-1978-4e35-8899-94b0e3f6d1b6",
   "metadata": {},
   "outputs": [
    {
     "data": {
      "text/html": [
       "<table border=\"1\" class=\"dataframe\">\n",
       "    <thead>\n",
       "        <tr>\n",
       "            <th>PitchNo</th> <th>Date</th> <th>Time</th> <th>PAofInning</th> <th>PitchofPA</th> <th>Pitcher</th> <th>PitcherId</th> <th>PitcherThrows</th> <th>PitcherTeam</th> <th>Batter</th> <th>BatterId</th> <th>BatterSide</th> <th>BatterTeam</th> <th>PitcherSet</th> <th>Inning</th> <th>Top/Bottom</th> <th>Outs</th> <th>Balls</th> <th>Strikes</th> <th>TaggedPitchType</th> <th>AutoPitchType</th> <th>PitchCall</th> <th>KorBB</th> <th>TaggedHitType</th> <th>PlayResult</th> <th>OutsOnPlay</th> <th>RunsScored</th> <th>Notes</th> <th>RelSpeed</th> <th>VertRelAngle</th> <th>HorzRelAngle</th> <th>SpinRate</th> <th>SpinAxis</th> <th>Tilt</th> <th>RelHeight</th> <th>RelSide</th> <th>Extension</th> <th>VertBreak</th> <th>InducedVertBreak</th> <th>HorzBreak</th> <th>PlateLocHeight</th> <th>PlateLocSide</th> <th>ZoneSpeed</th> <th>VertApprAngle</th> <th>HorzApprAngle</th> <th>ZoneTime</th> <th>ExitSpeed</th> <th>Angle</th> <th>Direction</th> <th>HitSpinRate</th> <th>PositionAt110X</th> <th>PositionAt110Y</th> <th>PositionAt110Z</th> <th>Distance</th> <th>LastTrackedDistance</th> <th>Bearing</th> <th>HangTime</th> <th>pfxx</th> <th>pfxz</th> <th>x0</th> <th>y0</th> <th>z0</th> <th>vx0</th> <th>vy0</th> <th>vz0</th> <th>ax0</th> <th>ay0</th> <th>az0</th> <th>HomeTeam</th> <th>AwayTeam</th> <th>Stadium</th> <th>Level</th> <th>League</th> <th>GameID</th> <th>PitchUID</th> <th>EffectiveVelo</th> <th>MaxHeight</th> <th>MeasuredDuration</th> <th>SpeedDrop</th> <th>PitchLastMeasuredX</th> <th>PitchLastMeasuredY</th> <th>PitchLastMeasuredZ</th> <th>ContactPositionX</th> <th>ContactPositionY</th> <th>ContactPositionZ</th> <th>GameUID</th> <th>UTCDate</th> <th>UTCTime</th> <th>LocalDateTime</th> <th>UTCDateTime</th> <th>AutoHitType</th> <th>System</th> <th>HomeTeamForeignID</th> <th>AwayTeamForeignID</th> <th>GameForeignID</th> <th>Catcher</th> <th>CatcherId</th> <th>CatcherThrows</th> <th>CatcherTeam</th> <th>PlayID</th> <th>PitchTrajectoryXc0</th> <th>PitchTrajectoryXc1</th> <th>PitchTrajectoryXc2</th> <th>PitchTrajectoryYc0</th> <th>PitchTrajectoryYc1</th> <th>PitchTrajectoryYc2</th> <th>PitchTrajectoryZc0</th> <th>PitchTrajectoryZc1</th> <th>PitchTrajectoryZc2</th> <th>HitSpinAxis</th> <th>HitTrajectoryXc0</th> <th>HitTrajectoryXc1</th> <th>HitTrajectoryXc2</th> <th>HitTrajectoryXc3</th> <th>HitTrajectoryXc4</th> <th>HitTrajectoryXc5</th> <th>HitTrajectoryXc6</th> <th>HitTrajectoryXc7</th> <th>HitTrajectoryXc8</th> <th>HitTrajectoryYc0</th> <th>HitTrajectoryYc1</th> <th>HitTrajectoryYc2</th> <th>HitTrajectoryYc3</th> <th>HitTrajectoryYc4</th> <th>HitTrajectoryYc5</th> <th>HitTrajectoryYc6</th> <th>HitTrajectoryYc7</th> <th>HitTrajectoryYc8</th> <th>HitTrajectoryZc0</th> <th>HitTrajectoryZc1</th> <th>HitTrajectoryZc2</th> <th>HitTrajectoryZc3</th> <th>HitTrajectoryZc4</th> <th>HitTrajectoryZc5</th> <th>HitTrajectoryZc6</th> <th>HitTrajectoryZc7</th> <th>HitTrajectoryZc8</th> <th>ThrowSpeed</th> <th>PopTime</th> <th>ExchangeTime</th> <th>TimeToBase</th> <th>CatchPositionX</th> <th>CatchPositionY</th> <th>CatchPositionZ</th> <th>ThrowPositionX</th> <th>ThrowPositionY</th> <th>ThrowPositionZ</th> <th>BasePositionX</th> <th>BasePositionY</th> <th>BasePositionZ</th> <th>ThrowTrajectoryXc0</th> <th>ThrowTrajectoryXc1</th> <th>ThrowTrajectoryXc2</th> <th>ThrowTrajectoryYc0</th> <th>ThrowTrajectoryYc1</th> <th>ThrowTrajectoryYc2</th> <th>ThrowTrajectoryZc0</th> <th>ThrowTrajectoryZc1</th> <th>ThrowTrajectoryZc2</th> <th>PitchReleaseConfidence</th> <th>PitchLocationConfidence</th> <th>PitchMovementConfidence</th> <th>HitLaunchConfidence</th> <th>HitLandingConfidence</th> <th>CatcherThrowCatchConfidence</th> <th>CatcherThrowReleaseConfidence</th> <th>CatcherThrowLocationConfidence</th>\n",
       "        </tr>\n",
       "    </thead>\n",
       "    <tbody>\n",
       "        <tr>\n",
       "            <td>1      </td> <td>1/24/25</td> <td>00:49.0</td> <td>1         </td> <td>1        </td> <td>Hoover, Chase</td> <td>800623   </td> <td>Left         </td> <td>SAN_GAU    </td> <td>Sebring, Jonah</td> <td>1       </td> <td>Right     </td> <td>GAU_ALU   </td> <td>Undefined </td> <td>1     </td> <td>Top       </td> <td>0   </td> <td>0    </td> <td>0      </td> <td>Fastball       </td> <td>Four-Seam    </td> <td>BallCalled    </td> <td>Undefined</td> <td>Undefined    </td> <td>Undefined </td> <td>0         </td> <td>0         </td> <td>nan  </td> <td>91.0084 </td> <td>-1.09813    </td> <td>-0.222841   </td> <td>2135.84 </td> <td>174.636 </td> <td>11:45</td> <td>6.06336  </td> <td>-0.55963</td> <td>6.53684  </td> <td>-11.3192 </td> <td>22.2808         </td> <td>-1.97106 </td> <td>4.11275       </td> <td>-0.92828    </td> <td>81.3317  </td> <td>-3.38021     </td> <td>-0.58091     </td> <td>0.417197</td> <td>nan      </td> <td>nan  </td> <td>nan      </td> <td>nan        </td> <td>nan           </td> <td>nan           </td> <td>nan           </td> <td>nan     </td> <td>nan                </td> <td>nan    </td> <td>nan     </td> <td>0.93815 </td> <td>12.3245</td> <td>0.57572</td> <td>50  </td> <td>5.9815 </td> <td>0.59712 </td> <td>-132.007</td> <td>-2.70767</td> <td>1.61797 </td> <td>34.0238</td> <td>-10.9187</td> <td>SAN_GAU </td> <td>SAN_GAU </td> <td>CaesarUyesaka</td> <td>TeamExclusive</td> <td>Team  </td> <td>20250124-CaesarUyesaka-Private-2</td> <td>eb74ff60-daaf-11ef-b64c-2ba247267c32</td> <td>90.3469      </td> <td>nan      </td> <td>nan             </td> <td>9.67669  </td> <td>nan               </td> <td>nan               </td> <td>nan               </td> <td>nan             </td> <td>nan             </td> <td>nan             </td> <td>e2d5b440-508a-48cd-9e58-715d78e5423d</td> <td>1/25/25</td> <td>00:49.0</td> <td>2025-01-24T16:00:49.0163182-08:00</td> <td>2025-01-25T00:00:49.0163182Z</td> <td>nan        </td> <td>v3    </td> <td>471258           </td> <td>471258           </td> <td>nan          </td> <td>Fernandez, Ian</td> <td>1.0002e+07</td> <td>Right        </td> <td>SAN_GAU    </td> <td>398d403b-67e0-48a0-bb44-e2c7e5001ccc</td> <td>53.9538           </td> <td>-133.022          </td> <td>17.0119           </td> <td>6.05743           </td> <td>-2.38188          </td> <td>-5.45937          </td> <td>0.55862           </td> <td>0.54884           </td> <td>0.80899           </td> <td>nan        </td> <td>nan             </td> <td>nan             </td> <td>nan             </td> <td>nan             </td> <td>nan             </td> <td>nan             </td> <td>nan             </td> <td>nan             </td> <td>nan             </td> <td>nan             </td> <td>nan             </td> <td>nan             </td> <td>nan             </td> <td>nan             </td> <td>nan             </td> <td>nan             </td> <td>nan             </td> <td>nan             </td> <td>nan             </td> <td>nan             </td> <td>nan             </td> <td>nan             </td> <td>nan             </td> <td>nan             </td> <td>nan             </td> <td>nan             </td> <td>nan             </td> <td>nan       </td> <td>nan    </td> <td>nan         </td> <td>nan       </td> <td>nan           </td> <td>nan           </td> <td>nan           </td> <td>nan           </td> <td>nan           </td> <td>nan           </td> <td>nan          </td> <td>nan          </td> <td>nan          </td> <td>nan               </td> <td>nan               </td> <td>nan               </td> <td>nan               </td> <td>nan               </td> <td>nan               </td> <td>nan               </td> <td>nan               </td> <td>nan               </td> <td>High                  </td> <td>High                   </td> <td>High                   </td> <td>nan                </td> <td>nan                 </td> <td>nan                        </td> <td>nan                          </td> <td>nan                           </td>\n",
       "        </tr>\n",
       "        <tr>\n",
       "            <td>2      </td> <td>1/24/25</td> <td>01:03.4</td> <td>1         </td> <td>2        </td> <td>Hoover, Chase</td> <td>800623   </td> <td>Left         </td> <td>SAN_GAU    </td> <td>Sebring, Jonah</td> <td>1       </td> <td>Right     </td> <td>GAU_ALU   </td> <td>Undefined </td> <td>1     </td> <td>Top       </td> <td>0   </td> <td>1    </td> <td>0      </td> <td>Fastball       </td> <td>Four-Seam    </td> <td>StrikeCalled  </td> <td>Undefined</td> <td>Undefined    </td> <td>Undefined </td> <td>0         </td> <td>0         </td> <td>nan  </td> <td>92.3685 </td> <td>-3.50465    </td> <td>1.71863     </td> <td>2181.56 </td> <td>147.65  </td> <td>11:00</td> <td>6.01495  </td> <td>-0.47514</td> <td>6.38037  </td> <td>-13.5201 </td> <td>19.2783         </td> <td>-11.4254 </td> <td>1.65875       </td> <td>0.15424     </td> <td>83.0622  </td> <td>-6.14811     </td> <td>-0.350586    </td> <td>0.41219 </td> <td>nan      </td> <td>nan  </td> <td>nan      </td> <td>nan        </td> <td>nan           </td> <td>nan           </td> <td>nan           </td> <td>nan     </td> <td>nan                </td> <td>nan    </td> <td>nan     </td> <td>6.46831 </td> <td>11.5307</td> <td>0.35602</td> <td>50  </td> <td>5.7556 </td> <td>-3.52596</td> <td>-133.765</td> <td>-8.50702</td> <td>11.5041 </td> <td>33.8016</td> <td>-11.6662</td> <td>SAN_GAU </td> <td>SAN_GAU </td> <td>CaesarUyesaka</td> <td>TeamExclusive</td> <td>Team  </td> <td>20250124-CaesarUyesaka-Private-2</td> <td>f40dc5d0-daaf-11ef-b64c-2ba247267c32</td> <td>91.4442      </td> <td>nan      </td> <td>nan             </td> <td>9.30632  </td> <td>nan               </td> <td>nan               </td> <td>nan               </td> <td>nan             </td> <td>nan             </td> <td>nan             </td> <td>e2d5b440-508a-48cd-9e58-715d78e5423d</td> <td>1/25/25</td> <td>01:03.4</td> <td>2025-01-24T16:01:03.4172910-08:00</td> <td>2025-01-25T00:01:03.4172910Z</td> <td>nan        </td> <td>v3    </td> <td>471258           </td> <td>471258           </td> <td>nan          </td> <td>Fernandez, Ian</td> <td>1.0002e+07</td> <td>Right        </td> <td>SAN_GAU    </td> <td>9d6f4556-5bb0-4fec-bc38-8db0a13c59f8</td> <td>54.1133           </td> <td>-134.8            </td> <td>16.9008           </td> <td>6.01072           </td> <td>-8.14967          </td> <td>-5.8331           </td> <td>0.46942           </td> <td>-3.87835          </td> <td>5.75207           </td> <td>nan        </td> <td>nan             </td> <td>nan             </td> <td>nan             </td> <td>nan             </td> <td>nan             </td> <td>nan             </td> <td>nan             </td> <td>nan             </td> <td>nan             </td> <td>nan             </td> <td>nan             </td> <td>nan             </td> <td>nan             </td> <td>nan             </td> <td>nan             </td> <td>nan             </td> <td>nan             </td> <td>nan             </td> <td>nan             </td> <td>nan             </td> <td>nan             </td> <td>nan             </td> <td>nan             </td> <td>nan             </td> <td>nan             </td> <td>nan             </td> <td>nan             </td> <td>nan       </td> <td>nan    </td> <td>nan         </td> <td>nan       </td> <td>nan           </td> <td>nan           </td> <td>nan           </td> <td>nan           </td> <td>nan           </td> <td>nan           </td> <td>nan          </td> <td>nan          </td> <td>nan          </td> <td>nan               </td> <td>nan               </td> <td>nan               </td> <td>nan               </td> <td>nan               </td> <td>nan               </td> <td>nan               </td> <td>nan               </td> <td>nan               </td> <td>High                  </td> <td>High                   </td> <td>High                   </td> <td>nan                </td> <td>nan                 </td> <td>nan                        </td> <td>nan                          </td> <td>nan                           </td>\n",
       "        </tr>\n",
       "        <tr>\n",
       "            <td>3      </td> <td>1/24/25</td> <td>01:19.9</td> <td>1         </td> <td>3        </td> <td>Hoover, Chase</td> <td>800623   </td> <td>Left         </td> <td>SAN_GAU    </td> <td>Sebring, Jonah</td> <td>1       </td> <td>Right     </td> <td>GAU_ALU   </td> <td>Undefined </td> <td>1     </td> <td>Top       </td> <td>0   </td> <td>1    </td> <td>1      </td> <td>Fastball       </td> <td>Four-Seam    </td> <td>StrikeCalled  </td> <td>Undefined</td> <td>Undefined    </td> <td>Undefined </td> <td>0         </td> <td>0         </td> <td>nan  </td> <td>92.3818 </td> <td>-2.72257    </td> <td>2.01215     </td> <td>2188.68 </td> <td>152.9   </td> <td>11:00</td> <td>6.14297  </td> <td>-0.37914</td> <td>6.24929  </td> <td>-12.6188 </td> <td>20.3023         </td> <td>-9.75394 </td> <td>2.57715       </td> <td>0.66444     </td> <td>82.9749  </td> <td>-5.20597     </td> <td>0.250861     </td> <td>0.412961</td> <td>nan      </td> <td>nan  </td> <td>nan      </td> <td>nan        </td> <td>nan           </td> <td>nan           </td> <td>nan           </td> <td>nan     </td> <td>nan                </td> <td>nan    </td> <td>nan     </td> <td>5.66973 </td> <td>11.737 </td> <td>0.23391</td> <td>50  </td> <td>5.93392</td> <td>-4.27578</td> <td>-133.818</td> <td>-6.64709</td> <td>10.0943 </td> <td>33.7663</td> <td>-11.2777</td> <td>SAN_GAU </td> <td>SAN_GAU </td> <td>CaesarUyesaka</td> <td>TeamExclusive</td> <td>Team  </td> <td>20250124-CaesarUyesaka-Private-2</td> <td>fde72290-daaf-11ef-b64c-2ba247267c32</td> <td>91.2737      </td> <td>nan      </td> <td>nan             </td> <td>9.40686  </td> <td>nan               </td> <td>nan               </td> <td>nan               </td> <td>nan             </td> <td>nan             </td> <td>nan             </td> <td>e2d5b440-508a-48cd-9e58-715d78e5423d</td> <td>1/25/25</td> <td>01:19.9</td> <td>2025-01-24T16:01:19.9131118-08:00</td> <td>2025-01-25T00:01:19.9131118Z</td> <td>nan        </td> <td>v3    </td> <td>471258           </td> <td>471258           </td> <td>nan          </td> <td>Fernandez, Ian</td> <td>1.0002e+07</td> <td>Right        </td> <td>SAN_GAU    </td> <td>aa58cf17-1fb5-4fa9-8dad-846ea05d34aa</td> <td>54.2439           </td> <td>-134.885          </td> <td>16.8831           </td> <td>6.13826           </td> <td>-6.29085          </td> <td>-5.63886          </td> <td>0.37401           </td> <td>-4.59464          </td> <td>5.04717           </td> <td>nan        </td> <td>nan             </td> <td>nan             </td> <td>nan             </td> <td>nan             </td> <td>nan             </td> <td>nan             </td> <td>nan             </td> <td>nan             </td> <td>nan             </td> <td>nan             </td> <td>nan             </td> <td>nan             </td> <td>nan             </td> <td>nan             </td> <td>nan             </td> <td>nan             </td> <td>nan             </td> <td>nan             </td> <td>nan             </td> <td>nan             </td> <td>nan             </td> <td>nan             </td> <td>nan             </td> <td>nan             </td> <td>nan             </td> <td>nan             </td> <td>nan             </td> <td>nan       </td> <td>nan    </td> <td>nan         </td> <td>nan       </td> <td>nan           </td> <td>nan           </td> <td>nan           </td> <td>nan           </td> <td>nan           </td> <td>nan           </td> <td>nan          </td> <td>nan          </td> <td>nan          </td> <td>nan               </td> <td>nan               </td> <td>nan               </td> <td>nan               </td> <td>nan               </td> <td>nan               </td> <td>nan               </td> <td>nan               </td> <td>nan               </td> <td>High                  </td> <td>High                   </td> <td>High                   </td> <td>nan                </td> <td>nan                 </td> <td>nan                        </td> <td>nan                          </td> <td>nan                           </td>\n",
       "        </tr>\n",
       "        <tr>\n",
       "            <td>4      </td> <td>1/24/25</td> <td>01:36.0</td> <td>1         </td> <td>4        </td> <td>Hoover, Chase</td> <td>800623   </td> <td>Left         </td> <td>SAN_GAU    </td> <td>Sebring, Jonah</td> <td>1       </td> <td>Right     </td> <td>GAU_ALU   </td> <td>Undefined </td> <td>1     </td> <td>Top       </td> <td>0   </td> <td>1    </td> <td>2      </td> <td>Fastball       </td> <td>Four-Seam    </td> <td>BallCalled    </td> <td>Undefined</td> <td>Undefined    </td> <td>Undefined </td> <td>0         </td> <td>0         </td> <td>nan  </td> <td>91.3319 </td> <td>-1.88778    </td> <td>2.40633     </td> <td>2192.25 </td> <td>164.566 </td> <td>11:30</td> <td>5.93813  </td> <td>-0.4836 </td> <td>6.53088  </td> <td>-14.0982 </td> <td>19.2538         </td> <td>-4.9678  </td> <td>3.02945       </td> <td>1.31105     </td> <td>81.9114  </td> <td>-4.66019     </td> <td>1.50505      </td> <td>0.415654</td> <td>nan      </td> <td>nan  </td> <td>nan      </td> <td>nan        </td> <td>nan           </td> <td>nan           </td> <td>nan           </td> <td>nan     </td> <td>nan                </td> <td>nan    </td> <td>nan     </td> <td>3.37855 </td> <td>11.0349</td> <td>0.31832</td> <td>50  </td> <td>5.80041</td> <td>-5.35426</td> <td>-132.368</td> <td>-4.67373</td> <td>5.87509 </td> <td>33.4922</td> <td>-12.985 </td> <td>SAN_GAU </td> <td>SAN_GAU </td> <td>CaesarUyesaka</td> <td>TeamExclusive</td> <td>Team  </td> <td>20250124-CaesarUyesaka-Private-2</td> <td>07767e00-dab0-11ef-b64c-2ba247267c32</td> <td>90.6822      </td> <td>nan      </td> <td>nan             </td> <td>9.42045  </td> <td>nan               </td> <td>nan               </td> <td>nan               </td> <td>nan             </td> <td>nan             </td> <td>nan             </td> <td>e2d5b440-508a-48cd-9e58-715d78e5423d</td> <td>1/25/25</td> <td>01:36.0</td> <td>2025-01-24T16:01:36.0105966-08:00</td> <td>2025-01-25T00:01:36.0105966Z</td> <td>nan        </td> <td>v3    </td> <td>471258           </td> <td>471258           </td> <td>nan          </td> <td>Fernandez, Ian</td> <td>1.0002e+07</td> <td>Right        </td> <td>SAN_GAU    </td> <td>3bee5cfa-d0a1-40f9-9516-3902dc395943</td> <td>53.9613           </td> <td>-133.366          </td> <td>16.7461           </td> <td>5.93398           </td> <td>-4.2866           </td> <td>-6.49252          </td> <td>0.48056           </td> <td>-5.52942          </td> <td>2.93754           </td> <td>nan        </td> <td>nan             </td> <td>nan             </td> <td>nan             </td> <td>nan             </td> <td>nan             </td> <td>nan             </td> <td>nan             </td> <td>nan             </td> <td>nan             </td> <td>nan             </td> <td>nan             </td> <td>nan             </td> <td>nan             </td> <td>nan             </td> <td>nan             </td> <td>nan             </td> <td>nan             </td> <td>nan             </td> <td>nan             </td> <td>nan             </td> <td>nan             </td> <td>nan             </td> <td>nan             </td> <td>nan             </td> <td>nan             </td> <td>nan             </td> <td>nan             </td> <td>nan       </td> <td>nan    </td> <td>nan         </td> <td>nan       </td> <td>nan           </td> <td>nan           </td> <td>nan           </td> <td>nan           </td> <td>nan           </td> <td>nan           </td> <td>nan          </td> <td>nan          </td> <td>nan          </td> <td>nan               </td> <td>nan               </td> <td>nan               </td> <td>nan               </td> <td>nan               </td> <td>nan               </td> <td>nan               </td> <td>nan               </td> <td>nan               </td> <td>High                  </td> <td>High                   </td> <td>High                   </td> <td>nan                </td> <td>nan                 </td> <td>nan                        </td> <td>nan                          </td> <td>nan                           </td>\n",
       "        </tr>\n",
       "        <tr>\n",
       "            <td>5      </td> <td>1/24/25</td> <td>01:52.3</td> <td>1         </td> <td>5        </td> <td>Hoover, Chase</td> <td>800623   </td> <td>Left         </td> <td>SAN_GAU    </td> <td>Sebring, Jonah</td> <td>1       </td> <td>Right     </td> <td>GAU_ALU   </td> <td>Undefined </td> <td>1     </td> <td>Top       </td> <td>0   </td> <td>2    </td> <td>2      </td> <td>Fastball       </td> <td>Four-Seam    </td> <td>StrikeSwinging</td> <td>Strikeout</td> <td>Undefined    </td> <td>Undefined </td> <td>0         </td> <td>0         </td> <td>nan  </td> <td>92.0337 </td> <td>-1.48845    </td> <td>0.583075    </td> <td>2270.69 </td> <td>153.097 </td> <td>11:00</td> <td>6.13509  </td> <td>-0.35335</td> <td>5.94452  </td> <td>-11.9449 </td> <td>21.6826         </td> <td>-10.3432 </td> <td>3.7587        </td> <td>-0.67443    </td> <td>82.243   </td> <td>-3.85621     </td> <td>-1.27501     </td> <td>0.417368</td> <td>nan      </td> <td>nan  </td> <td>nan      </td> <td>nan        </td> <td>nan           </td> <td>nan           </td> <td>nan           </td> <td>nan     </td> <td>nan                </td> <td>nan    </td> <td>nan     </td> <td>5.42044 </td> <td>11.9123</td> <td>0.31229</td> <td>50  </td> <td>6.00969</td> <td>-0.88196</td> <td>-133.339</td> <td>-3.72011</td> <td>9.54182 </td> <td>34.6098</td> <td>-11.2044</td> <td>SAN_GAU </td> <td>SAN_GAU </td> <td>CaesarUyesaka</td> <td>TeamExclusive</td> <td>Team  </td> <td>20250124-CaesarUyesaka-Private-2</td> <td>112f0c50-dab0-11ef-b64c-2ba247267c32</td> <td>90.3099      </td> <td>nan      </td> <td>nan             </td> <td>9.79065  </td> <td>nan               </td> <td>nan               </td> <td>nan               </td> <td>nan             </td> <td>nan             </td> <td>nan             </td> <td>e2d5b440-508a-48cd-9e58-715d78e5423d</td> <td>1/25/25</td> <td>01:52.3</td> <td>2025-01-24T16:01:52.3162094-08:00</td> <td>2025-01-25T00:01:52.3162094Z</td> <td>nan        </td> <td>v3    </td> <td>471258           </td> <td>471258           </td> <td>nan          </td> <td>Fernandez, Ian</td> <td>1.0002e+07</td> <td>Right        </td> <td>SAN_GAU    </td> <td>f4c9e2a0-266f-4c6c-88ac-ed9431cd1fc1</td> <td>54.5468           </td> <td>-134.514          </td> <td>17.3049           </td> <td>6.12953           </td> <td>-3.33973          </td> <td>-5.6022           </td> <td>0.34773           </td> <td>-1.2059           </td> <td>4.77091           </td> <td>nan        </td> <td>nan             </td> <td>nan             </td> <td>nan             </td> <td>nan             </td> <td>nan             </td> <td>nan             </td> <td>nan             </td> <td>nan             </td> <td>nan             </td> <td>nan             </td> <td>nan             </td> <td>nan             </td> <td>nan             </td> <td>nan             </td> <td>nan             </td> <td>nan             </td> <td>nan             </td> <td>nan             </td> <td>nan             </td> <td>nan             </td> <td>nan             </td> <td>nan             </td> <td>nan             </td> <td>nan             </td> <td>nan             </td> <td>nan             </td> <td>nan             </td> <td>nan       </td> <td>nan    </td> <td>nan         </td> <td>nan       </td> <td>nan           </td> <td>nan           </td> <td>nan           </td> <td>nan           </td> <td>nan           </td> <td>nan           </td> <td>nan          </td> <td>nan          </td> <td>nan          </td> <td>nan               </td> <td>nan               </td> <td>nan               </td> <td>nan               </td> <td>nan               </td> <td>nan               </td> <td>nan               </td> <td>nan               </td> <td>nan               </td> <td>High                  </td> <td>High                   </td> <td>High                   </td> <td>nan                </td> <td>nan                 </td> <td>nan                        </td> <td>nan                          </td> <td>nan                           </td>\n",
       "        </tr>\n",
       "        <tr>\n",
       "            <td>6      </td> <td>1/24/25</td> <td>02:21.6</td> <td>2         </td> <td>1        </td> <td>Hoover, Chase</td> <td>800623   </td> <td>Left         </td> <td>SAN_GAU    </td> <td>Oakley, Nick  </td> <td>2       </td> <td>Left      </td> <td>GAU_ALU   </td> <td>Undefined </td> <td>1     </td> <td>Top       </td> <td>1   </td> <td>0    </td> <td>0      </td> <td>Fastball       </td> <td>Four-Seam    </td> <td>StrikeCalled  </td> <td>Undefined</td> <td>Undefined    </td> <td>Undefined </td> <td>0         </td> <td>0         </td> <td>nan  </td> <td>91.6672 </td> <td>-1.62129    </td> <td>1.30692     </td> <td>2240.39 </td> <td>162.384 </td> <td>11:30</td> <td>6.10438  </td> <td>-0.28967</td> <td>6.33736  </td> <td>-13.8946 </td> <td>19.3327         </td> <td>-5.74906 </td> <td>3.45301       </td> <td>0.43472     </td> <td>82.3911  </td> <td>-4.34377     </td> <td>0.266632     </td> <td>0.414876</td> <td>nan      </td> <td>nan  </td> <td>nan      </td> <td>nan        </td> <td>nan           </td> <td>nan           </td> <td>nan           </td> <td>nan     </td> <td>nan                </td> <td>nan    </td> <td>nan     </td> <td>3.38339 </td> <td>10.8954</td> <td>0.19693</td> <td>50  </td> <td>5.97942</td> <td>-2.78575</td> <td>-132.943</td> <td>-4.08457</td> <td>5.9508  </td> <td>33.0795</td> <td>-13.0108</td> <td>SAN_GAU </td> <td>SAN_GAU </td> <td>CaesarUyesaka</td> <td>TeamExclusive</td> <td>Team  </td> <td>20250124-CaesarUyesaka-Private-2</td> <td>22a3e3c0-dab0-11ef-b64c-2ba247267c32</td> <td>90.8522      </td> <td>nan      </td> <td>nan             </td> <td>9.27603  </td> <td>nan               </td> <td>nan               </td> <td>nan               </td> <td>nan             </td> <td>nan             </td> <td>nan             </td> <td>e2d5b440-508a-48cd-9e58-715d78e5423d</td> <td>1/25/25</td> <td>02:21.6</td> <td>2025-01-24T16:02:21.5804398-08:00</td> <td>2025-01-25T00:02:21.5804398Z</td> <td>nan        </td> <td>v3    </td> <td>471258           </td> <td>471258           </td> <td>nan          </td> <td>Fernandez, Ian</td> <td>1.0002e+07</td> <td>Right        </td> <td>SAN_GAU    </td> <td>50c2d71e-4e40-4440-9fad-c4c0762559f0</td> <td>54.1552           </td> <td>-133.973          </td> <td>16.5398           </td> <td>6.10029           </td> <td>-3.67948          </td> <td>-6.50538          </td> <td>0.28655           </td> <td>-2.97103          </td> <td>2.9754            </td> <td>nan        </td> <td>nan             </td> <td>nan             </td> <td>nan             </td> <td>nan             </td> <td>nan             </td> <td>nan             </td> <td>nan             </td> <td>nan             </td> <td>nan             </td> <td>nan             </td> <td>nan             </td> <td>nan             </td> <td>nan             </td> <td>nan             </td> <td>nan             </td> <td>nan             </td> <td>nan             </td> <td>nan             </td> <td>nan             </td> <td>nan             </td> <td>nan             </td> <td>nan             </td> <td>nan             </td> <td>nan             </td> <td>nan             </td> <td>nan             </td> <td>nan             </td> <td>nan       </td> <td>nan    </td> <td>nan         </td> <td>nan       </td> <td>nan           </td> <td>nan           </td> <td>nan           </td> <td>nan           </td> <td>nan           </td> <td>nan           </td> <td>nan          </td> <td>nan          </td> <td>nan          </td> <td>nan               </td> <td>nan               </td> <td>nan               </td> <td>nan               </td> <td>nan               </td> <td>nan               </td> <td>nan               </td> <td>nan               </td> <td>nan               </td> <td>High                  </td> <td>High                   </td> <td>High                   </td> <td>nan                </td> <td>nan                 </td> <td>nan                        </td> <td>nan                          </td> <td>nan                           </td>\n",
       "        </tr>\n",
       "        <tr>\n",
       "            <td>7      </td> <td>1/24/25</td> <td>02:33.9</td> <td>2         </td> <td>2        </td> <td>Hoover, Chase</td> <td>800623   </td> <td>Left         </td> <td>SAN_GAU    </td> <td>Oakley, Nick  </td> <td>2       </td> <td>Left      </td> <td>GAU_ALU   </td> <td>Undefined </td> <td>1     </td> <td>Top       </td> <td>1   </td> <td>0    </td> <td>1      </td> <td>Fastball       </td> <td>Four-Seam    </td> <td>BallCalled    </td> <td>Undefined</td> <td>Undefined    </td> <td>Undefined </td> <td>0         </td> <td>0         </td> <td>nan  </td> <td>91.7695 </td> <td>-5.02291    </td> <td>1.0898      </td> <td>2218.23 </td> <td>157.244 </td> <td>11:15</td> <td>6.02778  </td> <td>-0.43011</td> <td>6.57719  </td> <td>-10.178  </td> <td>23.0964         </td> <td>-9.12764 </td> <td>0.56347       </td> <td>-0.19183    </td> <td>82.1026  </td> <td>-7.07607     </td> <td>-0.569432    </td> <td>0.41517 </td> <td>nan      </td> <td>nan  </td> <td>nan      </td> <td>nan        </td> <td>nan           </td> <td>nan           </td> <td>nan           </td> <td>nan     </td> <td>nan                </td> <td>nan    </td> <td>nan     </td> <td>5.14414 </td> <td>14.2334</td> <td>0.35868</td> <td>50  </td> <td>5.67761</td> <td>-2.14889</td> <td>-132.655</td> <td>-11.8117</td> <td>8.93969 </td> <td>34.9198</td> <td>-7.43867</td> <td>SAN_GAU </td> <td>SAN_GAU </td> <td>CaesarUyesaka</td> <td>TeamExclusive</td> <td>Team  </td> <td>20250124-CaesarUyesaka-Private-2</td> <td>29ef90c0-dab0-11ef-b64c-2ba247267c32</td> <td>90.788       </td> <td>nan      </td> <td>nan             </td> <td>9.66692  </td> <td>nan               </td> <td>nan               </td> <td>nan               </td> <td>nan             </td> <td>nan             </td> <td>nan             </td> <td>e2d5b440-508a-48cd-9e58-715d78e5423d</td> <td>1/25/25</td> <td>02:33.9</td> <td>2025-01-24T16:02:33.8502638-08:00</td> <td>2025-01-25T00:02:33.8502638Z</td> <td>nan        </td> <td>v3    </td> <td>471258           </td> <td>471258           </td> <td>nan          </td> <td>Fernandez, Ian</td> <td>1.0002e+07</td> <td>Right        </td> <td>SAN_GAU    </td> <td>4afb0bfc-8d5d-4e2d-ae5d-f48cdb35f956</td> <td>53.9164           </td> <td>-133.682          </td> <td>17.4599           </td> <td>6.02176           </td> <td>-11.5929          </td> <td>-3.71933          </td> <td>0.42575           </td> <td>-2.41179          </td> <td>4.46985           </td> <td>nan        </td> <td>nan             </td> <td>nan             </td> <td>nan             </td> <td>nan             </td> <td>nan             </td> <td>nan             </td> <td>nan             </td> <td>nan             </td> <td>nan             </td> <td>nan             </td> <td>nan             </td> <td>nan             </td> <td>nan             </td> <td>nan             </td> <td>nan             </td> <td>nan             </td> <td>nan             </td> <td>nan             </td> <td>nan             </td> <td>nan             </td> <td>nan             </td> <td>nan             </td> <td>nan             </td> <td>nan             </td> <td>nan             </td> <td>nan             </td> <td>nan             </td> <td>nan       </td> <td>nan    </td> <td>nan         </td> <td>nan       </td> <td>nan           </td> <td>nan           </td> <td>nan           </td> <td>nan           </td> <td>nan           </td> <td>nan           </td> <td>nan          </td> <td>nan          </td> <td>nan          </td> <td>nan               </td> <td>nan               </td> <td>nan               </td> <td>nan               </td> <td>nan               </td> <td>nan               </td> <td>nan               </td> <td>nan               </td> <td>nan               </td> <td>High                  </td> <td>High                   </td> <td>High                   </td> <td>nan                </td> <td>nan                 </td> <td>nan                        </td> <td>nan                          </td> <td>nan                           </td>\n",
       "        </tr>\n",
       "        <tr>\n",
       "            <td>8      </td> <td>1/24/25</td> <td>02:57.8</td> <td>2         </td> <td>3        </td> <td>Hoover, Chase</td> <td>800623   </td> <td>Left         </td> <td>SAN_GAU    </td> <td>Oakley, Nick  </td> <td>2       </td> <td>Left      </td> <td>GAU_ALU   </td> <td>Undefined </td> <td>1     </td> <td>Top       </td> <td>1   </td> <td>1    </td> <td>1      </td> <td>Cutter         </td> <td>Slider       </td> <td>BallCalled    </td> <td>Undefined</td> <td>Undefined    </td> <td>Undefined </td> <td>0         </td> <td>0         </td> <td>nan  </td> <td>85.981  </td> <td>1.3554      </td> <td>0.414612    </td> <td>2438.81 </td> <td>217.007 </td> <td>1:15 </td> <td>6.03032  </td> <td>-0.69555</td> <td>6.06847  </td> <td>-32.3823 </td> <td>5.59205         </td> <td>3.21768  </td> <td>4.58632       </td> <td>-0.04373    </td> <td>77.6466  </td> <td>-4.70405     </td> <td>0.994061     </td> <td>0.443524</td> <td>nan      </td> <td>nan  </td> <td>nan      </td> <td>nan        </td> <td>nan           </td> <td>nan           </td> <td>nan           </td> <td>nan     </td> <td>nan                </td> <td>nan    </td> <td>nan     </td> <td>-1.50386</td> <td>2.89217</td> <td>0.66189</td> <td>50  </td> <td>6.11856</td> <td>-1.03726</td> <td>-124.741</td> <td>1.89346 </td> <td>-2.33967</td> <td>28.041 </td> <td>-27.6744</td> <td>SAN_GAU </td> <td>SAN_GAU </td> <td>CaesarUyesaka</td> <td>TeamExclusive</td> <td>Team  </td> <td>20250124-CaesarUyesaka-Private-2</td> <td>38406be0-dab0-11ef-b64c-2ba247267c32</td> <td>84.9841      </td> <td>nan      </td> <td>nan             </td> <td>8.33436  </td> <td>nan               </td> <td>nan               </td> <td>nan               </td> <td>nan             </td> <td>nan             </td> <td>nan             </td> <td>e2d5b440-508a-48cd-9e58-715d78e5423d</td> <td>1/25/25</td> <td>02:57.8</td> <td>2025-01-24T16:02:57.8562542-08:00</td> <td>2025-01-25T00:02:57.8562542Z</td> <td>nan        </td> <td>v3    </td> <td>471258           </td> <td>471258           </td> <td>nan          </td> <td>Fernandez, Ian</td> <td>1.0002e+07</td> <td>Right        </td> <td>SAN_GAU    </td> <td>307d7d1f-ea8f-4b1b-a5f7-0a3b19de4c18</td> <td>54.4247           </td> <td>-125.731          </td> <td>14.0205           </td> <td>6.03439           </td> <td>2.87123           </td> <td>-13.8372          </td> <td>0.69707           </td> <td>-0.9546           </td> <td>-1.16983          </td> <td>nan        </td> <td>nan             </td> <td>nan             </td> <td>nan             </td> <td>nan             </td> <td>nan             </td> <td>nan             </td> <td>nan             </td> <td>nan             </td> <td>nan             </td> <td>nan             </td> <td>nan             </td> <td>nan             </td> <td>nan             </td> <td>nan             </td> <td>nan             </td> <td>nan             </td> <td>nan             </td> <td>nan             </td> <td>nan             </td> <td>nan             </td> <td>nan             </td> <td>nan             </td> <td>nan             </td> <td>nan             </td> <td>nan             </td> <td>nan             </td> <td>nan             </td> <td>nan       </td> <td>nan    </td> <td>nan         </td> <td>nan       </td> <td>nan           </td> <td>nan           </td> <td>nan           </td> <td>nan           </td> <td>nan           </td> <td>nan           </td> <td>nan          </td> <td>nan          </td> <td>nan          </td> <td>nan               </td> <td>nan               </td> <td>nan               </td> <td>nan               </td> <td>nan               </td> <td>nan               </td> <td>nan               </td> <td>nan               </td> <td>nan               </td> <td>High                  </td> <td>High                   </td> <td>High                   </td> <td>nan                </td> <td>nan                 </td> <td>nan                        </td> <td>nan                          </td> <td>nan                           </td>\n",
       "        </tr>\n",
       "        <tr>\n",
       "            <td>9      </td> <td>1/24/25</td> <td>03:15.3</td> <td>2         </td> <td>4        </td> <td>Hoover, Chase</td> <td>800623   </td> <td>Left         </td> <td>SAN_GAU    </td> <td>Oakley, Nick  </td> <td>2       </td> <td>Left      </td> <td>GAU_ALU   </td> <td>Undefined </td> <td>1     </td> <td>Top       </td> <td>1   </td> <td>2    </td> <td>1      </td> <td>Fastball       </td> <td>Four-Seam    </td> <td>StrikeSwinging</td> <td>Undefined</td> <td>Undefined    </td> <td>Undefined </td> <td>0         </td> <td>0         </td> <td>nan  </td> <td>93.0939 </td> <td>-2.52921    </td> <td>0.910805    </td> <td>2198.64 </td> <td>172.146 </td> <td>11:45</td> <td>6.21281  </td> <td>-0.25043</td> <td>6.15999  </td> <td>-7.22122 </td> <td>25.2711         </td> <td>-3.31744 </td> <td>3.2728        </td> <td>0.31458     </td> <td>83.5225  </td> <td>-4.03902     </td> <td>0.312646     </td> <td>0.410263</td> <td>nan      </td> <td>nan  </td> <td>nan      </td> <td>nan        </td> <td>nan           </td> <td>nan           </td> <td>nan           </td> <td>nan     </td> <td>nan                </td> <td>nan    </td> <td>nan     </td> <td>1.99012 </td> <td>14.1402</td> <td>0.18285</td> <td>50  </td> <td>6.01651</td> <td>-1.99533</td> <td>-134.898</td> <td>-6.00466</td> <td>3.60193 </td> <td>34.214 </td> <td>-6.58166</td> <td>SAN_GAU </td> <td>SAN_GAU </td> <td>CaesarUyesaka</td> <td>TeamExclusive</td> <td>Team  </td> <td>20250124-CaesarUyesaka-Private-2</td> <td>429f2540-dab0-11ef-b64c-2ba247267c32</td> <td>91.8739      </td> <td>nan      </td> <td>nan             </td> <td>9.57145  </td> <td>nan               </td> <td>nan               </td> <td>nan               </td> <td>nan             </td> <td>nan             </td> <td>nan             </td> <td>e2d5b440-508a-48cd-9e58-715d78e5423d</td> <td>1/25/25</td> <td>03:15.3</td> <td>2025-01-24T16:03:15.2787950-08:00</td> <td>2025-01-25T00:03:15.2787950Z</td> <td>nan        </td> <td>v3    </td> <td>471258           </td> <td>471258           </td> <td>nan          </td> <td>Fernandez, Ian</td> <td>1.0002e+07</td> <td>Right        </td> <td>SAN_GAU    </td> <td>c4066ff9-1722-43cc-bd15-759ce3d78be3</td> <td>54.3322           </td> <td>-135.992          </td> <td>17.107            </td> <td>6.2052            </td> <td>-5.79414          </td> <td>-3.29083          </td> <td>0.24852           </td> <td>-2.11054          </td> <td>1.80097           </td> <td>nan        </td> <td>nan             </td> <td>nan             </td> <td>nan             </td> <td>nan             </td> <td>nan             </td> <td>nan             </td> <td>nan             </td> <td>nan             </td> <td>nan             </td> <td>nan             </td> <td>nan             </td> <td>nan             </td> <td>nan             </td> <td>nan             </td> <td>nan             </td> <td>nan             </td> <td>nan             </td> <td>nan             </td> <td>nan             </td> <td>nan             </td> <td>nan             </td> <td>nan             </td> <td>nan             </td> <td>nan             </td> <td>nan             </td> <td>nan             </td> <td>nan             </td> <td>nan       </td> <td>nan    </td> <td>nan         </td> <td>nan       </td> <td>nan           </td> <td>nan           </td> <td>nan           </td> <td>nan           </td> <td>nan           </td> <td>nan           </td> <td>nan          </td> <td>nan          </td> <td>nan          </td> <td>nan               </td> <td>nan               </td> <td>nan               </td> <td>nan               </td> <td>nan               </td> <td>nan               </td> <td>nan               </td> <td>nan               </td> <td>nan               </td> <td>High                  </td> <td>High                   </td> <td>High                   </td> <td>nan                </td> <td>nan                 </td> <td>nan                        </td> <td>nan                          </td> <td>nan                           </td>\n",
       "        </tr>\n",
       "        <tr>\n",
       "            <td>10     </td> <td>1/24/25</td> <td>03:30.1</td> <td>2         </td> <td>5        </td> <td>Hoover, Chase</td> <td>800623   </td> <td>Left         </td> <td>SAN_GAU    </td> <td>Oakley, Nick  </td> <td>2       </td> <td>Left      </td> <td>GAU_ALU   </td> <td>Undefined </td> <td>1     </td> <td>Top       </td> <td>1   </td> <td>2    </td> <td>2      </td> <td>Fastball       </td> <td>Four-Seam    </td> <td>BallCalled    </td> <td>Undefined</td> <td>Undefined    </td> <td>Undefined </td> <td>0         </td> <td>0         </td> <td>nan  </td> <td>92.2586 </td> <td>-4.73537    </td> <td>0.811818    </td> <td>2251.24 </td> <td>160.968 </td> <td>11:15</td> <td>6.11764  </td> <td>-0.17624</td> <td>6.27986  </td> <td>-10.8762 </td> <td>22.4603         </td> <td>-7.28083 </td> <td>0.83636       </td> <td>-0.03469    </td> <td>82.3763  </td> <td>-6.90777     </td> <td>-0.504462    </td> <td>0.415557</td> <td>nan      </td> <td>nan  </td> <td>nan      </td> <td>nan        </td> <td>nan           </td> <td>nan           </td> <td>nan           </td> <td>nan     </td> <td>nan                </td> <td>nan    </td> <td>nan     </td> <td>4.04882 </td> <td>13.7004</td> <td>0.11964</td> <td>50  </td> <td>5.76212</td> <td>-1.57683</td> <td>-133.325</td> <td>-11.2451</td> <td>7.09517 </td> <td>35.7227</td> <td>-8.16546</td> <td>SAN_GAU </td> <td>SAN_GAU </td> <td>CaesarUyesaka</td> <td>TeamExclusive</td> <td>Team  </td> <td>20250124-CaesarUyesaka-Private-2</td> <td>4b778cc0-dab0-11ef-b64c-2ba247267c32</td> <td>90.7033      </td> <td>nan      </td> <td>nan             </td> <td>9.88225  </td> <td>nan               </td> <td>nan               </td> <td>nan               </td> <td>nan             </td> <td>nan             </td> <td>nan             </td> <td>e2d5b440-508a-48cd-9e58-715d78e5423d</td> <td>1/25/25</td> <td>03:30.1</td> <td>2025-01-24T16:03:30.1110766-08:00</td> <td>2025-01-25T00:03:30.1110766Z</td> <td>nan        </td> <td>v3    </td> <td>471258           </td> <td>471258           </td> <td>nan          </td> <td>Fernandez, Ian</td> <td>1.0002e+07</td> <td>Right        </td> <td>SAN_GAU    </td> <td>5481b27f-a806-4231-8f43-c41c1a771a21</td> <td>54.2133           </td> <td>-134.45           </td> <td>17.8613           </td> <td>6.11194           </td> <td>-10.9881          </td> <td>-4.08273          </td> <td>0.17278           </td> <td>-1.80011          </td> <td>3.54759           </td> <td>nan        </td> <td>nan             </td> <td>nan             </td> <td>nan             </td> <td>nan             </td> <td>nan             </td> <td>nan             </td> <td>nan             </td> <td>nan             </td> <td>nan             </td> <td>nan             </td> <td>nan             </td> <td>nan             </td> <td>nan             </td> <td>nan             </td> <td>nan             </td> <td>nan             </td> <td>nan             </td> <td>nan             </td> <td>nan             </td> <td>nan             </td> <td>nan             </td> <td>nan             </td> <td>nan             </td> <td>nan             </td> <td>nan             </td> <td>nan             </td> <td>nan             </td> <td>nan       </td> <td>nan    </td> <td>nan         </td> <td>nan       </td> <td>nan           </td> <td>nan           </td> <td>nan           </td> <td>nan           </td> <td>nan           </td> <td>nan           </td> <td>nan          </td> <td>nan          </td> <td>nan          </td> <td>nan               </td> <td>nan               </td> <td>nan               </td> <td>nan               </td> <td>nan               </td> <td>nan               </td> <td>nan               </td> <td>nan               </td> <td>nan               </td> <td>High                  </td> <td>High                   </td> <td>High                   </td> <td>nan                </td> <td>nan                 </td> <td>nan                        </td> <td>nan                          </td> <td>nan                           </td>\n",
       "        </tr>\n",
       "    </tbody>\n",
       "</table>\n",
       "<p>... (924 rows omitted)</p>"
      ],
      "text/plain": [
       "PitchNo | Date    | Time    | PAofInning | PitchofPA | Pitcher       | PitcherId | PitcherThrows | PitcherTeam | Batter         | BatterId | BatterSide | BatterTeam | PitcherSet | Inning | Top/Bottom | Outs | Balls | Strikes | TaggedPitchType | AutoPitchType | PitchCall      | KorBB     | TaggedHitType | PlayResult | OutsOnPlay | RunsScored | Notes | RelSpeed | VertRelAngle | HorzRelAngle | SpinRate | SpinAxis | Tilt  | RelHeight | RelSide  | Extension | VertBreak | InducedVertBreak | HorzBreak | PlateLocHeight | PlateLocSide | ZoneSpeed | VertApprAngle | HorzApprAngle | ZoneTime | ExitSpeed | Angle | Direction | HitSpinRate | PositionAt110X | PositionAt110Y | PositionAt110Z | Distance | LastTrackedDistance | Bearing | HangTime | pfxx     | pfxz    | x0      | y0   | z0      | vx0      | vy0      | vz0      | ax0      | ay0     | az0      | HomeTeam | AwayTeam | Stadium       | Level         | League | GameID                           | PitchUID                             | EffectiveVelo | MaxHeight | MeasuredDuration | SpeedDrop | PitchLastMeasuredX | PitchLastMeasuredY | PitchLastMeasuredZ | ContactPositionX | ContactPositionY | ContactPositionZ | GameUID                              | UTCDate | UTCTime | LocalDateTime                     | UTCDateTime                  | AutoHitType | System | HomeTeamForeignID | AwayTeamForeignID | GameForeignID | Catcher        | CatcherId  | CatcherThrows | CatcherTeam | PlayID                               | PitchTrajectoryXc0 | PitchTrajectoryXc1 | PitchTrajectoryXc2 | PitchTrajectoryYc0 | PitchTrajectoryYc1 | PitchTrajectoryYc2 | PitchTrajectoryZc0 | PitchTrajectoryZc1 | PitchTrajectoryZc2 | HitSpinAxis | HitTrajectoryXc0 | HitTrajectoryXc1 | HitTrajectoryXc2 | HitTrajectoryXc3 | HitTrajectoryXc4 | HitTrajectoryXc5 | HitTrajectoryXc6 | HitTrajectoryXc7 | HitTrajectoryXc8 | HitTrajectoryYc0 | HitTrajectoryYc1 | HitTrajectoryYc2 | HitTrajectoryYc3 | HitTrajectoryYc4 | HitTrajectoryYc5 | HitTrajectoryYc6 | HitTrajectoryYc7 | HitTrajectoryYc8 | HitTrajectoryZc0 | HitTrajectoryZc1 | HitTrajectoryZc2 | HitTrajectoryZc3 | HitTrajectoryZc4 | HitTrajectoryZc5 | HitTrajectoryZc6 | HitTrajectoryZc7 | HitTrajectoryZc8 | ThrowSpeed | PopTime | ExchangeTime | TimeToBase | CatchPositionX | CatchPositionY | CatchPositionZ | ThrowPositionX | ThrowPositionY | ThrowPositionZ | BasePositionX | BasePositionY | BasePositionZ | ThrowTrajectoryXc0 | ThrowTrajectoryXc1 | ThrowTrajectoryXc2 | ThrowTrajectoryYc0 | ThrowTrajectoryYc1 | ThrowTrajectoryYc2 | ThrowTrajectoryZc0 | ThrowTrajectoryZc1 | ThrowTrajectoryZc2 | PitchReleaseConfidence | PitchLocationConfidence | PitchMovementConfidence | HitLaunchConfidence | HitLandingConfidence | CatcherThrowCatchConfidence | CatcherThrowReleaseConfidence | CatcherThrowLocationConfidence\n",
       "1       | 1/24/25 | 00:49.0 | 1          | 1         | Hoover, Chase | 800623    | Left          | SAN_GAU     | Sebring, Jonah | 1        | Right      | GAU_ALU    | Undefined  | 1      | Top        | 0    | 0     | 0       | Fastball        | Four-Seam     | BallCalled     | Undefined | Undefined     | Undefined  | 0          | 0          | nan   | 91.0084  | -1.09813     | -0.222841    | 2135.84  | 174.636  | 11:45 | 6.06336   | -0.55963 | 6.53684   | -11.3192  | 22.2808          | -1.97106  | 4.11275        | -0.92828     | 81.3317   | -3.38021      | -0.58091      | 0.417197 | nan       | nan   | nan       | nan         | nan            | nan            | nan            | nan      | nan                 | nan     | nan      | 0.93815  | 12.3245 | 0.57572 | 50   | 5.9815  | 0.59712  | -132.007 | -2.70767 | 1.61797  | 34.0238 | -10.9187 | SAN_GAU  | SAN_GAU  | CaesarUyesaka | TeamExclusive | Team   | 20250124-CaesarUyesaka-Private-2 | eb74ff60-daaf-11ef-b64c-2ba247267c32 | 90.3469       | nan       | nan              | 9.67669   | nan                | nan                | nan                | nan              | nan              | nan              | e2d5b440-508a-48cd-9e58-715d78e5423d | 1/25/25 | 00:49.0 | 2025-01-24T16:00:49.0163182-08:00 | 2025-01-25T00:00:49.0163182Z | nan         | v3     | 471258            | 471258            | nan           | Fernandez, Ian | 1.0002e+07 | Right         | SAN_GAU     | 398d403b-67e0-48a0-bb44-e2c7e5001ccc | 53.9538            | -133.022           | 17.0119            | 6.05743            | -2.38188           | -5.45937           | 0.55862            | 0.54884            | 0.80899            | nan         | nan              | nan              | nan              | nan              | nan              | nan              | nan              | nan              | nan              | nan              | nan              | nan              | nan              | nan              | nan              | nan              | nan              | nan              | nan              | nan              | nan              | nan              | nan              | nan              | nan              | nan              | nan              | nan        | nan     | nan          | nan        | nan            | nan            | nan            | nan            | nan            | nan            | nan           | nan           | nan           | nan                | nan                | nan                | nan                | nan                | nan                | nan                | nan                | nan                | High                   | High                    | High                    | nan                 | nan                  | nan                         | nan                           | nan\n",
       "2       | 1/24/25 | 01:03.4 | 1          | 2         | Hoover, Chase | 800623    | Left          | SAN_GAU     | Sebring, Jonah | 1        | Right      | GAU_ALU    | Undefined  | 1      | Top        | 0    | 1     | 0       | Fastball        | Four-Seam     | StrikeCalled   | Undefined | Undefined     | Undefined  | 0          | 0          | nan   | 92.3685  | -3.50465     | 1.71863      | 2181.56  | 147.65   | 11:00 | 6.01495   | -0.47514 | 6.38037   | -13.5201  | 19.2783          | -11.4254  | 1.65875        | 0.15424      | 83.0622   | -6.14811      | -0.350586     | 0.41219  | nan       | nan   | nan       | nan         | nan            | nan            | nan            | nan      | nan                 | nan     | nan      | 6.46831  | 11.5307 | 0.35602 | 50   | 5.7556  | -3.52596 | -133.765 | -8.50702 | 11.5041  | 33.8016 | -11.6662 | SAN_GAU  | SAN_GAU  | CaesarUyesaka | TeamExclusive | Team   | 20250124-CaesarUyesaka-Private-2 | f40dc5d0-daaf-11ef-b64c-2ba247267c32 | 91.4442       | nan       | nan              | 9.30632   | nan                | nan                | nan                | nan              | nan              | nan              | e2d5b440-508a-48cd-9e58-715d78e5423d | 1/25/25 | 01:03.4 | 2025-01-24T16:01:03.4172910-08:00 | 2025-01-25T00:01:03.4172910Z | nan         | v3     | 471258            | 471258            | nan           | Fernandez, Ian | 1.0002e+07 | Right         | SAN_GAU     | 9d6f4556-5bb0-4fec-bc38-8db0a13c59f8 | 54.1133            | -134.8             | 16.9008            | 6.01072            | -8.14967           | -5.8331            | 0.46942            | -3.87835           | 5.75207            | nan         | nan              | nan              | nan              | nan              | nan              | nan              | nan              | nan              | nan              | nan              | nan              | nan              | nan              | nan              | nan              | nan              | nan              | nan              | nan              | nan              | nan              | nan              | nan              | nan              | nan              | nan              | nan              | nan        | nan     | nan          | nan        | nan            | nan            | nan            | nan            | nan            | nan            | nan           | nan           | nan           | nan                | nan                | nan                | nan                | nan                | nan                | nan                | nan                | nan                | High                   | High                    | High                    | nan                 | nan                  | nan                         | nan                           | nan\n",
       "3       | 1/24/25 | 01:19.9 | 1          | 3         | Hoover, Chase | 800623    | Left          | SAN_GAU     | Sebring, Jonah | 1        | Right      | GAU_ALU    | Undefined  | 1      | Top        | 0    | 1     | 1       | Fastball        | Four-Seam     | StrikeCalled   | Undefined | Undefined     | Undefined  | 0          | 0          | nan   | 92.3818  | -2.72257     | 2.01215      | 2188.68  | 152.9    | 11:00 | 6.14297   | -0.37914 | 6.24929   | -12.6188  | 20.3023          | -9.75394  | 2.57715        | 0.66444      | 82.9749   | -5.20597      | 0.250861      | 0.412961 | nan       | nan   | nan       | nan         | nan            | nan            | nan            | nan      | nan                 | nan     | nan      | 5.66973  | 11.737  | 0.23391 | 50   | 5.93392 | -4.27578 | -133.818 | -6.64709 | 10.0943  | 33.7663 | -11.2777 | SAN_GAU  | SAN_GAU  | CaesarUyesaka | TeamExclusive | Team   | 20250124-CaesarUyesaka-Private-2 | fde72290-daaf-11ef-b64c-2ba247267c32 | 91.2737       | nan       | nan              | 9.40686   | nan                | nan                | nan                | nan              | nan              | nan              | e2d5b440-508a-48cd-9e58-715d78e5423d | 1/25/25 | 01:19.9 | 2025-01-24T16:01:19.9131118-08:00 | 2025-01-25T00:01:19.9131118Z | nan         | v3     | 471258            | 471258            | nan           | Fernandez, Ian | 1.0002e+07 | Right         | SAN_GAU     | aa58cf17-1fb5-4fa9-8dad-846ea05d34aa | 54.2439            | -134.885           | 16.8831            | 6.13826            | -6.29085           | -5.63886           | 0.37401            | -4.59464           | 5.04717            | nan         | nan              | nan              | nan              | nan              | nan              | nan              | nan              | nan              | nan              | nan              | nan              | nan              | nan              | nan              | nan              | nan              | nan              | nan              | nan              | nan              | nan              | nan              | nan              | nan              | nan              | nan              | nan              | nan        | nan     | nan          | nan        | nan            | nan            | nan            | nan            | nan            | nan            | nan           | nan           | nan           | nan                | nan                | nan                | nan                | nan                | nan                | nan                | nan                | nan                | High                   | High                    | High                    | nan                 | nan                  | nan                         | nan                           | nan\n",
       "4       | 1/24/25 | 01:36.0 | 1          | 4         | Hoover, Chase | 800623    | Left          | SAN_GAU     | Sebring, Jonah | 1        | Right      | GAU_ALU    | Undefined  | 1      | Top        | 0    | 1     | 2       | Fastball        | Four-Seam     | BallCalled     | Undefined | Undefined     | Undefined  | 0          | 0          | nan   | 91.3319  | -1.88778     | 2.40633      | 2192.25  | 164.566  | 11:30 | 5.93813   | -0.4836  | 6.53088   | -14.0982  | 19.2538          | -4.9678   | 3.02945        | 1.31105      | 81.9114   | -4.66019      | 1.50505       | 0.415654 | nan       | nan   | nan       | nan         | nan            | nan            | nan            | nan      | nan                 | nan     | nan      | 3.37855  | 11.0349 | 0.31832 | 50   | 5.80041 | -5.35426 | -132.368 | -4.67373 | 5.87509  | 33.4922 | -12.985  | SAN_GAU  | SAN_GAU  | CaesarUyesaka | TeamExclusive | Team   | 20250124-CaesarUyesaka-Private-2 | 07767e00-dab0-11ef-b64c-2ba247267c32 | 90.6822       | nan       | nan              | 9.42045   | nan                | nan                | nan                | nan              | nan              | nan              | e2d5b440-508a-48cd-9e58-715d78e5423d | 1/25/25 | 01:36.0 | 2025-01-24T16:01:36.0105966-08:00 | 2025-01-25T00:01:36.0105966Z | nan         | v3     | 471258            | 471258            | nan           | Fernandez, Ian | 1.0002e+07 | Right         | SAN_GAU     | 3bee5cfa-d0a1-40f9-9516-3902dc395943 | 53.9613            | -133.366           | 16.7461            | 5.93398            | -4.2866            | -6.49252           | 0.48056            | -5.52942           | 2.93754            | nan         | nan              | nan              | nan              | nan              | nan              | nan              | nan              | nan              | nan              | nan              | nan              | nan              | nan              | nan              | nan              | nan              | nan              | nan              | nan              | nan              | nan              | nan              | nan              | nan              | nan              | nan              | nan              | nan        | nan     | nan          | nan        | nan            | nan            | nan            | nan            | nan            | nan            | nan           | nan           | nan           | nan                | nan                | nan                | nan                | nan                | nan                | nan                | nan                | nan                | High                   | High                    | High                    | nan                 | nan                  | nan                         | nan                           | nan\n",
       "5       | 1/24/25 | 01:52.3 | 1          | 5         | Hoover, Chase | 800623    | Left          | SAN_GAU     | Sebring, Jonah | 1        | Right      | GAU_ALU    | Undefined  | 1      | Top        | 0    | 2     | 2       | Fastball        | Four-Seam     | StrikeSwinging | Strikeout | Undefined     | Undefined  | 0          | 0          | nan   | 92.0337  | -1.48845     | 0.583075     | 2270.69  | 153.097  | 11:00 | 6.13509   | -0.35335 | 5.94452   | -11.9449  | 21.6826          | -10.3432  | 3.7587         | -0.67443     | 82.243    | -3.85621      | -1.27501      | 0.417368 | nan       | nan   | nan       | nan         | nan            | nan            | nan            | nan      | nan                 | nan     | nan      | 5.42044  | 11.9123 | 0.31229 | 50   | 6.00969 | -0.88196 | -133.339 | -3.72011 | 9.54182  | 34.6098 | -11.2044 | SAN_GAU  | SAN_GAU  | CaesarUyesaka | TeamExclusive | Team   | 20250124-CaesarUyesaka-Private-2 | 112f0c50-dab0-11ef-b64c-2ba247267c32 | 90.3099       | nan       | nan              | 9.79065   | nan                | nan                | nan                | nan              | nan              | nan              | e2d5b440-508a-48cd-9e58-715d78e5423d | 1/25/25 | 01:52.3 | 2025-01-24T16:01:52.3162094-08:00 | 2025-01-25T00:01:52.3162094Z | nan         | v3     | 471258            | 471258            | nan           | Fernandez, Ian | 1.0002e+07 | Right         | SAN_GAU     | f4c9e2a0-266f-4c6c-88ac-ed9431cd1fc1 | 54.5468            | -134.514           | 17.3049            | 6.12953            | -3.33973           | -5.6022            | 0.34773            | -1.2059            | 4.77091            | nan         | nan              | nan              | nan              | nan              | nan              | nan              | nan              | nan              | nan              | nan              | nan              | nan              | nan              | nan              | nan              | nan              | nan              | nan              | nan              | nan              | nan              | nan              | nan              | nan              | nan              | nan              | nan              | nan        | nan     | nan          | nan        | nan            | nan            | nan            | nan            | nan            | nan            | nan           | nan           | nan           | nan                | nan                | nan                | nan                | nan                | nan                | nan                | nan                | nan                | High                   | High                    | High                    | nan                 | nan                  | nan                         | nan                           | nan\n",
       "6       | 1/24/25 | 02:21.6 | 2          | 1         | Hoover, Chase | 800623    | Left          | SAN_GAU     | Oakley, Nick   | 2        | Left       | GAU_ALU    | Undefined  | 1      | Top        | 1    | 0     | 0       | Fastball        | Four-Seam     | StrikeCalled   | Undefined | Undefined     | Undefined  | 0          | 0          | nan   | 91.6672  | -1.62129     | 1.30692      | 2240.39  | 162.384  | 11:30 | 6.10438   | -0.28967 | 6.33736   | -13.8946  | 19.3327          | -5.74906  | 3.45301        | 0.43472      | 82.3911   | -4.34377      | 0.266632      | 0.414876 | nan       | nan   | nan       | nan         | nan            | nan            | nan            | nan      | nan                 | nan     | nan      | 3.38339  | 10.8954 | 0.19693 | 50   | 5.97942 | -2.78575 | -132.943 | -4.08457 | 5.9508   | 33.0795 | -13.0108 | SAN_GAU  | SAN_GAU  | CaesarUyesaka | TeamExclusive | Team   | 20250124-CaesarUyesaka-Private-2 | 22a3e3c0-dab0-11ef-b64c-2ba247267c32 | 90.8522       | nan       | nan              | 9.27603   | nan                | nan                | nan                | nan              | nan              | nan              | e2d5b440-508a-48cd-9e58-715d78e5423d | 1/25/25 | 02:21.6 | 2025-01-24T16:02:21.5804398-08:00 | 2025-01-25T00:02:21.5804398Z | nan         | v3     | 471258            | 471258            | nan           | Fernandez, Ian | 1.0002e+07 | Right         | SAN_GAU     | 50c2d71e-4e40-4440-9fad-c4c0762559f0 | 54.1552            | -133.973           | 16.5398            | 6.10029            | -3.67948           | -6.50538           | 0.28655            | -2.97103           | 2.9754             | nan         | nan              | nan              | nan              | nan              | nan              | nan              | nan              | nan              | nan              | nan              | nan              | nan              | nan              | nan              | nan              | nan              | nan              | nan              | nan              | nan              | nan              | nan              | nan              | nan              | nan              | nan              | nan              | nan        | nan     | nan          | nan        | nan            | nan            | nan            | nan            | nan            | nan            | nan           | nan           | nan           | nan                | nan                | nan                | nan                | nan                | nan                | nan                | nan                | nan                | High                   | High                    | High                    | nan                 | nan                  | nan                         | nan                           | nan\n",
       "7       | 1/24/25 | 02:33.9 | 2          | 2         | Hoover, Chase | 800623    | Left          | SAN_GAU     | Oakley, Nick   | 2        | Left       | GAU_ALU    | Undefined  | 1      | Top        | 1    | 0     | 1       | Fastball        | Four-Seam     | BallCalled     | Undefined | Undefined     | Undefined  | 0          | 0          | nan   | 91.7695  | -5.02291     | 1.0898       | 2218.23  | 157.244  | 11:15 | 6.02778   | -0.43011 | 6.57719   | -10.178   | 23.0964          | -9.12764  | 0.56347        | -0.19183     | 82.1026   | -7.07607      | -0.569432     | 0.41517  | nan       | nan   | nan       | nan         | nan            | nan            | nan            | nan      | nan                 | nan     | nan      | 5.14414  | 14.2334 | 0.35868 | 50   | 5.67761 | -2.14889 | -132.655 | -11.8117 | 8.93969  | 34.9198 | -7.43867 | SAN_GAU  | SAN_GAU  | CaesarUyesaka | TeamExclusive | Team   | 20250124-CaesarUyesaka-Private-2 | 29ef90c0-dab0-11ef-b64c-2ba247267c32 | 90.788        | nan       | nan              | 9.66692   | nan                | nan                | nan                | nan              | nan              | nan              | e2d5b440-508a-48cd-9e58-715d78e5423d | 1/25/25 | 02:33.9 | 2025-01-24T16:02:33.8502638-08:00 | 2025-01-25T00:02:33.8502638Z | nan         | v3     | 471258            | 471258            | nan           | Fernandez, Ian | 1.0002e+07 | Right         | SAN_GAU     | 4afb0bfc-8d5d-4e2d-ae5d-f48cdb35f956 | 53.9164            | -133.682           | 17.4599            | 6.02176            | -11.5929           | -3.71933           | 0.42575            | -2.41179           | 4.46985            | nan         | nan              | nan              | nan              | nan              | nan              | nan              | nan              | nan              | nan              | nan              | nan              | nan              | nan              | nan              | nan              | nan              | nan              | nan              | nan              | nan              | nan              | nan              | nan              | nan              | nan              | nan              | nan              | nan        | nan     | nan          | nan        | nan            | nan            | nan            | nan            | nan            | nan            | nan           | nan           | nan           | nan                | nan                | nan                | nan                | nan                | nan                | nan                | nan                | nan                | High                   | High                    | High                    | nan                 | nan                  | nan                         | nan                           | nan\n",
       "8       | 1/24/25 | 02:57.8 | 2          | 3         | Hoover, Chase | 800623    | Left          | SAN_GAU     | Oakley, Nick   | 2        | Left       | GAU_ALU    | Undefined  | 1      | Top        | 1    | 1     | 1       | Cutter          | Slider        | BallCalled     | Undefined | Undefined     | Undefined  | 0          | 0          | nan   | 85.981   | 1.3554       | 0.414612     | 2438.81  | 217.007  | 1:15  | 6.03032   | -0.69555 | 6.06847   | -32.3823  | 5.59205          | 3.21768   | 4.58632        | -0.04373     | 77.6466   | -4.70405      | 0.994061      | 0.443524 | nan       | nan   | nan       | nan         | nan            | nan            | nan            | nan      | nan                 | nan     | nan      | -1.50386 | 2.89217 | 0.66189 | 50   | 6.11856 | -1.03726 | -124.741 | 1.89346  | -2.33967 | 28.041  | -27.6744 | SAN_GAU  | SAN_GAU  | CaesarUyesaka | TeamExclusive | Team   | 20250124-CaesarUyesaka-Private-2 | 38406be0-dab0-11ef-b64c-2ba247267c32 | 84.9841       | nan       | nan              | 8.33436   | nan                | nan                | nan                | nan              | nan              | nan              | e2d5b440-508a-48cd-9e58-715d78e5423d | 1/25/25 | 02:57.8 | 2025-01-24T16:02:57.8562542-08:00 | 2025-01-25T00:02:57.8562542Z | nan         | v3     | 471258            | 471258            | nan           | Fernandez, Ian | 1.0002e+07 | Right         | SAN_GAU     | 307d7d1f-ea8f-4b1b-a5f7-0a3b19de4c18 | 54.4247            | -125.731           | 14.0205            | 6.03439            | 2.87123            | -13.8372           | 0.69707            | -0.9546            | -1.16983           | nan         | nan              | nan              | nan              | nan              | nan              | nan              | nan              | nan              | nan              | nan              | nan              | nan              | nan              | nan              | nan              | nan              | nan              | nan              | nan              | nan              | nan              | nan              | nan              | nan              | nan              | nan              | nan              | nan        | nan     | nan          | nan        | nan            | nan            | nan            | nan            | nan            | nan            | nan           | nan           | nan           | nan                | nan                | nan                | nan                | nan                | nan                | nan                | nan                | nan                | High                   | High                    | High                    | nan                 | nan                  | nan                         | nan                           | nan\n",
       "9       | 1/24/25 | 03:15.3 | 2          | 4         | Hoover, Chase | 800623    | Left          | SAN_GAU     | Oakley, Nick   | 2        | Left       | GAU_ALU    | Undefined  | 1      | Top        | 1    | 2     | 1       | Fastball        | Four-Seam     | StrikeSwinging | Undefined | Undefined     | Undefined  | 0          | 0          | nan   | 93.0939  | -2.52921     | 0.910805     | 2198.64  | 172.146  | 11:45 | 6.21281   | -0.25043 | 6.15999   | -7.22122  | 25.2711          | -3.31744  | 3.2728         | 0.31458      | 83.5225   | -4.03902      | 0.312646      | 0.410263 | nan       | nan   | nan       | nan         | nan            | nan            | nan            | nan      | nan                 | nan     | nan      | 1.99012  | 14.1402 | 0.18285 | 50   | 6.01651 | -1.99533 | -134.898 | -6.00466 | 3.60193  | 34.214  | -6.58166 | SAN_GAU  | SAN_GAU  | CaesarUyesaka | TeamExclusive | Team   | 20250124-CaesarUyesaka-Private-2 | 429f2540-dab0-11ef-b64c-2ba247267c32 | 91.8739       | nan       | nan              | 9.57145   | nan                | nan                | nan                | nan              | nan              | nan              | e2d5b440-508a-48cd-9e58-715d78e5423d | 1/25/25 | 03:15.3 | 2025-01-24T16:03:15.2787950-08:00 | 2025-01-25T00:03:15.2787950Z | nan         | v3     | 471258            | 471258            | nan           | Fernandez, Ian | 1.0002e+07 | Right         | SAN_GAU     | c4066ff9-1722-43cc-bd15-759ce3d78be3 | 54.3322            | -135.992           | 17.107             | 6.2052             | -5.79414           | -3.29083           | 0.24852            | -2.11054           | 1.80097            | nan         | nan              | nan              | nan              | nan              | nan              | nan              | nan              | nan              | nan              | nan              | nan              | nan              | nan              | nan              | nan              | nan              | nan              | nan              | nan              | nan              | nan              | nan              | nan              | nan              | nan              | nan              | nan              | nan        | nan     | nan          | nan        | nan            | nan            | nan            | nan            | nan            | nan            | nan           | nan           | nan           | nan                | nan                | nan                | nan                | nan                | nan                | nan                | nan                | nan                | High                   | High                    | High                    | nan                 | nan                  | nan                         | nan                           | nan\n",
       "10      | 1/24/25 | 03:30.1 | 2          | 5         | Hoover, Chase | 800623    | Left          | SAN_GAU     | Oakley, Nick   | 2        | Left       | GAU_ALU    | Undefined  | 1      | Top        | 1    | 2     | 2       | Fastball        | Four-Seam     | BallCalled     | Undefined | Undefined     | Undefined  | 0          | 0          | nan   | 92.2586  | -4.73537     | 0.811818     | 2251.24  | 160.968  | 11:15 | 6.11764   | -0.17624 | 6.27986   | -10.8762  | 22.4603          | -7.28083  | 0.83636        | -0.03469     | 82.3763   | -6.90777      | -0.504462     | 0.415557 | nan       | nan   | nan       | nan         | nan            | nan            | nan            | nan      | nan                 | nan     | nan      | 4.04882  | 13.7004 | 0.11964 | 50   | 5.76212 | -1.57683 | -133.325 | -11.2451 | 7.09517  | 35.7227 | -8.16546 | SAN_GAU  | SAN_GAU  | CaesarUyesaka | TeamExclusive | Team   | 20250124-CaesarUyesaka-Private-2 | 4b778cc0-dab0-11ef-b64c-2ba247267c32 | 90.7033       | nan       | nan              | 9.88225   | nan                | nan                | nan                | nan              | nan              | nan              | e2d5b440-508a-48cd-9e58-715d78e5423d | 1/25/25 | 03:30.1 | 2025-01-24T16:03:30.1110766-08:00 | 2025-01-25T00:03:30.1110766Z | nan         | v3     | 471258            | 471258            | nan           | Fernandez, Ian | 1.0002e+07 | Right         | SAN_GAU     | 5481b27f-a806-4231-8f43-c41c1a771a21 | 54.2133            | -134.45            | 17.8613            | 6.11194            | -10.9881           | -4.08273           | 0.17278            | -1.80011           | 3.54759            | nan         | nan              | nan              | nan              | nan              | nan              | nan              | nan              | nan              | nan              | nan              | nan              | nan              | nan              | nan              | nan              | nan              | nan              | nan              | nan              | nan              | nan              | nan              | nan              | nan              | nan              | nan              | nan              | nan        | nan     | nan          | nan        | nan            | nan            | nan            | nan            | nan            | nan            | nan           | nan           | nan           | nan                | nan                | nan                | nan                | nan                | nan                | nan                | nan                | nan                | High                   | High                    | High                    | nan                 | nan                  | nan                         | nan                           | nan\n",
       "... (924 rows omitted)"
      ]
     },
     "execution_count": 2,
     "metadata": {},
     "output_type": "execute_result"
    }
   ],
   "source": [
    "pitches = Table.read_table(\"data/UCSB_baseball_1_24_25.csv\")\n",
    "pitches"
   ]
  },
  {
   "cell_type": "code",
   "execution_count": null,
   "id": "8bfff349-5fde-4fbe-b838-6dbeb0694d83",
   "metadata": {},
   "outputs": [],
   "source": [
    "pitches.labels"
   ]
  },
  {
   "cell_type": "code",
   "execution_count": null,
   "id": "9bdce8db-36c4-4837-8b0c-6f1548e6962f",
   "metadata": {},
   "outputs": [],
   "source": [
    "pitches.num_columns"
   ]
  },
  {
   "cell_type": "code",
   "execution_count": null,
   "id": "65e709ae-f419-4ef4-bc5b-e7a1d5175b84",
   "metadata": {},
   "outputs": [],
   "source": [
    "pitches.num_rows"
   ]
  },
  {
   "cell_type": "markdown",
   "id": "5fc9b2b2-fb27-465f-9286-25c789c4c08b",
   "metadata": {},
   "source": [
    "## Section 3.4: Introduction To Tables  (*new material this lecture*)\n",
    "\n",
    "### Four things to know for lab tomorrow\n",
    "Let's go over four things that I want you to know about Tables;\n",
    "you'll be asked about these tomorrow in your discussion section.\n",
    "\n",
    "It's open book / open note, so you may refer to this while doing the\n",
    "exercise; we'll also have this available for your reference.  So, for now,\n",
    "you don't need to memorize this.   But you do need to know where to find it, and\n",
    "how to apply this \"summary\" in a real coding situation.\n",
    "\n",
    "| What you want to do | How do do it |\n",
    "|-|-|\n",
    "| Find out the number of columns in table `t` | `t.num_columns` |\n",
    "| Find out the number of rows in table `t` | `t.num_rows` |\n",
    "| List the names of the columns in table `t` | `t.labels` |\n",
    "| Show just the first n rows of table `t` | `t.show(n)` where `n` is an integer |\n",
    "\n",
    "\n",
    "#### num_columns/num_rows\n",
    "The method `num_columns` gives the number of columns in the table, and `num_rows` the number of rows."
   ]
  },
  {
   "cell_type": "code",
   "execution_count": null,
   "id": "1d258082-2e9c-4f41-bf5a-2cc08ddbc82d",
   "metadata": {},
   "outputs": [],
   "source": []
  },
  {
   "cell_type": "code",
   "execution_count": null,
   "id": "3f2480f4-7492-4b74-8ab1-c1bf7e18d84a",
   "metadata": {},
   "outputs": [],
   "source": [
    "movies.num_columns"
   ]
  },
  {
   "cell_type": "markdown",
   "id": "e2267bb1-02fc-4b8e-97b5-4eb1bb004afd",
   "metadata": {},
   "source": [
    "Note that in the table above, it says `t.num_columns`, while here, we have `movies.num_columns`.\n",
    "\n",
    "The idea is that you put the name of the variable that holds the `Table` object in place of `t`.\n",
    "\n",
    "Earlier in this notebook, we defined a `Table` called `flowers`.  So we can find the number of columns via:"
   ]
  },
  {
   "cell_type": "code",
   "execution_count": null,
   "id": "525d78b1-f58c-41b7-80b2-cf68e88c6168",
   "metadata": {},
   "outputs": [],
   "source": [
    "flowers.num_columns"
   ]
  },
  {
   "cell_type": "code",
   "execution_count": null,
   "id": "57e7f781-b7a6-4238-a40b-a5dac3d61d00",
   "metadata": {},
   "outputs": [],
   "source": [
    "flowers"
   ]
  },
  {
   "cell_type": "markdown",
   "id": "de66dc1b-9e30-4ab9-823e-f8d5381ff101",
   "metadata": {},
   "source": [
    "We can also get the number of rows in a table `t` with `t.num_rows`:"
   ]
  },
  {
   "cell_type": "code",
   "execution_count": null,
   "id": "6ce5edf9-51fe-474a-9860-f029951794b9",
   "metadata": {},
   "outputs": [],
   "source": [
    "flowers.num_rows"
   ]
  },
  {
   "cell_type": "code",
   "execution_count": null,
   "id": "a5b0addb-52b0-401e-a6db-469e6bb6a348",
   "metadata": {},
   "outputs": [],
   "source": [
    "movies.num_rows"
   ]
  },
  {
   "cell_type": "markdown",
   "id": "7ad72bad-4662-46d3-8b27-4ae4f94580eb",
   "metadata": {},
   "source": [
    "Note that `num_rows` is not the same as `rows` which does something else entirely:"
   ]
  },
  {
   "cell_type": "code",
   "execution_count": null,
   "id": "48954c54-8452-46e4-8a0f-dae373d040ca",
   "metadata": {},
   "outputs": [],
   "source": [
    "flowers.rows"
   ]
  },
  {
   "cell_type": "markdown",
   "id": "32506412-b874-4eca-a839-fded0a95340e",
   "metadata": {},
   "source": [
    "We can see that plain old `.rows` gives us a value that is of a different type.  We won't need to investigate that further right now, but be aware that `.num_rows` and `.rows` are different.\n",
    "\n",
    "Check out these various `type` expressions:"
   ]
  },
  {
   "cell_type": "code",
   "execution_count": null,
   "id": "b8502f6b-c519-434d-861f-c0a9e5f6980a",
   "metadata": {},
   "outputs": [],
   "source": [
    "type(flowers.rows)"
   ]
  },
  {
   "cell_type": "code",
   "execution_count": null,
   "id": "43d44a17-fafd-453d-896c-d919657846b0",
   "metadata": {},
   "outputs": [],
   "source": [
    "type(flowers.num_rows)"
   ]
  },
  {
   "cell_type": "code",
   "execution_count": null,
   "id": "1689b2b4-c8bb-427f-8182-122b0df33a70",
   "metadata": {},
   "outputs": [],
   "source": [
    "type(flowers)"
   ]
  },
  {
   "cell_type": "markdown",
   "id": "f5df6e0b-7d81-47d7-bb96-c64ce8d4d44b",
   "metadata": {},
   "source": [
    "### `t.labels`\n",
    "\n",
    "To see the column names in Table `t`, we use `t.labels`, like this:\n"
   ]
  },
  {
   "cell_type": "code",
   "execution_count": null,
   "id": "032d1aac-4671-40cc-ba17-4c8571cf8b4b",
   "metadata": {},
   "outputs": [],
   "source": [
    "movies.labels"
   ]
  },
  {
   "cell_type": "code",
   "execution_count": null,
   "id": "edf64d25-3022-469a-9a1b-fa7f162a7ff5",
   "metadata": {},
   "outputs": [],
   "source": [
    "flowers.labels"
   ]
  },
  {
   "cell_type": "markdown",
   "id": "4da552e5-8e4a-4681-bf4a-4d57667a2677",
   "metadata": {},
   "source": [
    "### `t.show(n)`\n",
    "\n",
    "To show just the first `n` rows of a table, we can use `t.show(n)`, like this:"
   ]
  },
  {
   "cell_type": "code",
   "execution_count": null,
   "id": "6e93ce90-d254-42b7-b7d0-98d04d3185ee",
   "metadata": {},
   "outputs": [],
   "source": [
    "flowers.show(1)"
   ]
  },
  {
   "cell_type": "code",
   "execution_count": null,
   "id": "9d023bab-6140-4819-ab4b-8bc0c1ef1152",
   "metadata": {},
   "outputs": [],
   "source": [
    "flowers.show(2)"
   ]
  },
  {
   "cell_type": "code",
   "execution_count": null,
   "id": "730edb1d-15db-46f2-bb71-111a43326b50",
   "metadata": {},
   "outputs": [],
   "source": [
    "movies.show(5)"
   ]
  },
  {
   "cell_type": "markdown",
   "id": "69bea84d-d5e5-48d6-b2e0-ae90f4d7a3e8",
   "metadata": {},
   "source": [
    "## More on Tables"
   ]
  },
  {
   "cell_type": "markdown",
   "id": "bb68fe96-5b09-480e-9408-af502e52fc5c",
   "metadata": {},
   "source": [
    "#### Accessing data in a column\n",
    "We can use a column’s label to access the array of data in the column as shown below. "
   ]
  },
  {
   "cell_type": "code",
   "execution_count": null,
   "id": "fcadea99-640c-41e8-bcf7-02fe5af39be8",
   "metadata": {},
   "outputs": [],
   "source": [
    "movies.column(\"#1 Movie\")"
   ]
  },
  {
   "cell_type": "markdown",
   "id": "b52e38d0-1a88-4f53-9a9e-b29e1b94b936",
   "metadata": {},
   "source": [
    "## Asking AI about `datascience` table methods"
   ]
  },
  {
   "cell_type": "markdown",
   "id": "66c19007-9b0a-49ff-9ffd-dc3e471e2546",
   "metadata": {},
   "source": [
    "There are a variety of *methods* we can use on tables; these include \n",
    "* `show`\n",
    "* `select`\n",
    "* `drop`\n",
    "* `sort`\n",
    "* `where`\n",
    "and many others.\n",
    "\n",
    "Let's ask chatgpt for help:"
   ]
  },
  {
   "cell_type": "code",
   "execution_count": null,
   "id": "ce193c24-0408-474a-8330-aa2bafc60b87",
   "metadata": {},
   "outputs": [],
   "source": [
    "%%ai openai-chat:gpt-3.5-turbo\n",
    "Can you give me a brief summary of some of the most useful methods that\n",
    "we can use on a Table() from the Python datascience library?"
   ]
  },
  {
   "cell_type": "markdown",
   "id": "19029bbb-1832-41cf-a2e8-214b1d8dcc27",
   "metadata": {},
   "source": [
    "That was somewhat helpful.  But let's change our prompt and see if we can come up with something more useful."
   ]
  },
  {
   "cell_type": "markdown",
   "id": "caacc9f0-b5bd-4789-bfd4-ece85fc9aa22",
   "metadata": {},
   "source": [
    "That's more useful.  But it would be even better if we had \n",
    "a brief explanation with each one."
   ]
  },
  {
   "cell_type": "code",
   "execution_count": null,
   "id": "002d99b8-e6a1-45cc-9955-260c29bca373",
   "metadata": {},
   "outputs": [],
   "source": [
    "%%ai openai-chat:gpt-3.5-turbo\n",
    "Can you give me a brief summary of some of the most useful methods that\n",
    "we can use on a Table() from the Python datascience library, with examples\n",
    "that use the `movies` table defined in this notebook?"
   ]
  },
  {
   "cell_type": "code",
   "execution_count": null,
   "id": "60c43a52-6d95-48ca-9d67-5ab123092a22",
   "metadata": {},
   "outputs": [],
   "source": []
  },
  {
   "cell_type": "code",
   "execution_count": null,
   "id": "759c53f4-ce19-47f5-ac79-d4a0b112315e",
   "metadata": {},
   "outputs": [],
   "source": [
    "%%ai openai-chat:gpt-3.5-turbo\n",
    "Can you repeat that, but add a brief explanation \n",
    "along with each example that would help a beginner understand\n",
    "what the methods does, and anything else they should know?"
   ]
  },
  {
   "cell_type": "markdown",
   "id": "b26de9d4-9f11-4bf2-bb41-7f1aa4f03718",
   "metadata": {},
   "source": [
    "## Trying out the methods that ChatGPT suggested.\n",
    "\n",
    "In the cells above, you see where we asked ChatGPT for some methods\n",
    "that we can use on a table object.\n",
    "\n",
    "Note that the answers may vary each time you run the AI queries.  So the examples below are taken from one particular instance of the answers given by ChatGPT.  \n",
    "\n",
    "Let's try each of them out, and see if they work, or don't work the way that ChatGPT suggested they would.\n",
    "\n",
    "As we'll see, **ChatGPT doesn't always get it right!**\n"
   ]
  },
  {
   "cell_type": "markdown",
   "id": "8165b8a6-8cd1-481f-8107-79e3393fd3a4",
   "metadata": {},
   "source": [
    "### `.show()`\n",
    "\n",
    "This method displays the contents of the table in a format that is easily readable for the user.\n",
    "\n",
    "```\n",
    "movies.show()\n",
    "```"
   ]
  },
  {
   "cell_type": "code",
   "execution_count": null,
   "id": "b9104c5b-2529-4df8-b766-a65c2f193902",
   "metadata": {},
   "outputs": [],
   "source": [
    "movies.show() # This should work"
   ]
  },
  {
   "cell_type": "code",
   "execution_count": null,
   "id": "1422dece-a410-4603-a02a-1d64f0c63747",
   "metadata": {},
   "outputs": [],
   "source": [
    "movies.show(3)  # show just the first 3 rows"
   ]
  },
  {
   "cell_type": "markdown",
   "id": "c62761c4-b81c-4fae-8587-279a945693f3",
   "metadata": {},
   "source": [
    "### `.select()`\n",
    "\n",
    "Select method allows you to specify and display only the columns of interest from the table.\n",
    "\n",
    "```\n",
    "selected_columns = movies.select('Title', 'Genre')\n",
    "selected_columns.show()\n",
    "```\n"
   ]
  },
  {
   "cell_type": "code",
   "execution_count": null,
   "id": "8c5e417a-ea3c-4811-a917-5a6d5fdfe542",
   "metadata": {},
   "outputs": [],
   "source": [
    "selected_columns = movies.select('Title', 'Genre') # This doesn't work\n",
    "selected_columns.show()"
   ]
  },
  {
   "cell_type": "code",
   "execution_count": null,
   "id": "249972e2-7b8d-4711-9b7a-60a8192431a7",
   "metadata": {},
   "outputs": [],
   "source": [
    "movies.labels"
   ]
  },
  {
   "cell_type": "code",
   "execution_count": null,
   "id": "e132fd0e-c1b5-4240-be72-de81b9d90eda",
   "metadata": {},
   "outputs": [],
   "source": [
    "selected_columns = movies.select('Year', 'Total Gross') # This works\n",
    "selected_columns.show(3)"
   ]
  },
  {
   "cell_type": "markdown",
   "id": "c1cedbed-fc69-42db-9241-b3208ef381f9",
   "metadata": {},
   "source": [
    "### `.sort()`\n",
    "\n",
    "    Sort method arranges the rows of the table in ascending order based on the specified column.\n",
    "\n",
    "```\n",
    "sorted_table = movies.sort('Year')\n",
    "sorted_table.show(10)\n",
    "```"
   ]
  },
  {
   "cell_type": "code",
   "execution_count": null,
   "id": "d2a37da3-01bd-4753-ab15-f69d3b081663",
   "metadata": {},
   "outputs": [],
   "source": [
    "sorted_table = movies.sort('Year')\n",
    "sorted_table.show(10)"
   ]
  },
  {
   "cell_type": "code",
   "execution_count": null,
   "id": "18ae0ce4-05cc-45c5-9af1-1ce5ae3545c6",
   "metadata": {},
   "outputs": [],
   "source": [
    "sorted_table = movies.sort('Number of Movies')\n",
    "sorted_table.show(10)"
   ]
  },
  {
   "cell_type": "markdown",
   "id": "08c1ebef-1706-43b7-8ad6-086a38c15d71",
   "metadata": {},
   "source": [
    "### Digression: looking up the documentation \n",
    "\n",
    "On the Canvas site for the course, we have two links that are really helpful when dealing with instances of the `Table` object from the Python `datascience` module:\n",
    "\n",
    "* The [Datascience Package Documentation](https://www.data8.org/datascience/) at <https://www.data8.org/datascience/>\n",
    "* The [Datascience Python Reference (cheat sheet)](https://www.data8.org/sp22/python-reference.html) from the Spring 2022 Data 8 course at Berkeley at <https://www.data8.org/sp22/python-reference.html>\n",
    "\n",
    "If we look up the sort routine there, we can discover that we can use `descending=True` to sort biggest to smallest, like this:"
   ]
  },
  {
   "cell_type": "code",
   "execution_count": null,
   "id": "15bc9882-12d2-4745-a813-46c787e6c9b8",
   "metadata": {},
   "outputs": [],
   "source": [
    "movies.sort('Year', descending=True).show(5)"
   ]
  },
  {
   "cell_type": "code",
   "execution_count": null,
   "id": "394b51f1-fafa-4999-8d57-d93d6088e5ff",
   "metadata": {},
   "outputs": [],
   "source": [
    "movies.sort('Year').show(5)"
   ]
  },
  {
   "cell_type": "markdown",
   "id": "1d759195-929b-4c1c-b1ca-392c02be70eb",
   "metadata": {},
   "source": [
    "### `.where()`\n",
    "\n",
    "    Where method filters the rows of the table based on a specified condition.\n",
    "\n",
    "```\n",
    "filtered_rows = movies.where('Director', are.equal_to('Christopher Nolan'))\n",
    "filtered_rows.show(5)\n",
    "```"
   ]
  },
  {
   "cell_type": "code",
   "execution_count": null,
   "id": "8857496a-7d88-4a45-9713-9dae1efd1c7e",
   "metadata": {},
   "outputs": [],
   "source": [
    "# This is an AI hallucination!  There is no Director field in this table!\n",
    "filtered_rows = movies.where('Director', are.equal_to('Christopher Nolan'))\n",
    "filtered_rows.show(5)"
   ]
  },
  {
   "cell_type": "code",
   "execution_count": null,
   "id": "f16f3d3b-87a4-4f2c-931a-a67ae74baa89",
   "metadata": {},
   "outputs": [],
   "source": [
    "# This, on the other hand, works\n",
    "filtered_rows = movies.where('#1 Movie', are.containing('Star Wars'))\n",
    "filtered_rows.show()"
   ]
  },
  {
   "cell_type": "markdown",
   "id": "16981686-1703-4aa2-8bbe-3d90f4fd747b",
   "metadata": {},
   "source": [
    "We can see from the results above that when a Star Wars movie comes out, it is often the #1 movie in that year (by whatever criteria are being used in this dataset!)  Though, not always: Star Wars II, Attack of the Clones, is conspicuously absent.\n",
    "\n",
    "### How do you use `where`?\n",
    "\n",
    "Note: when using `where`, there is a collection of methods that you can use to specify which records you want.   These are called *where predicates*, and they are documented here:\n",
    "* <https://www.data8.org/datascience/reference-nb/datascience-reference.html#Table.where-Predicates>\n",
    "\n",
    "We will go over them all at a later date, but for now, here's a quick list of them:\n",
    "\n",
    "```\n",
    "    are.equal_to(...)\n",
    "    are.above(...)\n",
    "    are.above_or_equal_to(...)\n",
    "    are.below(...)\n",
    "    are.below_or_equal_to(...)\n",
    "    are.between(...)\n",
    "    are.between_or_equal_to(...)\n",
    "    are.contained_in(...)\n",
    "    are.containing(...)\n",
    "    are.strictly_between(...)\n",
    "```"
   ]
  },
  {
   "cell_type": "markdown",
   "id": "5b1cfc21-8d08-45bb-9400-8797bb49e4f3",
   "metadata": {},
   "source": [
    "### `.group()`\n",
    "\n",
    "    Group method groups the rows of the table based on a specified column, aggregating the data within each group.\n",
    "\n",
    "```\n",
    "grouped_table = movies.group('Director')\n",
    "grouped_table.show()\n",
    "```"
   ]
  },
  {
   "cell_type": "code",
   "execution_count": null,
   "id": "4a0cf073-5347-47e1-a074-a15589adc011",
   "metadata": {},
   "outputs": [],
   "source": [
    "# There is no \"Director\" column... we already know that!\n",
    "grouped_table = movies.group('Director')\n",
    "grouped_table.show()"
   ]
  },
  {
   "cell_type": "markdown",
   "id": "d01d0143-1c89-4505-aa0f-248c17024b6f",
   "metadata": {},
   "source": [
    "As it turns out, the movies table is not a good table to use as an example for the following methods:\n",
    "* group\n",
    "* join\n",
    "* pivot\n",
    "* barh\n",
    "\n",
    "So we are just going to skip over those for now, and return to them later; for the most part, they really don't come up until Chapters 7 and 8 anyway."
   ]
  },
  {
   "cell_type": "code",
   "execution_count": null,
   "id": "ea6a3884-5c25-4e17-bd65-8eeda786be1e",
   "metadata": {},
   "outputs": [],
   "source": [
    "### `.scatter()`\n",
    "\n",
    "    Scatter method creates a scatter plot using the data from the specified columns in the table.\n",
    "```\n",
    "movies.scatter('Year', 'Revenue (Millions)')\n",
    "```"
   ]
  },
  {
   "cell_type": "code",
   "execution_count": null,
   "id": "cc0ceac9-7375-455b-a396-45019fc2683e",
   "metadata": {},
   "outputs": [],
   "source": [
    "movies.scatter('Year', 'Revenue (Millions)') # Another hallucination!"
   ]
  },
  {
   "cell_type": "markdown",
   "id": "bc7036f5-f3e9-41ae-80ec-61e06e905e7e",
   "metadata": {},
   "source": [
    "ChatGPT is making stuff up again; we asked it to use the Movies table from our document, but it just sort of \"guessed\" at what the column names would be.\n",
    "\n",
    "But the bottom line is that `scatter` will make an (x,y) plot with:\n",
    "* one point for every row in the table\n",
    "* the first label we specify is for the x values\n",
    "* the second label we specify is for the y values\n",
    "\n",
    "Here are some examples:\n"
   ]
  },
  {
   "cell_type": "code",
   "execution_count": null,
   "id": "6e9d53b2-2d30-40cb-be6e-df8949c9be80",
   "metadata": {},
   "outputs": [],
   "source": [
    "movies.labels  # let's see the column names (labels) that DO exist"
   ]
  },
  {
   "cell_type": "code",
   "execution_count": null,
   "id": "551f48ec-cdcf-4f05-a838-e0b8e2b50b2f",
   "metadata": {},
   "outputs": [],
   "source": [
    "movies.show(2) # let's see the first two rows"
   ]
  },
  {
   "cell_type": "code",
   "execution_count": null,
   "id": "b2e620a1-2aa9-439e-b11d-11bde8cdd500",
   "metadata": {},
   "outputs": [],
   "source": [
    "movies.scatter('Year','Average Ticket Price')"
   ]
  },
  {
   "cell_type": "code",
   "execution_count": null,
   "id": "6b1e9db0-7ff3-4099-a3d0-e9ce823e8bdf",
   "metadata": {},
   "outputs": [],
   "source": [
    "movies.scatter('Average Ticket Price','Total Gross')"
   ]
  },
  {
   "cell_type": "code",
   "execution_count": null,
   "id": "9d89f038-8f5e-49cb-b99e-f619865252fa",
   "metadata": {},
   "outputs": [],
   "source": [
    "movies.scatter('Year','Total Gross')"
   ]
  },
  {
   "cell_type": "code",
   "execution_count": null,
   "id": "542457e6-4a37-45c1-b7b1-c9e438d53dba",
   "metadata": {},
   "outputs": [],
   "source": [
    "movies.scatter('Year','Number of Movies')"
   ]
  },
  {
   "cell_type": "markdown",
   "id": "408ab7e5-4e99-4fe2-8c90-eb4200bdedc5",
   "metadata": {},
   "source": [
    "## If there's extra time"
   ]
  },
  {
   "cell_type": "markdown",
   "id": "cf0cf68e-679e-41de-a779-b1c62196de22",
   "metadata": {},
   "source": [
    "To ask ChatGPT a question inside our notebook, we can create a code cell and put this in it:\n",
    "\n",
    "```\n",
    "%%ai openai-chat:gpt-3.5-turbo\n",
    "```\n",
    "\n",
    "Let's try asking it for some data about the UCs."
   ]
  },
  {
   "cell_type": "code",
   "execution_count": null,
   "id": "1382b18a-f3b2-4eb5-bec2-a65a61364a8a",
   "metadata": {},
   "outputs": [],
   "source": [
    "%%ai openai-chat:gpt-3.5-turbo\n",
    "Please give me a table of the University of California campuses, with the name of each, the year it was founded, the number of undergrad students, the number of grad students, and the number of total faculty.\n",
    "    "
   ]
  },
  {
   "cell_type": "markdown",
   "id": "2535bbbb-32a8-4cb1-988f-f517013d1ba3",
   "metadata": {},
   "source": [
    "# Building a Data Science table with this data\n",
    "\n",
    "We can build a data science table with this data by rewriting it like this:\n"
   ]
  },
  {
   "cell_type": "code",
   "execution_count": null,
   "id": "7157edff-0642-41f2-9119-b323b87c7888",
   "metadata": {},
   "outputs": [],
   "source": [
    "Table().with_columns( 'Campus Name', make_array(\"UC Berkeley\", \"UC Davis\"))"
   ]
  },
  {
   "cell_type": "markdown",
   "id": "49415522-2fd7-4e9a-8191-8b133964a47f",
   "metadata": {},
   "source": [
    "We can add the Year founded column like this:"
   ]
  },
  {
   "cell_type": "code",
   "execution_count": null,
   "id": "03c6750c-4d57-4c5a-a73d-d062d1989243",
   "metadata": {},
   "outputs": [],
   "source": [
    "ucs = Table().with_columns( 'Campus Name', make_array(\"UC Berkeley\", \"UC Davis\"),\n",
    "                            'Year Founded', make_array(1868, 1905) )\n",
    "ucs"
   ]
  },
  {
   "cell_type": "markdown",
   "id": "410983f2-6459-4d60-859f-d66cb7e0ab31",
   "metadata": {},
   "source": [
    "Adding more columns works the way you'd expect:"
   ]
  },
  {
   "cell_type": "code",
   "execution_count": null,
   "id": "6ae17a76-f181-492d-8d72-1d324e6de658",
   "metadata": {},
   "outputs": [],
   "source": [
    "ucs = Table().with_columns( 'Campus Name', make_array(\"UC Berkeley\", \"UC Davis\"),\n",
    "                            'Year Founded', make_array(1868, 1905),\n",
    "                            'Undergrads', make_array(31853, 30986) )\n",
    "ucs"
   ]
  },
  {
   "cell_type": "markdown",
   "id": "2cddf34d-9937-4173-bbe6-7099f6fd2034",
   "metadata": {},
   "source": [
    "Can the AI put this together for us?   Let's see:"
   ]
  },
  {
   "cell_type": "code",
   "execution_count": null,
   "id": "916ae54f-a425-4153-8129-5e8e46cdf686",
   "metadata": {},
   "outputs": [],
   "source": [
    "%%ai openai-chat:gpt-3.5-turbo\n",
    "Please give me a table of the University of California campuses, with the name of each, the year it was founded, the number of undergrad students, the number of grad students, and the number of total faculty.\n",
    "\n",
    "Please give me the table with ordinary table formatting, but then please also give me the code to build a table using\n",
    "the Python datascience moduile, following this example:\n",
    "\n",
    "ucs = Table().with_columns( 'Campus Name', make_array(\"UC Berkeley\", \"UC Davis\"),\n",
    "                            'Year Founded', make_array(1868, 1905),\n",
    "                            'Undergrads', make_array(31853, 30986) )\n",
    "ucs"
   ]
  },
  {
   "cell_type": "code",
   "execution_count": null,
   "id": "ed4cb585-b5d2-46a7-9e79-057a61aed338",
   "metadata": {},
   "outputs": [],
   "source": [
    "\n",
    "\n",
    "ucs = Table().with_columns(\n",
    "        'Campus Name', make_array(\"UC Berkeley\", \"UC Davis\", \"UC Irvine\", \"UC Los Angeles\", \"UC Merced\", \"UC Riverside\", \"UC San Diego\", \"UC San Francisco\", \"UC Santa Barbara\", \"UC Santa Cruz\"),\n",
    "        'Year Founded', make_array(1868, 1905, 1965, 1919, 2005, 1954, 1960, 1873, 1944, 1965),\n",
    "        'Undergrad Students', make_array(31853, 30986, 29588, 31577, 7442, 20640, 30285, 0, 21685, 17052),\n",
    "        'Grad Students', make_array(11922, 7029, 6549, 16526, 1030, 4315, 8825, 3738, 3603, 1601),\n",
    "        'Total Faculty', make_array(2383, 3256, 1526, 4010, 192, 1449, 3594, 1310, 1413, 596)\n",
    ")\n",
    "ucs"
   ]
  },
  {
   "cell_type": "markdown",
   "id": "b7006926-27dc-47f9-9ab8-dd5260f39c15",
   "metadata": {},
   "source": [
    "We'll do a lot more with this table in the classes to come!"
   ]
  },
  {
   "cell_type": "markdown",
   "id": "23daa956-a425-4414-acd6-510f8a3e4573",
   "metadata": {},
   "source": [
    "Let's review the \"cheat sheet\" of things you can do with a Table build with the python datascience module:\n",
    "* <https://www.data8.org/sp22/python-reference.html>\n",
    "\n",
    "If there's still time, we can try some of those things on this table.  You are encouraged to explore that on your own, after class as well."
   ]
  },
  {
   "cell_type": "code",
   "execution_count": null,
   "id": "cde1cc8a-ef89-42a4-925a-29eebafc78f6",
   "metadata": {},
   "outputs": [],
   "source": []
  }
 ],
 "metadata": {
  "kernelspec": {
   "display_name": "Python 3 (ipykernel)",
   "language": "python",
   "name": "python3"
  },
  "language_info": {
   "codemirror_mode": {
    "name": "ipython",
    "version": 3
   },
   "file_extension": ".py",
   "mimetype": "text/x-python",
   "name": "python",
   "nbconvert_exporter": "python",
   "pygments_lexer": "ipython3",
   "version": "3.13.7"
  }
 },
 "nbformat": 4,
 "nbformat_minor": 5
}
