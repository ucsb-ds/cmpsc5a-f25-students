{
 "cells": [
  {
   "cell_type": "code",
   "execution_count": 1,
   "id": "O4V92H3He78j",
   "metadata": {
    "id": "O4V92H3He78j"
   },
   "outputs": [],
   "source": [
    "# These lines import the Python modules we commonly use in CMPSC 5A\n",
    "from datascience import *\n",
    "import numpy as np\n",
    "%matplotlib inline\n",
    "import matplotlib.pyplot as plots"
   ]
  },
  {
   "cell_type": "markdown",
   "id": "cb3045df-2b48-46cb-81cb-a7141e968a3f",
   "metadata": {
    "id": "cb3045df-2b48-46cb-81cb-a7141e968a3f"
   },
   "source": [
    "# Welcome to CMPSC 5A for Fall 2025\n",
    "\n",
    "This is a course in Data Science (with a little bit of Computer Science sprinked in).\n",
    "\n",
    "There are no pre-requisites; we assume only familiarity with high school algebra.\n",
    "\n",
    "Data Science is working with data sets to answer questions and produce charts and graphs to help people make better decisions.\n",
    "\n",
    "* How to load data\n",
    "* How to produce charts, tables and graphs that summarize data\n",
    "* How to \"clean\" data when it's messy (e.g. missing values, invalid values, etc.)\n",
    "\n",
    "Along the way, you'll learn:\n",
    "* A little bit of basic Python programming\n",
    "* A little bit of basic statistics"
   ]
  },
  {
   "cell_type": "markdown",
   "id": "aa7a776e-15f0-4b91-a321-1133070324d3",
   "metadata": {
    "id": "aa7a776e-15f0-4b91-a321-1133070324d3"
   },
   "source": [
    "# Teaching Team\n",
    "\n",
    "\n",
    "\n",
    "| Name | Role | | Name | Role |\n",
    "|-|-|-|-|-|\n",
    "|Li An|TA||Stacy Callahan|ULA|\n",
    "|Ege Demirci|TA||Siddharth Chattoraj|ULA|\n",
    "|Jiabao Ji|TA||Rachit Gupta|ULA|\n",
    "|Ziyan Jiang|TA||Johanna Jansen|ULA|\n",
    "\n"
   ]
  },
  {
   "cell_type": "markdown",
   "id": "3227d40f-5692-44f5-8e4b-a4152adc3bf6",
   "metadata": {
    "id": "3227d40f-5692-44f5-8e4b-a4152adc3bf6"
   },
   "source": [
    "# Bring your laptop to class\n",
    "\n",
    "Unlike some courses where there's a \"no device\" policy, in this class we *want you to bring a laptop or table to class every time* and open it to the Jupyter hub and follow along.\n",
    "\n",
    "* That means lecture AND discussion.  Please bring your laptop, and try to have it charged if possible.\n",
    "\n",
    "Out of respect for your fellow students, though, please don't use your laptop for anything distracting during class.  If the lecture is not capturing your attention, or you really need to so something else during lecture, so be it, but please don't watch videos or play games; the flickering of your screen may create a distraction to people behind you.   (Or just sit in the back row.  I'm not trying to police your choices; I'm trying to make sure that the class is a comfortable place for those that are trying to pay attention.)\n"
   ]
  },
  {
   "cell_type": "markdown",
   "id": "02571869-86c1-432b-943c-612b95e5bceb",
   "metadata": {
    "id": "02571869-86c1-432b-943c-612b95e5bceb"
   },
   "source": [
    "# Attendance is Required\n",
    "\n",
    "There will be in-class activities that are graded (these are 10% of your course grade), and there will typically be *no opportunity to make these up*; if you miss them, you miss them.  \n",
    "\n",
    "I'm aware that from time-to-time, emergencies or legitimate will arise where you cannot be at class, or there may be day when you are just not feeling well.\n",
    "\n",
    "**For that reason, I will drop the grades of (at least) the lowest three in-class activities.**  \n",
    "\n",
    "That way, we won't need to spent time worrying about whether a given absence was \"excused\" or \"not excused\".  \n",
    "\n",
    "If you will need to miss more than three classes for a legitimate reason, you can make a private post on Ed (we'll talk about that next) and we can discuss your circumstances. But except in very unusual circumstances (an extended hospital stay, for example) in general, I don't think it's a good use of our time to be discussing whether or not a particular absence was excused.   Three drops should be enough to handle the occasional family emergency, bad cold, etc.\n"
   ]
  },
  {
   "cell_type": "markdown",
   "id": "41db7b65-297a-45b2-8348-3f7028536cda",
   "metadata": {
    "id": "41db7b65-297a-45b2-8348-3f7028536cda"
   },
   "source": [
    "# First in-class graded activity: Make a comment on EdStem.org\n",
    "\n",
    "Our first in-class activity, ic00, will be to make a post on EdStem, which is the platform where we communicate with one another.\n",
    "\n",
    "Please check your email; you should have an invitation to **EdStem.org**.  Please follow the instructions in that email to create your EdStem.org account.\n",
    "\n",
    "Once you have created the account, look for a post with the title \"04/01 Lecture\".  Under that post, please make a comment that includes:\n",
    "* The name you would like to be called\n",
    "* The pronouns you use (he/him, she/her, etc.)\n",
    "* Which discussion section you are in (10am, 11am, noon, 1pm)\n",
    "* A kind of data that you would find interesting to explore in this course\n",
    "* Optionally: tell us something about what that data is interesting to you\n",
    "\n",
    "For this last question, here are some examples of data that we can explore in this course. You can choose one of these if it appeals to you, but these are not the only choices.  Feel free to suggest something that's not on the list.\n",
    "* Entertainment Data (movies, TV shows, Broadway shows)\n",
    "* Sports Data (team and individual performance)\n",
    "* Economic Data (income, debt, cost of living)\n",
    "* Weather Data\n",
    "* Earthquake Data\n",
    "* UCSB Enrollment Trends (which courses fill up the fastest?)\n",
    "* Transportation Data (which airline routes are most often delayed?)"
   ]
  },
  {
   "cell_type": "markdown",
   "id": "40018d07-8c9b-407b-a3ce-6a7471262b79",
   "metadata": {
    "id": "40018d07-8c9b-407b-a3ce-6a7471262b79"
   },
   "source": [
    "# Please use EdStem early and often (rather than email)\n",
    "\n",
    "*Any* time you have a question about the course, please use EdStem to post the question.\n",
    "\n",
    "* For regular posts, everyone enrolled in the course and the course staff can see your post\n",
    "* You can also make private posts that only the course staff can see.\n",
    "\n",
    "Please avoid email for communicating with me and the course staff (the TAs and LAs).  Instead, please use edstem.org for all course related communications (unless a staff member specifically asks you to use email for some communication.)"
   ]
  },
  {
   "cell_type": "markdown",
   "id": "51c45f90-1397-4f2e-8c2d-5eae2bff8a72",
   "metadata": {
    "id": "51c45f90-1397-4f2e-8c2d-5eae2bff8a72"
   },
   "source": [
    "# Getting your Jupyter Hub working\n",
    "\n",
    "One of the first things we need to do is make sure that your\n",
    "access to the Jupyter hub is working.\n",
    "\n",
    "You'll use this throughout the course to do almost everything,\n",
    "and it's where can follow along with the lectures.\n",
    "\n",
    "Look on Canvas for the link marked:\n",
    "* `Update my Jupyter Notebook`\n",
    "\n",
    "Click it and bring up your Notebook  \n",
    "\n",
    "*(Here, the instructor will demonstrate logging in to Jupyter hub,\n",
    "and ask the students to do the same.)*"
   ]
  },
  {
   "cell_type": "markdown",
   "id": "ec71f271-08e5-40de-a560-9e6a3a86aa30",
   "metadata": {
    "id": "ec71f271-08e5-40de-a560-9e6a3a86aa30"
   },
   "source": [
    "# Turn off vim mode!\n",
    "\n",
    "Please go to the `Settings` menu in your Jupyter hub window,\n",
    "and find where it says `Enable Vim Mode`.  If there is a check mark\n",
    "beside it, that's what you DO NOT want.  Select the menu item,\n",
    "and make the check go away.\n",
    "\n"
   ]
  },
  {
   "cell_type": "markdown",
   "id": "2a496ab3-2ebe-4cf1-af12-fd9cc48cff18",
   "metadata": {
    "id": "2a496ab3-2ebe-4cf1-af12-fd9cc48cff18"
   },
   "source": [
    "# Python code can be embedded in a Notebook\n",
    "\n",
    "Here's an example.  This example shows assigning variables.   The *assignment statement* is one of the basic concepts of Python programming.\n",
    "\n",
    "Each assignment statement has a *variable name* e.g. `x`, `y`, or `z` on the left hand side, and an *expression* on the right hand side.  Expressions can take many forms, but some of the simplest ones are shown here: numbers, and variables that have already been assigned values.\n",
    "\n",
    "The line `print(z)` can be used to show the value of a particular variable.\n",
    "\n",
    "In a Jupyter notebook, you can have three kinds of cells: `Markdown`, `Code` and `Raw`.  We are only going to talk about Markdown and Code today.  \n",
    "* This is a `Markdown` cell; it has text in it formatted using a language called `Markdown`\n",
    "* The next cell is a `Code` cell; it contains Python code.\n",
    "* *Instructor: show the difference between the cells*\n",
    "\n",
    "You use `Control-Enter` to make a cell \"do something\" (format the text, or run the code).\n",
    "\n"
   ]
  },
  {
   "cell_type": "code",
   "execution_count": 2,
   "id": "d9eeb7bf-81f7-4efc-af96-118f892cb341",
   "metadata": {
    "id": "d9eeb7bf-81f7-4efc-af96-118f892cb341"
   },
   "outputs": [
    {
     "name": "stdout",
     "output_type": "stream",
     "text": [
      "3\n"
     ]
    }
   ],
   "source": [
    "x = 1\n",
    "y = 2\n",
    "z = x + y\n",
    "print(z)"
   ]
  },
  {
   "cell_type": "code",
   "execution_count": null,
   "id": "-fF15J-Je2ef",
   "metadata": {
    "id": "-fF15J-Je2ef"
   },
   "outputs": [],
   "source": []
  },
  {
   "cell_type": "markdown",
   "id": "04db0dbc-2b03-4541-8a85-bd23907dafea",
   "metadata": {
    "id": "04db0dbc-2b03-4541-8a85-bd23907dafea"
   },
   "source": [
    "## Shift-click in that top cell every single time... why?\n",
    "\n",
    "A Jupyter notebook has three types of cells: Code, Markdown, Raw\n",
    "\n",
    "The following image shows the selector box at the top of the Jupyter Notebook menu where you can switch a cell between these three formats."
   ]
  },
  {
   "cell_type": "markdown",
   "id": "9be9bde9-2660-442e-8fcc-e78bc7d4f5fa",
   "metadata": {
    "id": "9be9bde9-2660-442e-8fcc-e78bc7d4f5fa"
   },
   "source": []
  },
  {
   "cell_type": "markdown",
   "id": "6584fa12-c274-4b40-a29d-934445f102d8",
   "metadata": {
    "id": "6584fa12-c274-4b40-a29d-934445f102d8"
   },
   "source": [
    "Clicking in a *code* cell and pressing shift-enter *runs the code in that cell*.\n",
    "\n",
    "For the cells marked with `%%ai openai-chat:gpt-3.5-turbo` or `%%ai openai-chat:gpt-4`, these cells *will not work* until you've pressed shift-enter on that top cell at least once.\n",
    "\n",
    "The line of code: `%load_ext jupyter_ai_magics` loads the software needed for the commands starting with `%%ai ` to work properly.\n",
    "\n",
    "Similarly, the line at the top that says: `from datascience import *` loads some Python code that we need to do data science things. (We'll go into more detail about exactly what that means later in today's lecture.)"
   ]
  },
  {
   "cell_type": "code",
   "execution_count": null,
   "id": "_hHT-de_e15M",
   "metadata": {
    "id": "_hHT-de_e15M"
   },
   "outputs": [],
   "source": []
  },
  {
   "cell_type": "markdown",
   "id": "a4646366-5e49-4e13-b409-d35214ad13f2",
   "metadata": {
    "id": "a4646366-5e49-4e13-b409-d35214ad13f2"
   },
   "source": [
    "# A few more course logistics\n",
    "\n",
    "## Discussion Sections\n",
    "\n",
    "Discussion sections are Wednesday at 10am, 11am, noon and 1pm.\n",
    "\n",
    "Please attend the discussion section for which you are registered.\n",
    "\n",
    "If attending a different section is your *only* option:\n",
    "* *Make a private Ed post* and let us now if it's a \"one time thing\" or a permanent thing.  If it's a permanent thing, we'll try to get your switched into another section.\n",
    "  "
   ]
  },
  {
   "cell_type": "markdown",
   "id": "4e0b3ed5-6b08-4c16-815e-4d53b83407bb",
   "metadata": {
    "id": "4e0b3ed5-6b08-4c16-815e-4d53b83407bb"
   },
   "source": [
    "\n",
    "\n",
    "\n",
    "## Labs\n",
    "\n",
    "Labs will typically be introduced on Wednesdays in discussion section (that's one reason it's really important to go, so that you get the instructions!).\n",
    "\n",
    "They are typically due the following Tuesday.  We'll let you know if that changes.  Gradescope is the \"single source of truth\" for due dates for labs.\n",
    "\n",
    "\n",
    "## Projects\n",
    "\n",
    "\n",
    "There's a midterm project and a final project.\n",
    "\n",
    "The project involves actually *doing* data science; you'll be given a data set and some questions to answer about it. You'll prepare a Jupyter notebook, and a short video presentation.\n",
    "\n",
    "The midterm and final projects will be done in teams; being a good collaborator and team members will be part of your grade.  More on this later in the course.\n",
    "\n",
    "For now: try to find someone in your discussion section that you could work well with.  We'll have some activities where can get to know one another to try to help that along.\n",
    "\n",
    "\n",
    "## Syllabus\n",
    "\n",
    "* [Link to the Syllabus](https://docs.google.com/document/d/10AEQnCBIIeHku8TipKrfvwgwfFRuEnj-Gx3NFc5L1Ac/edit?usp=sharing)\n",
    "* It's also on Canvas"
   ]
  },
  {
   "cell_type": "markdown",
   "id": "991d35f5-8910-471e-a3b6-394838a7b741",
   "metadata": {
    "id": "991d35f5-8910-471e-a3b6-394838a7b741"
   },
   "source": [
    "# Using AI in this course\n",
    "\n",
    "This may surprise you, but unlike in some courses where you may be told *not* to use AI, in this course *encourage* the *reponsible* use of AI resources within limits:\n",
    "\n",
    "* First, AI should be used to *enable* learning, not to *avoid* learning.\n",
    "* Second, you should use only the AI resources that are provided in the Jupyter notebook environment (we'll demonstrate how to use those shortly).\n",
    "\n",
    "Since you are using AI through the Jupyter notebook, it is possible to *save your prompts*, and you are *required* to do so.  That is: if you use AI to help you get an answer, we want you to *show your work*:\n",
    "* What did you ask the AI?\n",
    "* What was its response?\n",
    "* What did you do with that response?\n",
    "\n",
    "You will have access to ChatGPT 3.5 turbo or 4 through Jupyter AI\n",
    "\n",
    "## Limits on AI Usage\n",
    "\n",
    "Note that the AI resources used in this class aren't \"free\"; your tutition dollars are being used to pay for the resources.  So, you may use the AI resources provided through the Jupyter hub only for legitimate course purposes of learning data science.   Please do not abuse the resource, or use it for personal projects unrelated to the course material and learning objectives.  \n",
    "\n",
    "## Collaboration\n",
    "\n",
    "* Asking questions is greatly encouraged\n",
    "* Discuss questions and concepts with each other\n",
    "* Submit assignments individually or with partner(s) from your discussion section\n",
    "* Use provided AI/LLMs wisely to understand concepts, code, analyses\n",
    "\n",
    "## The Limits of collaboration\n",
    "* Don't share solutions with each other (except partners)\n",
    "* Submit LLM prompts and responses with your work\n",
    "* In general, observe usual principles of academic integrity: don't submit other people's work as your own.\n"
   ]
  },
  {
   "cell_type": "markdown",
   "id": "7b9c621d-b9ad-43c1-856f-f8a831ea8bfd",
   "metadata": {
    "id": "7b9c621d-b9ad-43c1-856f-f8a831ea8bfd"
   },
   "source": [
    "# Reading Assignment\n",
    "\n",
    "Before Section:\n",
    "* Please read [Chapter 1 in the textbook](https://inferentialthinking.com/chapters/01/what-is-data-science.html). Don't worry; it's short, and not all that technical!\n",
    "* Skip Chapter 2 for now; we'll come back to it after Chapter 3.\n",
    "* [Chapter 3](https://inferentialthinking.com/chapters/03/programming-in-python.html) is a bit more technical so we'll take it more slowly.  Please read at least 3.1 (Expressions) and 3.2 (Names) before Tuesday.\n",
    "* As you read Chapter 3, you are encouraged to open a Jupyter Notebook (perhaps this one) and start playing around with Python code inside of code cells.  You can just add your own code and text cells as the end of any of these notebooks.\n",
    "\n",
    "Before your discussion section next Wednesdady:\n",
    "\n",
    "* Please read everything in the list for section above\n",
    "* And add Sections [3.3 (Calls)](https://inferentialthinking.com/chapters/03/3/Calls.html) and [3.4 (Tables)](https://inferentialthinking.com/chapters/03/4/Introduction_to_Tables.html)."
   ]
  },
  {
   "cell_type": "code",
   "execution_count": null,
   "id": "70da437c-b2b1-418d-8200-d8aa43e18d7d",
   "metadata": {
    "id": "70da437c-b2b1-418d-8200-d8aa43e18d7d"
   },
   "outputs": [],
   "source": []
  },
  {
   "cell_type": "markdown",
   "id": "2412b5c2-f33e-4652-bca2-55b420d5b2a0",
   "metadata": {
    "id": "2412b5c2-f33e-4652-bca2-55b420d5b2a0"
   },
   "source": [
    "## Chapter 1: That code stuff\n",
    "\n",
    "So there's some code in Chapter 1, and I want to encourage you, when you see code in the book, try *try out that code for yourself*.\n",
    "\n",
    "It's never a good look to throw the textbook authors under the bus in the first week of the course, so I want to emphasize: this is a *good* textbook.  It's *free*, it's *online*, and they try to make good use of your time, by keeping it to just the essentials.\n",
    "\n",
    "But one small beef I have with the authors is that the code in Chapter 1 *doesn't work* unless you fill in a missing piece.  Let's explore that a bit.\n",
    "\n"
   ]
  },
  {
   "cell_type": "markdown",
   "id": "73f7c297-42d5-444e-b90d-385db3503732",
   "metadata": {
    "id": "73f7c297-42d5-444e-b90d-385db3503732"
   },
   "source": [
    "Here's the first code cell from [Section 1.3 (Plotting the classics)](https://inferentialthinking.com/chapters/01/3/Plotting_the_Classics.html) *without* modification.  Note that when we try it run it, it doesn't work!\n",
    "\n",
    "(Note to self: you may need to do `Restart Kernel and Clear Outputs of All Cells` from the `Kernel` menu to demonstrate this, because later in the notebook the code to solve this problem appears.)"
   ]
  },
  {
   "cell_type": "code",
   "execution_count": null,
   "id": "9477aa5a-ecb4-499d-bd19-640b77d1d2f4",
   "metadata": {
    "id": "9477aa5a-ecb4-499d-bd19-640b77d1d2f4"
   },
   "outputs": [],
   "source": [
    "# Read two books, fast!\n",
    "\n",
    "huck_finn_url = 'https://www.inferentialthinking.com/data/huck_finn.txt'\n",
    "huck_finn_text = read_url(huck_finn_url)\n",
    "huck_finn_chapters = huck_finn_text.split('CHAPTER ')[44:]\n",
    "\n",
    "little_women_url = 'https://www.inferentialthinking.com/data/little_women.txt'\n",
    "little_women_text = read_url(little_women_url)\n",
    "little_women_chapters = little_women_text.split('CHAPTER ')[1:]"
   ]
  },
  {
   "cell_type": "markdown",
   "id": "454b522c-d8c2-4a4e-a3c2-67a99e08b348",
   "metadata": {
    "id": "454b522c-d8c2-4a4e-a3c2-67a99e08b348"
   },
   "source": [
    "We get `NameError: name 'read_url' is not defined`\n",
    "\n",
    "Typically, you might get that because that `from datascience import *` thing is not defined at the top of the file.  \n",
    "\n",
    "Indeed, the first time I asked chatgpt this question, that's what it told me; to put `from datascience import *` at the top of my file.   I can tell you: it didn't work (and since we have it at the top of our file, it clear still doesn't work).\n"
   ]
  },
  {
   "cell_type": "markdown",
   "id": "2b5680a6-46f4-4e55-a304-42d31e8d9733",
   "metadata": {
    "id": "2b5680a6-46f4-4e55-a304-42d31e8d9733"
   },
   "source": [
    "\n",
    "I was never able to get the correct answer from Chatgpt, but a websearch on\n",
    "```\n",
    "read_url function from chapter 1 of data 8 textbook\n",
    "```\n",
    "\n",
    "turned up this link to lecture notes from Data 8 at Berkeley (the class for which our textbook was originally written):\n",
    "* <https://www.data8.org/sp23/assets/demo_html/lec01.html>\n",
    "\n",
    "And in those notes, we have this code, introduced like this:\n",
    "\n",
    "> We can use the tools of data science to study text. For example, here we will do some basic analysis of \"Adventures of Huckleberry Finn\" (by Mark Twain) and from \"Little Women\" (by Louisa May Alcott).\n",
    ">\n",
    "> Often the first step in data sciences is getting the data. The following is a tiny program to download text from the web.\n"
   ]
  },
  {
   "cell_type": "code",
   "execution_count": null,
   "id": "a4d488f8-5ae0-4399-8ecd-d17662b6a0e8",
   "metadata": {
    "id": "a4d488f8-5ae0-4399-8ecd-d17662b6a0e8"
   },
   "outputs": [],
   "source": [
    "# A tiny program to download text from the web.\n",
    "def read_url(url):\n",
    "    from urllib.request import urlopen\n",
    "    import re\n",
    "    return re.sub('\\\\s+', ' ', urlopen(url).read().decode())\n"
   ]
  },
  {
   "cell_type": "markdown",
   "id": "a39b8cff-d907-479d-a6c2-4159036ca583",
   "metadata": {
    "id": "a39b8cff-d907-479d-a6c2-4159036ca583"
   },
   "source": [
    "Ah it's the missing piece!  This is what is known in Python as a *function definition*.  \n",
    "\n",
    "This *little program to read text from the web* is actually a *Python function* that we've defined.\n",
    "\n",
    "We'll learn about more about *function definitions* when we get to [Chapter 8 (Functions and Tables)](https://inferentialthinking.com/chapters/08/Functions_and_Tables.html) (and if you want to jump ahead and read it, I *strongly encourage that*.  That first bit of Chapter 8 doesn't depend on much from the chapters we'd have to skip to get there (2, 4, 5, 6, 7), and it's pretty fundamental stuff.\n",
    "\n",
    "For now, though let's say this:\n",
    "* A function definition creates a *new unit of software* and gives it a name (in this case, `read_url`)\n",
    "* When a programmer creates a function definition, they write down the steps to compute something in a particular language (in this case Python)\n",
    "* Once a function definition is created, it becomes a \"short hand\" for carrying out all of those steps.\n",
    "* In this case, there are three things the program is doing (the three lines of code after `read_url(url)`.\n",
    "* But from now on, when we want to do *those three things*, we only have to write `read_url(...)`, which is *much shorter to write!*\n",
    "\n",
    "Larry Wall, the creator of a language called `Perl` that was widely used until Python mostly replaced it, said that *laziness* was one of the virtues of a programmer, which is a weird thing to say.  \n",
    "\n",
    "But it's a bit of an inside joke, because what he meant was that if you're lazy, you'd prefer to write this every time you want to go get some tet from the web:\n",
    "\n",
    "```\n",
    "read_url(url)\n",
    "```\n",
    "\n",
    "Rather than:\n",
    "```\n",
    "    from urllib.request import urlopen\n",
    "    import re\n",
    "    return re.sub('\\\\s+', ' ', urlopen(url).read().decode())\n",
    "```\n",
    "\n",
    "And writing `read_url(huck_finn_url)` is much easier to read and understand than:\n",
    "\n",
    "```\n",
    "    from urllib.request import urlopen\n",
    "    import re\n",
    "    return re.sub('\\\\s+', ' ', urlopen(huck_finn_url).read().decode())\n",
    "\n",
    "```\n",
    "\n",
    "(If you already know a little python, you might recognize that the first lines of this are `import` statements, and you really only need to do those once.  \n",
    "\n",
    "But even so, even if it's just the one line,  `read_url(huck_finn_url)`  \n",
    "is much nicer then `re.sub('\\\\s+', ' ', urlopen(huck_finn_url).read().decode())`"
   ]
  },
  {
   "cell_type": "markdown",
   "id": "8c6353d8-bc1b-47c7-ad75-a1e9d5ea2939",
   "metadata": {
    "id": "8c6353d8-bc1b-47c7-ad75-a1e9d5ea2939"
   },
   "source": [
    "## With the missing piece loaded, let's look at the Chapter 1 code\n",
    "\n",
    "Ok, now that the missing piece is loaded, let's try the Chapter 1 code again. Here it is:"
   ]
  },
  {
   "cell_type": "code",
   "execution_count": null,
   "id": "19a7c66a-73c8-4c03-b2f0-477601cd9fb2",
   "metadata": {
    "id": "19a7c66a-73c8-4c03-b2f0-477601cd9fb2"
   },
   "outputs": [],
   "source": [
    "# Read two books, fast!\n",
    "\n",
    "huck_finn_url = 'https://www.inferentialthinking.com/data/huck_finn.txt'\n",
    "huck_finn_text = read_url(huck_finn_url)\n",
    "huck_finn_chapters = huck_finn_text.split('CHAPTER ')[44:]\n",
    "\n",
    "little_women_url = 'https://www.inferentialthinking.com/data/little_women.txt'\n",
    "little_women_text = read_url(little_women_url)\n",
    "little_women_chapters = little_women_text.split('CHAPTER ')[1:]"
   ]
  },
  {
   "cell_type": "markdown",
   "id": "fbcb08e6-b9ed-478b-9e81-88bcd3b6e558",
   "metadata": {
    "id": "fbcb08e6-b9ed-478b-9e81-88bcd3b6e558"
   },
   "source": [
    "When the code works properly, you get no error messages, but you also get no output.  It almost seems like nothing happened.\n",
    "\n",
    "But in fact, something important happened:\n",
    "* the *names* of the *variables*\n",
    "* on the *left hand side* of the *assignment statements*\n",
    "* are all getting *values*\n",
    "* from the *expressions* on the *right hand side* of the *assignment statements*\n",
    "\n",
    "We can check on the values of each of these variables by putting each of them in it's own code cell, and pressing shift-enter\n"
   ]
  },
  {
   "cell_type": "code",
   "execution_count": null,
   "id": "d11fc7f0-3b14-41e3-b535-5058692984f7",
   "metadata": {
    "id": "d11fc7f0-3b14-41e3-b535-5058692984f7"
   },
   "outputs": [],
   "source": [
    "huck_finn_url"
   ]
  },
  {
   "cell_type": "markdown",
   "id": "e3fe6f17-70c6-438b-bb40-b8101496e7ca",
   "metadata": {
    "id": "e3fe6f17-70c6-438b-bb40-b8101496e7ca"
   },
   "source": [
    "This next one is going to be pretty long, so we'll learn about the `Clear Cell Output` command that is on the `Edit` menu.\n",
    "\n",
    "Note that after we use shift-enter to run the next cell, we get an output that is enormous, because this variable contains the entire text of Huck Finn, a very long novel.\n",
    "\n",
    "To make that go away on our screen, we can go to the `Edit` menu and use `Clear Cell Output`."
   ]
  },
  {
   "cell_type": "code",
   "execution_count": null,
   "id": "466f5ab2-d162-4fcf-9fda-b4687528b371",
   "metadata": {
    "id": "466f5ab2-d162-4fcf-9fda-b4687528b371"
   },
   "outputs": [],
   "source": [
    "huck_finn_text"
   ]
  },
  {
   "cell_type": "markdown",
   "id": "bb866df6-9fee-4566-b227-4585d06bf995",
   "metadata": {
    "id": "bb866df6-9fee-4566-b227-4585d06bf995"
   },
   "source": [
    "If we have a variable that represents something really long like this, there are ways of shortening the output. But those depend on the *type* of the value represented by the variable.  We can ask that by doing this:"
   ]
  },
  {
   "cell_type": "code",
   "execution_count": null,
   "id": "87875548-4e0d-4192-8fc4-aaebdd97ad02",
   "metadata": {
    "id": "87875548-4e0d-4192-8fc4-aaebdd97ad02"
   },
   "outputs": [],
   "source": [
    "type(huck_finn_text)"
   ]
  },
  {
   "cell_type": "markdown",
   "id": "5c265c1d-a377-4e9f-a3d4-eaf2313fba2e",
   "metadata": {
    "id": "5c265c1d-a377-4e9f-a3d4-eaf2313fba2e"
   },
   "source": [
    "We'll learn more about various data types in [Chapter 4 (Data Types)](https://inferentialthinking.com/chapters/04/Data_Types.html#) but for now, I'll just say that `str` means *string*, which in Computer Science, means *a sequence of characters (letters, numbers, symbols)*.\n",
    "\n",
    "So it makes sense that a value that stores the contents of a novel would be a *string* (`str` in Python).\n",
    "\n",
    "For a string variable, we can see just part of it by using *string subscripting*.  The individual letters in the string are numbered starting from zero, rather than one.  So, as an example, consider the string `Data Science`\n"
   ]
  },
  {
   "cell_type": "code",
   "execution_count": null,
   "id": "1ca43cf6-e153-427a-a783-c03f62bf7779",
   "metadata": {
    "id": "1ca43cf6-e153-427a-a783-c03f62bf7779"
   },
   "outputs": [],
   "source": [
    "courseName = \"Data Science\""
   ]
  },
  {
   "cell_type": "markdown",
   "id": "b69229e3-6089-48b6-a7c0-b1dcbf471ee5",
   "metadata": {
    "id": "b69229e3-6089-48b6-a7c0-b1dcbf471ee5"
   },
   "source": [
    "In Python, we use quotation marks `\"Like this\"` around string values.  \n",
    "\n",
    "We can use either double quotes `\"Like this\"` or single quotes (`'like this'`) and the choice is mainly just one of individual preference.\n",
    "\n",
    "Now, in courseName, we can select our individual characters.  The first character is *indexed* with 0, and we can use *square brackets* to pull out that character:\n"
   ]
  },
  {
   "cell_type": "code",
   "execution_count": null,
   "id": "505171a5-b239-41af-8ac8-fe5b40c86be8",
   "metadata": {
    "id": "505171a5-b239-41af-8ac8-fe5b40c86be8"
   },
   "outputs": [],
   "source": [
    "courseName[0]"
   ]
  },
  {
   "cell_type": "markdown",
   "id": "2e15e784-9f73-44ad-ae04-9906d596b494",
   "metadata": {
    "id": "2e15e784-9f73-44ad-ae04-9906d596b494"
   },
   "source": [
    "The next character is indexed with 1:"
   ]
  },
  {
   "cell_type": "code",
   "execution_count": null,
   "id": "9eae1158-495d-4f2b-99e4-3137233bb64b",
   "metadata": {
    "id": "9eae1158-495d-4f2b-99e4-3137233bb64b"
   },
   "outputs": [],
   "source": [
    "courseName[1]"
   ]
  },
  {
   "cell_type": "markdown",
   "id": "6685bfd1-bb03-481e-b594-027f509dbcef",
   "metadata": {
    "id": "6685bfd1-bb03-481e-b594-027f509dbcef"
   },
   "source": [
    "We can select the first four characters by asking for `courseName[0:4]`.  In this case `0:4` is referred to as a *slice*"
   ]
  },
  {
   "cell_type": "code",
   "execution_count": null,
   "id": "83568274-0e43-417d-b857-905721cedb45",
   "metadata": {
    "id": "83568274-0e43-417d-b857-905721cedb45"
   },
   "outputs": [],
   "source": [
    "courseName[0:4]"
   ]
  },
  {
   "cell_type": "markdown",
   "id": "d415f4a4-d3c2-4f50-82a8-dc4e86f8995c",
   "metadata": {
    "id": "d415f4a4-d3c2-4f50-82a8-dc4e86f8995c"
   },
   "source": [
    "We can get the entire string starting from the character in position 5 by leaving out the second number in the slice:"
   ]
  },
  {
   "cell_type": "code",
   "execution_count": null,
   "id": "bcde016a-ce8d-4259-bc6f-3c659e1d551f",
   "metadata": {
    "id": "bcde016a-ce8d-4259-bc6f-3c659e1d551f"
   },
   "outputs": [],
   "source": [
    "courseName[5:]"
   ]
  },
  {
   "cell_type": "markdown",
   "id": "0fb43ac9-615c-4431-9ce8-8895d28c1313",
   "metadata": {
    "id": "0fb43ac9-615c-4431-9ce8-8895d28c1313"
   },
   "source": [
    "We can also get \"up to (but not including) a certain character\" by leaving out the first number in the slice:"
   ]
  },
  {
   "cell_type": "code",
   "execution_count": null,
   "id": "fb328e08-791b-4495-8629-6a9fd5d718cd",
   "metadata": {
    "id": "fb328e08-791b-4495-8629-6a9fd5d718cd"
   },
   "outputs": [],
   "source": [
    "courseName[:4]"
   ]
  },
  {
   "cell_type": "markdown",
   "id": "f4a98fae-b37c-4771-86bf-e401edb18d7b",
   "metadata": {
    "id": "f4a98fae-b37c-4771-86bf-e401edb18d7b"
   },
   "source": [
    "Note that courseName[4] is the space character (since we start numbering at zero)"
   ]
  },
  {
   "cell_type": "code",
   "execution_count": null,
   "id": "4639306b-b29c-49d0-aff0-4c9eaad1612d",
   "metadata": {
    "id": "4639306b-b29c-49d0-aff0-4c9eaad1612d"
   },
   "outputs": [],
   "source": [
    "courseName[4]"
   ]
  },
  {
   "cell_type": "markdown",
   "id": "e4b50551-1f3f-4a52-b3ba-c19492e99451",
   "metadata": {
    "id": "e4b50551-1f3f-4a52-b3ba-c19492e99451"
   },
   "source": [
    "With this knowledge, we can now go back and look at our variables; as a reminder here's the code we were looking at:"
   ]
  },
  {
   "cell_type": "code",
   "execution_count": null,
   "id": "f80bcc50-93db-424c-989c-dac2229c6128",
   "metadata": {
    "id": "f80bcc50-93db-424c-989c-dac2229c6128"
   },
   "outputs": [],
   "source": [
    "# Read two books, fast!\n",
    "\n",
    "huck_finn_url = 'https://www.inferentialthinking.com/data/huck_finn.txt'\n",
    "huck_finn_text = read_url(huck_finn_url)\n",
    "huck_finn_chapters = huck_finn_text.split('CHAPTER ')[44:]\n",
    "\n",
    "little_women_url = 'https://www.inferentialthinking.com/data/little_women.txt'\n",
    "little_women_text = read_url(little_women_url)\n",
    "little_women_chapters = little_women_text.split('CHAPTER ')[1:]"
   ]
  },
  {
   "cell_type": "markdown",
   "id": "77252979-e6b2-4739-ba77-d717c45684a7",
   "metadata": {
    "id": "77252979-e6b2-4739-ba77-d717c45684a7"
   },
   "source": [
    "Knowing that `huck_finn_text` is of type `str` (*string*) we can ask for just the first 100 characters:"
   ]
  },
  {
   "cell_type": "code",
   "execution_count": null,
   "id": "9ddd27b6-1b50-4e9a-847f-54d4a143a5dd",
   "metadata": {
    "id": "9ddd27b6-1b50-4e9a-847f-54d4a143a5dd"
   },
   "outputs": [],
   "source": [
    "huck_finn_text[:100]"
   ]
  },
  {
   "cell_type": "markdown",
   "id": "bffdeb4a-bc04-4331-be90-966a7a6f78ce",
   "metadata": {
    "id": "bffdeb4a-bc04-4331-be90-966a7a6f78ce"
   },
   "source": [
    "Much nicer! But what's that weird `\\ufeff` thing?  Good question for our AI assistant!"
   ]
  },
  {
   "cell_type": "code",
   "execution_count": null,
   "id": "NcRi0JHZgT2K",
   "metadata": {
    "id": "NcRi0JHZgT2K"
   },
   "outputs": [],
   "source": []
  },
  {
   "cell_type": "code",
   "execution_count": null,
   "id": "c24e9ba3-7770-4731-bbbd-31ee0b800000",
   "metadata": {
    "id": "c24e9ba3-7770-4731-bbbd-31ee0b800000"
   },
   "outputs": [],
   "source": [
    "%%ai openai-chat:gpt-3.5-turbo\n",
    "I see '\\ufeff' in a python string.  What is that?"
   ]
  },
  {
   "cell_type": "markdown",
   "id": "db0be1d4-f9a2-4b5f-a1cc-9c8ed6371547",
   "metadata": {
    "id": "db0be1d4-f9a2-4b5f-a1cc-9c8ed6371547"
   },
   "source": [
    "Well, that didn't shed much light.  Let's ask again"
   ]
  },
  {
   "cell_type": "code",
   "execution_count": null,
   "id": "4ce40fc2-92ed-4751-a9ef-4b136149a1a9",
   "metadata": {
    "id": "4ce40fc2-92ed-4751-a9ef-4b136149a1a9"
   },
   "outputs": [],
   "source": [
    "%%ai openai-chat:gpt-3.5-turbo\n",
    "You say that '\\ufeff' in a python string is the byte order mark (BOM) character, which is used to indicate the endianness of a text file or stream\n",
    "but I have no idea what that means. Can you explain in simple terms?"
   ]
  },
  {
   "cell_type": "markdown",
   "id": "d64af983-86a8-43e1-b88d-d443214da0aa",
   "metadata": {
    "id": "d64af983-86a8-43e1-b88d-d443214da0aa"
   },
   "source": [
    "Ok, that's a little more clear, and I think we'll leave it at that, since getting into what *endianness* is is really getting way deeper into Computer Science than we are going to need for this course.  We'll just say \"it's an invisible character that we can ignore\" and leave it at that for now.  Let's look at `huck_finn_chapters`, but before we do, let's see what it's *datatype* is:"
   ]
  },
  {
   "cell_type": "code",
   "execution_count": null,
   "id": "d861d1e1-0fad-4102-b965-a3cac80762ff",
   "metadata": {
    "id": "d861d1e1-0fad-4102-b965-a3cac80762ff"
   },
   "outputs": [],
   "source": [
    "type(huck_finn_chapters)"
   ]
  },
  {
   "cell_type": "markdown",
   "id": "811286c6-c336-4181-adbb-3e7599fd3d83",
   "metadata": {
    "id": "811286c6-c336-4181-adbb-3e7599fd3d83"
   },
   "source": [
    "Ok, that's helpful to know.  A *list* in Python is an ordered collection of things. Here's an example:"
   ]
  },
  {
   "cell_type": "code",
   "execution_count": null,
   "id": "09a6fe32-7d69-41a9-83fd-59b532b44497",
   "metadata": {
    "id": "09a6fe32-7d69-41a9-83fd-59b532b44497"
   },
   "outputs": [],
   "source": [
    "majors = [\"Data Science\", \"Sociology\", \"History\", \"English\"]"
   ]
  },
  {
   "cell_type": "code",
   "execution_count": null,
   "id": "4948189c-2c0b-49ad-af8b-f446a5143f71",
   "metadata": {
    "id": "4948189c-2c0b-49ad-af8b-f446a5143f71"
   },
   "outputs": [],
   "source": [
    "type(majors)"
   ]
  },
  {
   "cell_type": "code",
   "execution_count": null,
   "id": "ac8b49fd-e0fd-4d0e-9912-b71b0d2d52e9",
   "metadata": {
    "id": "ac8b49fd-e0fd-4d0e-9912-b71b0d2d52e9"
   },
   "outputs": [],
   "source": [
    "majors"
   ]
  },
  {
   "cell_type": "markdown",
   "id": "91559f02-5ee4-44d6-a7a8-f2fd7859a4b3",
   "metadata": {
    "id": "91559f02-5ee4-44d6-a7a8-f2fd7859a4b3"
   },
   "source": [
    "Lists have the same kind of slicing on them that we have with strings.  What do you think each of these will produce?\n",
    "\n",
    "```\n",
    "majors[1]\n",
    "majors[2:4]\n",
    "majors[3:]\n",
    "majors[:2]\n",
    "```"
   ]
  },
  {
   "cell_type": "markdown",
   "id": "b11bc955-3156-4baa-b5cd-6d610c6dc310",
   "metadata": {
    "id": "b11bc955-3156-4baa-b5cd-6d610c6dc310"
   },
   "source": [
    "Let's find out!  We can put each in it's own cell, like this:"
   ]
  },
  {
   "cell_type": "code",
   "execution_count": null,
   "id": "f95cfcab-6f01-47ed-b822-1a6ec3dc963f",
   "metadata": {
    "id": "f95cfcab-6f01-47ed-b822-1a6ec3dc963f"
   },
   "outputs": [],
   "source": [
    "majors[1]"
   ]
  },
  {
   "cell_type": "code",
   "execution_count": null,
   "id": "7edaa26c-8d55-4747-a9f1-c5b095be8216",
   "metadata": {
    "id": "7edaa26c-8d55-4747-a9f1-c5b095be8216"
   },
   "outputs": [],
   "source": [
    "majors[2:4]"
   ]
  },
  {
   "cell_type": "code",
   "execution_count": null,
   "id": "f63533eb-6e60-4c7e-bea7-fad5a687a305",
   "metadata": {
    "id": "f63533eb-6e60-4c7e-bea7-fad5a687a305"
   },
   "outputs": [],
   "source": [
    "majors[2:]"
   ]
  },
  {
   "cell_type": "code",
   "execution_count": null,
   "id": "0c409cfc-00cd-43f5-9d4d-5e28a266557b",
   "metadata": {
    "id": "0c409cfc-00cd-43f5-9d4d-5e28a266557b"
   },
   "outputs": [],
   "source": [
    "majors[:2]"
   ]
  },
  {
   "cell_type": "markdown",
   "id": "12dba392-dacd-451c-8b8b-ddf4e33cc431",
   "metadata": {
    "id": "12dba392-dacd-451c-8b8b-ddf4e33cc431"
   },
   "source": [
    "If we try to get all four at once, Jupyter notebooks won't cooperate if we just put them all in the same cell.  We only get the value of the last one:"
   ]
  },
  {
   "cell_type": "code",
   "execution_count": null,
   "id": "29dd291c-1def-48c1-ba5c-96db21461121",
   "metadata": {
    "id": "29dd291c-1def-48c1-ba5c-96db21461121"
   },
   "outputs": [],
   "source": [
    "majors[1]\n",
    "majors[2:4]\n",
    "majors[3:]\n",
    "majors[:2]"
   ]
  },
  {
   "cell_type": "markdown",
   "id": "9bf80887-60f9-4f5e-9e56-4317f82ce3b1",
   "metadata": {
    "id": "9bf80887-60f9-4f5e-9e56-4317f82ce3b1"
   },
   "source": [
    "But if we want to see all four from one cell, we can use the *print function*:\n",
    "* `print` allows you to show the values of different expressions\n",
    "* Multiple expressions can be separated by commas\n",
    "* Use `\"\"` to print out a string exactly.\n",
    "* Leave off the `\"\"` to get the value of the expression."
   ]
  },
  {
   "cell_type": "code",
   "execution_count": null,
   "id": "1632dc14-42d8-4dc1-b802-0604509fa4be",
   "metadata": {
    "id": "1632dc14-42d8-4dc1-b802-0604509fa4be"
   },
   "outputs": [],
   "source": [
    "print(\"majors[1]=\", majors[1])\n",
    "print(\"majors[2:4]=\", majors[2:4])\n",
    "print(\"majors[3:]=\", majors[3:])\n",
    "print(\"majors[:2]=\", majors[:2])"
   ]
  },
  {
   "cell_type": "markdown",
   "id": "07e34411-ed99-46cd-a0cb-870242005cca",
   "metadata": {
    "id": "07e34411-ed99-46cd-a0cb-870242005cca"
   },
   "source": [
    "We can also get the length of a list or string use the *len function* like this:"
   ]
  },
  {
   "cell_type": "code",
   "execution_count": null,
   "id": "8d0ac8c1-1a02-47a8-b25a-2ad13993e471",
   "metadata": {
    "id": "8d0ac8c1-1a02-47a8-b25a-2ad13993e471"
   },
   "outputs": [],
   "source": [
    "len(majors)"
   ]
  },
  {
   "cell_type": "code",
   "execution_count": null,
   "id": "10770184-3c0e-484f-a633-e18a798ff784",
   "metadata": {
    "id": "10770184-3c0e-484f-a633-e18a798ff784"
   },
   "outputs": [],
   "source": [
    "len(huck_finn_chapters)"
   ]
  },
  {
   "cell_type": "markdown",
   "id": "117ba67e-5ef8-420a-b3b1-01c41568fead",
   "metadata": {
    "id": "117ba67e-5ef8-420a-b3b1-01c41568fead"
   },
   "source": [
    "43 chapters!  So, if we were to show the value of huck_finn_chapters, it would probably be really long, and we'd need that `Edit/Clear Cell Output` feature again.  Let's see:"
   ]
  },
  {
   "cell_type": "code",
   "execution_count": null,
   "id": "e051eb9a-761a-4c9d-ad6c-a9cfa60d3f52",
   "metadata": {
    "id": "e051eb9a-761a-4c9d-ad6c-a9cfa60d3f52"
   },
   "outputs": [],
   "source": [
    "huck_finn_chapters"
   ]
  },
  {
   "cell_type": "markdown",
   "id": "dd9b86dc-3498-4dbb-a2c7-c4d0c5cb7a9d",
   "metadata": {
    "id": "dd9b86dc-3498-4dbb-a2c7-c4d0c5cb7a9d"
   },
   "source": [
    "Yeah, that wasn't good.  Maybe we can try just the first thing in that list?"
   ]
  },
  {
   "cell_type": "code",
   "execution_count": null,
   "id": "9dfe7bd1-1c50-4e4b-bc73-d2ade0d635d1",
   "metadata": {
    "id": "9dfe7bd1-1c50-4e4b-bc73-d2ade0d635d1"
   },
   "outputs": [],
   "source": [
    "huck_finn_chapters[0]"
   ]
  },
  {
   "cell_type": "markdown",
   "id": "986d7969-1d17-4ced-a883-d01322a52a3f",
   "metadata": {
    "id": "986d7969-1d17-4ced-a883-d01322a52a3f"
   },
   "source": [
    "Ouch! still way too long.  What if we check the *type* of that expression though with `type(huck_finn_chapters[0])`?\n",
    "\n",
    "* If something is way too big, the way to shorten it to something we can see and understand depends on it's type\n",
    "* Putting `type( )` around some expression will always give us something short, and help us understand what we are looking at\n",
    "\n",
    "Let's try it:"
   ]
  },
  {
   "cell_type": "code",
   "execution_count": null,
   "id": "67663c92-9629-4e23-8469-95d9c3e4b52d",
   "metadata": {
    "id": "67663c92-9629-4e23-8469-95d9c3e4b52d"
   },
   "outputs": [],
   "source": [
    "type(huck_finn_chapters[0])"
   ]
  },
  {
   "cell_type": "markdown",
   "id": "02cdd398-6a48-42e5-b6c9-5fc5999abb8d",
   "metadata": {
    "id": "02cdd398-6a48-42e5-b6c9-5fc5999abb8d"
   },
   "source": [
    "Ah!  So if we want something shorter, we can do this:\n",
    "* `huck_finn_chapters[0]` gives us an expression for `the first chapter in that list`, which is of type `str`\n",
    "* adding `[:100]` says: give us just the first 100 characters of that string."
   ]
  },
  {
   "cell_type": "code",
   "execution_count": null,
   "id": "45ff3a67-a55e-4457-83e1-33856dcb05c6",
   "metadata": {
    "id": "45ff3a67-a55e-4457-83e1-33856dcb05c6"
   },
   "outputs": [],
   "source": [
    "huck_finn_chapters[0][:100]"
   ]
  },
  {
   "cell_type": "markdown",
   "id": "77d6214b-8348-4a2a-8f62-b7a6995daa6e",
   "metadata": {
    "id": "77d6214b-8348-4a2a-8f62-b7a6995daa6e"
   },
   "source": [
    "That's much better!  We could even give that a name with an assignment statement:"
   ]
  },
  {
   "cell_type": "code",
   "execution_count": null,
   "id": "b3659179-c20c-49c9-b433-fbb787f5e9af",
   "metadata": {
    "id": "b3659179-c20c-49c9-b433-fbb787f5e9af"
   },
   "outputs": [],
   "source": [
    "first_100_chars = huck_finn_chapters[0][:100]"
   ]
  },
  {
   "cell_type": "markdown",
   "id": "5f3f4e2a-3e0d-488c-9273-186ef07e4858",
   "metadata": {
    "id": "5f3f4e2a-3e0d-488c-9273-186ef07e4858"
   },
   "source": [
    "Then we can see the value of that by just typing this in a code cell:"
   ]
  },
  {
   "cell_type": "code",
   "execution_count": null,
   "id": "368b7781-a245-466a-b6b4-51d1b2594225",
   "metadata": {
    "id": "368b7781-a245-466a-b6b4-51d1b2594225"
   },
   "outputs": [],
   "source": [
    "first_100_chars"
   ]
  },
  {
   "cell_type": "code",
   "execution_count": null,
   "id": "8392cb26-8a54-4276-8996-13c9df544588",
   "metadata": {
    "id": "8392cb26-8a54-4276-8996-13c9df544588"
   },
   "outputs": [],
   "source": []
  }
 ],
 "metadata": {
  "colab": {
   "provenance": []
  },
  "kernelspec": {
   "display_name": "Python 3 (ipykernel)",
   "language": "python",
   "name": "python3"
  },
  "language_info": {
   "codemirror_mode": {
    "name": "ipython",
    "version": 3
   },
   "file_extension": ".py",
   "mimetype": "text/x-python",
   "name": "python",
   "nbconvert_exporter": "python",
   "pygments_lexer": "ipython3",
   "version": "3.13.7"
  }
 },
 "nbformat": 4,
 "nbformat_minor": 5
}
