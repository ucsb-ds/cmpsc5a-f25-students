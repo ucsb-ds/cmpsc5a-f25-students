{
 "cells": [
  {
   "cell_type": "markdown",
   "id": "3c029452-2e4b-4d25-96af-e8bfc941147d",
   "metadata": {},
   "source": [
    "# Lectures\n",
    "\n",
    "In this directory, you'll find the Jupyter Notebooks we reference during lecture in this course.\n",
    "\n",
    "Google colab versions of these notebooks may also be available.  Please consult the course Canvas site for more details.\n",
    "\n",
    "You'll also find a `data` folder (directory).  In that folder there are data files used throughout the lectures in the course."
   ]
  }
 ],
 "metadata": {
  "kernelspec": {
   "display_name": "Python 3 (ipykernel)",
   "language": "python",
   "name": "python3"
  },
  "language_info": {
   "codemirror_mode": {
    "name": "ipython",
    "version": 3
   },
   "file_extension": ".py",
   "mimetype": "text/x-python",
   "name": "python",
   "nbconvert_exporter": "python",
   "pygments_lexer": "ipython3",
   "version": "3.13.7"
  }
 },
 "nbformat": 4,
 "nbformat_minor": 5
}
