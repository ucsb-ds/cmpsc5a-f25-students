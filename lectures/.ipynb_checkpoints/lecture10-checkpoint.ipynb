{
 "cells": [
  {
   "cell_type": "code",
   "execution_count": null,
   "id": "8727fc2d-3063-4714-a923-a527ada09649",
   "metadata": {},
   "outputs": [],
   "source": [
    "# Click into this cell and press shift-enter before using this notebook.\n",
    "# This line loads the ability to use %%ai in your file\n",
    "%load_ext jupyter_ai_magics\n",
    "# These lines import the Python modules we commonly use in CMPSC 5A\n",
    "from datascience import *\n",
    "import numpy as np\n",
    "%matplotlib inline\n",
    "import matplotlib.pyplot as plots"
   ]
  },
  {
   "cell_type": "markdown",
   "id": "8fad1669-2982-4f05-b3dc-feba368856c8",
   "metadata": {},
   "source": [
    "# Lecture 10, CMPSC 5A, F25\n",
    "\n",
    "10/27/2025, Tuesday of Week 5"
   ]
  },
  {
   "cell_type": "markdown",
   "id": "4e30760d-5400-41cb-b428-c00907dc2850",
   "metadata": {},
   "source": [
    "# Notes to self \n",
    "* Check font size\n",
    "* Check that you are sharing the screen on the zoom session\n",
    "* Ask staff to help monitor the zoom chat\n",
    "* Remind students to run the top cell"
   ]
  },
  {
   "cell_type": "markdown",
   "id": "dff5cabf-7e9a-4c2f-8c93-2cd6c41bf988",
   "metadata": {},
   "source": [
    "## Where are we in the reading?\n",
    "\n",
    "You should have already read:\n",
    "* [Chapter 1: What is Data Science](https://inferentialthinking.com/chapters/01/what-is-data-science.html)\n",
    "* [Chapter 2 (Causality and Experiments)](https://inferentialthinking.com/chapters/02/causality-and-experiments.html)\n",
    "* [Chapter 3: Programming in Python](https://inferentialthinking.com/chapters/03/programming-in-python.html)\n",
    "* [Chapter 4: Data Types](https://inferentialthinking.com/chapters/04/Data_Types.html)\n",
    "* [Chapter 5 (Sequences)](https://inferentialthinking.com/chapters/05/Sequences.html)\n",
    "* [Chapter 6 (Tables)](https://inferentialthinking.com/chapters/06/Tables.html)\n",
    "* [Chapter 7 (Visualizations)](https://inferentialthinking.com/chapters/07/Visualization.html)\n",
    "* [Chapter 8 (Functions and Tables: Intro)](https://inferentialthinking.com/chapters/08/Functions_and_Tables.html)\n",
    "* [Section 8.1 (Applying a Function to a Column)](https://inferentialthinking.com/chapters/08/1/Applying_a_Function_to_a_Column.html)\n"
   ]
  },
  {
   "cell_type": "markdown",
   "id": "ef18d095-0129-4c72-9788-83e7065dd733",
   "metadata": {},
   "source": [
    "## Upcoming Quiz, Midterm\n",
    "\n",
    "As a reminder, here are the dates for the next quiz and the next midterm:\n",
    "\n",
    "| Item | % of grade | Dates | Week(s) |\n",
    "|-|-|-|-|\n",
    "|Exam1 (midterm) | 15% |Friday Oct 31, and Monday Nov 3 | Week 5/6|\n",
    "|Exam2 (final*) | 15% | Mon Dec 8, Tue Dec 9, Wed Dec 10 | Finals Week|\n",
    "\n",
    "\\*Also, during the official final exam slot, Tue Dec 9, 4-7pm, times tbd\n",
    "\n",
    "## Register now:\n",
    "\n",
    "* Go to <https://us.prairietest.com>\n",
    "* Find `CMPSC 5A`\n",
    "* Find `Exams available for reservation`\n",
    "* Exam1 (Midterm) is available for making reservations *now*.\n",
    "* Please make your reservations early.\n",
    "\n",
    "**Please watch your email over the next few days** for information about practice quizzes.\n"
   ]
  },
  {
   "cell_type": "markdown",
   "id": "00197fbe-9403-42f4-ac13-9320860809f6",
   "metadata": {},
   "source": [
    "## If an issue arises during a PrairieLearn quiz/exam\n",
    "\n",
    "Use this button"
   ]
  },
  {
   "attachments": {
    "bad1f649-c059-4707-a179-81f2b0e097f3.png": {
     "image/png": "[encoded data removed]"
    }
   },
   "cell_type": "markdown",
   "id": "13a91dd6-9e93-48c5-88b0-660b348a2f4a",
   "metadata": {},
   "source": [
    "![image.png](attachment:bad1f649-c059-4707-a179-81f2b0e097f3.png)"
   ]
  },
  {
   "cell_type": "markdown",
   "id": "863e4ba6-51f3-4490-a180-3d735ef8b2f3",
   "metadata": {},
   "source": [
    "That is the *only* way that I can review the question \n",
    "and possibly give you credit if the question  was graded incorrectly.\n",
    "\n",
    "It takes "
   ]
  },
  {
   "cell_type": "markdown",
   "id": "3685d8c9-58e9-4b5d-8a53-4fddad1cc75e",
   "metadata": {},
   "source": [
    "## New stuff today (needed for lab04)\n",
    "\n",
    "* Joining midterm groups on Canvas (needed for midterm project)\n",
    "* Histograms (needed for lab04)\n",
    "* Building up a table by rows (needed for lab04)\n",
    "* Review of Scatter Plots (needed for lab04)\n",
    "* Working with Google Colab and Gemini (needed for midterm project)"
   ]
  },
  {
   "cell_type": "markdown",
   "id": "cfc3db9b-f6fc-4bd1-8465-2f3b95c034e2",
   "metadata": {},
   "source": [
    "## Joining Midterm Groups on Canvas\n",
    "\n",
    "In lab tommorrow, you'll be joining midterm groups.  \n",
    "* When you get to lab tomorrow, find a group of 3 or four students to work together.\n",
    "* Yes, they need to be in the same section.\n",
    "* No, you cannot change sections at this point.\n",
    "\n",
    "You'll then go on Canvas and drag your name into one of the groups associated with your discussion group.\n",
    "\n",
    "Please read the instructions on Canvas carefully tomorrow."
   ]
  },
  {
   "cell_type": "markdown",
   "id": "18edb823-f167-4eea-9c7a-c1afd7df3774",
   "metadata": {},
   "source": [
    "## World University Rankings Table\n",
    "\n",
    "Here's the table from lab02 and lab04.\n",
    "\n",
    "By the way, if you want to know where this comes from, it's from here:\n",
    "\n",
    "* <https://www.timeshighereducation.com/world-university-rankings>"
   ]
  },
  {
   "cell_type": "code",
   "execution_count": null,
   "id": "d37f0914-cd73-4bbc-b54a-4be88c7acd92",
   "metadata": {},
   "outputs": [],
   "source": [
    "ranking = Table.read_table(\"data/world_university_rankings.csv\")\n",
    "ranking"
   ]
  },
  {
   "cell_type": "markdown",
   "id": "7399a78a-eee5-4e04-a53f-b5b7d4c9553b",
   "metadata": {},
   "source": [
    "## A request from your staff\n",
    "\n",
    "The `.show()` command is handy when you are trying things out, and you are free to use it while experimenting with your answers.\n",
    "\n",
    "However, the staff have noted that when grading your work, the `.show()` command is hard to work with.  \n",
    "\n",
    "Ironically, on Gradescope, the output of the `show()` command doesn't, um \"show up\".  This makes it harder to grade your work, which means you get back your graded work later than you might prefer.\n",
    "\n",
    "So:\n",
    "\n",
    "| If you want to do this | please use this ✅ | instead of this ❌|\n",
    "|-|-|-\n",
    "| Show the table `ranking` | `ranking` | `ranking.show()` |\n",
    "| Show the first 5 rows of `sortedRankings` | `sortedRankings.take(np.arange(5))` | `sortedRankings.show(5)` |\n",
    "\n",
    "For example, to show the `ranking` table:"
   ]
  },
  {
   "cell_type": "code",
   "execution_count": null,
   "id": "f7566c59-e601-4d7c-852c-8166e752fc2b",
   "metadata": {},
   "outputs": [],
   "source": [
    "ranking  # ✅  instead of ranking.show()"
   ]
  },
  {
   "cell_type": "markdown",
   "id": "d6a91bae-242a-45bd-8ce5-6e04d9f348f2",
   "metadata": {},
   "source": [
    "To show just the first five rows of `ranking`"
   ]
  },
  {
   "cell_type": "code",
   "execution_count": null,
   "id": "143be1cf-1d01-40d3-bbba-cc07090bf4fe",
   "metadata": {},
   "outputs": [],
   "source": [
    "ranking.take(np.arange(5)) # ✅  instead of ranking.show(5)"
   ]
  },
  {
   "cell_type": "markdown",
   "id": "0b22fa4c-87f7-4508-9f8f-05dd9ad9c3f9",
   "metadata": {},
   "source": [
    "The difference is minor when you see it in the Jupyter Notebook environment, but on Gradescope, it's a big difference.  The folks grading your work will appreciate this!"
   ]
  },
  {
   "cell_type": "markdown",
   "id": "1938b5b1-aa97-4049-9cb7-3f28cd37ad8a",
   "metadata": {},
   "source": [
    "## Histograms\n",
    "\n",
    "When we want to visualize the distribution of something, we can use a histogram."
   ]
  },
  {
   "cell_type": "markdown",
   "id": "4626f9ba-8225-4d41-b240-c37ec431da22",
   "metadata": {},
   "source": [
    "### `tbl.hist(column, bins)`\n",
    "#### Good for one column of numerical data\n",
    "- `column`: string \\\n",
    "    name of the column with categories\n",
    "- `bins`: (Optional) list or int\\\n",
    "    Lower bound for each bin in the histogram or number of bins. If None, bins will be chosen automatically."
   ]
  },
  {
   "cell_type": "code",
   "execution_count": null,
   "id": "dbc380e7-0692-4290-89bf-8f68a5c9e0fc",
   "metadata": {},
   "outputs": [],
   "source": [
    "ranking.hist(\"Teaching Score\", bins=np.arange(0, 100, 5)) # bins from 0-100, every 5"
   ]
  },
  {
   "cell_type": "markdown",
   "id": "262870a0-af5c-4f43-a726-e8979812b23b",
   "metadata": {},
   "source": [
    "Without the `bins` parameter, we'd get this:"
   ]
  },
  {
   "cell_type": "code",
   "execution_count": null,
   "id": "b37b89b5-1857-4d67-ac7f-48bba05bb93e",
   "metadata": {},
   "outputs": [],
   "source": [
    "ranking.hist(\"Teaching Score\")"
   ]
  },
  {
   "cell_type": "markdown",
   "id": "6a152a4e-3d61-4e12-88f1-9b712ba826cf",
   "metadata": {},
   "source": [
    "Or, if we requested 5 bins, this:"
   ]
  },
  {
   "cell_type": "code",
   "execution_count": null,
   "id": "6dd863c3-3e8a-4676-93a0-ac9c8403c3e1",
   "metadata": {},
   "outputs": [],
   "source": [
    "ranking.hist(\"Teaching Score\", bins=5)"
   ]
  },
  {
   "cell_type": "markdown",
   "id": "f2c55642-671d-4363-9570-e6f016981e1a",
   "metadata": {},
   "source": [
    "Note that if we leave out the word `bins`, we get this:"
   ]
  },
  {
   "cell_type": "code",
   "execution_count": null,
   "id": "9ee3348f-2c30-47ef-be4d-b5f277f0df93",
   "metadata": {},
   "outputs": [],
   "source": [
    "ranking.hist(\"Teaching Score\", 5)"
   ]
  },
  {
   "cell_type": "markdown",
   "id": "5fd5c8ca-77bb-4576-b866-a86326ee4496",
   "metadata": {},
   "source": [
    "That's because it interprets the `5` as a column index, so it gives us a histogram of both the teaching score and the industry score."
   ]
  },
  {
   "cell_type": "code",
   "execution_count": null,
   "id": "e2b66031-1644-4d82-9b61-c63d51afd26d",
   "metadata": {},
   "outputs": [],
   "source": [
    "ranking.take(0)"
   ]
  },
  {
   "cell_type": "code",
   "execution_count": null,
   "id": "0e1ffaed-b565-418e-9acd-838568497a9b",
   "metadata": {},
   "outputs": [],
   "source": [
    "ranking.labels[5]"
   ]
  },
  {
   "cell_type": "markdown",
   "id": "bbd31648-2eac-4ce6-85ae-085ebd4aab1c",
   "metadata": {},
   "source": [
    "## Practice with using for loops"
   ]
  },
  {
   "cell_type": "markdown",
   "id": "58d25eaa-a4ea-4002-abb6-683ed7c30173",
   "metadata": {},
   "source": [
    "We can determine the maximum and minimum overall score by doing this:"
   ]
  },
  {
   "cell_type": "code",
   "execution_count": null,
   "id": "0117c232-6c2c-43ed-a12a-5f611cdc9d3a",
   "metadata": {},
   "outputs": [],
   "source": [
    "max_overall = ranking.column(\"Overall scores\").max()\n",
    "max_overall"
   ]
  },
  {
   "cell_type": "code",
   "execution_count": null,
   "id": "e28d8202-7eb2-4508-81b0-5ae3e3febe65",
   "metadata": {},
   "outputs": [],
   "source": [
    "min_overall = ranking.column(\"Overall scores\").min()\n",
    "min_overall"
   ]
  },
  {
   "cell_type": "markdown",
   "id": "d8a3287b-4d05-41c1-8ee4-da82b6c44ad6",
   "metadata": {},
   "source": [
    "Similarly, we could do this if we wanted to print them at the same time from one cell:"
   ]
  },
  {
   "cell_type": "code",
   "execution_count": null,
   "id": "0e373dea-cd5a-4346-b221-2fe24812e07e",
   "metadata": {},
   "outputs": [],
   "source": [
    "print(f\"Research Quality min={ranking.column(\"Research Quality Score\").min()}\")\n",
    "print(f\"Research Quality max={ranking.column(\"Research Quality Score\").max()}\")"
   ]
  },
  {
   "cell_type": "markdown",
   "id": "a8d90e35-a359-4b15-9ff5-283da6947bdc",
   "metadata": {},
   "source": [
    "Suppose we want the max and min for all of the numeric columns.  \n",
    "\n",
    "We *could* copy and paste this code and adjust it for each column.  \n",
    "\n",
    "Here's what that would look like if it we did it for Industry Score:"
   ]
  },
  {
   "cell_type": "code",
   "execution_count": null,
   "id": "1ae7e45c-974e-44fd-bbc1-432b9f64468b",
   "metadata": {},
   "outputs": [],
   "source": [
    "print(f\"Industry min={ranking.column(\"Industry Score\").min()}\")\n",
    "print(f\"Industry max={ranking.column(\"Industry Score\").max()}\")"
   ]
  },
  {
   "cell_type": "markdown",
   "id": "a10254c1-322a-4cf1-82b9-55959039f0f9",
   "metadata": {},
   "source": [
    "But this is super tedious.   There's a better way!\n",
    "\n",
    "Let's start by listing all of the column labels."
   ]
  },
  {
   "cell_type": "markdown",
   "id": "89982353-e25d-4ff2-b0b9-e5f11f7893d1",
   "metadata": {},
   "source": [
    "But that's super tedious and error prone.   There's a better way!\n",
    "\n",
    "Let's start by listing all of the column labels:"
   ]
  },
  {
   "cell_type": "code",
   "execution_count": null,
   "id": "8d1244f3-8e1b-4792-b4ba-a4654938744b",
   "metadata": {},
   "outputs": [],
   "source": [
    "ranking.labels"
   ]
  },
  {
   "cell_type": "markdown",
   "id": "7f96f28d-5576-44d4-a31b-971d79a1fcf4",
   "metadata": {},
   "source": [
    "Note that all of the numeric columns start at index 3, so we can assign:"
   ]
  },
  {
   "cell_type": "code",
   "execution_count": null,
   "id": "f85822e1-3a64-4baf-8c87-b5968ae83736",
   "metadata": {},
   "outputs": [],
   "source": [
    "numeric_columns = ranking.labels[3:]"
   ]
  },
  {
   "cell_type": "markdown",
   "id": "4459b2af-e97c-4ae5-b359-42d121940230",
   "metadata": {},
   "source": [
    "Now we can make a for loop that lists all of them.  \n",
    "* The `f` means that that we can put expressions in curly braces inside the `print`\n",
    "* The `:20` means to make the column for this string 20 characters wide."
   ]
  },
  {
   "cell_type": "code",
   "execution_count": null,
   "id": "745194c1-2060-4209-9a50-88b480944f4c",
   "metadata": {},
   "outputs": [],
   "source": [
    "for column_name in numeric_columns:\n",
    "    print(f\"{column_name:20}\")\n",
    "          "
   ]
  },
  {
   "cell_type": "markdown",
   "id": "e95c4ab1-b914-45ff-b287-fb897d63dcf7",
   "metadata": {},
   "source": [
    "Ok, that's a good start.  Now let's add the min calculation:"
   ]
  },
  {
   "cell_type": "code",
   "execution_count": null,
   "id": "f9efc2fb-2e42-43e6-82d3-c80d23f8a53c",
   "metadata": {},
   "outputs": [],
   "source": [
    "for column_name in numeric_columns:\n",
    "    print(f\"{column_name:20} min: {ranking.column(column_name).min():10}\")\n",
    "     "
   ]
  },
  {
   "cell_type": "markdown",
   "id": "44fc2002-a72b-4542-8edc-6bb8870ccacc",
   "metadata": {},
   "source": [
    "We can see that the number `:20` wasn't big enough to get things to line up.  Let's try `:30`"
   ]
  },
  {
   "cell_type": "code",
   "execution_count": null,
   "id": "210ea77f-3da7-441b-b97c-4b01bcfd9dac",
   "metadata": {},
   "outputs": [],
   "source": [
    "for column_name in numeric_columns:\n",
    "    print(f\"{column_name:30} min: {ranking.column(column_name).min():10}\")\n",
    "  "
   ]
  },
  {
   "cell_type": "markdown",
   "id": "31dc3e91-979e-4315-b6e8-2989d6a1d873",
   "metadata": {},
   "source": [
    "Much nicer!  And the `:10` was overkill, so we'll reduce it on the next try."
   ]
  },
  {
   "cell_type": "code",
   "execution_count": null,
   "id": "a6ad0ece-6fa1-4264-b920-d82ea52a74dd",
   "metadata": {},
   "outputs": [],
   "source": [
    "for column_name in numeric_columns:\n",
    "    print(f\"{column_name:30} min: {ranking.column(column_name).min():5} max: {ranking.column(column_name).max():5}\")\n",
    " "
   ]
  },
  {
   "cell_type": "markdown",
   "id": "2969259e-88e4-414a-b174-7053e5cda56b",
   "metadata": {},
   "source": [
    "This is nice!  However, the line of code is getting long.  We can use some variables to make it a little easier to read.\n",
    "\n",
    "I will note that for some reason, `col.mean()` generates a value that requires the format `6:3` to be formatted similar to the others.  I'll be honest; I'm not sure why."
   ]
  },
  {
   "cell_type": "code",
   "execution_count": null,
   "id": "6b32366f-28f6-44b8-9e2d-9482224b2a37",
   "metadata": {},
   "outputs": [],
   "source": [
    "for column_name in numeric_columns:\n",
    "    col = ranking.column(column_name)\n",
    "    print(f\"{column_name:30} min: {col.min():5} max: {col.max():5} mean:{col.mean():6.3}\")\n",
    " "
   ]
  },
  {
   "cell_type": "markdown",
   "id": "df896b9c-d47d-4577-96cc-be33a5a0e4e9",
   "metadata": {},
   "source": [
    "Here's what it looks like if I use `:5` consistently.  "
   ]
  },
  {
   "cell_type": "code",
   "execution_count": null,
   "id": "3ffa2a7f-9e3a-42be-a29a-4b5051175302",
   "metadata": {},
   "outputs": [],
   "source": [
    "for column_name in numeric_columns:\n",
    "    col = ranking.column(column_name)\n",
    "    print(f\"{column_name:30} min: {col.min():5} max: {col.max():5} mean:{col.mean():5}\")\n",
    " "
   ]
  },
  {
   "cell_type": "markdown",
   "id": "2a819b6c-2b65-408c-8cb3-c7ad8218280e",
   "metadata": {},
   "source": [
    "In any case, this demonstrates how we can generate a text formatted table \n",
    "of statistics about our rankings data.\n",
    "\n",
    "But what if we wanted these numbers in a `datascience` table object?\n",
    "\n",
    "There are a few ways to go about that, but let's first examine a way that takes this for loop\n",
    "and directly converts it into code that would build up a datascience table row by row."
   ]
  },
  {
   "cell_type": "code",
   "execution_count": null,
   "id": "58ff938f-5082-4ea8-a8be-418eb514512f",
   "metadata": {},
   "outputs": [],
   "source": [
    "# Building a `datascience` table by rows using a for loop"
   ]
  },
  {
   "cell_type": "markdown",
   "id": "0f2b1f2e-1111-481b-8228-756764f73fe3",
   "metadata": {},
   "source": [
    "This for loop generates a nice \"text based\" table:"
   ]
  },
  {
   "cell_type": "code",
   "execution_count": null,
   "id": "b8fbdd6d-f45d-4b91-9efc-c5a48a1ee6db",
   "metadata": {},
   "outputs": [],
   "source": [
    "for column_name in numeric_columns:\n",
    "    col = ranking.column(column_name)\n",
    "    print(f\"{column_name:30} min: {col.min():5} max: {col.max():5} mean:{col.mean():6.3}\")\n",
    " "
   ]
  },
  {
   "cell_type": "markdown",
   "id": "16729781-fe96-45a0-b753-cd862cdb5735",
   "metadata": {},
   "source": [
    "Suppose we want a `datascience` table object that looks like this:\n",
    "\n",
    "| Score | Min | Max | Mean |\n",
    "|-|-|-|\n",
    "| Overall scores | 15.6 | 94.8 | 44.4 |\n",
    "| Research Quality score | 13.3 | 98.6 | 61.7 |\n",
    "etc.\n",
    "\n",
    "So far, when we've built a table, it was by columns, like this:\n"
   ]
  },
  {
   "cell_type": "code",
   "execution_count": null,
   "id": "f50f1a45-6a50-4613-a508-9b4967b28d63",
   "metadata": {},
   "outputs": [],
   "source": [
    "ranking_stats = Table().with_columns( \\\n",
    "   \"column_name\", make_array(\"Overall scores\", \"Research Quality Score\"), \\\n",
    "   \"min\", make_array(15.6, 13.3), \\\n",
    "   \"max\", make_array(94.8, 98.6), \\\n",
    "   \"mean\", make_array(44.4, 61.7) \\\n",
    ")\n",
    "ranking_stats"
   ]
  },
  {
   "cell_type": "markdown",
   "id": "464df52e-8d7d-46a4-b8ab-169e5bea095d",
   "metadata": {},
   "source": [
    "But our for loop doesn't work by column.  It works by row.\n",
    "\n",
    "What can we do here?  It turns out there is a function that can help:"
   ]
  },
  {
   "cell_type": "code",
   "execution_count": null,
   "id": "1d03fa9d-0a11-4f4b-9eae-0bc18eeed5a2",
   "metadata": {},
   "outputs": [],
   "source": [
    "help(Table.with_row)"
   ]
  },
  {
   "cell_type": "markdown",
   "id": "45b460f9-5591-48e9-878b-0542b9df3397",
   "metadata": {},
   "source": [
    "So, the `with_row(...)` function can add a new row to an existing table.   \n",
    "\n",
    "We can create a table that has the columns we want, but no rows, using:"
   ]
  },
  {
   "cell_type": "code",
   "execution_count": null,
   "id": "138c5aec-927a-4613-b1e4-5058c2bde571",
   "metadata": {},
   "outputs": [],
   "source": [
    "ranking_stats = Table(make_array('Column name','min','max','mean'))\n",
    "ranking_stats"
   ]
  },
  {
   "cell_type": "markdown",
   "id": "0de90cb5-1917-4e91-ae4a-a263908a9b35",
   "metadata": {},
   "source": [
    "We can add one row to this column manually like this:"
   ]
  },
  {
   "cell_type": "code",
   "execution_count": null,
   "id": "a1e61e50-c7c1-4a12-ada6-e077bdc528c0",
   "metadata": {},
   "outputs": [],
   "source": [
    "ranking_stats = Table(make_array('Column name','min','max','mean'))\n",
    "col = ranking.column(\"Overall scores\")\n",
    "ranking_stats = ranking_stats.with_row([\"Overall scores\",col.min(), col.max(), col.mean() ])\n",
    "ranking_stats"
   ]
  },
  {
   "cell_type": "markdown",
   "id": "e090b470-f9be-4c09-95f1-ba7b930c94a5",
   "metadata": {},
   "source": [
    "### The accumulator step\n",
    "\n",
    "One very important thing to pay attention to here is the *accumulator step*.\n",
    "\n",
    "The accumulator step is the line: \n",
    "```\n",
    "ranking_stats = ranking_stats.with_row([\"Overall scores\",col.min(), col.max(), col.mean() ])\n",
    "```\n",
    "\n",
    "Note that the same variable is on both the left hand and right hand side of the equation.  \n",
    "* We create a new table by adding one row to the old `ranking_stats` table\n",
    "* Then we make `ranking_stats` refer to that *new* table.\n",
    "\n",
    "To understand this, let's back up and look at some simpler examples of accumulator steps.  \n",
    "\n",
    "Here's the simplest of all:\n",
    "\n"
   ]
  },
  {
   "cell_type": "code",
   "execution_count": null,
   "id": "309ad20b-e303-4d83-9396-0dd386060d09",
   "metadata": {},
   "outputs": [],
   "source": [
    "x = 5\n",
    "x = x + 1"
   ]
  },
  {
   "cell_type": "markdown",
   "id": "d0f9df5d-b0e4-4b92-8db7-642b0a87aa69",
   "metadata": {},
   "source": [
    "What is the value of x now?  It's 6, right? Simple."
   ]
  },
  {
   "cell_type": "code",
   "execution_count": null,
   "id": "6c53b5fe-6a96-4030-bd97-b06db5dfab64",
   "metadata": {},
   "outputs": [],
   "source": [
    "x"
   ]
  },
  {
   "cell_type": "markdown",
   "id": "da55d148-0381-4b39-a7b1-4d7d1956000c",
   "metadata": {},
   "source": [
    "If we do it again, the value changes.  Note that happens if we run this cell over and over!"
   ]
  },
  {
   "cell_type": "code",
   "execution_count": null,
   "id": "7f653dbe-22ae-47fe-a8e3-96263d19b3e0",
   "metadata": {},
   "outputs": [],
   "source": [
    "x = x + 1\n",
    "x"
   ]
  },
  {
   "cell_type": "markdown",
   "id": "10bd691b-d093-40d9-86cc-4df040abc697",
   "metadata": {},
   "source": [
    "Computer scientists call this *a mutation*.   It changes the value of `x`."
   ]
  },
  {
   "cell_type": "markdown",
   "id": "96aebb6d-a984-4391-9ed5-38215eef5723",
   "metadata": {},
   "source": [
    "Similarly, we can do mutations on a list:"
   ]
  },
  {
   "cell_type": "code",
   "execution_count": null,
   "id": "640bbf7e-e39e-48f2-be3c-718b2e30aa4e",
   "metadata": {},
   "outputs": [],
   "source": [
    "schools = []   # empty list\n",
    "schools = schools + [\"UCSB\"]\n",
    "schools"
   ]
  },
  {
   "cell_type": "code",
   "execution_count": null,
   "id": "6d529c80-1ef9-4f03-81ee-00d3dfa4a085",
   "metadata": {},
   "outputs": [],
   "source": [
    "schools = schools + [\"UCB\"]\n",
    "schools"
   ]
  },
  {
   "cell_type": "markdown",
   "id": "3700cf41-dcd1-4124-af89-e9987519725b",
   "metadata": {},
   "source": [
    "And, as we now see, we can do this with a Table."
   ]
  },
  {
   "cell_type": "code",
   "execution_count": null,
   "id": "7809a31a-5317-41c9-8303-9f76cf6df0fb",
   "metadata": {},
   "outputs": [],
   "source": [
    "menu = Table([\"item\", \"price\"])\n",
    "menu"
   ]
  },
  {
   "cell_type": "code",
   "execution_count": null,
   "id": "370a7e7a-2b36-4b8c-9b5d-d117fb6e9e95",
   "metadata": {},
   "outputs": [],
   "source": [
    "menu = menu.with_row([\"Burger\", 6.00])\n",
    "menu"
   ]
  },
  {
   "cell_type": "code",
   "execution_count": null,
   "id": "5a9f32f2-3ac0-407c-b387-d84893377b59",
   "metadata": {},
   "outputs": [],
   "source": [
    "menu = menu.with_row([\"Fries\",3.75])\n",
    "menu"
   ]
  },
  {
   "cell_type": "markdown",
   "id": "2ef0a530-5c50-4892-93a2-5696443ce62f",
   "metadata": {},
   "source": [
    "### Lets get back to our original table\n",
    "\n",
    "Ok, so now that we understand the idea of an accumulator, let's look again at our problem of making a table of\n",
    "statistics for the `ranking` table.\n",
    "\n"
   ]
  },
  {
   "cell_type": "markdown",
   "id": "f5246165-3cdd-415d-a00c-f08f8c31bf7d",
   "metadata": {},
   "source": [
    "We can iterate over the columns like this:"
   ]
  },
  {
   "cell_type": "code",
   "execution_count": null,
   "id": "fd27c3ab-69ae-4710-af78-4cb9d8d5a624",
   "metadata": {},
   "outputs": [],
   "source": [
    "for column_name in ranking.labels[3:]:\n",
    "    print(column_name)"
   ]
  },
  {
   "cell_type": "markdown",
   "id": "68ed70c1-33b5-492d-9ef4-905c5c7dc250",
   "metadata": {},
   "source": [
    "So we can make a table with these and the minimums like this:"
   ]
  },
  {
   "cell_type": "code",
   "execution_count": null,
   "id": "6aec7edc-c54d-4384-a026-6266ddbc4065",
   "metadata": {},
   "outputs": [],
   "source": [
    "ranking_stats = Table([\"Column name\",\"min\"])\n",
    "for column_name in ranking.labels[3:]:\n",
    "    ranking_stats = ranking_stats.with_row([column_name, ranking.column(column_name).min()])\n",
    "ranking_stats"
   ]
  },
  {
   "cell_type": "markdown",
   "id": "7f765cfe-5225-4038-a5d3-b323e2df7cec",
   "metadata": {},
   "source": [
    "We can factor out a variable to compute the column, which makes it easier to add the max:"
   ]
  },
  {
   "cell_type": "code",
   "execution_count": null,
   "id": "7b555596-0b7b-4116-b352-6eb2bef5692e",
   "metadata": {},
   "outputs": [],
   "source": [
    "ranking_stats = Table([\"Column name\",\"min\",\"max\"])\n",
    "for column_name in ranking.labels[3:]:\n",
    "    col = ranking.column(column_name) # Not in quotes because we want the value\n",
    "    ranking_stats = ranking_stats.with_row([column_name, col.min(), col.max()])\n",
    "ranking_stats"
   ]
  },
  {
   "cell_type": "markdown",
   "id": "4280cf1f-24a9-4f54-a6c0-4bfe45415bc6",
   "metadata": {},
   "source": [
    "### Don't forget the parens on the `min()` and `max()` method  calls!  \n",
    "\n",
    "Here's what you get if you leave them out."
   ]
  },
  {
   "cell_type": "code",
   "execution_count": null,
   "id": "cf9b2f7b-ec7c-4a0e-88e1-df728232e178",
   "metadata": {},
   "outputs": [],
   "source": [
    "ranking_stats = Table([\"Column name\",\"min\",\"max\"])\n",
    "for column_name in ranking.labels[3:]:\n",
    "    col = ranking.column(column_name) # Not in quotes because we want the value\n",
    "    ranking_stats = ranking_stats.with_row([column_name, col.min(), col.max])\n",
    "ranking_stats"
   ]
  },
  {
   "cell_type": "markdown",
   "id": "3c174364-5966-489c-bddd-f2ca8f949de1",
   "metadata": {},
   "source": [
    "Note that col.max is defined, so you don't get an error. "
   ]
  },
  {
   "cell_type": "code",
   "execution_count": null,
   "id": "c79a15cd-945f-4f34-b3b1-bdd4e058dccc",
   "metadata": {},
   "outputs": [],
   "source": [
    "col.max"
   ]
  },
  {
   "cell_type": "markdown",
   "id": "85568dab-2ef5-4844-aa3d-21ca23f61cf9",
   "metadata": {},
   "source": [
    "But it isn't a number; it's the function itself!  That isn't something that shows up nicely in a table, so the column is just blank.   By contrast, `col.max()` is method call, so it actually computes a number:"
   ]
  },
  {
   "cell_type": "code",
   "execution_count": null,
   "id": "48e8f496-57ec-4c60-b158-2254d1edf59d",
   "metadata": {},
   "outputs": [],
   "source": [
    "col.max()"
   ]
  },
  {
   "cell_type": "markdown",
   "id": "5fb41b4d-1526-4793-a594-71e7580a9bea",
   "metadata": {},
   "source": [
    "### You'll have a similar problem on lab04!\n",
    "\n",
    "On lab04, you are asked to come up with a table just like this, but also adding in \n",
    "the mean and median.  Note that while there is a `.mean` method for `numpy.ndarray` objects,\n",
    "for median, you'll need instead to use `np.median(col)` where `col` is the variable\n",
    "containing your column."
   ]
  },
  {
   "cell_type": "markdown",
   "id": "ddbc4504-86ca-4982-9428-f2edd6b68cca",
   "metadata": {},
   "source": [
    "# Review of scatter plots\n",
    "\n",
    "Any time your data has two more more numeric columns, you can make a scatter plot.\n",
    "\n",
    "For example, here's the courses data"
   ]
  },
  {
   "cell_type": "code",
   "execution_count": null,
   "id": "1acd453f-eaae-4bc7-b12c-65dee888fe63",
   "metadata": {},
   "outputs": [],
   "source": [
    "### Loading the courses table, with extra columns\n",
    "\n",
    "courseTable = Table.read_table(\"data/ucsb-s25-courses.csv\")\n",
    "\n",
    "def courseIdToDept(courseId):\n",
    "    return courseId[0:8].strip()\n",
    "\n",
    "def courseIdToCourseNum(courseId):\n",
    "    return courseId[8:13].strip()\n",
    "\n",
    "def courseIdToSuffix(courseId):\n",
    "    return courseId[14:].strip()\n",
    "\n",
    "def is_undergrad(courseid):\n",
    "    \"\"\" returns true if course is undergrad, otherwise returns false \"\"\"\n",
    "    return courseid[8]==' ' or courseid[8]=='1'\n",
    "\n",
    "def is_graduate(courseNum):\n",
    "    \"\"\" True if courseNum isn't a space and it isn't a 1 (so it must be a graduate course) \"\"\"\n",
    "    return courseNum[8] != ' ' and courseNum[8] != '1'\n",
    "\n",
    "def is_lecture(sectionNum):\n",
    "    # if section number is divisible by 100, it's a lecture\n",
    "    return sectionNum % 100 == 0\n",
    "\n",
    "def tenOrMoreStudents(enrollment):\n",
    "    return enrollment > 10\n",
    "\n",
    "departments = courseTable.apply(courseIdToDept, 0)\n",
    "courseNums = courseTable.apply(courseIdToCourseNum, 0)\n",
    "suffixes = courseTable.apply(courseIdToSuffix, 0)\n",
    "courses = courseTable.with_columns(\"dept\",departments,\"courseNum\",courseNums,\"suffix\",suffixes)\n",
    "coursesToCount = courses \\\n",
    "    .where(\"COURSEID\", is_undergrad) \\\n",
    "    .where(\"SECTION\", is_lecture) \\\n",
    "    .where(\"ENROLLED\", tenOrMoreStudents)\n",
    "coursesToCount"
   ]
  },
  {
   "cell_type": "code",
   "execution_count": null,
   "id": "302b8b00-f805-4cea-a842-4c1682757740",
   "metadata": {},
   "outputs": [],
   "source": [
    "coursesToCount.scatter(\"ENROLLED\",\"MAXENROLL\")"
   ]
  },
  {
   "cell_type": "markdown",
   "id": "84389188-5627-4206-ac8e-81faf2dd95bd",
   "metadata": {},
   "source": [
    "This shows `ENROLLED` on the x axis, and `MAXENROLL` on the y axis.  We can see that there is a linear relationship, since most courses have enrollment that is close to maxenroll.  So most of the points are close to the line `y=x` on the graph.   A few have enrollments way below or way above the maximum, and we see those as outliers here."
   ]
  },
  {
   "cell_type": "markdown",
   "id": "22180f99-176e-4b48-a12e-57a14b6bad18",
   "metadata": {},
   "source": [
    "Let's look at teaching vs. research in the university rankings:"
   ]
  },
  {
   "cell_type": "code",
   "execution_count": null,
   "id": "7e79394f-d18f-42d8-8299-9801c73d8f56",
   "metadata": {},
   "outputs": [],
   "source": [
    "ranking.labels"
   ]
  },
  {
   "cell_type": "code",
   "execution_count": null,
   "id": "cd1fe986-b397-4b08-b160-af2fbc52c823",
   "metadata": {},
   "outputs": [],
   "source": [
    "ranking.scatter(\"Research Quality Score\",\"Teaching Score\")"
   ]
  },
  {
   "cell_type": "markdown",
   "id": "67a53b44-5614-42b6-8853-049f86e62c3e",
   "metadata": {},
   "source": [
    "You can see here that the numbers are all over the place; there's not an obvious relationship between the two.\n",
    "\n",
    "Later in the course, we'll talk about how to quantify the relationship between two numbers using something called\n",
    "a Pearson Correlation Coefficient.  But we're not quite there yet.  Soon!"
   ]
  },
  {
   "cell_type": "markdown",
   "id": "c5bc01e4-84ba-437b-aab0-cd1cacf31d1c",
   "metadata": {},
   "source": [
    "The scatter plot has an optional parameter to add a \"trend line\", which is an attempt to find the line that is the closest to modeling the relationship.\n",
    "\n",
    "Let's look at both of these with a trend line in place."
   ]
  },
  {
   "cell_type": "code",
   "execution_count": null,
   "id": "562a5b86-9c2b-418c-87e5-af2452c5a906",
   "metadata": {},
   "outputs": [],
   "source": [
    "coursesToCount.scatter(\"ENROLLED\",\"MAXENROLL\", fit_line=True)"
   ]
  },
  {
   "cell_type": "code",
   "execution_count": null,
   "id": "58d12417-f61c-4e4f-8bc8-ded2672acf6a",
   "metadata": {},
   "outputs": [],
   "source": [
    "ranking.scatter(\"Research Quality Score\",\"Teaching Score\", fit_line=True)"
   ]
  },
  {
   "cell_type": "markdown",
   "id": "4ad4c262-3620-4cf4-8e8c-767f4b24b3a4",
   "metadata": {},
   "source": [
    "# Now: Google Colab"
   ]
  },
  {
   "cell_type": "markdown",
   "id": "f6c0f7c7-b7b9-4a84-a403-1bb863a9b4c1",
   "metadata": {},
   "source": [
    "Please follow this link:\n",
    "* <https://colab.research.google.com/drive/10roV7bfhp5I2a8AXBFTi70El9jQEi0dV#scrollTo=7399a78a-eee5-4e04-a53f-b5b7d4c9553b>\n",
    "\n",
    "Or find the link to \"Google Colab Version of lecture10\" on Canvas under the section for Week 5.\n",
    "\n",
    "The lecture continues there!"
   ]
  },
  {
   "cell_type": "code",
   "execution_count": null,
   "id": "c36f8819-0c2c-4157-8b47-14b4454d100f",
   "metadata": {},
   "outputs": [],
   "source": []
  }
 ],
 "metadata": {
  "kernelspec": {
   "display_name": "Python 3 (ipykernel)",
   "language": "python",
   "name": "python3"
  },
  "language_info": {
   "codemirror_mode": {
    "name": "ipython",
    "version": 3
   },
   "file_extension": ".py",
   "mimetype": "text/x-python",
   "name": "python",
   "nbconvert_exporter": "python",
   "pygments_lexer": "ipython3",
   "version": "3.13.7"
  }
 },
 "nbformat": 4,
 "nbformat_minor": 5
}
